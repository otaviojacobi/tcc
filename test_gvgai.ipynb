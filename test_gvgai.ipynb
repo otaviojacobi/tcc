{
 "cells": [
  {
   "cell_type": "code",
   "execution_count": 59,
   "id": "efae5132",
   "metadata": {},
   "outputs": [],
   "source": [
    "import gym\n",
    "#import gym_gvgai\n",
    "from copy import deepcopy, copy"
   ]
  },
  {
   "cell_type": "code",
   "execution_count": 74,
   "id": "d72e89c2",
   "metadata": {},
   "outputs": [
    {
     "data": {
      "text/plain": [
       "array([-5.9156417e-04,  1.4134574e+00, -5.9935719e-02,  1.1277095e-01,\n",
       "        6.9228926e-04,  1.3576316e-02,  0.0000000e+00,  0.0000000e+00],\n",
       "      dtype=float32)"
      ]
     },
     "execution_count": 74,
     "metadata": {},
     "output_type": "execute_result"
    }
   ],
   "source": [
    "env = gym.make('LunarLander-v2')\n",
    "env.seed(0)\n",
    "env.reset()\n",
    "\n",
    "# env2 = gym.make('LunarLander-v2')\n",
    "# env2.seed(0)\n",
    "# env2.reset()"
   ]
  },
  {
   "cell_type": "code",
   "execution_count": 81,
   "id": "0f3a94ed",
   "metadata": {},
   "outputs": [
    {
     "data": {
      "text/plain": [
       "(array([-1.1833191e-03,  1.4154168e+00, -5.9854437e-02,  8.7087154e-02,\n",
       "         1.3631723e-03,  1.3419589e-02,  0.0000000e+00,  0.0000000e+00],\n",
       "       dtype=float32),\n",
       " 1.940546167119379,\n",
       " False,\n",
       " {})"
      ]
     },
     "execution_count": 81,
     "metadata": {},
     "output_type": "execute_result"
    }
   ],
   "source": [
    "env.step(0)"
   ]
  },
  {
   "cell_type": "code",
   "execution_count": null,
   "id": "fc352279",
   "metadata": {},
   "outputs": [],
   "source": []
  }
 ],
 "metadata": {
  "kernelspec": {
   "display_name": "Python 3 (ipykernel)",
   "language": "python",
   "name": "python3"
  },
  "language_info": {
   "codemirror_mode": {
    "name": "ipython",
    "version": 3
   },
   "file_extension": ".py",
   "mimetype": "text/x-python",
   "name": "python",
   "nbconvert_exporter": "python",
   "pygments_lexer": "ipython3",
   "version": "3.8.10"
  }
 },
 "nbformat": 4,
 "nbformat_minor": 5
}

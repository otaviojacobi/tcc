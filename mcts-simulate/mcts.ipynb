{
 "cells": [
  {
   "cell_type": "code",
   "execution_count": 1,
   "id": "c9206691",
   "metadata": {},
   "outputs": [],
   "source": [
    "\n",
    "from GridWorldOption import GridWorldOption\n",
    "from GridWorld import GridWorld\n",
    "from mcts.MCTS import MCTS\n"
   ]
  },
  {
   "cell_type": "code",
   "execution_count": 2,
   "id": "0a3bf905",
   "metadata": {},
   "outputs": [],
   "source": [
    "MAP_NAME = './maps/door.map'\n",
    "with open(MAP_NAME) as f:\n",
    "    the_map = f.read()"
   ]
  },
  {
   "cell_type": "code",
   "execution_count": 3,
   "id": "3d60f8d2",
   "metadata": {},
   "outputs": [],
   "source": [
    "env = GridWorld(the_map)"
   ]
  },
  {
   "cell_type": "code",
   "execution_count": 4,
   "id": "3727bfd9",
   "metadata": {},
   "outputs": [],
   "source": [
    "first_room_pos = [(i,j) for i in range(6) for j in range(8)]\n",
    "second_room_pos = [(i,j) for i in range(6) for j in range(9, 15)]\n",
    "third_room_pos = [(i,j) for i in range(7,13) for j in range(8)]\n",
    "fourth_room_pos = [(i,j) for i in range(7,13) for j in range(9,15)]\n",
    "\n",
    "options = [\n",
    "    # primitives, (0,0) is meaningless\n",
    "    GridWorldOption((0, 0),   {'all'}, 0, 0),\n",
    "    GridWorldOption((0, 0),   {'all'}, 1, 1),\n",
    "    GridWorldOption((0, 0),   {'all'}, 2, 2),\n",
    "    GridWorldOption((0, 0),   {'all'}, 3, 3),\n",
    "    GridWorldOption((3,8),  set(first_room_pos + second_room_pos + [(6,3)] + [(6,13)]), 4),\n",
    "    GridWorldOption((6,3),  set(first_room_pos + third_room_pos + [(3,8)] + [(11,8)]), 5),\n",
    "    GridWorldOption((6,13), set(second_room_pos + fourth_room_pos + [(3,8)] + [(11,8)]), 6),\n",
    "    GridWorldOption((11,8), set(third_room_pos + fourth_room_pos + [(6,3)] + [(6,13)]), 7),\n",
    "]"
   ]
  },
  {
   "cell_type": "code",
   "execution_count": 5,
   "id": "d46775fd",
   "metadata": {},
   "outputs": [
    {
     "ename": "AttributeError",
     "evalue": "'tuple' object has no attribute 'cur_x'",
     "output_type": "error",
     "traceback": [
      "\u001b[0;31m---------------------------------------------------------------------------\u001b[0m",
      "\u001b[0;31mAttributeError\u001b[0m                            Traceback (most recent call last)",
      "\u001b[0;31mAttributeError\u001b[0m: 'tuple' object has no attribute 'cur_x'"
     ]
    },
    {
     "name": "stderr",
     "output_type": "stream",
     "text": [
      "Exception ignored in: 'GridWorldOption.GridWorldOption.get_action'\n",
      "Traceback (most recent call last):\n",
      "  File \"/home/otavio/git/tcc/mcts-simulate/mcts/utils.py\", line 146, in expand\n",
      "    action, should_break = option.get_action(env.state())\n",
      "AttributeError: 'tuple' object has no attribute 'cur_x'\n"
     ]
    },
    {
     "ename": "AttributeError",
     "evalue": "'tuple' object has no attribute 'cur_x'",
     "output_type": "error",
     "traceback": [
      "\u001b[0;31m---------------------------------------------------------------------------\u001b[0m",
      "\u001b[0;31mAttributeError\u001b[0m                            Traceback (most recent call last)",
      "\u001b[0;31mAttributeError\u001b[0m: 'tuple' object has no attribute 'cur_x'"
     ]
    },
    {
     "name": "stderr",
     "output_type": "stream",
     "text": [
      "Exception ignored in: 'GridWorldOption.GridWorldOption.get_action'\n",
      "Traceback (most recent call last):\n",
      "  File \"/home/otavio/git/tcc/mcts-simulate/mcts/utils.py\", line 146, in expand\n",
      "    action, should_break = option.get_action(env.state())\n",
      "AttributeError: 'tuple' object has no attribute 'cur_x'\n"
     ]
    },
    {
     "ename": "AttributeError",
     "evalue": "'tuple' object has no attribute 'cur_x'",
     "output_type": "error",
     "traceback": [
      "\u001b[0;31m---------------------------------------------------------------------------\u001b[0m",
      "\u001b[0;31mAttributeError\u001b[0m                            Traceback (most recent call last)",
      "\u001b[0;31mAttributeError\u001b[0m: 'tuple' object has no attribute 'cur_x'"
     ]
    },
    {
     "name": "stderr",
     "output_type": "stream",
     "text": [
      "Exception ignored in: 'GridWorldOption.GridWorldOption.get_action'\n",
      "Traceback (most recent call last):\n",
      "  File \"/home/otavio/git/tcc/mcts-simulate/mcts/utils.py\", line 146, in expand\n",
      "    action, should_break = option.get_action(env.state())\n",
      "AttributeError: 'tuple' object has no attribute 'cur_x'\n"
     ]
    },
    {
     "ename": "AttributeError",
     "evalue": "'tuple' object has no attribute 'cur_x'",
     "output_type": "error",
     "traceback": [
      "\u001b[0;31m---------------------------------------------------------------------------\u001b[0m",
      "\u001b[0;31mAttributeError\u001b[0m                            Traceback (most recent call last)",
      "\u001b[0;31mAttributeError\u001b[0m: 'tuple' object has no attribute 'cur_x'"
     ]
    },
    {
     "name": "stderr",
     "output_type": "stream",
     "text": [
      "Exception ignored in: 'GridWorldOption.GridWorldOption.get_action'\n",
      "Traceback (most recent call last):\n",
      "  File \"/home/otavio/git/tcc/mcts-simulate/mcts/utils.py\", line 146, in expand\n",
      "    action, should_break = option.get_action(env.state())\n",
      "AttributeError: 'tuple' object has no attribute 'cur_x'\n"
     ]
    },
    {
     "ename": "AttributeError",
     "evalue": "'tuple' object has no attribute 'cur_x'",
     "output_type": "error",
     "traceback": [
      "\u001b[0;31m---------------------------------------------------------------------------\u001b[0m",
      "\u001b[0;31mAttributeError\u001b[0m                            Traceback (most recent call last)",
      "\u001b[0;31mAttributeError\u001b[0m: 'tuple' object has no attribute 'cur_x'"
     ]
    },
    {
     "name": "stderr",
     "output_type": "stream",
     "text": [
      "Exception ignored in: 'GridWorldOption.GridWorldOption.get_action'\n",
      "Traceback (most recent call last):\n",
      "  File \"/home/otavio/git/tcc/mcts-simulate/mcts/utils.py\", line 146, in expand\n",
      "    action, should_break = option.get_action(env.state())\n",
      "AttributeError: 'tuple' object has no attribute 'cur_x'\n"
     ]
    },
    {
     "ename": "AttributeError",
     "evalue": "'tuple' object has no attribute 'cur_x'",
     "output_type": "error",
     "traceback": [
      "\u001b[0;31m---------------------------------------------------------------------------\u001b[0m",
      "\u001b[0;31mAttributeError\u001b[0m                            Traceback (most recent call last)",
      "\u001b[0;31mAttributeError\u001b[0m: 'tuple' object has no attribute 'cur_x'"
     ]
    },
    {
     "name": "stderr",
     "output_type": "stream",
     "text": [
      "Exception ignored in: 'GridWorldOption.GridWorldOption.get_action'\n",
      "Traceback (most recent call last):\n",
      "  File \"/home/otavio/git/tcc/mcts-simulate/mcts/utils.py\", line 146, in expand\n",
      "    action, should_break = option.get_action(env.state())\n",
      "AttributeError: 'tuple' object has no attribute 'cur_x'\n"
     ]
    },
    {
     "ename": "AttributeError",
     "evalue": "'tuple' object has no attribute 'cur_x'",
     "output_type": "error",
     "traceback": [
      "\u001b[0;31m---------------------------------------------------------------------------\u001b[0m",
      "\u001b[0;31mAttributeError\u001b[0m                            Traceback (most recent call last)",
      "\u001b[0;31mAttributeError\u001b[0m: 'tuple' object has no attribute 'cur_x'"
     ]
    },
    {
     "name": "stderr",
     "output_type": "stream",
     "text": [
      "Exception ignored in: 'GridWorldOption.GridWorldOption.get_action'\n",
      "Traceback (most recent call last):\n",
      "  File \"/home/otavio/git/tcc/mcts-simulate/mcts/utils.py\", line 146, in expand\n",
      "    action, should_break = option.get_action(env.state())\n",
      "AttributeError: 'tuple' object has no attribute 'cur_x'\n"
     ]
    },
    {
     "ename": "AttributeError",
     "evalue": "'tuple' object has no attribute 'cur_x'",
     "output_type": "error",
     "traceback": [
      "\u001b[0;31m---------------------------------------------------------------------------\u001b[0m",
      "\u001b[0;31mAttributeError\u001b[0m                            Traceback (most recent call last)",
      "\u001b[0;31mAttributeError\u001b[0m: 'tuple' object has no attribute 'cur_x'"
     ]
    },
    {
     "name": "stderr",
     "output_type": "stream",
     "text": [
      "Exception ignored in: 'GridWorldOption.GridWorldOption.get_action'\n",
      "Traceback (most recent call last):\n",
      "  File \"/home/otavio/git/tcc/mcts-simulate/mcts/utils.py\", line 146, in expand\n",
      "    action, should_break = option.get_action(env.state())\n",
      "AttributeError: 'tuple' object has no attribute 'cur_x'\n"
     ]
    },
    {
     "ename": "AttributeError",
     "evalue": "'tuple' object has no attribute 'cur_x'",
     "output_type": "error",
     "traceback": [
      "\u001b[0;31m---------------------------------------------------------------------------\u001b[0m",
      "\u001b[0;31mAttributeError\u001b[0m                            Traceback (most recent call last)",
      "\u001b[0;31mAttributeError\u001b[0m: 'tuple' object has no attribute 'cur_x'"
     ]
    },
    {
     "name": "stderr",
     "output_type": "stream",
     "text": [
      "Exception ignored in: 'GridWorldOption.GridWorldOption.get_action'\n",
      "Traceback (most recent call last):\n",
      "  File \"/home/otavio/git/tcc/mcts-simulate/mcts/utils.py\", line 146, in expand\n",
      "    action, should_break = option.get_action(env.state())\n",
      "AttributeError: 'tuple' object has no attribute 'cur_x'\n"
     ]
    },
    {
     "ename": "AttributeError",
     "evalue": "'tuple' object has no attribute 'cur_x'",
     "output_type": "error",
     "traceback": [
      "\u001b[0;31m---------------------------------------------------------------------------\u001b[0m",
      "\u001b[0;31mAttributeError\u001b[0m                            Traceback (most recent call last)",
      "\u001b[0;31mAttributeError\u001b[0m: 'tuple' object has no attribute 'cur_x'"
     ]
    },
    {
     "name": "stderr",
     "output_type": "stream",
     "text": [
      "Exception ignored in: 'GridWorldOption.GridWorldOption.get_action'\n",
      "Traceback (most recent call last):\n",
      "  File \"/home/otavio/git/tcc/mcts-simulate/mcts/utils.py\", line 146, in expand\n",
      "    action, should_break = option.get_action(env.state())\n",
      "AttributeError: 'tuple' object has no attribute 'cur_x'\n"
     ]
    },
    {
     "ename": "AttributeError",
     "evalue": "'tuple' object has no attribute 'cur_x'",
     "output_type": "error",
     "traceback": [
      "\u001b[0;31m---------------------------------------------------------------------------\u001b[0m",
      "\u001b[0;31mAttributeError\u001b[0m                            Traceback (most recent call last)",
      "\u001b[0;31mAttributeError\u001b[0m: 'tuple' object has no attribute 'cur_x'"
     ]
    },
    {
     "name": "stderr",
     "output_type": "stream",
     "text": [
      "Exception ignored in: 'GridWorldOption.GridWorldOption.get_action'\n",
      "Traceback (most recent call last):\n",
      "  File \"/home/otavio/git/tcc/mcts-simulate/mcts/utils.py\", line 146, in expand\n",
      "    action, should_break = option.get_action(env.state())\n",
      "AttributeError: 'tuple' object has no attribute 'cur_x'\n"
     ]
    },
    {
     "ename": "AttributeError",
     "evalue": "'tuple' object has no attribute 'cur_x'",
     "output_type": "error",
     "traceback": [
      "\u001b[0;31m---------------------------------------------------------------------------\u001b[0m",
      "\u001b[0;31mAttributeError\u001b[0m                            Traceback (most recent call last)",
      "\u001b[0;31mAttributeError\u001b[0m: 'tuple' object has no attribute 'cur_x'"
     ]
    },
    {
     "name": "stderr",
     "output_type": "stream",
     "text": [
      "Exception ignored in: 'GridWorldOption.GridWorldOption.get_action'\n",
      "Traceback (most recent call last):\n",
      "  File \"/home/otavio/git/tcc/mcts-simulate/mcts/utils.py\", line 146, in expand\n",
      "    action, should_break = option.get_action(env.state())\n",
      "AttributeError: 'tuple' object has no attribute 'cur_x'\n"
     ]
    },
    {
     "ename": "AttributeError",
     "evalue": "'tuple' object has no attribute 'cur_x'",
     "output_type": "error",
     "traceback": [
      "\u001b[0;31m---------------------------------------------------------------------------\u001b[0m",
      "\u001b[0;31mAttributeError\u001b[0m                            Traceback (most recent call last)",
      "\u001b[0;31mAttributeError\u001b[0m: 'tuple' object has no attribute 'cur_x'"
     ]
    },
    {
     "name": "stderr",
     "output_type": "stream",
     "text": [
      "Exception ignored in: 'GridWorldOption.GridWorldOption.get_action'\n",
      "Traceback (most recent call last):\n",
      "  File \"/home/otavio/git/tcc/mcts-simulate/mcts/utils.py\", line 146, in expand\n",
      "    action, should_break = option.get_action(env.state())\n",
      "AttributeError: 'tuple' object has no attribute 'cur_x'\n"
     ]
    },
    {
     "ename": "AttributeError",
     "evalue": "'tuple' object has no attribute 'cur_x'",
     "output_type": "error",
     "traceback": [
      "\u001b[0;31m---------------------------------------------------------------------------\u001b[0m",
      "\u001b[0;31mAttributeError\u001b[0m                            Traceback (most recent call last)",
      "\u001b[0;31mAttributeError\u001b[0m: 'tuple' object has no attribute 'cur_x'"
     ]
    },
    {
     "name": "stderr",
     "output_type": "stream",
     "text": [
      "Exception ignored in: 'GridWorldOption.GridWorldOption.get_action'\n",
      "Traceback (most recent call last):\n",
      "  File \"/home/otavio/git/tcc/mcts-simulate/mcts/utils.py\", line 146, in expand\n",
      "    action, should_break = option.get_action(env.state())\n",
      "AttributeError: 'tuple' object has no attribute 'cur_x'\n"
     ]
    },
    {
     "ename": "AttributeError",
     "evalue": "'tuple' object has no attribute 'cur_x'",
     "output_type": "error",
     "traceback": [
      "\u001b[0;31m---------------------------------------------------------------------------\u001b[0m",
      "\u001b[0;31mAttributeError\u001b[0m                            Traceback (most recent call last)",
      "\u001b[0;31mAttributeError\u001b[0m: 'tuple' object has no attribute 'cur_x'"
     ]
    },
    {
     "name": "stderr",
     "output_type": "stream",
     "text": [
      "Exception ignored in: 'GridWorldOption.GridWorldOption.get_action'\n",
      "Traceback (most recent call last):\n",
      "  File \"/home/otavio/git/tcc/mcts-simulate/mcts/utils.py\", line 146, in expand\n",
      "    action, should_break = option.get_action(env.state())\n",
      "AttributeError: 'tuple' object has no attribute 'cur_x'\n"
     ]
    },
    {
     "ename": "AttributeError",
     "evalue": "'tuple' object has no attribute 'cur_x'",
     "output_type": "error",
     "traceback": [
      "\u001b[0;31m---------------------------------------------------------------------------\u001b[0m",
      "\u001b[0;31mAttributeError\u001b[0m                            Traceback (most recent call last)",
      "\u001b[0;31mAttributeError\u001b[0m: 'tuple' object has no attribute 'cur_x'"
     ]
    },
    {
     "name": "stderr",
     "output_type": "stream",
     "text": [
      "Exception ignored in: 'GridWorldOption.GridWorldOption.get_action'\n",
      "Traceback (most recent call last):\n",
      "  File \"/home/otavio/git/tcc/mcts-simulate/mcts/utils.py\", line 146, in expand\n",
      "    action, should_break = option.get_action(env.state())\n",
      "AttributeError: 'tuple' object has no attribute 'cur_x'\n"
     ]
    },
    {
     "ename": "AttributeError",
     "evalue": "'tuple' object has no attribute 'cur_x'",
     "output_type": "error",
     "traceback": [
      "\u001b[0;31m---------------------------------------------------------------------------\u001b[0m",
      "\u001b[0;31mAttributeError\u001b[0m                            Traceback (most recent call last)",
      "\u001b[0;31mAttributeError\u001b[0m: 'tuple' object has no attribute 'cur_x'"
     ]
    },
    {
     "name": "stderr",
     "output_type": "stream",
     "text": [
      "Exception ignored in: 'GridWorldOption.GridWorldOption.get_action'\n",
      "Traceback (most recent call last):\n",
      "  File \"/home/otavio/git/tcc/mcts-simulate/mcts/utils.py\", line 146, in expand\n",
      "    action, should_break = option.get_action(env.state())\n",
      "AttributeError: 'tuple' object has no attribute 'cur_x'\n"
     ]
    },
    {
     "ename": "AttributeError",
     "evalue": "'tuple' object has no attribute 'cur_x'",
     "output_type": "error",
     "traceback": [
      "\u001b[0;31m---------------------------------------------------------------------------\u001b[0m",
      "\u001b[0;31mAttributeError\u001b[0m                            Traceback (most recent call last)",
      "\u001b[0;31mAttributeError\u001b[0m: 'tuple' object has no attribute 'cur_x'"
     ]
    },
    {
     "name": "stderr",
     "output_type": "stream",
     "text": [
      "Exception ignored in: 'GridWorldOption.GridWorldOption.get_action'\n",
      "Traceback (most recent call last):\n",
      "  File \"/home/otavio/git/tcc/mcts-simulate/mcts/utils.py\", line 146, in expand\n",
      "    action, should_break = option.get_action(env.state())\n",
      "AttributeError: 'tuple' object has no attribute 'cur_x'\n"
     ]
    },
    {
     "ename": "AttributeError",
     "evalue": "'tuple' object has no attribute 'cur_x'",
     "output_type": "error",
     "traceback": [
      "\u001b[0;31m---------------------------------------------------------------------------\u001b[0m",
      "\u001b[0;31mAttributeError\u001b[0m                            Traceback (most recent call last)",
      "\u001b[0;31mAttributeError\u001b[0m: 'tuple' object has no attribute 'cur_x'"
     ]
    },
    {
     "name": "stderr",
     "output_type": "stream",
     "text": [
      "Exception ignored in: 'GridWorldOption.GridWorldOption.get_action'\n",
      "Traceback (most recent call last):\n",
      "  File \"/home/otavio/git/tcc/mcts-simulate/mcts/utils.py\", line 146, in expand\n",
      "    action, should_break = option.get_action(env.state())\n",
      "AttributeError: 'tuple' object has no attribute 'cur_x'\n"
     ]
    },
    {
     "ename": "AttributeError",
     "evalue": "'tuple' object has no attribute 'cur_x'",
     "output_type": "error",
     "traceback": [
      "\u001b[0;31m---------------------------------------------------------------------------\u001b[0m",
      "\u001b[0;31mAttributeError\u001b[0m                            Traceback (most recent call last)",
      "\u001b[0;31mAttributeError\u001b[0m: 'tuple' object has no attribute 'cur_x'"
     ]
    },
    {
     "name": "stderr",
     "output_type": "stream",
     "text": [
      "Exception ignored in: 'GridWorldOption.GridWorldOption.get_action'\n",
      "Traceback (most recent call last):\n",
      "  File \"/home/otavio/git/tcc/mcts-simulate/mcts/utils.py\", line 146, in expand\n",
      "    action, should_break = option.get_action(env.state())\n",
      "AttributeError: 'tuple' object has no attribute 'cur_x'\n"
     ]
    },
    {
     "ename": "AttributeError",
     "evalue": "'tuple' object has no attribute 'cur_x'",
     "output_type": "error",
     "traceback": [
      "\u001b[0;31m---------------------------------------------------------------------------\u001b[0m",
      "\u001b[0;31mAttributeError\u001b[0m                            Traceback (most recent call last)",
      "\u001b[0;31mAttributeError\u001b[0m: 'tuple' object has no attribute 'cur_x'"
     ]
    },
    {
     "name": "stderr",
     "output_type": "stream",
     "text": [
      "Exception ignored in: 'GridWorldOption.GridWorldOption.get_action'\n",
      "Traceback (most recent call last):\n",
      "  File \"/home/otavio/git/tcc/mcts-simulate/mcts/utils.py\", line 146, in expand\n",
      "    action, should_break = option.get_action(env.state())\n",
      "AttributeError: 'tuple' object has no attribute 'cur_x'\n"
     ]
    },
    {
     "ename": "AttributeError",
     "evalue": "'tuple' object has no attribute 'cur_x'",
     "output_type": "error",
     "traceback": [
      "\u001b[0;31m---------------------------------------------------------------------------\u001b[0m",
      "\u001b[0;31mAttributeError\u001b[0m                            Traceback (most recent call last)",
      "\u001b[0;31mAttributeError\u001b[0m: 'tuple' object has no attribute 'cur_x'"
     ]
    },
    {
     "name": "stderr",
     "output_type": "stream",
     "text": [
      "Exception ignored in: 'GridWorldOption.GridWorldOption.get_action'\n",
      "Traceback (most recent call last):\n",
      "  File \"/home/otavio/git/tcc/mcts-simulate/mcts/utils.py\", line 146, in expand\n",
      "    action, should_break = option.get_action(env.state())\n",
      "AttributeError: 'tuple' object has no attribute 'cur_x'\n"
     ]
    },
    {
     "ename": "AttributeError",
     "evalue": "'tuple' object has no attribute 'cur_x'",
     "output_type": "error",
     "traceback": [
      "\u001b[0;31m---------------------------------------------------------------------------\u001b[0m",
      "\u001b[0;31mAttributeError\u001b[0m                            Traceback (most recent call last)",
      "\u001b[0;31mAttributeError\u001b[0m: 'tuple' object has no attribute 'cur_x'"
     ]
    },
    {
     "name": "stderr",
     "output_type": "stream",
     "text": [
      "Exception ignored in: 'GridWorldOption.GridWorldOption.get_action'\n",
      "Traceback (most recent call last):\n",
      "  File \"/home/otavio/git/tcc/mcts-simulate/mcts/utils.py\", line 146, in expand\n",
      "    action, should_break = option.get_action(env.state())\n",
      "AttributeError: 'tuple' object has no attribute 'cur_x'\n"
     ]
    },
    {
     "ename": "AttributeError",
     "evalue": "'tuple' object has no attribute 'cur_x'",
     "output_type": "error",
     "traceback": [
      "\u001b[0;31m---------------------------------------------------------------------------\u001b[0m",
      "\u001b[0;31mAttributeError\u001b[0m                            Traceback (most recent call last)",
      "\u001b[0;31mAttributeError\u001b[0m: 'tuple' object has no attribute 'cur_x'"
     ]
    },
    {
     "name": "stderr",
     "output_type": "stream",
     "text": [
      "Exception ignored in: 'GridWorldOption.GridWorldOption.get_action'\n",
      "Traceback (most recent call last):\n",
      "  File \"/home/otavio/git/tcc/mcts-simulate/mcts/utils.py\", line 146, in expand\n",
      "    action, should_break = option.get_action(env.state())\n",
      "AttributeError: 'tuple' object has no attribute 'cur_x'\n"
     ]
    },
    {
     "ename": "AttributeError",
     "evalue": "'tuple' object has no attribute 'cur_x'",
     "output_type": "error",
     "traceback": [
      "\u001b[0;31m---------------------------------------------------------------------------\u001b[0m",
      "\u001b[0;31mAttributeError\u001b[0m                            Traceback (most recent call last)",
      "\u001b[0;31mAttributeError\u001b[0m: 'tuple' object has no attribute 'cur_x'"
     ]
    },
    {
     "name": "stderr",
     "output_type": "stream",
     "text": [
      "Exception ignored in: 'GridWorldOption.GridWorldOption.get_action'\n",
      "Traceback (most recent call last):\n",
      "  File \"/home/otavio/git/tcc/mcts-simulate/mcts/utils.py\", line 146, in expand\n",
      "    action, should_break = option.get_action(env.state())\n",
      "AttributeError: 'tuple' object has no attribute 'cur_x'\n"
     ]
    },
    {
     "ename": "AttributeError",
     "evalue": "'tuple' object has no attribute 'cur_x'",
     "output_type": "error",
     "traceback": [
      "\u001b[0;31m---------------------------------------------------------------------------\u001b[0m",
      "\u001b[0;31mAttributeError\u001b[0m                            Traceback (most recent call last)",
      "\u001b[0;31mAttributeError\u001b[0m: 'tuple' object has no attribute 'cur_x'"
     ]
    },
    {
     "name": "stderr",
     "output_type": "stream",
     "text": [
      "Exception ignored in: 'GridWorldOption.GridWorldOption.get_action'\n",
      "Traceback (most recent call last):\n",
      "  File \"/home/otavio/git/tcc/mcts-simulate/mcts/utils.py\", line 146, in expand\n",
      "    action, should_break = option.get_action(env.state())\n",
      "AttributeError: 'tuple' object has no attribute 'cur_x'\n"
     ]
    },
    {
     "ename": "AttributeError",
     "evalue": "'tuple' object has no attribute 'cur_x'",
     "output_type": "error",
     "traceback": [
      "\u001b[0;31m---------------------------------------------------------------------------\u001b[0m",
      "\u001b[0;31mAttributeError\u001b[0m                            Traceback (most recent call last)",
      "\u001b[0;31mAttributeError\u001b[0m: 'tuple' object has no attribute 'cur_x'"
     ]
    },
    {
     "name": "stderr",
     "output_type": "stream",
     "text": [
      "Exception ignored in: 'GridWorldOption.GridWorldOption.get_action'\n",
      "Traceback (most recent call last):\n",
      "  File \"/home/otavio/git/tcc/mcts-simulate/mcts/utils.py\", line 146, in expand\n",
      "    action, should_break = option.get_action(env.state())\n",
      "AttributeError: 'tuple' object has no attribute 'cur_x'\n"
     ]
    },
    {
     "ename": "AttributeError",
     "evalue": "'tuple' object has no attribute 'cur_x'",
     "output_type": "error",
     "traceback": [
      "\u001b[0;31m---------------------------------------------------------------------------\u001b[0m",
      "\u001b[0;31mAttributeError\u001b[0m                            Traceback (most recent call last)",
      "\u001b[0;31mAttributeError\u001b[0m: 'tuple' object has no attribute 'cur_x'"
     ]
    },
    {
     "name": "stderr",
     "output_type": "stream",
     "text": [
      "Exception ignored in: 'GridWorldOption.GridWorldOption.get_action'\n",
      "Traceback (most recent call last):\n",
      "  File \"/home/otavio/git/tcc/mcts-simulate/mcts/utils.py\", line 146, in expand\n",
      "    action, should_break = option.get_action(env.state())\n",
      "AttributeError: 'tuple' object has no attribute 'cur_x'\n"
     ]
    },
    {
     "ename": "AttributeError",
     "evalue": "'tuple' object has no attribute 'cur_x'",
     "output_type": "error",
     "traceback": [
      "\u001b[0;31m---------------------------------------------------------------------------\u001b[0m",
      "\u001b[0;31mAttributeError\u001b[0m                            Traceback (most recent call last)",
      "\u001b[0;31mAttributeError\u001b[0m: 'tuple' object has no attribute 'cur_x'"
     ]
    },
    {
     "name": "stderr",
     "output_type": "stream",
     "text": [
      "Exception ignored in: 'GridWorldOption.GridWorldOption.get_action'\n",
      "Traceback (most recent call last):\n",
      "  File \"/home/otavio/git/tcc/mcts-simulate/mcts/utils.py\", line 146, in expand\n",
      "    action, should_break = option.get_action(env.state())\n",
      "AttributeError: 'tuple' object has no attribute 'cur_x'\n"
     ]
    },
    {
     "ename": "AttributeError",
     "evalue": "'tuple' object has no attribute 'cur_x'",
     "output_type": "error",
     "traceback": [
      "\u001b[0;31m---------------------------------------------------------------------------\u001b[0m",
      "\u001b[0;31mAttributeError\u001b[0m                            Traceback (most recent call last)",
      "\u001b[0;31mAttributeError\u001b[0m: 'tuple' object has no attribute 'cur_x'"
     ]
    },
    {
     "name": "stderr",
     "output_type": "stream",
     "text": [
      "Exception ignored in: 'GridWorldOption.GridWorldOption.get_action'\n",
      "Traceback (most recent call last):\n",
      "  File \"/home/otavio/git/tcc/mcts-simulate/mcts/utils.py\", line 146, in expand\n",
      "    action, should_break = option.get_action(env.state())\n",
      "AttributeError: 'tuple' object has no attribute 'cur_x'\n"
     ]
    },
    {
     "ename": "AttributeError",
     "evalue": "'tuple' object has no attribute 'cur_x'",
     "output_type": "error",
     "traceback": [
      "\u001b[0;31m---------------------------------------------------------------------------\u001b[0m",
      "\u001b[0;31mAttributeError\u001b[0m                            Traceback (most recent call last)",
      "\u001b[0;31mAttributeError\u001b[0m: 'tuple' object has no attribute 'cur_x'"
     ]
    },
    {
     "name": "stderr",
     "output_type": "stream",
     "text": [
      "Exception ignored in: 'GridWorldOption.GridWorldOption.get_action'\n",
      "Traceback (most recent call last):\n",
      "  File \"/home/otavio/git/tcc/mcts-simulate/mcts/utils.py\", line 146, in expand\n",
      "    action, should_break = option.get_action(env.state())\n",
      "AttributeError: 'tuple' object has no attribute 'cur_x'\n"
     ]
    },
    {
     "ename": "AttributeError",
     "evalue": "'tuple' object has no attribute 'cur_x'",
     "output_type": "error",
     "traceback": [
      "\u001b[0;31m---------------------------------------------------------------------------\u001b[0m",
      "\u001b[0;31mAttributeError\u001b[0m                            Traceback (most recent call last)",
      "\u001b[0;31mAttributeError\u001b[0m: 'tuple' object has no attribute 'cur_x'"
     ]
    },
    {
     "name": "stderr",
     "output_type": "stream",
     "text": [
      "Exception ignored in: 'GridWorldOption.GridWorldOption.get_action'\n",
      "Traceback (most recent call last):\n",
      "  File \"/home/otavio/git/tcc/mcts-simulate/mcts/utils.py\", line 146, in expand\n",
      "    action, should_break = option.get_action(env.state())\n",
      "AttributeError: 'tuple' object has no attribute 'cur_x'\n"
     ]
    },
    {
     "ename": "AttributeError",
     "evalue": "'tuple' object has no attribute 'cur_x'",
     "output_type": "error",
     "traceback": [
      "\u001b[0;31m---------------------------------------------------------------------------\u001b[0m",
      "\u001b[0;31mAttributeError\u001b[0m                            Traceback (most recent call last)",
      "\u001b[0;31mAttributeError\u001b[0m: 'tuple' object has no attribute 'cur_x'"
     ]
    },
    {
     "name": "stderr",
     "output_type": "stream",
     "text": [
      "Exception ignored in: 'GridWorldOption.GridWorldOption.get_action'\n",
      "Traceback (most recent call last):\n",
      "  File \"/home/otavio/git/tcc/mcts-simulate/mcts/utils.py\", line 146, in expand\n",
      "    action, should_break = option.get_action(env.state())\n",
      "AttributeError: 'tuple' object has no attribute 'cur_x'\n"
     ]
    },
    {
     "ename": "AttributeError",
     "evalue": "'tuple' object has no attribute 'cur_x'",
     "output_type": "error",
     "traceback": [
      "\u001b[0;31m---------------------------------------------------------------------------\u001b[0m",
      "\u001b[0;31mAttributeError\u001b[0m                            Traceback (most recent call last)",
      "\u001b[0;31mAttributeError\u001b[0m: 'tuple' object has no attribute 'cur_x'"
     ]
    },
    {
     "name": "stderr",
     "output_type": "stream",
     "text": [
      "Exception ignored in: 'GridWorldOption.GridWorldOption.get_action'\n",
      "Traceback (most recent call last):\n",
      "  File \"/home/otavio/git/tcc/mcts-simulate/mcts/utils.py\", line 146, in expand\n",
      "    action, should_break = option.get_action(env.state())\n",
      "AttributeError: 'tuple' object has no attribute 'cur_x'\n"
     ]
    },
    {
     "ename": "AttributeError",
     "evalue": "'tuple' object has no attribute 'cur_x'",
     "output_type": "error",
     "traceback": [
      "\u001b[0;31m---------------------------------------------------------------------------\u001b[0m",
      "\u001b[0;31mAttributeError\u001b[0m                            Traceback (most recent call last)",
      "\u001b[0;31mAttributeError\u001b[0m: 'tuple' object has no attribute 'cur_x'"
     ]
    },
    {
     "name": "stderr",
     "output_type": "stream",
     "text": [
      "Exception ignored in: 'GridWorldOption.GridWorldOption.get_action'\n",
      "Traceback (most recent call last):\n",
      "  File \"/home/otavio/git/tcc/mcts-simulate/mcts/utils.py\", line 146, in expand\n",
      "    action, should_break = option.get_action(env.state())\n",
      "AttributeError: 'tuple' object has no attribute 'cur_x'\n"
     ]
    },
    {
     "ename": "AttributeError",
     "evalue": "'tuple' object has no attribute 'cur_x'",
     "output_type": "error",
     "traceback": [
      "\u001b[0;31m---------------------------------------------------------------------------\u001b[0m",
      "\u001b[0;31mAttributeError\u001b[0m                            Traceback (most recent call last)",
      "\u001b[0;31mAttributeError\u001b[0m: 'tuple' object has no attribute 'cur_x'"
     ]
    },
    {
     "name": "stderr",
     "output_type": "stream",
     "text": [
      "Exception ignored in: 'GridWorldOption.GridWorldOption.get_action'\n",
      "Traceback (most recent call last):\n",
      "  File \"/home/otavio/git/tcc/mcts-simulate/mcts/utils.py\", line 146, in expand\n",
      "    action, should_break = option.get_action(env.state())\n",
      "AttributeError: 'tuple' object has no attribute 'cur_x'\n"
     ]
    },
    {
     "ename": "AttributeError",
     "evalue": "'tuple' object has no attribute 'cur_x'",
     "output_type": "error",
     "traceback": [
      "\u001b[0;31m---------------------------------------------------------------------------\u001b[0m",
      "\u001b[0;31mAttributeError\u001b[0m                            Traceback (most recent call last)",
      "\u001b[0;31mAttributeError\u001b[0m: 'tuple' object has no attribute 'cur_x'"
     ]
    },
    {
     "name": "stderr",
     "output_type": "stream",
     "text": [
      "Exception ignored in: 'GridWorldOption.GridWorldOption.get_action'\n",
      "Traceback (most recent call last):\n",
      "  File \"/home/otavio/git/tcc/mcts-simulate/mcts/utils.py\", line 146, in expand\n",
      "    action, should_break = option.get_action(env.state())\n",
      "AttributeError: 'tuple' object has no attribute 'cur_x'\n"
     ]
    },
    {
     "ename": "AttributeError",
     "evalue": "'tuple' object has no attribute 'cur_x'",
     "output_type": "error",
     "traceback": [
      "\u001b[0;31m---------------------------------------------------------------------------\u001b[0m",
      "\u001b[0;31mAttributeError\u001b[0m                            Traceback (most recent call last)",
      "\u001b[0;31mAttributeError\u001b[0m: 'tuple' object has no attribute 'cur_x'"
     ]
    },
    {
     "name": "stderr",
     "output_type": "stream",
     "text": [
      "Exception ignored in: 'GridWorldOption.GridWorldOption.get_action'\n",
      "Traceback (most recent call last):\n",
      "  File \"/home/otavio/git/tcc/mcts-simulate/mcts/utils.py\", line 146, in expand\n",
      "    action, should_break = option.get_action(env.state())\n",
      "AttributeError: 'tuple' object has no attribute 'cur_x'\n"
     ]
    },
    {
     "ename": "AttributeError",
     "evalue": "'tuple' object has no attribute 'cur_x'",
     "output_type": "error",
     "traceback": [
      "\u001b[0;31m---------------------------------------------------------------------------\u001b[0m",
      "\u001b[0;31mAttributeError\u001b[0m                            Traceback (most recent call last)",
      "\u001b[0;31mAttributeError\u001b[0m: 'tuple' object has no attribute 'cur_x'"
     ]
    },
    {
     "name": "stderr",
     "output_type": "stream",
     "text": [
      "Exception ignored in: 'GridWorldOption.GridWorldOption.get_action'\n",
      "Traceback (most recent call last):\n",
      "  File \"/home/otavio/git/tcc/mcts-simulate/mcts/utils.py\", line 146, in expand\n",
      "    action, should_break = option.get_action(env.state())\n",
      "AttributeError: 'tuple' object has no attribute 'cur_x'\n"
     ]
    },
    {
     "ename": "AttributeError",
     "evalue": "'tuple' object has no attribute 'cur_x'",
     "output_type": "error",
     "traceback": [
      "\u001b[0;31m---------------------------------------------------------------------------\u001b[0m",
      "\u001b[0;31mAttributeError\u001b[0m                            Traceback (most recent call last)",
      "\u001b[0;31mAttributeError\u001b[0m: 'tuple' object has no attribute 'cur_x'"
     ]
    },
    {
     "name": "stderr",
     "output_type": "stream",
     "text": [
      "Exception ignored in: 'GridWorldOption.GridWorldOption.get_action'\n",
      "Traceback (most recent call last):\n",
      "  File \"/home/otavio/git/tcc/mcts-simulate/mcts/utils.py\", line 146, in expand\n",
      "    action, should_break = option.get_action(env.state())\n",
      "AttributeError: 'tuple' object has no attribute 'cur_x'\n"
     ]
    },
    {
     "ename": "AttributeError",
     "evalue": "'tuple' object has no attribute 'cur_x'",
     "output_type": "error",
     "traceback": [
      "\u001b[0;31m---------------------------------------------------------------------------\u001b[0m",
      "\u001b[0;31mAttributeError\u001b[0m                            Traceback (most recent call last)",
      "\u001b[0;31mAttributeError\u001b[0m: 'tuple' object has no attribute 'cur_x'"
     ]
    },
    {
     "name": "stderr",
     "output_type": "stream",
     "text": [
      "Exception ignored in: 'GridWorldOption.GridWorldOption.get_action'\n",
      "Traceback (most recent call last):\n",
      "  File \"/home/otavio/git/tcc/mcts-simulate/mcts/utils.py\", line 146, in expand\n",
      "    action, should_break = option.get_action(env.state())\n",
      "AttributeError: 'tuple' object has no attribute 'cur_x'\n"
     ]
    },
    {
     "ename": "AttributeError",
     "evalue": "'tuple' object has no attribute 'cur_x'",
     "output_type": "error",
     "traceback": [
      "\u001b[0;31m---------------------------------------------------------------------------\u001b[0m",
      "\u001b[0;31mAttributeError\u001b[0m                            Traceback (most recent call last)",
      "\u001b[0;31mAttributeError\u001b[0m: 'tuple' object has no attribute 'cur_x'"
     ]
    },
    {
     "name": "stderr",
     "output_type": "stream",
     "text": [
      "Exception ignored in: 'GridWorldOption.GridWorldOption.get_action'\n",
      "Traceback (most recent call last):\n",
      "  File \"/home/otavio/git/tcc/mcts-simulate/mcts/utils.py\", line 146, in expand\n",
      "    action, should_break = option.get_action(env.state())\n",
      "AttributeError: 'tuple' object has no attribute 'cur_x'\n"
     ]
    },
    {
     "ename": "AttributeError",
     "evalue": "'tuple' object has no attribute 'cur_x'",
     "output_type": "error",
     "traceback": [
      "\u001b[0;31m---------------------------------------------------------------------------\u001b[0m",
      "\u001b[0;31mAttributeError\u001b[0m                            Traceback (most recent call last)",
      "\u001b[0;31mAttributeError\u001b[0m: 'tuple' object has no attribute 'cur_x'"
     ]
    },
    {
     "name": "stderr",
     "output_type": "stream",
     "text": [
      "Exception ignored in: 'GridWorldOption.GridWorldOption.get_action'\n",
      "Traceback (most recent call last):\n",
      "  File \"/home/otavio/git/tcc/mcts-simulate/mcts/utils.py\", line 146, in expand\n",
      "    action, should_break = option.get_action(env.state())\n",
      "AttributeError: 'tuple' object has no attribute 'cur_x'\n"
     ]
    },
    {
     "ename": "AttributeError",
     "evalue": "'tuple' object has no attribute 'cur_x'",
     "output_type": "error",
     "traceback": [
      "\u001b[0;31m---------------------------------------------------------------------------\u001b[0m",
      "\u001b[0;31mAttributeError\u001b[0m                            Traceback (most recent call last)",
      "\u001b[0;31mAttributeError\u001b[0m: 'tuple' object has no attribute 'cur_x'"
     ]
    },
    {
     "name": "stderr",
     "output_type": "stream",
     "text": [
      "Exception ignored in: 'GridWorldOption.GridWorldOption.get_action'\n",
      "Traceback (most recent call last):\n",
      "  File \"/home/otavio/git/tcc/mcts-simulate/mcts/utils.py\", line 146, in expand\n",
      "    action, should_break = option.get_action(env.state())\n",
      "AttributeError: 'tuple' object has no attribute 'cur_x'\n"
     ]
    },
    {
     "ename": "AttributeError",
     "evalue": "'tuple' object has no attribute 'cur_x'",
     "output_type": "error",
     "traceback": [
      "\u001b[0;31m---------------------------------------------------------------------------\u001b[0m",
      "\u001b[0;31mAttributeError\u001b[0m                            Traceback (most recent call last)",
      "\u001b[0;31mAttributeError\u001b[0m: 'tuple' object has no attribute 'cur_x'"
     ]
    },
    {
     "name": "stderr",
     "output_type": "stream",
     "text": [
      "Exception ignored in: 'GridWorldOption.GridWorldOption.get_action'\n",
      "Traceback (most recent call last):\n",
      "  File \"/home/otavio/git/tcc/mcts-simulate/mcts/utils.py\", line 146, in expand\n",
      "    action, should_break = option.get_action(env.state())\n",
      "AttributeError: 'tuple' object has no attribute 'cur_x'\n"
     ]
    },
    {
     "ename": "AttributeError",
     "evalue": "'tuple' object has no attribute 'cur_x'",
     "output_type": "error",
     "traceback": [
      "\u001b[0;31m---------------------------------------------------------------------------\u001b[0m",
      "\u001b[0;31mAttributeError\u001b[0m                            Traceback (most recent call last)",
      "\u001b[0;31mAttributeError\u001b[0m: 'tuple' object has no attribute 'cur_x'"
     ]
    },
    {
     "name": "stderr",
     "output_type": "stream",
     "text": [
      "Exception ignored in: 'GridWorldOption.GridWorldOption.get_action'\n",
      "Traceback (most recent call last):\n",
      "  File \"/home/otavio/git/tcc/mcts-simulate/mcts/utils.py\", line 146, in expand\n",
      "    action, should_break = option.get_action(env.state())\n",
      "AttributeError: 'tuple' object has no attribute 'cur_x'\n"
     ]
    },
    {
     "ename": "AttributeError",
     "evalue": "'tuple' object has no attribute 'cur_x'",
     "output_type": "error",
     "traceback": [
      "\u001b[0;31m---------------------------------------------------------------------------\u001b[0m",
      "\u001b[0;31mAttributeError\u001b[0m                            Traceback (most recent call last)",
      "\u001b[0;31mAttributeError\u001b[0m: 'tuple' object has no attribute 'cur_x'"
     ]
    },
    {
     "name": "stderr",
     "output_type": "stream",
     "text": [
      "Exception ignored in: 'GridWorldOption.GridWorldOption.get_action'\n",
      "Traceback (most recent call last):\n",
      "  File \"/home/otavio/git/tcc/mcts-simulate/mcts/utils.py\", line 146, in expand\n",
      "    action, should_break = option.get_action(env.state())\n",
      "AttributeError: 'tuple' object has no attribute 'cur_x'\n"
     ]
    },
    {
     "ename": "AttributeError",
     "evalue": "'tuple' object has no attribute 'cur_x'",
     "output_type": "error",
     "traceback": [
      "\u001b[0;31m---------------------------------------------------------------------------\u001b[0m",
      "\u001b[0;31mAttributeError\u001b[0m                            Traceback (most recent call last)",
      "\u001b[0;31mAttributeError\u001b[0m: 'tuple' object has no attribute 'cur_x'"
     ]
    },
    {
     "name": "stderr",
     "output_type": "stream",
     "text": [
      "Exception ignored in: 'GridWorldOption.GridWorldOption.get_action'\n",
      "Traceback (most recent call last):\n",
      "  File \"/home/otavio/git/tcc/mcts-simulate/mcts/utils.py\", line 146, in expand\n",
      "    action, should_break = option.get_action(env.state())\n",
      "AttributeError: 'tuple' object has no attribute 'cur_x'\n"
     ]
    },
    {
     "ename": "AttributeError",
     "evalue": "'tuple' object has no attribute 'cur_x'",
     "output_type": "error",
     "traceback": [
      "\u001b[0;31m---------------------------------------------------------------------------\u001b[0m",
      "\u001b[0;31mAttributeError\u001b[0m                            Traceback (most recent call last)",
      "\u001b[0;31mAttributeError\u001b[0m: 'tuple' object has no attribute 'cur_x'"
     ]
    },
    {
     "name": "stderr",
     "output_type": "stream",
     "text": [
      "Exception ignored in: 'GridWorldOption.GridWorldOption.get_action'\n",
      "Traceback (most recent call last):\n",
      "  File \"/home/otavio/git/tcc/mcts-simulate/mcts/utils.py\", line 146, in expand\n",
      "    action, should_break = option.get_action(env.state())\n",
      "AttributeError: 'tuple' object has no attribute 'cur_x'\n"
     ]
    },
    {
     "ename": "AttributeError",
     "evalue": "'tuple' object has no attribute 'cur_x'",
     "output_type": "error",
     "traceback": [
      "\u001b[0;31m---------------------------------------------------------------------------\u001b[0m",
      "\u001b[0;31mAttributeError\u001b[0m                            Traceback (most recent call last)",
      "\u001b[0;31mAttributeError\u001b[0m: 'tuple' object has no attribute 'cur_x'"
     ]
    },
    {
     "name": "stderr",
     "output_type": "stream",
     "text": [
      "Exception ignored in: 'GridWorldOption.GridWorldOption.get_action'\n",
      "Traceback (most recent call last):\n",
      "  File \"/home/otavio/git/tcc/mcts-simulate/mcts/utils.py\", line 146, in expand\n",
      "    action, should_break = option.get_action(env.state())\n",
      "AttributeError: 'tuple' object has no attribute 'cur_x'\n"
     ]
    },
    {
     "ename": "AttributeError",
     "evalue": "'tuple' object has no attribute 'cur_x'",
     "output_type": "error",
     "traceback": [
      "\u001b[0;31m---------------------------------------------------------------------------\u001b[0m",
      "\u001b[0;31mAttributeError\u001b[0m                            Traceback (most recent call last)",
      "\u001b[0;31mAttributeError\u001b[0m: 'tuple' object has no attribute 'cur_x'"
     ]
    },
    {
     "name": "stderr",
     "output_type": "stream",
     "text": [
      "Exception ignored in: 'GridWorldOption.GridWorldOption.get_action'\n",
      "Traceback (most recent call last):\n",
      "  File \"/home/otavio/git/tcc/mcts-simulate/mcts/utils.py\", line 146, in expand\n",
      "    action, should_break = option.get_action(env.state())\n",
      "AttributeError: 'tuple' object has no attribute 'cur_x'\n"
     ]
    },
    {
     "ename": "AttributeError",
     "evalue": "'tuple' object has no attribute 'cur_x'",
     "output_type": "error",
     "traceback": [
      "\u001b[0;31m---------------------------------------------------------------------------\u001b[0m",
      "\u001b[0;31mAttributeError\u001b[0m                            Traceback (most recent call last)",
      "\u001b[0;31mAttributeError\u001b[0m: 'tuple' object has no attribute 'cur_x'"
     ]
    },
    {
     "name": "stderr",
     "output_type": "stream",
     "text": [
      "Exception ignored in: 'GridWorldOption.GridWorldOption.get_action'\n",
      "Traceback (most recent call last):\n",
      "  File \"/home/otavio/git/tcc/mcts-simulate/mcts/utils.py\", line 146, in expand\n",
      "    action, should_break = option.get_action(env.state())\n",
      "AttributeError: 'tuple' object has no attribute 'cur_x'\n"
     ]
    },
    {
     "ename": "AttributeError",
     "evalue": "'tuple' object has no attribute 'cur_x'",
     "output_type": "error",
     "traceback": [
      "\u001b[0;31m---------------------------------------------------------------------------\u001b[0m",
      "\u001b[0;31mAttributeError\u001b[0m                            Traceback (most recent call last)",
      "\u001b[0;31mAttributeError\u001b[0m: 'tuple' object has no attribute 'cur_x'"
     ]
    },
    {
     "name": "stderr",
     "output_type": "stream",
     "text": [
      "Exception ignored in: 'GridWorldOption.GridWorldOption.get_action'\n",
      "Traceback (most recent call last):\n",
      "  File \"/home/otavio/git/tcc/mcts-simulate/mcts/utils.py\", line 146, in expand\n",
      "    action, should_break = option.get_action(env.state())\n",
      "AttributeError: 'tuple' object has no attribute 'cur_x'\n"
     ]
    },
    {
     "ename": "AttributeError",
     "evalue": "'tuple' object has no attribute 'cur_x'",
     "output_type": "error",
     "traceback": [
      "\u001b[0;31m---------------------------------------------------------------------------\u001b[0m",
      "\u001b[0;31mAttributeError\u001b[0m                            Traceback (most recent call last)",
      "\u001b[0;31mAttributeError\u001b[0m: 'tuple' object has no attribute 'cur_x'"
     ]
    },
    {
     "name": "stderr",
     "output_type": "stream",
     "text": [
      "Exception ignored in: 'GridWorldOption.GridWorldOption.get_action'\n",
      "Traceback (most recent call last):\n",
      "  File \"/home/otavio/git/tcc/mcts-simulate/mcts/utils.py\", line 146, in expand\n",
      "    action, should_break = option.get_action(env.state())\n",
      "AttributeError: 'tuple' object has no attribute 'cur_x'\n"
     ]
    },
    {
     "ename": "AttributeError",
     "evalue": "'tuple' object has no attribute 'cur_x'",
     "output_type": "error",
     "traceback": [
      "\u001b[0;31m---------------------------------------------------------------------------\u001b[0m",
      "\u001b[0;31mAttributeError\u001b[0m                            Traceback (most recent call last)",
      "\u001b[0;31mAttributeError\u001b[0m: 'tuple' object has no attribute 'cur_x'"
     ]
    },
    {
     "name": "stderr",
     "output_type": "stream",
     "text": [
      "Exception ignored in: 'GridWorldOption.GridWorldOption.get_action'\n",
      "Traceback (most recent call last):\n",
      "  File \"/home/otavio/git/tcc/mcts-simulate/mcts/utils.py\", line 146, in expand\n",
      "    action, should_break = option.get_action(env.state())\n",
      "AttributeError: 'tuple' object has no attribute 'cur_x'\n"
     ]
    },
    {
     "ename": "AttributeError",
     "evalue": "'tuple' object has no attribute 'cur_x'",
     "output_type": "error",
     "traceback": [
      "\u001b[0;31m---------------------------------------------------------------------------\u001b[0m",
      "\u001b[0;31mAttributeError\u001b[0m                            Traceback (most recent call last)",
      "\u001b[0;31mAttributeError\u001b[0m: 'tuple' object has no attribute 'cur_x'"
     ]
    },
    {
     "name": "stderr",
     "output_type": "stream",
     "text": [
      "Exception ignored in: 'GridWorldOption.GridWorldOption.get_action'\n",
      "Traceback (most recent call last):\n",
      "  File \"/home/otavio/git/tcc/mcts-simulate/mcts/utils.py\", line 146, in expand\n",
      "    action, should_break = option.get_action(env.state())\n",
      "AttributeError: 'tuple' object has no attribute 'cur_x'\n"
     ]
    },
    {
     "ename": "AttributeError",
     "evalue": "'tuple' object has no attribute 'cur_x'",
     "output_type": "error",
     "traceback": [
      "\u001b[0;31m---------------------------------------------------------------------------\u001b[0m",
      "\u001b[0;31mAttributeError\u001b[0m                            Traceback (most recent call last)",
      "\u001b[0;31mAttributeError\u001b[0m: 'tuple' object has no attribute 'cur_x'"
     ]
    },
    {
     "name": "stderr",
     "output_type": "stream",
     "text": [
      "Exception ignored in: 'GridWorldOption.GridWorldOption.get_action'\n",
      "Traceback (most recent call last):\n",
      "  File \"/home/otavio/git/tcc/mcts-simulate/mcts/utils.py\", line 146, in expand\n",
      "    action, should_break = option.get_action(env.state())\n",
      "AttributeError: 'tuple' object has no attribute 'cur_x'\n"
     ]
    },
    {
     "ename": "AttributeError",
     "evalue": "'tuple' object has no attribute 'cur_x'",
     "output_type": "error",
     "traceback": [
      "\u001b[0;31m---------------------------------------------------------------------------\u001b[0m",
      "\u001b[0;31mAttributeError\u001b[0m                            Traceback (most recent call last)",
      "\u001b[0;31mAttributeError\u001b[0m: 'tuple' object has no attribute 'cur_x'"
     ]
    },
    {
     "name": "stderr",
     "output_type": "stream",
     "text": [
      "Exception ignored in: 'GridWorldOption.GridWorldOption.get_action'\n",
      "Traceback (most recent call last):\n",
      "  File \"/home/otavio/git/tcc/mcts-simulate/mcts/utils.py\", line 146, in expand\n",
      "    action, should_break = option.get_action(env.state())\n",
      "AttributeError: 'tuple' object has no attribute 'cur_x'\n"
     ]
    },
    {
     "ename": "AttributeError",
     "evalue": "'tuple' object has no attribute 'cur_x'",
     "output_type": "error",
     "traceback": [
      "\u001b[0;31m---------------------------------------------------------------------------\u001b[0m",
      "\u001b[0;31mAttributeError\u001b[0m                            Traceback (most recent call last)",
      "\u001b[0;31mAttributeError\u001b[0m: 'tuple' object has no attribute 'cur_x'"
     ]
    },
    {
     "name": "stderr",
     "output_type": "stream",
     "text": [
      "Exception ignored in: 'GridWorldOption.GridWorldOption.get_action'\n",
      "Traceback (most recent call last):\n",
      "  File \"/home/otavio/git/tcc/mcts-simulate/mcts/utils.py\", line 146, in expand\n",
      "    action, should_break = option.get_action(env.state())\n",
      "AttributeError: 'tuple' object has no attribute 'cur_x'\n"
     ]
    },
    {
     "ename": "AttributeError",
     "evalue": "'tuple' object has no attribute 'cur_x'",
     "output_type": "error",
     "traceback": [
      "\u001b[0;31m---------------------------------------------------------------------------\u001b[0m",
      "\u001b[0;31mAttributeError\u001b[0m                            Traceback (most recent call last)",
      "\u001b[0;31mAttributeError\u001b[0m: 'tuple' object has no attribute 'cur_x'"
     ]
    },
    {
     "name": "stderr",
     "output_type": "stream",
     "text": [
      "Exception ignored in: 'GridWorldOption.GridWorldOption.get_action'\n",
      "Traceback (most recent call last):\n",
      "  File \"/home/otavio/git/tcc/mcts-simulate/mcts/utils.py\", line 146, in expand\n",
      "    action, should_break = option.get_action(env.state())\n",
      "AttributeError: 'tuple' object has no attribute 'cur_x'\n"
     ]
    },
    {
     "ename": "AttributeError",
     "evalue": "'tuple' object has no attribute 'cur_x'",
     "output_type": "error",
     "traceback": [
      "\u001b[0;31m---------------------------------------------------------------------------\u001b[0m",
      "\u001b[0;31mAttributeError\u001b[0m                            Traceback (most recent call last)",
      "\u001b[0;31mAttributeError\u001b[0m: 'tuple' object has no attribute 'cur_x'"
     ]
    },
    {
     "name": "stderr",
     "output_type": "stream",
     "text": [
      "Exception ignored in: 'GridWorldOption.GridWorldOption.get_action'\n",
      "Traceback (most recent call last):\n",
      "  File \"/home/otavio/git/tcc/mcts-simulate/mcts/utils.py\", line 146, in expand\n",
      "    action, should_break = option.get_action(env.state())\n",
      "AttributeError: 'tuple' object has no attribute 'cur_x'\n"
     ]
    },
    {
     "ename": "AttributeError",
     "evalue": "'tuple' object has no attribute 'cur_x'",
     "output_type": "error",
     "traceback": [
      "\u001b[0;31m---------------------------------------------------------------------------\u001b[0m",
      "\u001b[0;31mAttributeError\u001b[0m                            Traceback (most recent call last)",
      "\u001b[0;31mAttributeError\u001b[0m: 'tuple' object has no attribute 'cur_x'"
     ]
    },
    {
     "name": "stderr",
     "output_type": "stream",
     "text": [
      "Exception ignored in: 'GridWorldOption.GridWorldOption.get_action'\n",
      "Traceback (most recent call last):\n",
      "  File \"/home/otavio/git/tcc/mcts-simulate/mcts/utils.py\", line 146, in expand\n",
      "    action, should_break = option.get_action(env.state())\n",
      "AttributeError: 'tuple' object has no attribute 'cur_x'\n"
     ]
    },
    {
     "ename": "AttributeError",
     "evalue": "'tuple' object has no attribute 'cur_x'",
     "output_type": "error",
     "traceback": [
      "\u001b[0;31m---------------------------------------------------------------------------\u001b[0m",
      "\u001b[0;31mAttributeError\u001b[0m                            Traceback (most recent call last)",
      "\u001b[0;31mAttributeError\u001b[0m: 'tuple' object has no attribute 'cur_x'"
     ]
    },
    {
     "name": "stderr",
     "output_type": "stream",
     "text": [
      "Exception ignored in: 'GridWorldOption.GridWorldOption.get_action'\n",
      "Traceback (most recent call last):\n",
      "  File \"/home/otavio/git/tcc/mcts-simulate/mcts/utils.py\", line 146, in expand\n",
      "    action, should_break = option.get_action(env.state())\n",
      "AttributeError: 'tuple' object has no attribute 'cur_x'\n"
     ]
    },
    {
     "ename": "AttributeError",
     "evalue": "'tuple' object has no attribute 'cur_x'",
     "output_type": "error",
     "traceback": [
      "\u001b[0;31m---------------------------------------------------------------------------\u001b[0m",
      "\u001b[0;31mAttributeError\u001b[0m                            Traceback (most recent call last)",
      "\u001b[0;31mAttributeError\u001b[0m: 'tuple' object has no attribute 'cur_x'"
     ]
    },
    {
     "name": "stderr",
     "output_type": "stream",
     "text": [
      "Exception ignored in: 'GridWorldOption.GridWorldOption.get_action'\n",
      "Traceback (most recent call last):\n",
      "  File \"/home/otavio/git/tcc/mcts-simulate/mcts/utils.py\", line 146, in expand\n",
      "    action, should_break = option.get_action(env.state())\n",
      "AttributeError: 'tuple' object has no attribute 'cur_x'\n"
     ]
    },
    {
     "ename": "AttributeError",
     "evalue": "'tuple' object has no attribute 'cur_x'",
     "output_type": "error",
     "traceback": [
      "\u001b[0;31m---------------------------------------------------------------------------\u001b[0m",
      "\u001b[0;31mAttributeError\u001b[0m                            Traceback (most recent call last)",
      "\u001b[0;31mAttributeError\u001b[0m: 'tuple' object has no attribute 'cur_x'"
     ]
    },
    {
     "name": "stderr",
     "output_type": "stream",
     "text": [
      "Exception ignored in: 'GridWorldOption.GridWorldOption.get_action'\n",
      "Traceback (most recent call last):\n",
      "  File \"/home/otavio/git/tcc/mcts-simulate/mcts/utils.py\", line 146, in expand\n",
      "    action, should_break = option.get_action(env.state())\n",
      "AttributeError: 'tuple' object has no attribute 'cur_x'\n"
     ]
    },
    {
     "ename": "AttributeError",
     "evalue": "'tuple' object has no attribute 'cur_x'",
     "output_type": "error",
     "traceback": [
      "\u001b[0;31m---------------------------------------------------------------------------\u001b[0m",
      "\u001b[0;31mAttributeError\u001b[0m                            Traceback (most recent call last)",
      "\u001b[0;31mAttributeError\u001b[0m: 'tuple' object has no attribute 'cur_x'"
     ]
    },
    {
     "name": "stderr",
     "output_type": "stream",
     "text": [
      "Exception ignored in: 'GridWorldOption.GridWorldOption.get_action'\n",
      "Traceback (most recent call last):\n",
      "  File \"/home/otavio/git/tcc/mcts-simulate/mcts/utils.py\", line 146, in expand\n",
      "    action, should_break = option.get_action(env.state())\n",
      "AttributeError: 'tuple' object has no attribute 'cur_x'\n"
     ]
    },
    {
     "ename": "AttributeError",
     "evalue": "'tuple' object has no attribute 'cur_x'",
     "output_type": "error",
     "traceback": [
      "\u001b[0;31m---------------------------------------------------------------------------\u001b[0m",
      "\u001b[0;31mAttributeError\u001b[0m                            Traceback (most recent call last)",
      "\u001b[0;31mAttributeError\u001b[0m: 'tuple' object has no attribute 'cur_x'"
     ]
    },
    {
     "name": "stderr",
     "output_type": "stream",
     "text": [
      "Exception ignored in: 'GridWorldOption.GridWorldOption.get_action'\n",
      "Traceback (most recent call last):\n",
      "  File \"/home/otavio/git/tcc/mcts-simulate/mcts/utils.py\", line 146, in expand\n",
      "    action, should_break = option.get_action(env.state())\n",
      "AttributeError: 'tuple' object has no attribute 'cur_x'\n"
     ]
    },
    {
     "ename": "AttributeError",
     "evalue": "'tuple' object has no attribute 'cur_x'",
     "output_type": "error",
     "traceback": [
      "\u001b[0;31m---------------------------------------------------------------------------\u001b[0m",
      "\u001b[0;31mAttributeError\u001b[0m                            Traceback (most recent call last)",
      "\u001b[0;31mAttributeError\u001b[0m: 'tuple' object has no attribute 'cur_x'"
     ]
    },
    {
     "name": "stderr",
     "output_type": "stream",
     "text": [
      "Exception ignored in: 'GridWorldOption.GridWorldOption.get_action'\n",
      "Traceback (most recent call last):\n",
      "  File \"/home/otavio/git/tcc/mcts-simulate/mcts/utils.py\", line 146, in expand\n",
      "    action, should_break = option.get_action(env.state())\n",
      "AttributeError: 'tuple' object has no attribute 'cur_x'\n"
     ]
    },
    {
     "ename": "AttributeError",
     "evalue": "'tuple' object has no attribute 'cur_x'",
     "output_type": "error",
     "traceback": [
      "\u001b[0;31m---------------------------------------------------------------------------\u001b[0m",
      "\u001b[0;31mAttributeError\u001b[0m                            Traceback (most recent call last)",
      "\u001b[0;31mAttributeError\u001b[0m: 'tuple' object has no attribute 'cur_x'"
     ]
    },
    {
     "name": "stderr",
     "output_type": "stream",
     "text": [
      "Exception ignored in: 'GridWorldOption.GridWorldOption.get_action'\n",
      "Traceback (most recent call last):\n",
      "  File \"/home/otavio/git/tcc/mcts-simulate/mcts/utils.py\", line 146, in expand\n",
      "    action, should_break = option.get_action(env.state())\n",
      "AttributeError: 'tuple' object has no attribute 'cur_x'\n"
     ]
    },
    {
     "ename": "AttributeError",
     "evalue": "'tuple' object has no attribute 'cur_x'",
     "output_type": "error",
     "traceback": [
      "\u001b[0;31m---------------------------------------------------------------------------\u001b[0m",
      "\u001b[0;31mAttributeError\u001b[0m                            Traceback (most recent call last)",
      "\u001b[0;31mAttributeError\u001b[0m: 'tuple' object has no attribute 'cur_x'"
     ]
    },
    {
     "name": "stderr",
     "output_type": "stream",
     "text": [
      "Exception ignored in: 'GridWorldOption.GridWorldOption.get_action'\n",
      "Traceback (most recent call last):\n",
      "  File \"/home/otavio/git/tcc/mcts-simulate/mcts/utils.py\", line 146, in expand\n",
      "    action, should_break = option.get_action(env.state())\n",
      "AttributeError: 'tuple' object has no attribute 'cur_x'\n"
     ]
    },
    {
     "ename": "AttributeError",
     "evalue": "'tuple' object has no attribute 'cur_x'",
     "output_type": "error",
     "traceback": [
      "\u001b[0;31m---------------------------------------------------------------------------\u001b[0m",
      "\u001b[0;31mAttributeError\u001b[0m                            Traceback (most recent call last)",
      "\u001b[0;31mAttributeError\u001b[0m: 'tuple' object has no attribute 'cur_x'"
     ]
    },
    {
     "name": "stderr",
     "output_type": "stream",
     "text": [
      "Exception ignored in: 'GridWorldOption.GridWorldOption.get_action'\n",
      "Traceback (most recent call last):\n",
      "  File \"/home/otavio/git/tcc/mcts-simulate/mcts/utils.py\", line 146, in expand\n",
      "    action, should_break = option.get_action(env.state())\n",
      "AttributeError: 'tuple' object has no attribute 'cur_x'\n"
     ]
    },
    {
     "ename": "AttributeError",
     "evalue": "'tuple' object has no attribute 'cur_x'",
     "output_type": "error",
     "traceback": [
      "\u001b[0;31m---------------------------------------------------------------------------\u001b[0m",
      "\u001b[0;31mAttributeError\u001b[0m                            Traceback (most recent call last)",
      "\u001b[0;31mAttributeError\u001b[0m: 'tuple' object has no attribute 'cur_x'"
     ]
    },
    {
     "name": "stderr",
     "output_type": "stream",
     "text": [
      "Exception ignored in: 'GridWorldOption.GridWorldOption.get_action'\n",
      "Traceback (most recent call last):\n",
      "  File \"/home/otavio/git/tcc/mcts-simulate/mcts/utils.py\", line 146, in expand\n",
      "    action, should_break = option.get_action(env.state())\n",
      "AttributeError: 'tuple' object has no attribute 'cur_x'\n"
     ]
    },
    {
     "ename": "AttributeError",
     "evalue": "'tuple' object has no attribute 'cur_x'",
     "output_type": "error",
     "traceback": [
      "\u001b[0;31m---------------------------------------------------------------------------\u001b[0m",
      "\u001b[0;31mAttributeError\u001b[0m                            Traceback (most recent call last)",
      "\u001b[0;31mAttributeError\u001b[0m: 'tuple' object has no attribute 'cur_x'"
     ]
    },
    {
     "name": "stderr",
     "output_type": "stream",
     "text": [
      "Exception ignored in: 'GridWorldOption.GridWorldOption.get_action'\n",
      "Traceback (most recent call last):\n",
      "  File \"/home/otavio/git/tcc/mcts-simulate/mcts/utils.py\", line 146, in expand\n",
      "    action, should_break = option.get_action(env.state())\n",
      "AttributeError: 'tuple' object has no attribute 'cur_x'\n"
     ]
    },
    {
     "ename": "AttributeError",
     "evalue": "'tuple' object has no attribute 'cur_x'",
     "output_type": "error",
     "traceback": [
      "\u001b[0;31m---------------------------------------------------------------------------\u001b[0m",
      "\u001b[0;31mAttributeError\u001b[0m                            Traceback (most recent call last)",
      "\u001b[0;31mAttributeError\u001b[0m: 'tuple' object has no attribute 'cur_x'"
     ]
    },
    {
     "name": "stderr",
     "output_type": "stream",
     "text": [
      "Exception ignored in: 'GridWorldOption.GridWorldOption.get_action'\n",
      "Traceback (most recent call last):\n",
      "  File \"/home/otavio/git/tcc/mcts-simulate/mcts/utils.py\", line 146, in expand\n",
      "    action, should_break = option.get_action(env.state())\n",
      "AttributeError: 'tuple' object has no attribute 'cur_x'\n"
     ]
    },
    {
     "ename": "AttributeError",
     "evalue": "'tuple' object has no attribute 'cur_x'",
     "output_type": "error",
     "traceback": [
      "\u001b[0;31m---------------------------------------------------------------------------\u001b[0m",
      "\u001b[0;31mAttributeError\u001b[0m                            Traceback (most recent call last)",
      "\u001b[0;31mAttributeError\u001b[0m: 'tuple' object has no attribute 'cur_x'"
     ]
    },
    {
     "name": "stderr",
     "output_type": "stream",
     "text": [
      "Exception ignored in: 'GridWorldOption.GridWorldOption.get_action'\n",
      "Traceback (most recent call last):\n",
      "  File \"/home/otavio/git/tcc/mcts-simulate/mcts/utils.py\", line 146, in expand\n",
      "    action, should_break = option.get_action(env.state())\n",
      "AttributeError: 'tuple' object has no attribute 'cur_x'\n"
     ]
    },
    {
     "ename": "AttributeError",
     "evalue": "'tuple' object has no attribute 'cur_x'",
     "output_type": "error",
     "traceback": [
      "\u001b[0;31m---------------------------------------------------------------------------\u001b[0m",
      "\u001b[0;31mAttributeError\u001b[0m                            Traceback (most recent call last)",
      "\u001b[0;31mAttributeError\u001b[0m: 'tuple' object has no attribute 'cur_x'"
     ]
    },
    {
     "name": "stderr",
     "output_type": "stream",
     "text": [
      "Exception ignored in: 'GridWorldOption.GridWorldOption.get_action'\n",
      "Traceback (most recent call last):\n",
      "  File \"/home/otavio/git/tcc/mcts-simulate/mcts/utils.py\", line 146, in expand\n",
      "    action, should_break = option.get_action(env.state())\n",
      "AttributeError: 'tuple' object has no attribute 'cur_x'\n"
     ]
    },
    {
     "ename": "AttributeError",
     "evalue": "'tuple' object has no attribute 'cur_x'",
     "output_type": "error",
     "traceback": [
      "\u001b[0;31m---------------------------------------------------------------------------\u001b[0m",
      "\u001b[0;31mAttributeError\u001b[0m                            Traceback (most recent call last)",
      "\u001b[0;31mAttributeError\u001b[0m: 'tuple' object has no attribute 'cur_x'"
     ]
    },
    {
     "name": "stderr",
     "output_type": "stream",
     "text": [
      "Exception ignored in: 'GridWorldOption.GridWorldOption.get_action'\n",
      "Traceback (most recent call last):\n",
      "  File \"/home/otavio/git/tcc/mcts-simulate/mcts/utils.py\", line 146, in expand\n",
      "    action, should_break = option.get_action(env.state())\n",
      "AttributeError: 'tuple' object has no attribute 'cur_x'\n"
     ]
    },
    {
     "ename": "AttributeError",
     "evalue": "'tuple' object has no attribute 'cur_x'",
     "output_type": "error",
     "traceback": [
      "\u001b[0;31m---------------------------------------------------------------------------\u001b[0m",
      "\u001b[0;31mAttributeError\u001b[0m                            Traceback (most recent call last)",
      "\u001b[0;31mAttributeError\u001b[0m: 'tuple' object has no attribute 'cur_x'"
     ]
    },
    {
     "name": "stderr",
     "output_type": "stream",
     "text": [
      "Exception ignored in: 'GridWorldOption.GridWorldOption.get_action'\n",
      "Traceback (most recent call last):\n",
      "  File \"/home/otavio/git/tcc/mcts-simulate/mcts/utils.py\", line 146, in expand\n",
      "    action, should_break = option.get_action(env.state())\n",
      "AttributeError: 'tuple' object has no attribute 'cur_x'\n"
     ]
    },
    {
     "ename": "AttributeError",
     "evalue": "'tuple' object has no attribute 'cur_x'",
     "output_type": "error",
     "traceback": [
      "\u001b[0;31m---------------------------------------------------------------------------\u001b[0m",
      "\u001b[0;31mAttributeError\u001b[0m                            Traceback (most recent call last)",
      "\u001b[0;31mAttributeError\u001b[0m: 'tuple' object has no attribute 'cur_x'"
     ]
    },
    {
     "name": "stderr",
     "output_type": "stream",
     "text": [
      "Exception ignored in: 'GridWorldOption.GridWorldOption.get_action'\n",
      "Traceback (most recent call last):\n",
      "  File \"/home/otavio/git/tcc/mcts-simulate/mcts/utils.py\", line 146, in expand\n",
      "    action, should_break = option.get_action(env.state())\n",
      "AttributeError: 'tuple' object has no attribute 'cur_x'\n"
     ]
    },
    {
     "ename": "AttributeError",
     "evalue": "'tuple' object has no attribute 'cur_x'",
     "output_type": "error",
     "traceback": [
      "\u001b[0;31m---------------------------------------------------------------------------\u001b[0m",
      "\u001b[0;31mAttributeError\u001b[0m                            Traceback (most recent call last)",
      "\u001b[0;31mAttributeError\u001b[0m: 'tuple' object has no attribute 'cur_x'"
     ]
    },
    {
     "name": "stderr",
     "output_type": "stream",
     "text": [
      "Exception ignored in: 'GridWorldOption.GridWorldOption.get_action'\n",
      "Traceback (most recent call last):\n",
      "  File \"/home/otavio/git/tcc/mcts-simulate/mcts/utils.py\", line 146, in expand\n",
      "    action, should_break = option.get_action(env.state())\n",
      "AttributeError: 'tuple' object has no attribute 'cur_x'\n"
     ]
    },
    {
     "ename": "AttributeError",
     "evalue": "'tuple' object has no attribute 'cur_x'",
     "output_type": "error",
     "traceback": [
      "\u001b[0;31m---------------------------------------------------------------------------\u001b[0m",
      "\u001b[0;31mAttributeError\u001b[0m                            Traceback (most recent call last)",
      "\u001b[0;31mAttributeError\u001b[0m: 'tuple' object has no attribute 'cur_x'"
     ]
    },
    {
     "name": "stderr",
     "output_type": "stream",
     "text": [
      "Exception ignored in: 'GridWorldOption.GridWorldOption.get_action'\n",
      "Traceback (most recent call last):\n",
      "  File \"/home/otavio/git/tcc/mcts-simulate/mcts/utils.py\", line 146, in expand\n",
      "    action, should_break = option.get_action(env.state())\n",
      "AttributeError: 'tuple' object has no attribute 'cur_x'\n"
     ]
    },
    {
     "ename": "AttributeError",
     "evalue": "'tuple' object has no attribute 'cur_x'",
     "output_type": "error",
     "traceback": [
      "\u001b[0;31m---------------------------------------------------------------------------\u001b[0m",
      "\u001b[0;31mAttributeError\u001b[0m                            Traceback (most recent call last)",
      "\u001b[0;31mAttributeError\u001b[0m: 'tuple' object has no attribute 'cur_x'"
     ]
    },
    {
     "name": "stderr",
     "output_type": "stream",
     "text": [
      "Exception ignored in: 'GridWorldOption.GridWorldOption.get_action'\n",
      "Traceback (most recent call last):\n",
      "  File \"/home/otavio/git/tcc/mcts-simulate/mcts/utils.py\", line 146, in expand\n",
      "    action, should_break = option.get_action(env.state())\n",
      "AttributeError: 'tuple' object has no attribute 'cur_x'\n"
     ]
    },
    {
     "ename": "AttributeError",
     "evalue": "'tuple' object has no attribute 'cur_x'",
     "output_type": "error",
     "traceback": [
      "\u001b[0;31m---------------------------------------------------------------------------\u001b[0m",
      "\u001b[0;31mAttributeError\u001b[0m                            Traceback (most recent call last)",
      "\u001b[0;31mAttributeError\u001b[0m: 'tuple' object has no attribute 'cur_x'"
     ]
    },
    {
     "name": "stderr",
     "output_type": "stream",
     "text": [
      "Exception ignored in: 'GridWorldOption.GridWorldOption.get_action'\n",
      "Traceback (most recent call last):\n",
      "  File \"/home/otavio/git/tcc/mcts-simulate/mcts/utils.py\", line 146, in expand\n",
      "    action, should_break = option.get_action(env.state())\n",
      "AttributeError: 'tuple' object has no attribute 'cur_x'\n"
     ]
    },
    {
     "ename": "AttributeError",
     "evalue": "'tuple' object has no attribute 'cur_x'",
     "output_type": "error",
     "traceback": [
      "\u001b[0;31m---------------------------------------------------------------------------\u001b[0m",
      "\u001b[0;31mAttributeError\u001b[0m                            Traceback (most recent call last)",
      "\u001b[0;31mAttributeError\u001b[0m: 'tuple' object has no attribute 'cur_x'"
     ]
    },
    {
     "name": "stderr",
     "output_type": "stream",
     "text": [
      "Exception ignored in: 'GridWorldOption.GridWorldOption.get_action'\n",
      "Traceback (most recent call last):\n",
      "  File \"/home/otavio/git/tcc/mcts-simulate/mcts/utils.py\", line 146, in expand\n",
      "    action, should_break = option.get_action(env.state())\n",
      "AttributeError: 'tuple' object has no attribute 'cur_x'\n"
     ]
    },
    {
     "ename": "AttributeError",
     "evalue": "'tuple' object has no attribute 'cur_x'",
     "output_type": "error",
     "traceback": [
      "\u001b[0;31m---------------------------------------------------------------------------\u001b[0m",
      "\u001b[0;31mAttributeError\u001b[0m                            Traceback (most recent call last)",
      "\u001b[0;31mAttributeError\u001b[0m: 'tuple' object has no attribute 'cur_x'"
     ]
    },
    {
     "name": "stderr",
     "output_type": "stream",
     "text": [
      "Exception ignored in: 'GridWorldOption.GridWorldOption.get_action'\n",
      "Traceback (most recent call last):\n",
      "  File \"/home/otavio/git/tcc/mcts-simulate/mcts/utils.py\", line 146, in expand\n",
      "    action, should_break = option.get_action(env.state())\n",
      "AttributeError: 'tuple' object has no attribute 'cur_x'\n"
     ]
    },
    {
     "ename": "AttributeError",
     "evalue": "'tuple' object has no attribute 'cur_x'",
     "output_type": "error",
     "traceback": [
      "\u001b[0;31m---------------------------------------------------------------------------\u001b[0m",
      "\u001b[0;31mAttributeError\u001b[0m                            Traceback (most recent call last)",
      "\u001b[0;31mAttributeError\u001b[0m: 'tuple' object has no attribute 'cur_x'"
     ]
    },
    {
     "name": "stderr",
     "output_type": "stream",
     "text": [
      "Exception ignored in: 'GridWorldOption.GridWorldOption.get_action'\n",
      "Traceback (most recent call last):\n",
      "  File \"/home/otavio/git/tcc/mcts-simulate/mcts/utils.py\", line 146, in expand\n",
      "    action, should_break = option.get_action(env.state())\n",
      "AttributeError: 'tuple' object has no attribute 'cur_x'\n"
     ]
    },
    {
     "ename": "AttributeError",
     "evalue": "'tuple' object has no attribute 'cur_x'",
     "output_type": "error",
     "traceback": [
      "\u001b[0;31m---------------------------------------------------------------------------\u001b[0m",
      "\u001b[0;31mAttributeError\u001b[0m                            Traceback (most recent call last)",
      "\u001b[0;31mAttributeError\u001b[0m: 'tuple' object has no attribute 'cur_x'"
     ]
    },
    {
     "name": "stderr",
     "output_type": "stream",
     "text": [
      "Exception ignored in: 'GridWorldOption.GridWorldOption.get_action'\n",
      "Traceback (most recent call last):\n",
      "  File \"/home/otavio/git/tcc/mcts-simulate/mcts/utils.py\", line 146, in expand\n",
      "    action, should_break = option.get_action(env.state())\n",
      "AttributeError: 'tuple' object has no attribute 'cur_x'\n"
     ]
    },
    {
     "ename": "AttributeError",
     "evalue": "'tuple' object has no attribute 'cur_x'",
     "output_type": "error",
     "traceback": [
      "\u001b[0;31m---------------------------------------------------------------------------\u001b[0m",
      "\u001b[0;31mAttributeError\u001b[0m                            Traceback (most recent call last)",
      "\u001b[0;31mAttributeError\u001b[0m: 'tuple' object has no attribute 'cur_x'"
     ]
    },
    {
     "name": "stderr",
     "output_type": "stream",
     "text": [
      "Exception ignored in: 'GridWorldOption.GridWorldOption.get_action'\n",
      "Traceback (most recent call last):\n",
      "  File \"/home/otavio/git/tcc/mcts-simulate/mcts/utils.py\", line 146, in expand\n",
      "    action, should_break = option.get_action(env.state())\n",
      "AttributeError: 'tuple' object has no attribute 'cur_x'\n"
     ]
    },
    {
     "ename": "AttributeError",
     "evalue": "'tuple' object has no attribute 'cur_x'",
     "output_type": "error",
     "traceback": [
      "\u001b[0;31m---------------------------------------------------------------------------\u001b[0m",
      "\u001b[0;31mAttributeError\u001b[0m                            Traceback (most recent call last)",
      "\u001b[0;31mAttributeError\u001b[0m: 'tuple' object has no attribute 'cur_x'"
     ]
    },
    {
     "name": "stderr",
     "output_type": "stream",
     "text": [
      "Exception ignored in: 'GridWorldOption.GridWorldOption.get_action'\n",
      "Traceback (most recent call last):\n",
      "  File \"/home/otavio/git/tcc/mcts-simulate/mcts/utils.py\", line 146, in expand\n",
      "    action, should_break = option.get_action(env.state())\n",
      "AttributeError: 'tuple' object has no attribute 'cur_x'\n"
     ]
    },
    {
     "ename": "AttributeError",
     "evalue": "'tuple' object has no attribute 'cur_x'",
     "output_type": "error",
     "traceback": [
      "\u001b[0;31m---------------------------------------------------------------------------\u001b[0m",
      "\u001b[0;31mAttributeError\u001b[0m                            Traceback (most recent call last)",
      "\u001b[0;31mAttributeError\u001b[0m: 'tuple' object has no attribute 'cur_x'"
     ]
    },
    {
     "name": "stderr",
     "output_type": "stream",
     "text": [
      "Exception ignored in: 'GridWorldOption.GridWorldOption.get_action'\n",
      "Traceback (most recent call last):\n",
      "  File \"/home/otavio/git/tcc/mcts-simulate/mcts/utils.py\", line 146, in expand\n",
      "    action, should_break = option.get_action(env.state())\n",
      "AttributeError: 'tuple' object has no attribute 'cur_x'\n"
     ]
    },
    {
     "ename": "AttributeError",
     "evalue": "'tuple' object has no attribute 'cur_x'",
     "output_type": "error",
     "traceback": [
      "\u001b[0;31m---------------------------------------------------------------------------\u001b[0m",
      "\u001b[0;31mAttributeError\u001b[0m                            Traceback (most recent call last)",
      "\u001b[0;31mAttributeError\u001b[0m: 'tuple' object has no attribute 'cur_x'"
     ]
    },
    {
     "name": "stderr",
     "output_type": "stream",
     "text": [
      "Exception ignored in: 'GridWorldOption.GridWorldOption.get_action'\n",
      "Traceback (most recent call last):\n",
      "  File \"/home/otavio/git/tcc/mcts-simulate/mcts/utils.py\", line 146, in expand\n",
      "    action, should_break = option.get_action(env.state())\n",
      "AttributeError: 'tuple' object has no attribute 'cur_x'\n"
     ]
    },
    {
     "ename": "AttributeError",
     "evalue": "'tuple' object has no attribute 'cur_x'",
     "output_type": "error",
     "traceback": [
      "\u001b[0;31m---------------------------------------------------------------------------\u001b[0m",
      "\u001b[0;31mAttributeError\u001b[0m                            Traceback (most recent call last)",
      "\u001b[0;31mAttributeError\u001b[0m: 'tuple' object has no attribute 'cur_x'"
     ]
    },
    {
     "name": "stderr",
     "output_type": "stream",
     "text": [
      "Exception ignored in: 'GridWorldOption.GridWorldOption.get_action'\n",
      "Traceback (most recent call last):\n",
      "  File \"/home/otavio/git/tcc/mcts-simulate/mcts/utils.py\", line 146, in expand\n",
      "    action, should_break = option.get_action(env.state())\n",
      "AttributeError: 'tuple' object has no attribute 'cur_x'\n"
     ]
    },
    {
     "ename": "AttributeError",
     "evalue": "'tuple' object has no attribute 'cur_x'",
     "output_type": "error",
     "traceback": [
      "\u001b[0;31m---------------------------------------------------------------------------\u001b[0m",
      "\u001b[0;31mAttributeError\u001b[0m                            Traceback (most recent call last)",
      "\u001b[0;31mAttributeError\u001b[0m: 'tuple' object has no attribute 'cur_x'"
     ]
    },
    {
     "name": "stderr",
     "output_type": "stream",
     "text": [
      "Exception ignored in: 'GridWorldOption.GridWorldOption.get_action'\n",
      "Traceback (most recent call last):\n",
      "  File \"/home/otavio/git/tcc/mcts-simulate/mcts/utils.py\", line 146, in expand\n",
      "    action, should_break = option.get_action(env.state())\n",
      "AttributeError: 'tuple' object has no attribute 'cur_x'\n"
     ]
    },
    {
     "ename": "AttributeError",
     "evalue": "'tuple' object has no attribute 'cur_x'",
     "output_type": "error",
     "traceback": [
      "\u001b[0;31m---------------------------------------------------------------------------\u001b[0m",
      "\u001b[0;31mAttributeError\u001b[0m                            Traceback (most recent call last)",
      "\u001b[0;31mAttributeError\u001b[0m: 'tuple' object has no attribute 'cur_x'"
     ]
    },
    {
     "name": "stderr",
     "output_type": "stream",
     "text": [
      "Exception ignored in: 'GridWorldOption.GridWorldOption.get_action'\n",
      "Traceback (most recent call last):\n",
      "  File \"/home/otavio/git/tcc/mcts-simulate/mcts/utils.py\", line 146, in expand\n",
      "    action, should_break = option.get_action(env.state())\n",
      "AttributeError: 'tuple' object has no attribute 'cur_x'\n"
     ]
    },
    {
     "ename": "AttributeError",
     "evalue": "'tuple' object has no attribute 'cur_x'",
     "output_type": "error",
     "traceback": [
      "\u001b[0;31m---------------------------------------------------------------------------\u001b[0m",
      "\u001b[0;31mAttributeError\u001b[0m                            Traceback (most recent call last)",
      "\u001b[0;31mAttributeError\u001b[0m: 'tuple' object has no attribute 'cur_x'"
     ]
    },
    {
     "name": "stderr",
     "output_type": "stream",
     "text": [
      "Exception ignored in: 'GridWorldOption.GridWorldOption.get_action'\n",
      "Traceback (most recent call last):\n",
      "  File \"/home/otavio/git/tcc/mcts-simulate/mcts/utils.py\", line 146, in expand\n",
      "    action, should_break = option.get_action(env.state())\n",
      "AttributeError: 'tuple' object has no attribute 'cur_x'\n"
     ]
    },
    {
     "ename": "AttributeError",
     "evalue": "'tuple' object has no attribute 'cur_x'",
     "output_type": "error",
     "traceback": [
      "\u001b[0;31m---------------------------------------------------------------------------\u001b[0m",
      "\u001b[0;31mAttributeError\u001b[0m                            Traceback (most recent call last)",
      "\u001b[0;31mAttributeError\u001b[0m: 'tuple' object has no attribute 'cur_x'"
     ]
    },
    {
     "name": "stderr",
     "output_type": "stream",
     "text": [
      "Exception ignored in: 'GridWorldOption.GridWorldOption.get_action'\n",
      "Traceback (most recent call last):\n",
      "  File \"/home/otavio/git/tcc/mcts-simulate/mcts/utils.py\", line 146, in expand\n",
      "    action, should_break = option.get_action(env.state())\n",
      "AttributeError: 'tuple' object has no attribute 'cur_x'\n"
     ]
    },
    {
     "ename": "AttributeError",
     "evalue": "'tuple' object has no attribute 'cur_x'",
     "output_type": "error",
     "traceback": [
      "\u001b[0;31m---------------------------------------------------------------------------\u001b[0m",
      "\u001b[0;31mAttributeError\u001b[0m                            Traceback (most recent call last)",
      "\u001b[0;31mAttributeError\u001b[0m: 'tuple' object has no attribute 'cur_x'"
     ]
    },
    {
     "name": "stderr",
     "output_type": "stream",
     "text": [
      "Exception ignored in: 'GridWorldOption.GridWorldOption.get_action'\n",
      "Traceback (most recent call last):\n",
      "  File \"/home/otavio/git/tcc/mcts-simulate/mcts/utils.py\", line 146, in expand\n",
      "    action, should_break = option.get_action(env.state())\n",
      "AttributeError: 'tuple' object has no attribute 'cur_x'\n"
     ]
    },
    {
     "ename": "AttributeError",
     "evalue": "'tuple' object has no attribute 'cur_x'",
     "output_type": "error",
     "traceback": [
      "\u001b[0;31m---------------------------------------------------------------------------\u001b[0m",
      "\u001b[0;31mAttributeError\u001b[0m                            Traceback (most recent call last)",
      "\u001b[0;31mAttributeError\u001b[0m: 'tuple' object has no attribute 'cur_x'"
     ]
    },
    {
     "name": "stderr",
     "output_type": "stream",
     "text": [
      "Exception ignored in: 'GridWorldOption.GridWorldOption.get_action'\n",
      "Traceback (most recent call last):\n",
      "  File \"/home/otavio/git/tcc/mcts-simulate/mcts/utils.py\", line 146, in expand\n",
      "    action, should_break = option.get_action(env.state())\n",
      "AttributeError: 'tuple' object has no attribute 'cur_x'\n"
     ]
    },
    {
     "ename": "AttributeError",
     "evalue": "'tuple' object has no attribute 'cur_x'",
     "output_type": "error",
     "traceback": [
      "\u001b[0;31m---------------------------------------------------------------------------\u001b[0m",
      "\u001b[0;31mAttributeError\u001b[0m                            Traceback (most recent call last)",
      "\u001b[0;31mAttributeError\u001b[0m: 'tuple' object has no attribute 'cur_x'"
     ]
    },
    {
     "name": "stderr",
     "output_type": "stream",
     "text": [
      "Exception ignored in: 'GridWorldOption.GridWorldOption.get_action'\n",
      "Traceback (most recent call last):\n",
      "  File \"/home/otavio/git/tcc/mcts-simulate/mcts/utils.py\", line 146, in expand\n",
      "    action, should_break = option.get_action(env.state())\n",
      "AttributeError: 'tuple' object has no attribute 'cur_x'\n"
     ]
    },
    {
     "ename": "AttributeError",
     "evalue": "'tuple' object has no attribute 'cur_x'",
     "output_type": "error",
     "traceback": [
      "\u001b[0;31m---------------------------------------------------------------------------\u001b[0m",
      "\u001b[0;31mAttributeError\u001b[0m                            Traceback (most recent call last)",
      "\u001b[0;31mAttributeError\u001b[0m: 'tuple' object has no attribute 'cur_x'"
     ]
    },
    {
     "name": "stderr",
     "output_type": "stream",
     "text": [
      "Exception ignored in: 'GridWorldOption.GridWorldOption.get_action'\n",
      "Traceback (most recent call last):\n",
      "  File \"/home/otavio/git/tcc/mcts-simulate/mcts/utils.py\", line 146, in expand\n",
      "    action, should_break = option.get_action(env.state())\n",
      "AttributeError: 'tuple' object has no attribute 'cur_x'\n"
     ]
    },
    {
     "ename": "AttributeError",
     "evalue": "'tuple' object has no attribute 'cur_x'",
     "output_type": "error",
     "traceback": [
      "\u001b[0;31m---------------------------------------------------------------------------\u001b[0m",
      "\u001b[0;31mAttributeError\u001b[0m                            Traceback (most recent call last)",
      "\u001b[0;31mAttributeError\u001b[0m: 'tuple' object has no attribute 'cur_x'"
     ]
    },
    {
     "name": "stderr",
     "output_type": "stream",
     "text": [
      "Exception ignored in: 'GridWorldOption.GridWorldOption.get_action'\n",
      "Traceback (most recent call last):\n",
      "  File \"/home/otavio/git/tcc/mcts-simulate/mcts/utils.py\", line 146, in expand\n",
      "    action, should_break = option.get_action(env.state())\n",
      "AttributeError: 'tuple' object has no attribute 'cur_x'\n"
     ]
    },
    {
     "ename": "AttributeError",
     "evalue": "'tuple' object has no attribute 'cur_x'",
     "output_type": "error",
     "traceback": [
      "\u001b[0;31m---------------------------------------------------------------------------\u001b[0m",
      "\u001b[0;31mAttributeError\u001b[0m                            Traceback (most recent call last)",
      "\u001b[0;31mAttributeError\u001b[0m: 'tuple' object has no attribute 'cur_x'"
     ]
    },
    {
     "name": "stderr",
     "output_type": "stream",
     "text": [
      "Exception ignored in: 'GridWorldOption.GridWorldOption.get_action'\n",
      "Traceback (most recent call last):\n",
      "  File \"/home/otavio/git/tcc/mcts-simulate/mcts/utils.py\", line 146, in expand\n",
      "    action, should_break = option.get_action(env.state())\n",
      "AttributeError: 'tuple' object has no attribute 'cur_x'\n"
     ]
    },
    {
     "ename": "AttributeError",
     "evalue": "'tuple' object has no attribute 'cur_x'",
     "output_type": "error",
     "traceback": [
      "\u001b[0;31m---------------------------------------------------------------------------\u001b[0m",
      "\u001b[0;31mAttributeError\u001b[0m                            Traceback (most recent call last)",
      "\u001b[0;31mAttributeError\u001b[0m: 'tuple' object has no attribute 'cur_x'"
     ]
    },
    {
     "name": "stderr",
     "output_type": "stream",
     "text": [
      "Exception ignored in: 'GridWorldOption.GridWorldOption.get_action'\n",
      "Traceback (most recent call last):\n",
      "  File \"/home/otavio/git/tcc/mcts-simulate/mcts/utils.py\", line 146, in expand\n",
      "    action, should_break = option.get_action(env.state())\n",
      "AttributeError: 'tuple' object has no attribute 'cur_x'\n"
     ]
    },
    {
     "ename": "AttributeError",
     "evalue": "'tuple' object has no attribute 'cur_x'",
     "output_type": "error",
     "traceback": [
      "\u001b[0;31m---------------------------------------------------------------------------\u001b[0m",
      "\u001b[0;31mAttributeError\u001b[0m                            Traceback (most recent call last)",
      "\u001b[0;31mAttributeError\u001b[0m: 'tuple' object has no attribute 'cur_x'"
     ]
    },
    {
     "name": "stderr",
     "output_type": "stream",
     "text": [
      "Exception ignored in: 'GridWorldOption.GridWorldOption.get_action'\n",
      "Traceback (most recent call last):\n",
      "  File \"/home/otavio/git/tcc/mcts-simulate/mcts/utils.py\", line 146, in expand\n",
      "    action, should_break = option.get_action(env.state())\n",
      "AttributeError: 'tuple' object has no attribute 'cur_x'\n"
     ]
    },
    {
     "ename": "AttributeError",
     "evalue": "'tuple' object has no attribute 'cur_x'",
     "output_type": "error",
     "traceback": [
      "\u001b[0;31m---------------------------------------------------------------------------\u001b[0m",
      "\u001b[0;31mAttributeError\u001b[0m                            Traceback (most recent call last)",
      "\u001b[0;31mAttributeError\u001b[0m: 'tuple' object has no attribute 'cur_x'"
     ]
    },
    {
     "name": "stderr",
     "output_type": "stream",
     "text": [
      "Exception ignored in: 'GridWorldOption.GridWorldOption.get_action'\n",
      "Traceback (most recent call last):\n",
      "  File \"/home/otavio/git/tcc/mcts-simulate/mcts/utils.py\", line 146, in expand\n",
      "    action, should_break = option.get_action(env.state())\n",
      "AttributeError: 'tuple' object has no attribute 'cur_x'\n"
     ]
    },
    {
     "ename": "AttributeError",
     "evalue": "'tuple' object has no attribute 'cur_x'",
     "output_type": "error",
     "traceback": [
      "\u001b[0;31m---------------------------------------------------------------------------\u001b[0m",
      "\u001b[0;31mAttributeError\u001b[0m                            Traceback (most recent call last)",
      "\u001b[0;31mAttributeError\u001b[0m: 'tuple' object has no attribute 'cur_x'"
     ]
    },
    {
     "name": "stderr",
     "output_type": "stream",
     "text": [
      "Exception ignored in: 'GridWorldOption.GridWorldOption.get_action'\n",
      "Traceback (most recent call last):\n",
      "  File \"/home/otavio/git/tcc/mcts-simulate/mcts/utils.py\", line 146, in expand\n",
      "    action, should_break = option.get_action(env.state())\n",
      "AttributeError: 'tuple' object has no attribute 'cur_x'\n"
     ]
    },
    {
     "ename": "AttributeError",
     "evalue": "'tuple' object has no attribute 'cur_x'",
     "output_type": "error",
     "traceback": [
      "\u001b[0;31m---------------------------------------------------------------------------\u001b[0m",
      "\u001b[0;31mAttributeError\u001b[0m                            Traceback (most recent call last)",
      "\u001b[0;31mAttributeError\u001b[0m: 'tuple' object has no attribute 'cur_x'"
     ]
    },
    {
     "name": "stderr",
     "output_type": "stream",
     "text": [
      "Exception ignored in: 'GridWorldOption.GridWorldOption.get_action'\n",
      "Traceback (most recent call last):\n",
      "  File \"/home/otavio/git/tcc/mcts-simulate/mcts/utils.py\", line 146, in expand\n",
      "    action, should_break = option.get_action(env.state())\n",
      "AttributeError: 'tuple' object has no attribute 'cur_x'\n"
     ]
    },
    {
     "ename": "AttributeError",
     "evalue": "'tuple' object has no attribute 'cur_x'",
     "output_type": "error",
     "traceback": [
      "\u001b[0;31m---------------------------------------------------------------------------\u001b[0m",
      "\u001b[0;31mAttributeError\u001b[0m                            Traceback (most recent call last)",
      "\u001b[0;31mAttributeError\u001b[0m: 'tuple' object has no attribute 'cur_x'"
     ]
    },
    {
     "name": "stderr",
     "output_type": "stream",
     "text": [
      "Exception ignored in: 'GridWorldOption.GridWorldOption.get_action'\n",
      "Traceback (most recent call last):\n",
      "  File \"/home/otavio/git/tcc/mcts-simulate/mcts/utils.py\", line 146, in expand\n",
      "    action, should_break = option.get_action(env.state())\n",
      "AttributeError: 'tuple' object has no attribute 'cur_x'\n"
     ]
    },
    {
     "ename": "AttributeError",
     "evalue": "'tuple' object has no attribute 'cur_x'",
     "output_type": "error",
     "traceback": [
      "\u001b[0;31m---------------------------------------------------------------------------\u001b[0m",
      "\u001b[0;31mAttributeError\u001b[0m                            Traceback (most recent call last)",
      "\u001b[0;31mAttributeError\u001b[0m: 'tuple' object has no attribute 'cur_x'"
     ]
    },
    {
     "name": "stderr",
     "output_type": "stream",
     "text": [
      "Exception ignored in: 'GridWorldOption.GridWorldOption.get_action'\n",
      "Traceback (most recent call last):\n",
      "  File \"/home/otavio/git/tcc/mcts-simulate/mcts/utils.py\", line 146, in expand\n",
      "    action, should_break = option.get_action(env.state())\n",
      "AttributeError: 'tuple' object has no attribute 'cur_x'\n"
     ]
    },
    {
     "ename": "AttributeError",
     "evalue": "'tuple' object has no attribute 'cur_x'",
     "output_type": "error",
     "traceback": [
      "\u001b[0;31m---------------------------------------------------------------------------\u001b[0m",
      "\u001b[0;31mAttributeError\u001b[0m                            Traceback (most recent call last)",
      "\u001b[0;31mAttributeError\u001b[0m: 'tuple' object has no attribute 'cur_x'"
     ]
    },
    {
     "name": "stderr",
     "output_type": "stream",
     "text": [
      "Exception ignored in: 'GridWorldOption.GridWorldOption.get_action'\n",
      "Traceback (most recent call last):\n",
      "  File \"/home/otavio/git/tcc/mcts-simulate/mcts/utils.py\", line 146, in expand\n",
      "    action, should_break = option.get_action(env.state())\n",
      "AttributeError: 'tuple' object has no attribute 'cur_x'\n"
     ]
    },
    {
     "ename": "AttributeError",
     "evalue": "'tuple' object has no attribute 'cur_x'",
     "output_type": "error",
     "traceback": [
      "\u001b[0;31m---------------------------------------------------------------------------\u001b[0m",
      "\u001b[0;31mAttributeError\u001b[0m                            Traceback (most recent call last)",
      "\u001b[0;31mAttributeError\u001b[0m: 'tuple' object has no attribute 'cur_x'"
     ]
    },
    {
     "name": "stderr",
     "output_type": "stream",
     "text": [
      "Exception ignored in: 'GridWorldOption.GridWorldOption.get_action'\n",
      "Traceback (most recent call last):\n",
      "  File \"/home/otavio/git/tcc/mcts-simulate/mcts/utils.py\", line 146, in expand\n",
      "    action, should_break = option.get_action(env.state())\n",
      "AttributeError: 'tuple' object has no attribute 'cur_x'\n"
     ]
    },
    {
     "ename": "AttributeError",
     "evalue": "'tuple' object has no attribute 'cur_x'",
     "output_type": "error",
     "traceback": [
      "\u001b[0;31m---------------------------------------------------------------------------\u001b[0m",
      "\u001b[0;31mAttributeError\u001b[0m                            Traceback (most recent call last)",
      "\u001b[0;31mAttributeError\u001b[0m: 'tuple' object has no attribute 'cur_x'"
     ]
    },
    {
     "name": "stderr",
     "output_type": "stream",
     "text": [
      "Exception ignored in: 'GridWorldOption.GridWorldOption.get_action'\n",
      "Traceback (most recent call last):\n",
      "  File \"/home/otavio/git/tcc/mcts-simulate/mcts/utils.py\", line 146, in expand\n",
      "    action, should_break = option.get_action(env.state())\n",
      "AttributeError: 'tuple' object has no attribute 'cur_x'\n"
     ]
    },
    {
     "ename": "AttributeError",
     "evalue": "'tuple' object has no attribute 'cur_x'",
     "output_type": "error",
     "traceback": [
      "\u001b[0;31m---------------------------------------------------------------------------\u001b[0m",
      "\u001b[0;31mAttributeError\u001b[0m                            Traceback (most recent call last)",
      "\u001b[0;31mAttributeError\u001b[0m: 'tuple' object has no attribute 'cur_x'"
     ]
    },
    {
     "name": "stderr",
     "output_type": "stream",
     "text": [
      "Exception ignored in: 'GridWorldOption.GridWorldOption.get_action'\n",
      "Traceback (most recent call last):\n",
      "  File \"/home/otavio/git/tcc/mcts-simulate/mcts/utils.py\", line 146, in expand\n",
      "    action, should_break = option.get_action(env.state())\n",
      "AttributeError: 'tuple' object has no attribute 'cur_x'\n"
     ]
    },
    {
     "ename": "AttributeError",
     "evalue": "'tuple' object has no attribute 'cur_x'",
     "output_type": "error",
     "traceback": [
      "\u001b[0;31m---------------------------------------------------------------------------\u001b[0m",
      "\u001b[0;31mAttributeError\u001b[0m                            Traceback (most recent call last)",
      "\u001b[0;31mAttributeError\u001b[0m: 'tuple' object has no attribute 'cur_x'"
     ]
    },
    {
     "name": "stderr",
     "output_type": "stream",
     "text": [
      "Exception ignored in: 'GridWorldOption.GridWorldOption.get_action'\n",
      "Traceback (most recent call last):\n",
      "  File \"/home/otavio/git/tcc/mcts-simulate/mcts/utils.py\", line 146, in expand\n",
      "    action, should_break = option.get_action(env.state())\n",
      "AttributeError: 'tuple' object has no attribute 'cur_x'\n"
     ]
    },
    {
     "ename": "AttributeError",
     "evalue": "'tuple' object has no attribute 'cur_x'",
     "output_type": "error",
     "traceback": [
      "\u001b[0;31m---------------------------------------------------------------------------\u001b[0m",
      "\u001b[0;31mAttributeError\u001b[0m                            Traceback (most recent call last)",
      "\u001b[0;31mAttributeError\u001b[0m: 'tuple' object has no attribute 'cur_x'"
     ]
    },
    {
     "name": "stderr",
     "output_type": "stream",
     "text": [
      "Exception ignored in: 'GridWorldOption.GridWorldOption.get_action'\n",
      "Traceback (most recent call last):\n",
      "  File \"/home/otavio/git/tcc/mcts-simulate/mcts/utils.py\", line 146, in expand\n",
      "    action, should_break = option.get_action(env.state())\n",
      "AttributeError: 'tuple' object has no attribute 'cur_x'\n"
     ]
    },
    {
     "ename": "AttributeError",
     "evalue": "'tuple' object has no attribute 'cur_x'",
     "output_type": "error",
     "traceback": [
      "\u001b[0;31m---------------------------------------------------------------------------\u001b[0m",
      "\u001b[0;31mAttributeError\u001b[0m                            Traceback (most recent call last)",
      "\u001b[0;31mAttributeError\u001b[0m: 'tuple' object has no attribute 'cur_x'"
     ]
    },
    {
     "name": "stderr",
     "output_type": "stream",
     "text": [
      "Exception ignored in: 'GridWorldOption.GridWorldOption.get_action'\n",
      "Traceback (most recent call last):\n",
      "  File \"/home/otavio/git/tcc/mcts-simulate/mcts/utils.py\", line 146, in expand\n",
      "    action, should_break = option.get_action(env.state())\n",
      "AttributeError: 'tuple' object has no attribute 'cur_x'\n"
     ]
    },
    {
     "ename": "AttributeError",
     "evalue": "'tuple' object has no attribute 'cur_x'",
     "output_type": "error",
     "traceback": [
      "\u001b[0;31m---------------------------------------------------------------------------\u001b[0m",
      "\u001b[0;31mAttributeError\u001b[0m                            Traceback (most recent call last)",
      "\u001b[0;31mAttributeError\u001b[0m: 'tuple' object has no attribute 'cur_x'"
     ]
    },
    {
     "name": "stderr",
     "output_type": "stream",
     "text": [
      "Exception ignored in: 'GridWorldOption.GridWorldOption.get_action'\n",
      "Traceback (most recent call last):\n",
      "  File \"/home/otavio/git/tcc/mcts-simulate/mcts/utils.py\", line 146, in expand\n",
      "    action, should_break = option.get_action(env.state())\n",
      "AttributeError: 'tuple' object has no attribute 'cur_x'\n"
     ]
    },
    {
     "ename": "AttributeError",
     "evalue": "'tuple' object has no attribute 'cur_x'",
     "output_type": "error",
     "traceback": [
      "\u001b[0;31m---------------------------------------------------------------------------\u001b[0m",
      "\u001b[0;31mAttributeError\u001b[0m                            Traceback (most recent call last)",
      "\u001b[0;31mAttributeError\u001b[0m: 'tuple' object has no attribute 'cur_x'"
     ]
    },
    {
     "name": "stderr",
     "output_type": "stream",
     "text": [
      "Exception ignored in: 'GridWorldOption.GridWorldOption.get_action'\n",
      "Traceback (most recent call last):\n",
      "  File \"/home/otavio/git/tcc/mcts-simulate/mcts/utils.py\", line 146, in expand\n",
      "    action, should_break = option.get_action(env.state())\n",
      "AttributeError: 'tuple' object has no attribute 'cur_x'\n"
     ]
    },
    {
     "ename": "AttributeError",
     "evalue": "'tuple' object has no attribute 'cur_x'",
     "output_type": "error",
     "traceback": [
      "\u001b[0;31m---------------------------------------------------------------------------\u001b[0m",
      "\u001b[0;31mAttributeError\u001b[0m                            Traceback (most recent call last)",
      "\u001b[0;31mAttributeError\u001b[0m: 'tuple' object has no attribute 'cur_x'"
     ]
    },
    {
     "name": "stderr",
     "output_type": "stream",
     "text": [
      "Exception ignored in: 'GridWorldOption.GridWorldOption.get_action'\n",
      "Traceback (most recent call last):\n",
      "  File \"/home/otavio/git/tcc/mcts-simulate/mcts/utils.py\", line 146, in expand\n",
      "    action, should_break = option.get_action(env.state())\n",
      "AttributeError: 'tuple' object has no attribute 'cur_x'\n"
     ]
    },
    {
     "ename": "AttributeError",
     "evalue": "'tuple' object has no attribute 'cur_x'",
     "output_type": "error",
     "traceback": [
      "\u001b[0;31m---------------------------------------------------------------------------\u001b[0m",
      "\u001b[0;31mAttributeError\u001b[0m                            Traceback (most recent call last)",
      "\u001b[0;31mAttributeError\u001b[0m: 'tuple' object has no attribute 'cur_x'"
     ]
    },
    {
     "name": "stderr",
     "output_type": "stream",
     "text": [
      "Exception ignored in: 'GridWorldOption.GridWorldOption.get_action'\n",
      "Traceback (most recent call last):\n",
      "  File \"/home/otavio/git/tcc/mcts-simulate/mcts/utils.py\", line 146, in expand\n",
      "    action, should_break = option.get_action(env.state())\n",
      "AttributeError: 'tuple' object has no attribute 'cur_x'\n"
     ]
    },
    {
     "ename": "AttributeError",
     "evalue": "'tuple' object has no attribute 'cur_x'",
     "output_type": "error",
     "traceback": [
      "\u001b[0;31m---------------------------------------------------------------------------\u001b[0m",
      "\u001b[0;31mAttributeError\u001b[0m                            Traceback (most recent call last)",
      "\u001b[0;31mAttributeError\u001b[0m: 'tuple' object has no attribute 'cur_x'"
     ]
    },
    {
     "name": "stderr",
     "output_type": "stream",
     "text": [
      "Exception ignored in: 'GridWorldOption.GridWorldOption.get_action'\n",
      "Traceback (most recent call last):\n",
      "  File \"/home/otavio/git/tcc/mcts-simulate/mcts/utils.py\", line 146, in expand\n",
      "    action, should_break = option.get_action(env.state())\n",
      "AttributeError: 'tuple' object has no attribute 'cur_x'\n"
     ]
    },
    {
     "ename": "AttributeError",
     "evalue": "'tuple' object has no attribute 'cur_x'",
     "output_type": "error",
     "traceback": [
      "\u001b[0;31m---------------------------------------------------------------------------\u001b[0m",
      "\u001b[0;31mAttributeError\u001b[0m                            Traceback (most recent call last)",
      "\u001b[0;31mAttributeError\u001b[0m: 'tuple' object has no attribute 'cur_x'"
     ]
    },
    {
     "name": "stderr",
     "output_type": "stream",
     "text": [
      "Exception ignored in: 'GridWorldOption.GridWorldOption.get_action'\n",
      "Traceback (most recent call last):\n",
      "  File \"/home/otavio/git/tcc/mcts-simulate/mcts/utils.py\", line 146, in expand\n",
      "    action, should_break = option.get_action(env.state())\n",
      "AttributeError: 'tuple' object has no attribute 'cur_x'\n"
     ]
    },
    {
     "ename": "AttributeError",
     "evalue": "'tuple' object has no attribute 'cur_x'",
     "output_type": "error",
     "traceback": [
      "\u001b[0;31m---------------------------------------------------------------------------\u001b[0m",
      "\u001b[0;31mAttributeError\u001b[0m                            Traceback (most recent call last)",
      "\u001b[0;31mAttributeError\u001b[0m: 'tuple' object has no attribute 'cur_x'"
     ]
    },
    {
     "name": "stderr",
     "output_type": "stream",
     "text": [
      "Exception ignored in: 'GridWorldOption.GridWorldOption.get_action'\n",
      "Traceback (most recent call last):\n",
      "  File \"/home/otavio/git/tcc/mcts-simulate/mcts/utils.py\", line 146, in expand\n",
      "    action, should_break = option.get_action(env.state())\n",
      "AttributeError: 'tuple' object has no attribute 'cur_x'\n"
     ]
    },
    {
     "ename": "AttributeError",
     "evalue": "'tuple' object has no attribute 'cur_x'",
     "output_type": "error",
     "traceback": [
      "\u001b[0;31m---------------------------------------------------------------------------\u001b[0m",
      "\u001b[0;31mAttributeError\u001b[0m                            Traceback (most recent call last)",
      "\u001b[0;31mAttributeError\u001b[0m: 'tuple' object has no attribute 'cur_x'"
     ]
    },
    {
     "name": "stderr",
     "output_type": "stream",
     "text": [
      "Exception ignored in: 'GridWorldOption.GridWorldOption.get_action'\n",
      "Traceback (most recent call last):\n",
      "  File \"/home/otavio/git/tcc/mcts-simulate/mcts/utils.py\", line 146, in expand\n",
      "    action, should_break = option.get_action(env.state())\n",
      "AttributeError: 'tuple' object has no attribute 'cur_x'\n"
     ]
    },
    {
     "ename": "AttributeError",
     "evalue": "'tuple' object has no attribute 'cur_x'",
     "output_type": "error",
     "traceback": [
      "\u001b[0;31m---------------------------------------------------------------------------\u001b[0m",
      "\u001b[0;31mAttributeError\u001b[0m                            Traceback (most recent call last)",
      "\u001b[0;31mAttributeError\u001b[0m: 'tuple' object has no attribute 'cur_x'"
     ]
    },
    {
     "name": "stderr",
     "output_type": "stream",
     "text": [
      "Exception ignored in: 'GridWorldOption.GridWorldOption.get_action'\n",
      "Traceback (most recent call last):\n",
      "  File \"/home/otavio/git/tcc/mcts-simulate/mcts/utils.py\", line 146, in expand\n",
      "    action, should_break = option.get_action(env.state())\n",
      "AttributeError: 'tuple' object has no attribute 'cur_x'\n"
     ]
    },
    {
     "ename": "AttributeError",
     "evalue": "'tuple' object has no attribute 'cur_x'",
     "output_type": "error",
     "traceback": [
      "\u001b[0;31m---------------------------------------------------------------------------\u001b[0m",
      "\u001b[0;31mAttributeError\u001b[0m                            Traceback (most recent call last)",
      "\u001b[0;31mAttributeError\u001b[0m: 'tuple' object has no attribute 'cur_x'"
     ]
    },
    {
     "name": "stderr",
     "output_type": "stream",
     "text": [
      "Exception ignored in: 'GridWorldOption.GridWorldOption.get_action'\n",
      "Traceback (most recent call last):\n",
      "  File \"/home/otavio/git/tcc/mcts-simulate/mcts/utils.py\", line 146, in expand\n",
      "    action, should_break = option.get_action(env.state())\n",
      "AttributeError: 'tuple' object has no attribute 'cur_x'\n"
     ]
    },
    {
     "ename": "AttributeError",
     "evalue": "'tuple' object has no attribute 'cur_x'",
     "output_type": "error",
     "traceback": [
      "\u001b[0;31m---------------------------------------------------------------------------\u001b[0m",
      "\u001b[0;31mAttributeError\u001b[0m                            Traceback (most recent call last)",
      "\u001b[0;31mAttributeError\u001b[0m: 'tuple' object has no attribute 'cur_x'"
     ]
    },
    {
     "name": "stderr",
     "output_type": "stream",
     "text": [
      "Exception ignored in: 'GridWorldOption.GridWorldOption.get_action'\n",
      "Traceback (most recent call last):\n",
      "  File \"/home/otavio/git/tcc/mcts-simulate/mcts/utils.py\", line 146, in expand\n",
      "    action, should_break = option.get_action(env.state())\n",
      "AttributeError: 'tuple' object has no attribute 'cur_x'\n"
     ]
    },
    {
     "ename": "AttributeError",
     "evalue": "'tuple' object has no attribute 'cur_x'",
     "output_type": "error",
     "traceback": [
      "\u001b[0;31m---------------------------------------------------------------------------\u001b[0m",
      "\u001b[0;31mAttributeError\u001b[0m                            Traceback (most recent call last)",
      "\u001b[0;31mAttributeError\u001b[0m: 'tuple' object has no attribute 'cur_x'"
     ]
    },
    {
     "name": "stderr",
     "output_type": "stream",
     "text": [
      "Exception ignored in: 'GridWorldOption.GridWorldOption.get_action'\n",
      "Traceback (most recent call last):\n",
      "  File \"/home/otavio/git/tcc/mcts-simulate/mcts/utils.py\", line 146, in expand\n",
      "    action, should_break = option.get_action(env.state())\n",
      "AttributeError: 'tuple' object has no attribute 'cur_x'\n"
     ]
    },
    {
     "ename": "AttributeError",
     "evalue": "'tuple' object has no attribute 'cur_x'",
     "output_type": "error",
     "traceback": [
      "\u001b[0;31m---------------------------------------------------------------------------\u001b[0m",
      "\u001b[0;31mAttributeError\u001b[0m                            Traceback (most recent call last)",
      "\u001b[0;31mAttributeError\u001b[0m: 'tuple' object has no attribute 'cur_x'"
     ]
    },
    {
     "name": "stderr",
     "output_type": "stream",
     "text": [
      "Exception ignored in: 'GridWorldOption.GridWorldOption.get_action'\n",
      "Traceback (most recent call last):\n",
      "  File \"/home/otavio/git/tcc/mcts-simulate/mcts/utils.py\", line 146, in expand\n",
      "    action, should_break = option.get_action(env.state())\n",
      "AttributeError: 'tuple' object has no attribute 'cur_x'\n"
     ]
    },
    {
     "ename": "AttributeError",
     "evalue": "'tuple' object has no attribute 'cur_x'",
     "output_type": "error",
     "traceback": [
      "\u001b[0;31m---------------------------------------------------------------------------\u001b[0m",
      "\u001b[0;31mAttributeError\u001b[0m                            Traceback (most recent call last)",
      "\u001b[0;31mAttributeError\u001b[0m: 'tuple' object has no attribute 'cur_x'"
     ]
    },
    {
     "name": "stderr",
     "output_type": "stream",
     "text": [
      "Exception ignored in: 'GridWorldOption.GridWorldOption.get_action'\n",
      "Traceback (most recent call last):\n",
      "  File \"/home/otavio/git/tcc/mcts-simulate/mcts/utils.py\", line 146, in expand\n",
      "    action, should_break = option.get_action(env.state())\n",
      "AttributeError: 'tuple' object has no attribute 'cur_x'\n"
     ]
    },
    {
     "ename": "AttributeError",
     "evalue": "'tuple' object has no attribute 'cur_x'",
     "output_type": "error",
     "traceback": [
      "\u001b[0;31m---------------------------------------------------------------------------\u001b[0m",
      "\u001b[0;31mAttributeError\u001b[0m                            Traceback (most recent call last)",
      "\u001b[0;31mAttributeError\u001b[0m: 'tuple' object has no attribute 'cur_x'"
     ]
    },
    {
     "name": "stderr",
     "output_type": "stream",
     "text": [
      "Exception ignored in: 'GridWorldOption.GridWorldOption.get_action'\n",
      "Traceback (most recent call last):\n",
      "  File \"/home/otavio/git/tcc/mcts-simulate/mcts/utils.py\", line 146, in expand\n",
      "    action, should_break = option.get_action(env.state())\n",
      "AttributeError: 'tuple' object has no attribute 'cur_x'\n"
     ]
    },
    {
     "ename": "AttributeError",
     "evalue": "'tuple' object has no attribute 'cur_x'",
     "output_type": "error",
     "traceback": [
      "\u001b[0;31m---------------------------------------------------------------------------\u001b[0m",
      "\u001b[0;31mAttributeError\u001b[0m                            Traceback (most recent call last)",
      "\u001b[0;31mAttributeError\u001b[0m: 'tuple' object has no attribute 'cur_x'"
     ]
    },
    {
     "name": "stderr",
     "output_type": "stream",
     "text": [
      "Exception ignored in: 'GridWorldOption.GridWorldOption.get_action'\n",
      "Traceback (most recent call last):\n",
      "  File \"/home/otavio/git/tcc/mcts-simulate/mcts/utils.py\", line 146, in expand\n",
      "    action, should_break = option.get_action(env.state())\n",
      "AttributeError: 'tuple' object has no attribute 'cur_x'\n"
     ]
    },
    {
     "ename": "AttributeError",
     "evalue": "'tuple' object has no attribute 'cur_x'",
     "output_type": "error",
     "traceback": [
      "\u001b[0;31m---------------------------------------------------------------------------\u001b[0m",
      "\u001b[0;31mAttributeError\u001b[0m                            Traceback (most recent call last)",
      "\u001b[0;31mAttributeError\u001b[0m: 'tuple' object has no attribute 'cur_x'"
     ]
    },
    {
     "name": "stderr",
     "output_type": "stream",
     "text": [
      "Exception ignored in: 'GridWorldOption.GridWorldOption.get_action'\n",
      "Traceback (most recent call last):\n",
      "  File \"/home/otavio/git/tcc/mcts-simulate/mcts/utils.py\", line 146, in expand\n",
      "    action, should_break = option.get_action(env.state())\n",
      "AttributeError: 'tuple' object has no attribute 'cur_x'\n"
     ]
    },
    {
     "ename": "AttributeError",
     "evalue": "'tuple' object has no attribute 'cur_x'",
     "output_type": "error",
     "traceback": [
      "\u001b[0;31m---------------------------------------------------------------------------\u001b[0m",
      "\u001b[0;31mAttributeError\u001b[0m                            Traceback (most recent call last)",
      "\u001b[0;31mAttributeError\u001b[0m: 'tuple' object has no attribute 'cur_x'"
     ]
    },
    {
     "name": "stderr",
     "output_type": "stream",
     "text": [
      "Exception ignored in: 'GridWorldOption.GridWorldOption.get_action'\n",
      "Traceback (most recent call last):\n",
      "  File \"/home/otavio/git/tcc/mcts-simulate/mcts/utils.py\", line 146, in expand\n",
      "    action, should_break = option.get_action(env.state())\n",
      "AttributeError: 'tuple' object has no attribute 'cur_x'\n"
     ]
    },
    {
     "ename": "AttributeError",
     "evalue": "'tuple' object has no attribute 'cur_x'",
     "output_type": "error",
     "traceback": [
      "\u001b[0;31m---------------------------------------------------------------------------\u001b[0m",
      "\u001b[0;31mAttributeError\u001b[0m                            Traceback (most recent call last)",
      "\u001b[0;31mAttributeError\u001b[0m: 'tuple' object has no attribute 'cur_x'"
     ]
    },
    {
     "name": "stderr",
     "output_type": "stream",
     "text": [
      "Exception ignored in: 'GridWorldOption.GridWorldOption.get_action'\n",
      "Traceback (most recent call last):\n",
      "  File \"/home/otavio/git/tcc/mcts-simulate/mcts/utils.py\", line 146, in expand\n",
      "    action, should_break = option.get_action(env.state())\n",
      "AttributeError: 'tuple' object has no attribute 'cur_x'\n"
     ]
    },
    {
     "ename": "AttributeError",
     "evalue": "'tuple' object has no attribute 'cur_x'",
     "output_type": "error",
     "traceback": [
      "\u001b[0;31m---------------------------------------------------------------------------\u001b[0m",
      "\u001b[0;31mAttributeError\u001b[0m                            Traceback (most recent call last)",
      "\u001b[0;31mAttributeError\u001b[0m: 'tuple' object has no attribute 'cur_x'"
     ]
    },
    {
     "name": "stderr",
     "output_type": "stream",
     "text": [
      "Exception ignored in: 'GridWorldOption.GridWorldOption.get_action'\n",
      "Traceback (most recent call last):\n",
      "  File \"/home/otavio/git/tcc/mcts-simulate/mcts/utils.py\", line 146, in expand\n",
      "    action, should_break = option.get_action(env.state())\n",
      "AttributeError: 'tuple' object has no attribute 'cur_x'\n"
     ]
    },
    {
     "ename": "AttributeError",
     "evalue": "'tuple' object has no attribute 'cur_x'",
     "output_type": "error",
     "traceback": [
      "\u001b[0;31m---------------------------------------------------------------------------\u001b[0m",
      "\u001b[0;31mAttributeError\u001b[0m                            Traceback (most recent call last)",
      "\u001b[0;31mAttributeError\u001b[0m: 'tuple' object has no attribute 'cur_x'"
     ]
    },
    {
     "name": "stderr",
     "output_type": "stream",
     "text": [
      "Exception ignored in: 'GridWorldOption.GridWorldOption.get_action'\n",
      "Traceback (most recent call last):\n",
      "  File \"/home/otavio/git/tcc/mcts-simulate/mcts/utils.py\", line 146, in expand\n",
      "    action, should_break = option.get_action(env.state())\n",
      "AttributeError: 'tuple' object has no attribute 'cur_x'\n"
     ]
    },
    {
     "ename": "AttributeError",
     "evalue": "'tuple' object has no attribute 'cur_x'",
     "output_type": "error",
     "traceback": [
      "\u001b[0;31m---------------------------------------------------------------------------\u001b[0m",
      "\u001b[0;31mAttributeError\u001b[0m                            Traceback (most recent call last)",
      "\u001b[0;31mAttributeError\u001b[0m: 'tuple' object has no attribute 'cur_x'"
     ]
    },
    {
     "name": "stderr",
     "output_type": "stream",
     "text": [
      "Exception ignored in: 'GridWorldOption.GridWorldOption.get_action'\n",
      "Traceback (most recent call last):\n",
      "  File \"/home/otavio/git/tcc/mcts-simulate/mcts/utils.py\", line 146, in expand\n",
      "    action, should_break = option.get_action(env.state())\n",
      "AttributeError: 'tuple' object has no attribute 'cur_x'\n"
     ]
    },
    {
     "ename": "AttributeError",
     "evalue": "'tuple' object has no attribute 'cur_x'",
     "output_type": "error",
     "traceback": [
      "\u001b[0;31m---------------------------------------------------------------------------\u001b[0m",
      "\u001b[0;31mAttributeError\u001b[0m                            Traceback (most recent call last)",
      "\u001b[0;31mAttributeError\u001b[0m: 'tuple' object has no attribute 'cur_x'"
     ]
    },
    {
     "name": "stderr",
     "output_type": "stream",
     "text": [
      "Exception ignored in: 'GridWorldOption.GridWorldOption.get_action'\n",
      "Traceback (most recent call last):\n",
      "  File \"/home/otavio/git/tcc/mcts-simulate/mcts/utils.py\", line 146, in expand\n",
      "    action, should_break = option.get_action(env.state())\n",
      "AttributeError: 'tuple' object has no attribute 'cur_x'\n"
     ]
    },
    {
     "ename": "AttributeError",
     "evalue": "'tuple' object has no attribute 'cur_x'",
     "output_type": "error",
     "traceback": [
      "\u001b[0;31m---------------------------------------------------------------------------\u001b[0m",
      "\u001b[0;31mAttributeError\u001b[0m                            Traceback (most recent call last)",
      "\u001b[0;31mAttributeError\u001b[0m: 'tuple' object has no attribute 'cur_x'"
     ]
    },
    {
     "name": "stderr",
     "output_type": "stream",
     "text": [
      "Exception ignored in: 'GridWorldOption.GridWorldOption.get_action'\n",
      "Traceback (most recent call last):\n",
      "  File \"/home/otavio/git/tcc/mcts-simulate/mcts/utils.py\", line 146, in expand\n",
      "    action, should_break = option.get_action(env.state())\n",
      "AttributeError: 'tuple' object has no attribute 'cur_x'\n"
     ]
    },
    {
     "ename": "AttributeError",
     "evalue": "'tuple' object has no attribute 'cur_x'",
     "output_type": "error",
     "traceback": [
      "\u001b[0;31m---------------------------------------------------------------------------\u001b[0m",
      "\u001b[0;31mAttributeError\u001b[0m                            Traceback (most recent call last)",
      "\u001b[0;31mAttributeError\u001b[0m: 'tuple' object has no attribute 'cur_x'"
     ]
    },
    {
     "name": "stderr",
     "output_type": "stream",
     "text": [
      "Exception ignored in: 'GridWorldOption.GridWorldOption.get_action'\n",
      "Traceback (most recent call last):\n",
      "  File \"/home/otavio/git/tcc/mcts-simulate/mcts/utils.py\", line 146, in expand\n",
      "    action, should_break = option.get_action(env.state())\n",
      "AttributeError: 'tuple' object has no attribute 'cur_x'\n"
     ]
    },
    {
     "ename": "AttributeError",
     "evalue": "'tuple' object has no attribute 'cur_x'",
     "output_type": "error",
     "traceback": [
      "\u001b[0;31m---------------------------------------------------------------------------\u001b[0m",
      "\u001b[0;31mAttributeError\u001b[0m                            Traceback (most recent call last)",
      "\u001b[0;31mAttributeError\u001b[0m: 'tuple' object has no attribute 'cur_x'"
     ]
    },
    {
     "name": "stderr",
     "output_type": "stream",
     "text": [
      "Exception ignored in: 'GridWorldOption.GridWorldOption.get_action'\n",
      "Traceback (most recent call last):\n",
      "  File \"/home/otavio/git/tcc/mcts-simulate/mcts/utils.py\", line 146, in expand\n",
      "    action, should_break = option.get_action(env.state())\n",
      "AttributeError: 'tuple' object has no attribute 'cur_x'\n"
     ]
    },
    {
     "ename": "AttributeError",
     "evalue": "'tuple' object has no attribute 'cur_x'",
     "output_type": "error",
     "traceback": [
      "\u001b[0;31m---------------------------------------------------------------------------\u001b[0m",
      "\u001b[0;31mAttributeError\u001b[0m                            Traceback (most recent call last)",
      "\u001b[0;31mAttributeError\u001b[0m: 'tuple' object has no attribute 'cur_x'"
     ]
    },
    {
     "name": "stderr",
     "output_type": "stream",
     "text": [
      "Exception ignored in: 'GridWorldOption.GridWorldOption.get_action'\n",
      "Traceback (most recent call last):\n",
      "  File \"/home/otavio/git/tcc/mcts-simulate/mcts/utils.py\", line 146, in expand\n",
      "    action, should_break = option.get_action(env.state())\n",
      "AttributeError: 'tuple' object has no attribute 'cur_x'\n"
     ]
    },
    {
     "ename": "AttributeError",
     "evalue": "'tuple' object has no attribute 'cur_x'",
     "output_type": "error",
     "traceback": [
      "\u001b[0;31m---------------------------------------------------------------------------\u001b[0m",
      "\u001b[0;31mAttributeError\u001b[0m                            Traceback (most recent call last)",
      "\u001b[0;31mAttributeError\u001b[0m: 'tuple' object has no attribute 'cur_x'"
     ]
    },
    {
     "name": "stderr",
     "output_type": "stream",
     "text": [
      "Exception ignored in: 'GridWorldOption.GridWorldOption.get_action'\n",
      "Traceback (most recent call last):\n",
      "  File \"/home/otavio/git/tcc/mcts-simulate/mcts/utils.py\", line 146, in expand\n",
      "    action, should_break = option.get_action(env.state())\n",
      "AttributeError: 'tuple' object has no attribute 'cur_x'\n"
     ]
    },
    {
     "ename": "AttributeError",
     "evalue": "'tuple' object has no attribute 'cur_x'",
     "output_type": "error",
     "traceback": [
      "\u001b[0;31m---------------------------------------------------------------------------\u001b[0m",
      "\u001b[0;31mAttributeError\u001b[0m                            Traceback (most recent call last)",
      "\u001b[0;31mAttributeError\u001b[0m: 'tuple' object has no attribute 'cur_x'"
     ]
    },
    {
     "name": "stderr",
     "output_type": "stream",
     "text": [
      "Exception ignored in: 'GridWorldOption.GridWorldOption.get_action'\n",
      "Traceback (most recent call last):\n",
      "  File \"/home/otavio/git/tcc/mcts-simulate/mcts/utils.py\", line 146, in expand\n",
      "    action, should_break = option.get_action(env.state())\n",
      "AttributeError: 'tuple' object has no attribute 'cur_x'\n"
     ]
    },
    {
     "ename": "AttributeError",
     "evalue": "'tuple' object has no attribute 'cur_x'",
     "output_type": "error",
     "traceback": [
      "\u001b[0;31m---------------------------------------------------------------------------\u001b[0m",
      "\u001b[0;31mAttributeError\u001b[0m                            Traceback (most recent call last)",
      "\u001b[0;31mAttributeError\u001b[0m: 'tuple' object has no attribute 'cur_x'"
     ]
    },
    {
     "name": "stderr",
     "output_type": "stream",
     "text": [
      "Exception ignored in: 'GridWorldOption.GridWorldOption.get_action'\n",
      "Traceback (most recent call last):\n",
      "  File \"/home/otavio/git/tcc/mcts-simulate/mcts/utils.py\", line 146, in expand\n",
      "    action, should_break = option.get_action(env.state())\n",
      "AttributeError: 'tuple' object has no attribute 'cur_x'\n"
     ]
    },
    {
     "ename": "AttributeError",
     "evalue": "'tuple' object has no attribute 'cur_x'",
     "output_type": "error",
     "traceback": [
      "\u001b[0;31m---------------------------------------------------------------------------\u001b[0m",
      "\u001b[0;31mAttributeError\u001b[0m                            Traceback (most recent call last)",
      "\u001b[0;31mAttributeError\u001b[0m: 'tuple' object has no attribute 'cur_x'"
     ]
    },
    {
     "name": "stderr",
     "output_type": "stream",
     "text": [
      "Exception ignored in: 'GridWorldOption.GridWorldOption.get_action'\n",
      "Traceback (most recent call last):\n",
      "  File \"/home/otavio/git/tcc/mcts-simulate/mcts/utils.py\", line 146, in expand\n",
      "    action, should_break = option.get_action(env.state())\n",
      "AttributeError: 'tuple' object has no attribute 'cur_x'\n"
     ]
    },
    {
     "ename": "AttributeError",
     "evalue": "'tuple' object has no attribute 'cur_x'",
     "output_type": "error",
     "traceback": [
      "\u001b[0;31m---------------------------------------------------------------------------\u001b[0m",
      "\u001b[0;31mAttributeError\u001b[0m                            Traceback (most recent call last)",
      "\u001b[0;31mAttributeError\u001b[0m: 'tuple' object has no attribute 'cur_x'"
     ]
    },
    {
     "name": "stderr",
     "output_type": "stream",
     "text": [
      "Exception ignored in: 'GridWorldOption.GridWorldOption.get_action'\n",
      "Traceback (most recent call last):\n",
      "  File \"/home/otavio/git/tcc/mcts-simulate/mcts/utils.py\", line 146, in expand\n",
      "    action, should_break = option.get_action(env.state())\n",
      "AttributeError: 'tuple' object has no attribute 'cur_x'\n"
     ]
    },
    {
     "ename": "AttributeError",
     "evalue": "'tuple' object has no attribute 'cur_x'",
     "output_type": "error",
     "traceback": [
      "\u001b[0;31m---------------------------------------------------------------------------\u001b[0m",
      "\u001b[0;31mAttributeError\u001b[0m                            Traceback (most recent call last)",
      "\u001b[0;31mAttributeError\u001b[0m: 'tuple' object has no attribute 'cur_x'"
     ]
    },
    {
     "name": "stderr",
     "output_type": "stream",
     "text": [
      "Exception ignored in: 'GridWorldOption.GridWorldOption.get_action'\n",
      "Traceback (most recent call last):\n",
      "  File \"/home/otavio/git/tcc/mcts-simulate/mcts/utils.py\", line 146, in expand\n",
      "    action, should_break = option.get_action(env.state())\n",
      "AttributeError: 'tuple' object has no attribute 'cur_x'\n"
     ]
    },
    {
     "ename": "AttributeError",
     "evalue": "'tuple' object has no attribute 'cur_x'",
     "output_type": "error",
     "traceback": [
      "\u001b[0;31m---------------------------------------------------------------------------\u001b[0m",
      "\u001b[0;31mAttributeError\u001b[0m                            Traceback (most recent call last)",
      "\u001b[0;31mAttributeError\u001b[0m: 'tuple' object has no attribute 'cur_x'"
     ]
    },
    {
     "name": "stderr",
     "output_type": "stream",
     "text": [
      "Exception ignored in: 'GridWorldOption.GridWorldOption.get_action'\n",
      "Traceback (most recent call last):\n",
      "  File \"/home/otavio/git/tcc/mcts-simulate/mcts/utils.py\", line 146, in expand\n",
      "    action, should_break = option.get_action(env.state())\n",
      "AttributeError: 'tuple' object has no attribute 'cur_x'\n"
     ]
    },
    {
     "ename": "AttributeError",
     "evalue": "'tuple' object has no attribute 'cur_x'",
     "output_type": "error",
     "traceback": [
      "\u001b[0;31m---------------------------------------------------------------------------\u001b[0m",
      "\u001b[0;31mAttributeError\u001b[0m                            Traceback (most recent call last)",
      "\u001b[0;31mAttributeError\u001b[0m: 'tuple' object has no attribute 'cur_x'"
     ]
    },
    {
     "name": "stderr",
     "output_type": "stream",
     "text": [
      "Exception ignored in: 'GridWorldOption.GridWorldOption.get_action'\n",
      "Traceback (most recent call last):\n",
      "  File \"/home/otavio/git/tcc/mcts-simulate/mcts/utils.py\", line 146, in expand\n",
      "    action, should_break = option.get_action(env.state())\n",
      "AttributeError: 'tuple' object has no attribute 'cur_x'\n"
     ]
    },
    {
     "ename": "AttributeError",
     "evalue": "'tuple' object has no attribute 'cur_x'",
     "output_type": "error",
     "traceback": [
      "\u001b[0;31m---------------------------------------------------------------------------\u001b[0m",
      "\u001b[0;31mAttributeError\u001b[0m                            Traceback (most recent call last)",
      "\u001b[0;31mAttributeError\u001b[0m: 'tuple' object has no attribute 'cur_x'"
     ]
    },
    {
     "name": "stderr",
     "output_type": "stream",
     "text": [
      "Exception ignored in: 'GridWorldOption.GridWorldOption.get_action'\n",
      "Traceback (most recent call last):\n",
      "  File \"/home/otavio/git/tcc/mcts-simulate/mcts/utils.py\", line 146, in expand\n",
      "    action, should_break = option.get_action(env.state())\n",
      "AttributeError: 'tuple' object has no attribute 'cur_x'\n"
     ]
    },
    {
     "ename": "AttributeError",
     "evalue": "'tuple' object has no attribute 'cur_x'",
     "output_type": "error",
     "traceback": [
      "\u001b[0;31m---------------------------------------------------------------------------\u001b[0m",
      "\u001b[0;31mAttributeError\u001b[0m                            Traceback (most recent call last)",
      "\u001b[0;31mAttributeError\u001b[0m: 'tuple' object has no attribute 'cur_x'"
     ]
    },
    {
     "name": "stderr",
     "output_type": "stream",
     "text": [
      "Exception ignored in: 'GridWorldOption.GridWorldOption.get_action'\n",
      "Traceback (most recent call last):\n",
      "  File \"/home/otavio/git/tcc/mcts-simulate/mcts/utils.py\", line 146, in expand\n",
      "    action, should_break = option.get_action(env.state())\n",
      "AttributeError: 'tuple' object has no attribute 'cur_x'\n"
     ]
    },
    {
     "ename": "AttributeError",
     "evalue": "'tuple' object has no attribute 'cur_x'",
     "output_type": "error",
     "traceback": [
      "\u001b[0;31m---------------------------------------------------------------------------\u001b[0m",
      "\u001b[0;31mAttributeError\u001b[0m                            Traceback (most recent call last)",
      "\u001b[0;31mAttributeError\u001b[0m: 'tuple' object has no attribute 'cur_x'"
     ]
    },
    {
     "name": "stderr",
     "output_type": "stream",
     "text": [
      "Exception ignored in: 'GridWorldOption.GridWorldOption.get_action'\n",
      "Traceback (most recent call last):\n",
      "  File \"/home/otavio/git/tcc/mcts-simulate/mcts/utils.py\", line 146, in expand\n",
      "    action, should_break = option.get_action(env.state())\n",
      "AttributeError: 'tuple' object has no attribute 'cur_x'\n"
     ]
    },
    {
     "ename": "AttributeError",
     "evalue": "'tuple' object has no attribute 'cur_x'",
     "output_type": "error",
     "traceback": [
      "\u001b[0;31m---------------------------------------------------------------------------\u001b[0m",
      "\u001b[0;31mAttributeError\u001b[0m                            Traceback (most recent call last)",
      "\u001b[0;31mAttributeError\u001b[0m: 'tuple' object has no attribute 'cur_x'"
     ]
    },
    {
     "name": "stderr",
     "output_type": "stream",
     "text": [
      "Exception ignored in: 'GridWorldOption.GridWorldOption.get_action'\n",
      "Traceback (most recent call last):\n",
      "  File \"/home/otavio/git/tcc/mcts-simulate/mcts/utils.py\", line 146, in expand\n",
      "    action, should_break = option.get_action(env.state())\n",
      "AttributeError: 'tuple' object has no attribute 'cur_x'\n"
     ]
    },
    {
     "ename": "AttributeError",
     "evalue": "'tuple' object has no attribute 'cur_x'",
     "output_type": "error",
     "traceback": [
      "\u001b[0;31m---------------------------------------------------------------------------\u001b[0m",
      "\u001b[0;31mAttributeError\u001b[0m                            Traceback (most recent call last)",
      "\u001b[0;31mAttributeError\u001b[0m: 'tuple' object has no attribute 'cur_x'"
     ]
    },
    {
     "name": "stderr",
     "output_type": "stream",
     "text": [
      "Exception ignored in: 'GridWorldOption.GridWorldOption.get_action'\n",
      "Traceback (most recent call last):\n",
      "  File \"/home/otavio/git/tcc/mcts-simulate/mcts/utils.py\", line 146, in expand\n",
      "    action, should_break = option.get_action(env.state())\n",
      "AttributeError: 'tuple' object has no attribute 'cur_x'\n"
     ]
    },
    {
     "ename": "AttributeError",
     "evalue": "'tuple' object has no attribute 'cur_x'",
     "output_type": "error",
     "traceback": [
      "\u001b[0;31m---------------------------------------------------------------------------\u001b[0m",
      "\u001b[0;31mAttributeError\u001b[0m                            Traceback (most recent call last)",
      "\u001b[0;31mAttributeError\u001b[0m: 'tuple' object has no attribute 'cur_x'"
     ]
    },
    {
     "name": "stderr",
     "output_type": "stream",
     "text": [
      "Exception ignored in: 'GridWorldOption.GridWorldOption.get_action'\n",
      "Traceback (most recent call last):\n",
      "  File \"/home/otavio/git/tcc/mcts-simulate/mcts/utils.py\", line 146, in expand\n",
      "    action, should_break = option.get_action(env.state())\n",
      "AttributeError: 'tuple' object has no attribute 'cur_x'\n"
     ]
    },
    {
     "ename": "AttributeError",
     "evalue": "'tuple' object has no attribute 'cur_x'",
     "output_type": "error",
     "traceback": [
      "\u001b[0;31m---------------------------------------------------------------------------\u001b[0m",
      "\u001b[0;31mAttributeError\u001b[0m                            Traceback (most recent call last)",
      "\u001b[0;31mAttributeError\u001b[0m: 'tuple' object has no attribute 'cur_x'"
     ]
    },
    {
     "name": "stderr",
     "output_type": "stream",
     "text": [
      "Exception ignored in: 'GridWorldOption.GridWorldOption.get_action'\n",
      "Traceback (most recent call last):\n",
      "  File \"/home/otavio/git/tcc/mcts-simulate/mcts/utils.py\", line 146, in expand\n",
      "    action, should_break = option.get_action(env.state())\n",
      "AttributeError: 'tuple' object has no attribute 'cur_x'\n"
     ]
    },
    {
     "ename": "AttributeError",
     "evalue": "'tuple' object has no attribute 'cur_x'",
     "output_type": "error",
     "traceback": [
      "\u001b[0;31m---------------------------------------------------------------------------\u001b[0m",
      "\u001b[0;31mAttributeError\u001b[0m                            Traceback (most recent call last)",
      "\u001b[0;31mAttributeError\u001b[0m: 'tuple' object has no attribute 'cur_x'"
     ]
    },
    {
     "name": "stderr",
     "output_type": "stream",
     "text": [
      "Exception ignored in: 'GridWorldOption.GridWorldOption.get_action'\n",
      "Traceback (most recent call last):\n",
      "  File \"/home/otavio/git/tcc/mcts-simulate/mcts/utils.py\", line 146, in expand\n",
      "    action, should_break = option.get_action(env.state())\n",
      "AttributeError: 'tuple' object has no attribute 'cur_x'\n"
     ]
    },
    {
     "ename": "AttributeError",
     "evalue": "'tuple' object has no attribute 'cur_x'",
     "output_type": "error",
     "traceback": [
      "\u001b[0;31m---------------------------------------------------------------------------\u001b[0m",
      "\u001b[0;31mAttributeError\u001b[0m                            Traceback (most recent call last)",
      "\u001b[0;31mAttributeError\u001b[0m: 'tuple' object has no attribute 'cur_x'"
     ]
    },
    {
     "name": "stderr",
     "output_type": "stream",
     "text": [
      "Exception ignored in: 'GridWorldOption.GridWorldOption.get_action'\n",
      "Traceback (most recent call last):\n",
      "  File \"/home/otavio/git/tcc/mcts-simulate/mcts/utils.py\", line 146, in expand\n",
      "    action, should_break = option.get_action(env.state())\n",
      "AttributeError: 'tuple' object has no attribute 'cur_x'\n"
     ]
    },
    {
     "ename": "AttributeError",
     "evalue": "'tuple' object has no attribute 'cur_x'",
     "output_type": "error",
     "traceback": [
      "\u001b[0;31m---------------------------------------------------------------------------\u001b[0m",
      "\u001b[0;31mAttributeError\u001b[0m                            Traceback (most recent call last)",
      "\u001b[0;31mAttributeError\u001b[0m: 'tuple' object has no attribute 'cur_x'"
     ]
    },
    {
     "name": "stderr",
     "output_type": "stream",
     "text": [
      "Exception ignored in: 'GridWorldOption.GridWorldOption.get_action'\n",
      "Traceback (most recent call last):\n",
      "  File \"/home/otavio/git/tcc/mcts-simulate/mcts/utils.py\", line 146, in expand\n",
      "    action, should_break = option.get_action(env.state())\n",
      "AttributeError: 'tuple' object has no attribute 'cur_x'\n"
     ]
    },
    {
     "ename": "AttributeError",
     "evalue": "'tuple' object has no attribute 'cur_x'",
     "output_type": "error",
     "traceback": [
      "\u001b[0;31m---------------------------------------------------------------------------\u001b[0m",
      "\u001b[0;31mAttributeError\u001b[0m                            Traceback (most recent call last)",
      "\u001b[0;31mAttributeError\u001b[0m: 'tuple' object has no attribute 'cur_x'"
     ]
    },
    {
     "name": "stderr",
     "output_type": "stream",
     "text": [
      "Exception ignored in: 'GridWorldOption.GridWorldOption.get_action'\n",
      "Traceback (most recent call last):\n",
      "  File \"/home/otavio/git/tcc/mcts-simulate/mcts/utils.py\", line 146, in expand\n",
      "    action, should_break = option.get_action(env.state())\n",
      "AttributeError: 'tuple' object has no attribute 'cur_x'\n"
     ]
    },
    {
     "ename": "AttributeError",
     "evalue": "'tuple' object has no attribute 'cur_x'",
     "output_type": "error",
     "traceback": [
      "\u001b[0;31m---------------------------------------------------------------------------\u001b[0m",
      "\u001b[0;31mAttributeError\u001b[0m                            Traceback (most recent call last)",
      "\u001b[0;31mAttributeError\u001b[0m: 'tuple' object has no attribute 'cur_x'"
     ]
    },
    {
     "name": "stderr",
     "output_type": "stream",
     "text": [
      "Exception ignored in: 'GridWorldOption.GridWorldOption.get_action'\n",
      "Traceback (most recent call last):\n",
      "  File \"/home/otavio/git/tcc/mcts-simulate/mcts/utils.py\", line 146, in expand\n",
      "    action, should_break = option.get_action(env.state())\n",
      "AttributeError: 'tuple' object has no attribute 'cur_x'\n"
     ]
    },
    {
     "ename": "AttributeError",
     "evalue": "'tuple' object has no attribute 'cur_x'",
     "output_type": "error",
     "traceback": [
      "\u001b[0;31m---------------------------------------------------------------------------\u001b[0m",
      "\u001b[0;31mAttributeError\u001b[0m                            Traceback (most recent call last)",
      "\u001b[0;31mAttributeError\u001b[0m: 'tuple' object has no attribute 'cur_x'"
     ]
    },
    {
     "name": "stderr",
     "output_type": "stream",
     "text": [
      "Exception ignored in: 'GridWorldOption.GridWorldOption.get_action'\n",
      "Traceback (most recent call last):\n",
      "  File \"/home/otavio/git/tcc/mcts-simulate/mcts/utils.py\", line 146, in expand\n",
      "    action, should_break = option.get_action(env.state())\n",
      "AttributeError: 'tuple' object has no attribute 'cur_x'\n"
     ]
    },
    {
     "ename": "AttributeError",
     "evalue": "'tuple' object has no attribute 'cur_x'",
     "output_type": "error",
     "traceback": [
      "\u001b[0;31m---------------------------------------------------------------------------\u001b[0m",
      "\u001b[0;31mAttributeError\u001b[0m                            Traceback (most recent call last)",
      "\u001b[0;31mAttributeError\u001b[0m: 'tuple' object has no attribute 'cur_x'"
     ]
    },
    {
     "name": "stderr",
     "output_type": "stream",
     "text": [
      "Exception ignored in: 'GridWorldOption.GridWorldOption.get_action'\n",
      "Traceback (most recent call last):\n",
      "  File \"/home/otavio/git/tcc/mcts-simulate/mcts/utils.py\", line 146, in expand\n",
      "    action, should_break = option.get_action(env.state())\n",
      "AttributeError: 'tuple' object has no attribute 'cur_x'\n"
     ]
    },
    {
     "ename": "AttributeError",
     "evalue": "'tuple' object has no attribute 'cur_x'",
     "output_type": "error",
     "traceback": [
      "\u001b[0;31m---------------------------------------------------------------------------\u001b[0m",
      "\u001b[0;31mAttributeError\u001b[0m                            Traceback (most recent call last)",
      "\u001b[0;31mAttributeError\u001b[0m: 'tuple' object has no attribute 'cur_x'"
     ]
    },
    {
     "name": "stderr",
     "output_type": "stream",
     "text": [
      "Exception ignored in: 'GridWorldOption.GridWorldOption.get_action'\n",
      "Traceback (most recent call last):\n",
      "  File \"/home/otavio/git/tcc/mcts-simulate/mcts/utils.py\", line 146, in expand\n",
      "    action, should_break = option.get_action(env.state())\n",
      "AttributeError: 'tuple' object has no attribute 'cur_x'\n"
     ]
    },
    {
     "ename": "AttributeError",
     "evalue": "'tuple' object has no attribute 'cur_x'",
     "output_type": "error",
     "traceback": [
      "\u001b[0;31m---------------------------------------------------------------------------\u001b[0m",
      "\u001b[0;31mAttributeError\u001b[0m                            Traceback (most recent call last)",
      "\u001b[0;31mAttributeError\u001b[0m: 'tuple' object has no attribute 'cur_x'"
     ]
    },
    {
     "name": "stderr",
     "output_type": "stream",
     "text": [
      "Exception ignored in: 'GridWorldOption.GridWorldOption.get_action'\n",
      "Traceback (most recent call last):\n",
      "  File \"/home/otavio/git/tcc/mcts-simulate/mcts/utils.py\", line 146, in expand\n",
      "    action, should_break = option.get_action(env.state())\n",
      "AttributeError: 'tuple' object has no attribute 'cur_x'\n"
     ]
    },
    {
     "ename": "AttributeError",
     "evalue": "'tuple' object has no attribute 'cur_x'",
     "output_type": "error",
     "traceback": [
      "\u001b[0;31m---------------------------------------------------------------------------\u001b[0m",
      "\u001b[0;31mAttributeError\u001b[0m                            Traceback (most recent call last)",
      "\u001b[0;31mAttributeError\u001b[0m: 'tuple' object has no attribute 'cur_x'"
     ]
    },
    {
     "name": "stderr",
     "output_type": "stream",
     "text": [
      "Exception ignored in: 'GridWorldOption.GridWorldOption.get_action'\n",
      "Traceback (most recent call last):\n",
      "  File \"/home/otavio/git/tcc/mcts-simulate/mcts/utils.py\", line 146, in expand\n",
      "    action, should_break = option.get_action(env.state())\n",
      "AttributeError: 'tuple' object has no attribute 'cur_x'\n"
     ]
    },
    {
     "ename": "AttributeError",
     "evalue": "'tuple' object has no attribute 'cur_x'",
     "output_type": "error",
     "traceback": [
      "\u001b[0;31m---------------------------------------------------------------------------\u001b[0m",
      "\u001b[0;31mAttributeError\u001b[0m                            Traceback (most recent call last)",
      "\u001b[0;31mAttributeError\u001b[0m: 'tuple' object has no attribute 'cur_x'"
     ]
    },
    {
     "name": "stderr",
     "output_type": "stream",
     "text": [
      "Exception ignored in: 'GridWorldOption.GridWorldOption.get_action'\n",
      "Traceback (most recent call last):\n",
      "  File \"/home/otavio/git/tcc/mcts-simulate/mcts/utils.py\", line 146, in expand\n",
      "    action, should_break = option.get_action(env.state())\n",
      "AttributeError: 'tuple' object has no attribute 'cur_x'\n"
     ]
    },
    {
     "ename": "AttributeError",
     "evalue": "'tuple' object has no attribute 'cur_x'",
     "output_type": "error",
     "traceback": [
      "\u001b[0;31m---------------------------------------------------------------------------\u001b[0m",
      "\u001b[0;31mAttributeError\u001b[0m                            Traceback (most recent call last)",
      "\u001b[0;31mAttributeError\u001b[0m: 'tuple' object has no attribute 'cur_x'"
     ]
    },
    {
     "name": "stderr",
     "output_type": "stream",
     "text": [
      "Exception ignored in: 'GridWorldOption.GridWorldOption.get_action'\n",
      "Traceback (most recent call last):\n",
      "  File \"/home/otavio/git/tcc/mcts-simulate/mcts/utils.py\", line 146, in expand\n",
      "    action, should_break = option.get_action(env.state())\n",
      "AttributeError: 'tuple' object has no attribute 'cur_x'\n"
     ]
    },
    {
     "ename": "AttributeError",
     "evalue": "'tuple' object has no attribute 'cur_x'",
     "output_type": "error",
     "traceback": [
      "\u001b[0;31m---------------------------------------------------------------------------\u001b[0m",
      "\u001b[0;31mAttributeError\u001b[0m                            Traceback (most recent call last)",
      "\u001b[0;31mAttributeError\u001b[0m: 'tuple' object has no attribute 'cur_x'"
     ]
    },
    {
     "name": "stderr",
     "output_type": "stream",
     "text": [
      "Exception ignored in: 'GridWorldOption.GridWorldOption.get_action'\n",
      "Traceback (most recent call last):\n",
      "  File \"/home/otavio/git/tcc/mcts-simulate/mcts/utils.py\", line 146, in expand\n",
      "    action, should_break = option.get_action(env.state())\n",
      "AttributeError: 'tuple' object has no attribute 'cur_x'\n"
     ]
    },
    {
     "ename": "AttributeError",
     "evalue": "'tuple' object has no attribute 'cur_x'",
     "output_type": "error",
     "traceback": [
      "\u001b[0;31m---------------------------------------------------------------------------\u001b[0m",
      "\u001b[0;31mAttributeError\u001b[0m                            Traceback (most recent call last)",
      "\u001b[0;31mAttributeError\u001b[0m: 'tuple' object has no attribute 'cur_x'"
     ]
    },
    {
     "name": "stderr",
     "output_type": "stream",
     "text": [
      "Exception ignored in: 'GridWorldOption.GridWorldOption.get_action'\n",
      "Traceback (most recent call last):\n",
      "  File \"/home/otavio/git/tcc/mcts-simulate/mcts/utils.py\", line 146, in expand\n",
      "    action, should_break = option.get_action(env.state())\n",
      "AttributeError: 'tuple' object has no attribute 'cur_x'\n"
     ]
    },
    {
     "ename": "AttributeError",
     "evalue": "'tuple' object has no attribute 'cur_x'",
     "output_type": "error",
     "traceback": [
      "\u001b[0;31m---------------------------------------------------------------------------\u001b[0m",
      "\u001b[0;31mAttributeError\u001b[0m                            Traceback (most recent call last)",
      "\u001b[0;31mAttributeError\u001b[0m: 'tuple' object has no attribute 'cur_x'"
     ]
    },
    {
     "name": "stderr",
     "output_type": "stream",
     "text": [
      "Exception ignored in: 'GridWorldOption.GridWorldOption.get_action'\n",
      "Traceback (most recent call last):\n",
      "  File \"/home/otavio/git/tcc/mcts-simulate/mcts/utils.py\", line 146, in expand\n",
      "    action, should_break = option.get_action(env.state())\n",
      "AttributeError: 'tuple' object has no attribute 'cur_x'\n"
     ]
    },
    {
     "ename": "AttributeError",
     "evalue": "'tuple' object has no attribute 'cur_x'",
     "output_type": "error",
     "traceback": [
      "\u001b[0;31m---------------------------------------------------------------------------\u001b[0m",
      "\u001b[0;31mAttributeError\u001b[0m                            Traceback (most recent call last)",
      "\u001b[0;31mAttributeError\u001b[0m: 'tuple' object has no attribute 'cur_x'"
     ]
    },
    {
     "name": "stderr",
     "output_type": "stream",
     "text": [
      "Exception ignored in: 'GridWorldOption.GridWorldOption.get_action'\n",
      "Traceback (most recent call last):\n",
      "  File \"/home/otavio/git/tcc/mcts-simulate/mcts/utils.py\", line 146, in expand\n",
      "    action, should_break = option.get_action(env.state())\n",
      "AttributeError: 'tuple' object has no attribute 'cur_x'\n"
     ]
    },
    {
     "ename": "AttributeError",
     "evalue": "'tuple' object has no attribute 'cur_x'",
     "output_type": "error",
     "traceback": [
      "\u001b[0;31m---------------------------------------------------------------------------\u001b[0m",
      "\u001b[0;31mAttributeError\u001b[0m                            Traceback (most recent call last)",
      "\u001b[0;31mAttributeError\u001b[0m: 'tuple' object has no attribute 'cur_x'"
     ]
    },
    {
     "name": "stderr",
     "output_type": "stream",
     "text": [
      "Exception ignored in: 'GridWorldOption.GridWorldOption.get_action'\n",
      "Traceback (most recent call last):\n",
      "  File \"/home/otavio/git/tcc/mcts-simulate/mcts/utils.py\", line 146, in expand\n",
      "    action, should_break = option.get_action(env.state())\n",
      "AttributeError: 'tuple' object has no attribute 'cur_x'\n"
     ]
    },
    {
     "ename": "AttributeError",
     "evalue": "'tuple' object has no attribute 'cur_x'",
     "output_type": "error",
     "traceback": [
      "\u001b[0;31m---------------------------------------------------------------------------\u001b[0m",
      "\u001b[0;31mAttributeError\u001b[0m                            Traceback (most recent call last)",
      "\u001b[0;31mAttributeError\u001b[0m: 'tuple' object has no attribute 'cur_x'"
     ]
    },
    {
     "name": "stderr",
     "output_type": "stream",
     "text": [
      "Exception ignored in: 'GridWorldOption.GridWorldOption.get_action'\n",
      "Traceback (most recent call last):\n",
      "  File \"/home/otavio/git/tcc/mcts-simulate/mcts/utils.py\", line 146, in expand\n",
      "    action, should_break = option.get_action(env.state())\n",
      "AttributeError: 'tuple' object has no attribute 'cur_x'\n"
     ]
    },
    {
     "ename": "AttributeError",
     "evalue": "'tuple' object has no attribute 'cur_x'",
     "output_type": "error",
     "traceback": [
      "\u001b[0;31m---------------------------------------------------------------------------\u001b[0m",
      "\u001b[0;31mAttributeError\u001b[0m                            Traceback (most recent call last)",
      "\u001b[0;31mAttributeError\u001b[0m: 'tuple' object has no attribute 'cur_x'"
     ]
    },
    {
     "name": "stderr",
     "output_type": "stream",
     "text": [
      "Exception ignored in: 'GridWorldOption.GridWorldOption.get_action'\n",
      "Traceback (most recent call last):\n",
      "  File \"/home/otavio/git/tcc/mcts-simulate/mcts/utils.py\", line 146, in expand\n",
      "    action, should_break = option.get_action(env.state())\n",
      "AttributeError: 'tuple' object has no attribute 'cur_x'\n"
     ]
    },
    {
     "ename": "AttributeError",
     "evalue": "'tuple' object has no attribute 'cur_x'",
     "output_type": "error",
     "traceback": [
      "\u001b[0;31m---------------------------------------------------------------------------\u001b[0m",
      "\u001b[0;31mAttributeError\u001b[0m                            Traceback (most recent call last)",
      "\u001b[0;31mAttributeError\u001b[0m: 'tuple' object has no attribute 'cur_x'"
     ]
    },
    {
     "name": "stderr",
     "output_type": "stream",
     "text": [
      "Exception ignored in: 'GridWorldOption.GridWorldOption.get_action'\n",
      "Traceback (most recent call last):\n",
      "  File \"/home/otavio/git/tcc/mcts-simulate/mcts/utils.py\", line 146, in expand\n",
      "    action, should_break = option.get_action(env.state())\n",
      "AttributeError: 'tuple' object has no attribute 'cur_x'\n"
     ]
    },
    {
     "ename": "AttributeError",
     "evalue": "'tuple' object has no attribute 'cur_x'",
     "output_type": "error",
     "traceback": [
      "\u001b[0;31m---------------------------------------------------------------------------\u001b[0m",
      "\u001b[0;31mAttributeError\u001b[0m                            Traceback (most recent call last)",
      "\u001b[0;31mAttributeError\u001b[0m: 'tuple' object has no attribute 'cur_x'"
     ]
    },
    {
     "name": "stderr",
     "output_type": "stream",
     "text": [
      "Exception ignored in: 'GridWorldOption.GridWorldOption.get_action'\n",
      "Traceback (most recent call last):\n",
      "  File \"/home/otavio/git/tcc/mcts-simulate/mcts/utils.py\", line 146, in expand\n",
      "    action, should_break = option.get_action(env.state())\n",
      "AttributeError: 'tuple' object has no attribute 'cur_x'\n"
     ]
    },
    {
     "ename": "AttributeError",
     "evalue": "'tuple' object has no attribute 'cur_x'",
     "output_type": "error",
     "traceback": [
      "\u001b[0;31m---------------------------------------------------------------------------\u001b[0m",
      "\u001b[0;31mAttributeError\u001b[0m                            Traceback (most recent call last)",
      "\u001b[0;31mAttributeError\u001b[0m: 'tuple' object has no attribute 'cur_x'"
     ]
    },
    {
     "name": "stderr",
     "output_type": "stream",
     "text": [
      "Exception ignored in: 'GridWorldOption.GridWorldOption.get_action'\n",
      "Traceback (most recent call last):\n",
      "  File \"/home/otavio/git/tcc/mcts-simulate/mcts/utils.py\", line 146, in expand\n",
      "    action, should_break = option.get_action(env.state())\n",
      "AttributeError: 'tuple' object has no attribute 'cur_x'\n"
     ]
    },
    {
     "ename": "AttributeError",
     "evalue": "'tuple' object has no attribute 'cur_x'",
     "output_type": "error",
     "traceback": [
      "\u001b[0;31m---------------------------------------------------------------------------\u001b[0m",
      "\u001b[0;31mAttributeError\u001b[0m                            Traceback (most recent call last)",
      "\u001b[0;31mAttributeError\u001b[0m: 'tuple' object has no attribute 'cur_x'"
     ]
    },
    {
     "name": "stderr",
     "output_type": "stream",
     "text": [
      "Exception ignored in: 'GridWorldOption.GridWorldOption.get_action'\n",
      "Traceback (most recent call last):\n",
      "  File \"/home/otavio/git/tcc/mcts-simulate/mcts/utils.py\", line 146, in expand\n",
      "    action, should_break = option.get_action(env.state())\n",
      "AttributeError: 'tuple' object has no attribute 'cur_x'\n"
     ]
    },
    {
     "ename": "AttributeError",
     "evalue": "'tuple' object has no attribute 'cur_x'",
     "output_type": "error",
     "traceback": [
      "\u001b[0;31m---------------------------------------------------------------------------\u001b[0m",
      "\u001b[0;31mAttributeError\u001b[0m                            Traceback (most recent call last)",
      "\u001b[0;31mAttributeError\u001b[0m: 'tuple' object has no attribute 'cur_x'"
     ]
    },
    {
     "name": "stderr",
     "output_type": "stream",
     "text": [
      "Exception ignored in: 'GridWorldOption.GridWorldOption.get_action'\n",
      "Traceback (most recent call last):\n",
      "  File \"/home/otavio/git/tcc/mcts-simulate/mcts/utils.py\", line 146, in expand\n",
      "    action, should_break = option.get_action(env.state())\n",
      "AttributeError: 'tuple' object has no attribute 'cur_x'\n"
     ]
    },
    {
     "ename": "AttributeError",
     "evalue": "'tuple' object has no attribute 'cur_x'",
     "output_type": "error",
     "traceback": [
      "\u001b[0;31m---------------------------------------------------------------------------\u001b[0m",
      "\u001b[0;31mAttributeError\u001b[0m                            Traceback (most recent call last)",
      "\u001b[0;31mAttributeError\u001b[0m: 'tuple' object has no attribute 'cur_x'"
     ]
    },
    {
     "name": "stderr",
     "output_type": "stream",
     "text": [
      "Exception ignored in: 'GridWorldOption.GridWorldOption.get_action'\n",
      "Traceback (most recent call last):\n",
      "  File \"/home/otavio/git/tcc/mcts-simulate/mcts/utils.py\", line 146, in expand\n",
      "    action, should_break = option.get_action(env.state())\n",
      "AttributeError: 'tuple' object has no attribute 'cur_x'\n"
     ]
    },
    {
     "ename": "AttributeError",
     "evalue": "'tuple' object has no attribute 'cur_x'",
     "output_type": "error",
     "traceback": [
      "\u001b[0;31m---------------------------------------------------------------------------\u001b[0m",
      "\u001b[0;31mAttributeError\u001b[0m                            Traceback (most recent call last)",
      "\u001b[0;31mAttributeError\u001b[0m: 'tuple' object has no attribute 'cur_x'"
     ]
    },
    {
     "name": "stderr",
     "output_type": "stream",
     "text": [
      "Exception ignored in: 'GridWorldOption.GridWorldOption.get_action'\n",
      "Traceback (most recent call last):\n",
      "  File \"/home/otavio/git/tcc/mcts-simulate/mcts/utils.py\", line 146, in expand\n",
      "    action, should_break = option.get_action(env.state())\n",
      "AttributeError: 'tuple' object has no attribute 'cur_x'\n"
     ]
    },
    {
     "ename": "AttributeError",
     "evalue": "'tuple' object has no attribute 'cur_x'",
     "output_type": "error",
     "traceback": [
      "\u001b[0;31m---------------------------------------------------------------------------\u001b[0m",
      "\u001b[0;31mAttributeError\u001b[0m                            Traceback (most recent call last)",
      "\u001b[0;31mAttributeError\u001b[0m: 'tuple' object has no attribute 'cur_x'"
     ]
    },
    {
     "name": "stderr",
     "output_type": "stream",
     "text": [
      "Exception ignored in: 'GridWorldOption.GridWorldOption.get_action'\n",
      "Traceback (most recent call last):\n",
      "  File \"/home/otavio/git/tcc/mcts-simulate/mcts/utils.py\", line 146, in expand\n",
      "    action, should_break = option.get_action(env.state())\n",
      "AttributeError: 'tuple' object has no attribute 'cur_x'\n"
     ]
    },
    {
     "ename": "AttributeError",
     "evalue": "'tuple' object has no attribute 'cur_x'",
     "output_type": "error",
     "traceback": [
      "\u001b[0;31m---------------------------------------------------------------------------\u001b[0m",
      "\u001b[0;31mAttributeError\u001b[0m                            Traceback (most recent call last)",
      "\u001b[0;31mAttributeError\u001b[0m: 'tuple' object has no attribute 'cur_x'"
     ]
    },
    {
     "name": "stderr",
     "output_type": "stream",
     "text": [
      "Exception ignored in: 'GridWorldOption.GridWorldOption.get_action'\n",
      "Traceback (most recent call last):\n",
      "  File \"/home/otavio/git/tcc/mcts-simulate/mcts/utils.py\", line 146, in expand\n",
      "    action, should_break = option.get_action(env.state())\n",
      "AttributeError: 'tuple' object has no attribute 'cur_x'\n"
     ]
    },
    {
     "ename": "AttributeError",
     "evalue": "'tuple' object has no attribute 'cur_x'",
     "output_type": "error",
     "traceback": [
      "\u001b[0;31m---------------------------------------------------------------------------\u001b[0m",
      "\u001b[0;31mAttributeError\u001b[0m                            Traceback (most recent call last)",
      "\u001b[0;31mAttributeError\u001b[0m: 'tuple' object has no attribute 'cur_x'"
     ]
    },
    {
     "name": "stderr",
     "output_type": "stream",
     "text": [
      "Exception ignored in: 'GridWorldOption.GridWorldOption.get_action'\n",
      "Traceback (most recent call last):\n",
      "  File \"/home/otavio/git/tcc/mcts-simulate/mcts/utils.py\", line 146, in expand\n",
      "    action, should_break = option.get_action(env.state())\n",
      "AttributeError: 'tuple' object has no attribute 'cur_x'\n"
     ]
    },
    {
     "ename": "AttributeError",
     "evalue": "'tuple' object has no attribute 'cur_x'",
     "output_type": "error",
     "traceback": [
      "\u001b[0;31m---------------------------------------------------------------------------\u001b[0m",
      "\u001b[0;31mAttributeError\u001b[0m                            Traceback (most recent call last)",
      "\u001b[0;31mAttributeError\u001b[0m: 'tuple' object has no attribute 'cur_x'"
     ]
    },
    {
     "name": "stderr",
     "output_type": "stream",
     "text": [
      "Exception ignored in: 'GridWorldOption.GridWorldOption.get_action'\n",
      "Traceback (most recent call last):\n",
      "  File \"/home/otavio/git/tcc/mcts-simulate/mcts/utils.py\", line 146, in expand\n",
      "    action, should_break = option.get_action(env.state())\n",
      "AttributeError: 'tuple' object has no attribute 'cur_x'\n"
     ]
    },
    {
     "ename": "AttributeError",
     "evalue": "'tuple' object has no attribute 'cur_x'",
     "output_type": "error",
     "traceback": [
      "\u001b[0;31m---------------------------------------------------------------------------\u001b[0m",
      "\u001b[0;31mAttributeError\u001b[0m                            Traceback (most recent call last)",
      "\u001b[0;31mAttributeError\u001b[0m: 'tuple' object has no attribute 'cur_x'"
     ]
    },
    {
     "name": "stderr",
     "output_type": "stream",
     "text": [
      "Exception ignored in: 'GridWorldOption.GridWorldOption.get_action'\n",
      "Traceback (most recent call last):\n",
      "  File \"/home/otavio/git/tcc/mcts-simulate/mcts/utils.py\", line 146, in expand\n",
      "    action, should_break = option.get_action(env.state())\n",
      "AttributeError: 'tuple' object has no attribute 'cur_x'\n"
     ]
    },
    {
     "ename": "AttributeError",
     "evalue": "'tuple' object has no attribute 'cur_x'",
     "output_type": "error",
     "traceback": [
      "\u001b[0;31m---------------------------------------------------------------------------\u001b[0m",
      "\u001b[0;31mAttributeError\u001b[0m                            Traceback (most recent call last)",
      "\u001b[0;31mAttributeError\u001b[0m: 'tuple' object has no attribute 'cur_x'"
     ]
    },
    {
     "name": "stderr",
     "output_type": "stream",
     "text": [
      "Exception ignored in: 'GridWorldOption.GridWorldOption.get_action'\n",
      "Traceback (most recent call last):\n",
      "  File \"/home/otavio/git/tcc/mcts-simulate/mcts/utils.py\", line 146, in expand\n",
      "    action, should_break = option.get_action(env.state())\n",
      "AttributeError: 'tuple' object has no attribute 'cur_x'\n"
     ]
    },
    {
     "ename": "AttributeError",
     "evalue": "'tuple' object has no attribute 'cur_x'",
     "output_type": "error",
     "traceback": [
      "\u001b[0;31m---------------------------------------------------------------------------\u001b[0m",
      "\u001b[0;31mAttributeError\u001b[0m                            Traceback (most recent call last)",
      "\u001b[0;31mAttributeError\u001b[0m: 'tuple' object has no attribute 'cur_x'"
     ]
    },
    {
     "name": "stderr",
     "output_type": "stream",
     "text": [
      "Exception ignored in: 'GridWorldOption.GridWorldOption.get_action'\n",
      "Traceback (most recent call last):\n",
      "  File \"/home/otavio/git/tcc/mcts-simulate/mcts/utils.py\", line 146, in expand\n",
      "    action, should_break = option.get_action(env.state())\n",
      "AttributeError: 'tuple' object has no attribute 'cur_x'\n"
     ]
    },
    {
     "ename": "AttributeError",
     "evalue": "'tuple' object has no attribute 'cur_x'",
     "output_type": "error",
     "traceback": [
      "\u001b[0;31m---------------------------------------------------------------------------\u001b[0m",
      "\u001b[0;31mAttributeError\u001b[0m                            Traceback (most recent call last)",
      "\u001b[0;31mAttributeError\u001b[0m: 'tuple' object has no attribute 'cur_x'"
     ]
    },
    {
     "name": "stderr",
     "output_type": "stream",
     "text": [
      "Exception ignored in: 'GridWorldOption.GridWorldOption.get_action'\n",
      "Traceback (most recent call last):\n",
      "  File \"/home/otavio/git/tcc/mcts-simulate/mcts/utils.py\", line 146, in expand\n",
      "    action, should_break = option.get_action(env.state())\n",
      "AttributeError: 'tuple' object has no attribute 'cur_x'\n"
     ]
    },
    {
     "ename": "AttributeError",
     "evalue": "'tuple' object has no attribute 'cur_x'",
     "output_type": "error",
     "traceback": [
      "\u001b[0;31m---------------------------------------------------------------------------\u001b[0m",
      "\u001b[0;31mAttributeError\u001b[0m                            Traceback (most recent call last)",
      "\u001b[0;31mAttributeError\u001b[0m: 'tuple' object has no attribute 'cur_x'"
     ]
    },
    {
     "name": "stderr",
     "output_type": "stream",
     "text": [
      "Exception ignored in: 'GridWorldOption.GridWorldOption.get_action'\n",
      "Traceback (most recent call last):\n",
      "  File \"/home/otavio/git/tcc/mcts-simulate/mcts/utils.py\", line 146, in expand\n",
      "    action, should_break = option.get_action(env.state())\n",
      "AttributeError: 'tuple' object has no attribute 'cur_x'\n"
     ]
    },
    {
     "ename": "AttributeError",
     "evalue": "'tuple' object has no attribute 'cur_x'",
     "output_type": "error",
     "traceback": [
      "\u001b[0;31m---------------------------------------------------------------------------\u001b[0m",
      "\u001b[0;31mAttributeError\u001b[0m                            Traceback (most recent call last)",
      "\u001b[0;31mAttributeError\u001b[0m: 'tuple' object has no attribute 'cur_x'"
     ]
    },
    {
     "name": "stderr",
     "output_type": "stream",
     "text": [
      "Exception ignored in: 'GridWorldOption.GridWorldOption.get_action'\n",
      "Traceback (most recent call last):\n",
      "  File \"/home/otavio/git/tcc/mcts-simulate/mcts/utils.py\", line 146, in expand\n",
      "    action, should_break = option.get_action(env.state())\n",
      "AttributeError: 'tuple' object has no attribute 'cur_x'\n"
     ]
    },
    {
     "ename": "AttributeError",
     "evalue": "'tuple' object has no attribute 'cur_x'",
     "output_type": "error",
     "traceback": [
      "\u001b[0;31m---------------------------------------------------------------------------\u001b[0m",
      "\u001b[0;31mAttributeError\u001b[0m                            Traceback (most recent call last)",
      "\u001b[0;31mAttributeError\u001b[0m: 'tuple' object has no attribute 'cur_x'"
     ]
    },
    {
     "name": "stderr",
     "output_type": "stream",
     "text": [
      "Exception ignored in: 'GridWorldOption.GridWorldOption.get_action'\n",
      "Traceback (most recent call last):\n",
      "  File \"/home/otavio/git/tcc/mcts-simulate/mcts/utils.py\", line 146, in expand\n",
      "    action, should_break = option.get_action(env.state())\n",
      "AttributeError: 'tuple' object has no attribute 'cur_x'\n"
     ]
    },
    {
     "ename": "AttributeError",
     "evalue": "'tuple' object has no attribute 'cur_x'",
     "output_type": "error",
     "traceback": [
      "\u001b[0;31m---------------------------------------------------------------------------\u001b[0m",
      "\u001b[0;31mAttributeError\u001b[0m                            Traceback (most recent call last)",
      "\u001b[0;31mAttributeError\u001b[0m: 'tuple' object has no attribute 'cur_x'"
     ]
    },
    {
     "name": "stderr",
     "output_type": "stream",
     "text": [
      "Exception ignored in: 'GridWorldOption.GridWorldOption.get_action'\n",
      "Traceback (most recent call last):\n",
      "  File \"/home/otavio/git/tcc/mcts-simulate/mcts/utils.py\", line 146, in expand\n",
      "    action, should_break = option.get_action(env.state())\n",
      "AttributeError: 'tuple' object has no attribute 'cur_x'\n"
     ]
    },
    {
     "ename": "AttributeError",
     "evalue": "'tuple' object has no attribute 'cur_x'",
     "output_type": "error",
     "traceback": [
      "\u001b[0;31m---------------------------------------------------------------------------\u001b[0m",
      "\u001b[0;31mAttributeError\u001b[0m                            Traceback (most recent call last)",
      "\u001b[0;31mAttributeError\u001b[0m: 'tuple' object has no attribute 'cur_x'"
     ]
    },
    {
     "name": "stderr",
     "output_type": "stream",
     "text": [
      "Exception ignored in: 'GridWorldOption.GridWorldOption.get_action'\n",
      "Traceback (most recent call last):\n",
      "  File \"/home/otavio/git/tcc/mcts-simulate/mcts/utils.py\", line 146, in expand\n",
      "    action, should_break = option.get_action(env.state())\n",
      "AttributeError: 'tuple' object has no attribute 'cur_x'\n"
     ]
    },
    {
     "ename": "AttributeError",
     "evalue": "'tuple' object has no attribute 'cur_x'",
     "output_type": "error",
     "traceback": [
      "\u001b[0;31m---------------------------------------------------------------------------\u001b[0m",
      "\u001b[0;31mAttributeError\u001b[0m                            Traceback (most recent call last)",
      "\u001b[0;31mAttributeError\u001b[0m: 'tuple' object has no attribute 'cur_x'"
     ]
    },
    {
     "name": "stderr",
     "output_type": "stream",
     "text": [
      "Exception ignored in: 'GridWorldOption.GridWorldOption.get_action'\n",
      "Traceback (most recent call last):\n",
      "  File \"/home/otavio/git/tcc/mcts-simulate/mcts/utils.py\", line 146, in expand\n",
      "    action, should_break = option.get_action(env.state())\n",
      "AttributeError: 'tuple' object has no attribute 'cur_x'\n"
     ]
    },
    {
     "ename": "AttributeError",
     "evalue": "'tuple' object has no attribute 'cur_x'",
     "output_type": "error",
     "traceback": [
      "\u001b[0;31m---------------------------------------------------------------------------\u001b[0m",
      "\u001b[0;31mAttributeError\u001b[0m                            Traceback (most recent call last)",
      "\u001b[0;31mAttributeError\u001b[0m: 'tuple' object has no attribute 'cur_x'"
     ]
    },
    {
     "name": "stderr",
     "output_type": "stream",
     "text": [
      "Exception ignored in: 'GridWorldOption.GridWorldOption.get_action'\n",
      "Traceback (most recent call last):\n",
      "  File \"/home/otavio/git/tcc/mcts-simulate/mcts/utils.py\", line 146, in expand\n",
      "    action, should_break = option.get_action(env.state())\n",
      "AttributeError: 'tuple' object has no attribute 'cur_x'\n"
     ]
    },
    {
     "ename": "AttributeError",
     "evalue": "'tuple' object has no attribute 'cur_x'",
     "output_type": "error",
     "traceback": [
      "\u001b[0;31m---------------------------------------------------------------------------\u001b[0m",
      "\u001b[0;31mAttributeError\u001b[0m                            Traceback (most recent call last)",
      "\u001b[0;31mAttributeError\u001b[0m: 'tuple' object has no attribute 'cur_x'"
     ]
    },
    {
     "name": "stderr",
     "output_type": "stream",
     "text": [
      "Exception ignored in: 'GridWorldOption.GridWorldOption.get_action'\n",
      "Traceback (most recent call last):\n",
      "  File \"/home/otavio/git/tcc/mcts-simulate/mcts/utils.py\", line 146, in expand\n",
      "    action, should_break = option.get_action(env.state())\n",
      "AttributeError: 'tuple' object has no attribute 'cur_x'\n"
     ]
    },
    {
     "ename": "AttributeError",
     "evalue": "'tuple' object has no attribute 'cur_x'",
     "output_type": "error",
     "traceback": [
      "\u001b[0;31m---------------------------------------------------------------------------\u001b[0m",
      "\u001b[0;31mAttributeError\u001b[0m                            Traceback (most recent call last)",
      "\u001b[0;31mAttributeError\u001b[0m: 'tuple' object has no attribute 'cur_x'"
     ]
    },
    {
     "name": "stderr",
     "output_type": "stream",
     "text": [
      "Exception ignored in: 'GridWorldOption.GridWorldOption.get_action'\n",
      "Traceback (most recent call last):\n",
      "  File \"/home/otavio/git/tcc/mcts-simulate/mcts/utils.py\", line 146, in expand\n",
      "    action, should_break = option.get_action(env.state())\n",
      "AttributeError: 'tuple' object has no attribute 'cur_x'\n"
     ]
    },
    {
     "ename": "AttributeError",
     "evalue": "'tuple' object has no attribute 'cur_x'",
     "output_type": "error",
     "traceback": [
      "\u001b[0;31m---------------------------------------------------------------------------\u001b[0m",
      "\u001b[0;31mAttributeError\u001b[0m                            Traceback (most recent call last)",
      "\u001b[0;31mAttributeError\u001b[0m: 'tuple' object has no attribute 'cur_x'"
     ]
    },
    {
     "name": "stderr",
     "output_type": "stream",
     "text": [
      "Exception ignored in: 'GridWorldOption.GridWorldOption.get_action'\n",
      "Traceback (most recent call last):\n",
      "  File \"/home/otavio/git/tcc/mcts-simulate/mcts/utils.py\", line 146, in expand\n",
      "    action, should_break = option.get_action(env.state())\n",
      "AttributeError: 'tuple' object has no attribute 'cur_x'\n"
     ]
    },
    {
     "ename": "AttributeError",
     "evalue": "'tuple' object has no attribute 'cur_x'",
     "output_type": "error",
     "traceback": [
      "\u001b[0;31m---------------------------------------------------------------------------\u001b[0m",
      "\u001b[0;31mAttributeError\u001b[0m                            Traceback (most recent call last)",
      "\u001b[0;31mAttributeError\u001b[0m: 'tuple' object has no attribute 'cur_x'"
     ]
    },
    {
     "name": "stderr",
     "output_type": "stream",
     "text": [
      "Exception ignored in: 'GridWorldOption.GridWorldOption.get_action'\n",
      "Traceback (most recent call last):\n",
      "  File \"/home/otavio/git/tcc/mcts-simulate/mcts/utils.py\", line 146, in expand\n",
      "    action, should_break = option.get_action(env.state())\n",
      "AttributeError: 'tuple' object has no attribute 'cur_x'\n"
     ]
    },
    {
     "ename": "AttributeError",
     "evalue": "'tuple' object has no attribute 'cur_x'",
     "output_type": "error",
     "traceback": [
      "\u001b[0;31m---------------------------------------------------------------------------\u001b[0m",
      "\u001b[0;31mAttributeError\u001b[0m                            Traceback (most recent call last)",
      "\u001b[0;31mAttributeError\u001b[0m: 'tuple' object has no attribute 'cur_x'"
     ]
    },
    {
     "name": "stderr",
     "output_type": "stream",
     "text": [
      "Exception ignored in: 'GridWorldOption.GridWorldOption.get_action'\n",
      "Traceback (most recent call last):\n",
      "  File \"/home/otavio/git/tcc/mcts-simulate/mcts/utils.py\", line 146, in expand\n",
      "    action, should_break = option.get_action(env.state())\n",
      "AttributeError: 'tuple' object has no attribute 'cur_x'\n"
     ]
    },
    {
     "ename": "AttributeError",
     "evalue": "'tuple' object has no attribute 'cur_x'",
     "output_type": "error",
     "traceback": [
      "\u001b[0;31m---------------------------------------------------------------------------\u001b[0m",
      "\u001b[0;31mAttributeError\u001b[0m                            Traceback (most recent call last)",
      "\u001b[0;31mAttributeError\u001b[0m: 'tuple' object has no attribute 'cur_x'"
     ]
    },
    {
     "name": "stderr",
     "output_type": "stream",
     "text": [
      "Exception ignored in: 'GridWorldOption.GridWorldOption.get_action'\n",
      "Traceback (most recent call last):\n",
      "  File \"/home/otavio/git/tcc/mcts-simulate/mcts/utils.py\", line 146, in expand\n",
      "    action, should_break = option.get_action(env.state())\n",
      "AttributeError: 'tuple' object has no attribute 'cur_x'\n"
     ]
    },
    {
     "ename": "AttributeError",
     "evalue": "'tuple' object has no attribute 'cur_x'",
     "output_type": "error",
     "traceback": [
      "\u001b[0;31m---------------------------------------------------------------------------\u001b[0m",
      "\u001b[0;31mAttributeError\u001b[0m                            Traceback (most recent call last)",
      "\u001b[0;31mAttributeError\u001b[0m: 'tuple' object has no attribute 'cur_x'"
     ]
    },
    {
     "name": "stderr",
     "output_type": "stream",
     "text": [
      "Exception ignored in: 'GridWorldOption.GridWorldOption.get_action'\n",
      "Traceback (most recent call last):\n",
      "  File \"/home/otavio/git/tcc/mcts-simulate/mcts/utils.py\", line 146, in expand\n",
      "    action, should_break = option.get_action(env.state())\n",
      "AttributeError: 'tuple' object has no attribute 'cur_x'\n"
     ]
    },
    {
     "ename": "AttributeError",
     "evalue": "'tuple' object has no attribute 'cur_x'",
     "output_type": "error",
     "traceback": [
      "\u001b[0;31m---------------------------------------------------------------------------\u001b[0m",
      "\u001b[0;31mAttributeError\u001b[0m                            Traceback (most recent call last)",
      "\u001b[0;31mAttributeError\u001b[0m: 'tuple' object has no attribute 'cur_x'"
     ]
    },
    {
     "name": "stderr",
     "output_type": "stream",
     "text": [
      "Exception ignored in: 'GridWorldOption.GridWorldOption.get_action'\n",
      "Traceback (most recent call last):\n",
      "  File \"/home/otavio/git/tcc/mcts-simulate/mcts/utils.py\", line 146, in expand\n",
      "    action, should_break = option.get_action(env.state())\n",
      "AttributeError: 'tuple' object has no attribute 'cur_x'\n"
     ]
    },
    {
     "ename": "AttributeError",
     "evalue": "'tuple' object has no attribute 'cur_x'",
     "output_type": "error",
     "traceback": [
      "\u001b[0;31m---------------------------------------------------------------------------\u001b[0m",
      "\u001b[0;31mAttributeError\u001b[0m                            Traceback (most recent call last)",
      "\u001b[0;31mAttributeError\u001b[0m: 'tuple' object has no attribute 'cur_x'"
     ]
    },
    {
     "name": "stderr",
     "output_type": "stream",
     "text": [
      "Exception ignored in: 'GridWorldOption.GridWorldOption.get_action'\n",
      "Traceback (most recent call last):\n",
      "  File \"/home/otavio/git/tcc/mcts-simulate/mcts/utils.py\", line 146, in expand\n",
      "    action, should_break = option.get_action(env.state())\n",
      "AttributeError: 'tuple' object has no attribute 'cur_x'\n"
     ]
    },
    {
     "ename": "AttributeError",
     "evalue": "'tuple' object has no attribute 'cur_x'",
     "output_type": "error",
     "traceback": [
      "\u001b[0;31m---------------------------------------------------------------------------\u001b[0m",
      "\u001b[0;31mAttributeError\u001b[0m                            Traceback (most recent call last)",
      "\u001b[0;31mAttributeError\u001b[0m: 'tuple' object has no attribute 'cur_x'"
     ]
    },
    {
     "name": "stderr",
     "output_type": "stream",
     "text": [
      "Exception ignored in: 'GridWorldOption.GridWorldOption.get_action'\n",
      "Traceback (most recent call last):\n",
      "  File \"/home/otavio/git/tcc/mcts-simulate/mcts/utils.py\", line 146, in expand\n",
      "    action, should_break = option.get_action(env.state())\n",
      "AttributeError: 'tuple' object has no attribute 'cur_x'\n"
     ]
    },
    {
     "ename": "AttributeError",
     "evalue": "'tuple' object has no attribute 'cur_x'",
     "output_type": "error",
     "traceback": [
      "\u001b[0;31m---------------------------------------------------------------------------\u001b[0m",
      "\u001b[0;31mAttributeError\u001b[0m                            Traceback (most recent call last)",
      "\u001b[0;31mAttributeError\u001b[0m: 'tuple' object has no attribute 'cur_x'"
     ]
    },
    {
     "name": "stderr",
     "output_type": "stream",
     "text": [
      "Exception ignored in: 'GridWorldOption.GridWorldOption.get_action'\n",
      "Traceback (most recent call last):\n",
      "  File \"/home/otavio/git/tcc/mcts-simulate/mcts/utils.py\", line 146, in expand\n",
      "    action, should_break = option.get_action(env.state())\n",
      "AttributeError: 'tuple' object has no attribute 'cur_x'\n"
     ]
    },
    {
     "ename": "AttributeError",
     "evalue": "'tuple' object has no attribute 'cur_x'",
     "output_type": "error",
     "traceback": [
      "\u001b[0;31m---------------------------------------------------------------------------\u001b[0m",
      "\u001b[0;31mAttributeError\u001b[0m                            Traceback (most recent call last)",
      "\u001b[0;31mAttributeError\u001b[0m: 'tuple' object has no attribute 'cur_x'"
     ]
    },
    {
     "name": "stderr",
     "output_type": "stream",
     "text": [
      "Exception ignored in: 'GridWorldOption.GridWorldOption.get_action'\n",
      "Traceback (most recent call last):\n",
      "  File \"/home/otavio/git/tcc/mcts-simulate/mcts/utils.py\", line 146, in expand\n",
      "    action, should_break = option.get_action(env.state())\n",
      "AttributeError: 'tuple' object has no attribute 'cur_x'\n"
     ]
    },
    {
     "ename": "AttributeError",
     "evalue": "'tuple' object has no attribute 'cur_x'",
     "output_type": "error",
     "traceback": [
      "\u001b[0;31m---------------------------------------------------------------------------\u001b[0m",
      "\u001b[0;31mAttributeError\u001b[0m                            Traceback (most recent call last)",
      "\u001b[0;31mAttributeError\u001b[0m: 'tuple' object has no attribute 'cur_x'"
     ]
    },
    {
     "name": "stderr",
     "output_type": "stream",
     "text": [
      "Exception ignored in: 'GridWorldOption.GridWorldOption.get_action'\n",
      "Traceback (most recent call last):\n",
      "  File \"/home/otavio/git/tcc/mcts-simulate/mcts/utils.py\", line 146, in expand\n",
      "    action, should_break = option.get_action(env.state())\n",
      "AttributeError: 'tuple' object has no attribute 'cur_x'\n"
     ]
    },
    {
     "ename": "AttributeError",
     "evalue": "'tuple' object has no attribute 'cur_x'",
     "output_type": "error",
     "traceback": [
      "\u001b[0;31m---------------------------------------------------------------------------\u001b[0m",
      "\u001b[0;31mAttributeError\u001b[0m                            Traceback (most recent call last)",
      "\u001b[0;31mAttributeError\u001b[0m: 'tuple' object has no attribute 'cur_x'"
     ]
    },
    {
     "name": "stderr",
     "output_type": "stream",
     "text": [
      "Exception ignored in: 'GridWorldOption.GridWorldOption.get_action'\n",
      "Traceback (most recent call last):\n",
      "  File \"/home/otavio/git/tcc/mcts-simulate/mcts/utils.py\", line 146, in expand\n",
      "    action, should_break = option.get_action(env.state())\n",
      "AttributeError: 'tuple' object has no attribute 'cur_x'\n"
     ]
    },
    {
     "ename": "AttributeError",
     "evalue": "'tuple' object has no attribute 'cur_x'",
     "output_type": "error",
     "traceback": [
      "\u001b[0;31m---------------------------------------------------------------------------\u001b[0m",
      "\u001b[0;31mAttributeError\u001b[0m                            Traceback (most recent call last)",
      "\u001b[0;31mAttributeError\u001b[0m: 'tuple' object has no attribute 'cur_x'"
     ]
    },
    {
     "name": "stderr",
     "output_type": "stream",
     "text": [
      "Exception ignored in: 'GridWorldOption.GridWorldOption.get_action'\n",
      "Traceback (most recent call last):\n",
      "  File \"/home/otavio/git/tcc/mcts-simulate/mcts/utils.py\", line 146, in expand\n",
      "    action, should_break = option.get_action(env.state())\n",
      "AttributeError: 'tuple' object has no attribute 'cur_x'\n"
     ]
    },
    {
     "ename": "AttributeError",
     "evalue": "'tuple' object has no attribute 'cur_x'",
     "output_type": "error",
     "traceback": [
      "\u001b[0;31m---------------------------------------------------------------------------\u001b[0m",
      "\u001b[0;31mAttributeError\u001b[0m                            Traceback (most recent call last)",
      "\u001b[0;31mAttributeError\u001b[0m: 'tuple' object has no attribute 'cur_x'"
     ]
    },
    {
     "name": "stderr",
     "output_type": "stream",
     "text": [
      "Exception ignored in: 'GridWorldOption.GridWorldOption.get_action'\n",
      "Traceback (most recent call last):\n",
      "  File \"/home/otavio/git/tcc/mcts-simulate/mcts/utils.py\", line 146, in expand\n",
      "    action, should_break = option.get_action(env.state())\n",
      "AttributeError: 'tuple' object has no attribute 'cur_x'\n"
     ]
    },
    {
     "ename": "AttributeError",
     "evalue": "'tuple' object has no attribute 'cur_x'",
     "output_type": "error",
     "traceback": [
      "\u001b[0;31m---------------------------------------------------------------------------\u001b[0m",
      "\u001b[0;31mAttributeError\u001b[0m                            Traceback (most recent call last)",
      "\u001b[0;31mAttributeError\u001b[0m: 'tuple' object has no attribute 'cur_x'"
     ]
    },
    {
     "name": "stderr",
     "output_type": "stream",
     "text": [
      "Exception ignored in: 'GridWorldOption.GridWorldOption.get_action'\n",
      "Traceback (most recent call last):\n",
      "  File \"/home/otavio/git/tcc/mcts-simulate/mcts/utils.py\", line 146, in expand\n",
      "    action, should_break = option.get_action(env.state())\n",
      "AttributeError: 'tuple' object has no attribute 'cur_x'\n"
     ]
    },
    {
     "ename": "AttributeError",
     "evalue": "'tuple' object has no attribute 'cur_x'",
     "output_type": "error",
     "traceback": [
      "\u001b[0;31m---------------------------------------------------------------------------\u001b[0m",
      "\u001b[0;31mAttributeError\u001b[0m                            Traceback (most recent call last)",
      "\u001b[0;31mAttributeError\u001b[0m: 'tuple' object has no attribute 'cur_x'"
     ]
    },
    {
     "name": "stderr",
     "output_type": "stream",
     "text": [
      "Exception ignored in: 'GridWorldOption.GridWorldOption.get_action'\n",
      "Traceback (most recent call last):\n",
      "  File \"/home/otavio/git/tcc/mcts-simulate/mcts/utils.py\", line 146, in expand\n",
      "    action, should_break = option.get_action(env.state())\n",
      "AttributeError: 'tuple' object has no attribute 'cur_x'\n"
     ]
    },
    {
     "ename": "AttributeError",
     "evalue": "'tuple' object has no attribute 'cur_x'",
     "output_type": "error",
     "traceback": [
      "\u001b[0;31m---------------------------------------------------------------------------\u001b[0m",
      "\u001b[0;31mAttributeError\u001b[0m                            Traceback (most recent call last)",
      "\u001b[0;31mAttributeError\u001b[0m: 'tuple' object has no attribute 'cur_x'"
     ]
    },
    {
     "name": "stderr",
     "output_type": "stream",
     "text": [
      "Exception ignored in: 'GridWorldOption.GridWorldOption.get_action'\n",
      "Traceback (most recent call last):\n",
      "  File \"/home/otavio/git/tcc/mcts-simulate/mcts/utils.py\", line 146, in expand\n",
      "    action, should_break = option.get_action(env.state())\n",
      "AttributeError: 'tuple' object has no attribute 'cur_x'\n"
     ]
    },
    {
     "ename": "AttributeError",
     "evalue": "'tuple' object has no attribute 'cur_x'",
     "output_type": "error",
     "traceback": [
      "\u001b[0;31m---------------------------------------------------------------------------\u001b[0m",
      "\u001b[0;31mAttributeError\u001b[0m                            Traceback (most recent call last)",
      "\u001b[0;31mAttributeError\u001b[0m: 'tuple' object has no attribute 'cur_x'"
     ]
    },
    {
     "name": "stderr",
     "output_type": "stream",
     "text": [
      "Exception ignored in: 'GridWorldOption.GridWorldOption.get_action'\n",
      "Traceback (most recent call last):\n",
      "  File \"/home/otavio/git/tcc/mcts-simulate/mcts/utils.py\", line 146, in expand\n",
      "    action, should_break = option.get_action(env.state())\n",
      "AttributeError: 'tuple' object has no attribute 'cur_x'\n"
     ]
    },
    {
     "ename": "AttributeError",
     "evalue": "'tuple' object has no attribute 'cur_x'",
     "output_type": "error",
     "traceback": [
      "\u001b[0;31m---------------------------------------------------------------------------\u001b[0m",
      "\u001b[0;31mAttributeError\u001b[0m                            Traceback (most recent call last)",
      "\u001b[0;31mAttributeError\u001b[0m: 'tuple' object has no attribute 'cur_x'"
     ]
    },
    {
     "name": "stderr",
     "output_type": "stream",
     "text": [
      "Exception ignored in: 'GridWorldOption.GridWorldOption.get_action'\n",
      "Traceback (most recent call last):\n",
      "  File \"/home/otavio/git/tcc/mcts-simulate/mcts/utils.py\", line 146, in expand\n",
      "    action, should_break = option.get_action(env.state())\n",
      "AttributeError: 'tuple' object has no attribute 'cur_x'\n"
     ]
    },
    {
     "ename": "AttributeError",
     "evalue": "'tuple' object has no attribute 'cur_x'",
     "output_type": "error",
     "traceback": [
      "\u001b[0;31m---------------------------------------------------------------------------\u001b[0m",
      "\u001b[0;31mAttributeError\u001b[0m                            Traceback (most recent call last)",
      "\u001b[0;31mAttributeError\u001b[0m: 'tuple' object has no attribute 'cur_x'"
     ]
    },
    {
     "name": "stderr",
     "output_type": "stream",
     "text": [
      "Exception ignored in: 'GridWorldOption.GridWorldOption.get_action'\n",
      "Traceback (most recent call last):\n",
      "  File \"/home/otavio/git/tcc/mcts-simulate/mcts/utils.py\", line 146, in expand\n",
      "    action, should_break = option.get_action(env.state())\n",
      "AttributeError: 'tuple' object has no attribute 'cur_x'\n"
     ]
    },
    {
     "ename": "AttributeError",
     "evalue": "'tuple' object has no attribute 'cur_x'",
     "output_type": "error",
     "traceback": [
      "\u001b[0;31m---------------------------------------------------------------------------\u001b[0m",
      "\u001b[0;31mAttributeError\u001b[0m                            Traceback (most recent call last)",
      "\u001b[0;31mAttributeError\u001b[0m: 'tuple' object has no attribute 'cur_x'"
     ]
    },
    {
     "name": "stderr",
     "output_type": "stream",
     "text": [
      "Exception ignored in: 'GridWorldOption.GridWorldOption.get_action'\n",
      "Traceback (most recent call last):\n",
      "  File \"/home/otavio/git/tcc/mcts-simulate/mcts/utils.py\", line 146, in expand\n",
      "    action, should_break = option.get_action(env.state())\n",
      "AttributeError: 'tuple' object has no attribute 'cur_x'\n"
     ]
    },
    {
     "ename": "AttributeError",
     "evalue": "'tuple' object has no attribute 'cur_x'",
     "output_type": "error",
     "traceback": [
      "\u001b[0;31m---------------------------------------------------------------------------\u001b[0m",
      "\u001b[0;31mAttributeError\u001b[0m                            Traceback (most recent call last)",
      "\u001b[0;31mAttributeError\u001b[0m: 'tuple' object has no attribute 'cur_x'"
     ]
    },
    {
     "name": "stderr",
     "output_type": "stream",
     "text": [
      "Exception ignored in: 'GridWorldOption.GridWorldOption.get_action'\n",
      "Traceback (most recent call last):\n",
      "  File \"/home/otavio/git/tcc/mcts-simulate/mcts/utils.py\", line 146, in expand\n",
      "    action, should_break = option.get_action(env.state())\n",
      "AttributeError: 'tuple' object has no attribute 'cur_x'\n"
     ]
    },
    {
     "ename": "AttributeError",
     "evalue": "'tuple' object has no attribute 'cur_x'",
     "output_type": "error",
     "traceback": [
      "\u001b[0;31m---------------------------------------------------------------------------\u001b[0m",
      "\u001b[0;31mAttributeError\u001b[0m                            Traceback (most recent call last)",
      "\u001b[0;31mAttributeError\u001b[0m: 'tuple' object has no attribute 'cur_x'"
     ]
    },
    {
     "name": "stderr",
     "output_type": "stream",
     "text": [
      "Exception ignored in: 'GridWorldOption.GridWorldOption.get_action'\n",
      "Traceback (most recent call last):\n",
      "  File \"/home/otavio/git/tcc/mcts-simulate/mcts/utils.py\", line 146, in expand\n",
      "    action, should_break = option.get_action(env.state())\n",
      "AttributeError: 'tuple' object has no attribute 'cur_x'\n"
     ]
    },
    {
     "ename": "AttributeError",
     "evalue": "'tuple' object has no attribute 'cur_x'",
     "output_type": "error",
     "traceback": [
      "\u001b[0;31m---------------------------------------------------------------------------\u001b[0m",
      "\u001b[0;31mAttributeError\u001b[0m                            Traceback (most recent call last)",
      "\u001b[0;31mAttributeError\u001b[0m: 'tuple' object has no attribute 'cur_x'"
     ]
    },
    {
     "name": "stderr",
     "output_type": "stream",
     "text": [
      "Exception ignored in: 'GridWorldOption.GridWorldOption.get_action'\n",
      "Traceback (most recent call last):\n",
      "  File \"/home/otavio/git/tcc/mcts-simulate/mcts/utils.py\", line 146, in expand\n",
      "    action, should_break = option.get_action(env.state())\n",
      "AttributeError: 'tuple' object has no attribute 'cur_x'\n"
     ]
    },
    {
     "ename": "AttributeError",
     "evalue": "'tuple' object has no attribute 'cur_x'",
     "output_type": "error",
     "traceback": [
      "\u001b[0;31m---------------------------------------------------------------------------\u001b[0m",
      "\u001b[0;31mAttributeError\u001b[0m                            Traceback (most recent call last)",
      "\u001b[0;31mAttributeError\u001b[0m: 'tuple' object has no attribute 'cur_x'"
     ]
    },
    {
     "name": "stderr",
     "output_type": "stream",
     "text": [
      "Exception ignored in: 'GridWorldOption.GridWorldOption.get_action'\n",
      "Traceback (most recent call last):\n",
      "  File \"/home/otavio/git/tcc/mcts-simulate/mcts/utils.py\", line 146, in expand\n",
      "    action, should_break = option.get_action(env.state())\n",
      "AttributeError: 'tuple' object has no attribute 'cur_x'\n"
     ]
    },
    {
     "ename": "AttributeError",
     "evalue": "'tuple' object has no attribute 'cur_x'",
     "output_type": "error",
     "traceback": [
      "\u001b[0;31m---------------------------------------------------------------------------\u001b[0m",
      "\u001b[0;31mAttributeError\u001b[0m                            Traceback (most recent call last)",
      "\u001b[0;31mAttributeError\u001b[0m: 'tuple' object has no attribute 'cur_x'"
     ]
    },
    {
     "name": "stderr",
     "output_type": "stream",
     "text": [
      "Exception ignored in: 'GridWorldOption.GridWorldOption.get_action'\n",
      "Traceback (most recent call last):\n",
      "  File \"/home/otavio/git/tcc/mcts-simulate/mcts/utils.py\", line 146, in expand\n",
      "    action, should_break = option.get_action(env.state())\n",
      "AttributeError: 'tuple' object has no attribute 'cur_x'\n"
     ]
    },
    {
     "ename": "AttributeError",
     "evalue": "'tuple' object has no attribute 'cur_x'",
     "output_type": "error",
     "traceback": [
      "\u001b[0;31m---------------------------------------------------------------------------\u001b[0m",
      "\u001b[0;31mAttributeError\u001b[0m                            Traceback (most recent call last)",
      "\u001b[0;31mAttributeError\u001b[0m: 'tuple' object has no attribute 'cur_x'"
     ]
    },
    {
     "name": "stderr",
     "output_type": "stream",
     "text": [
      "Exception ignored in: 'GridWorldOption.GridWorldOption.get_action'\n",
      "Traceback (most recent call last):\n",
      "  File \"/home/otavio/git/tcc/mcts-simulate/mcts/utils.py\", line 146, in expand\n",
      "    action, should_break = option.get_action(env.state())\n",
      "AttributeError: 'tuple' object has no attribute 'cur_x'\n"
     ]
    },
    {
     "ename": "AttributeError",
     "evalue": "'tuple' object has no attribute 'cur_x'",
     "output_type": "error",
     "traceback": [
      "\u001b[0;31m---------------------------------------------------------------------------\u001b[0m",
      "\u001b[0;31mAttributeError\u001b[0m                            Traceback (most recent call last)",
      "\u001b[0;31mAttributeError\u001b[0m: 'tuple' object has no attribute 'cur_x'"
     ]
    },
    {
     "name": "stderr",
     "output_type": "stream",
     "text": [
      "Exception ignored in: 'GridWorldOption.GridWorldOption.get_action'\n",
      "Traceback (most recent call last):\n",
      "  File \"/home/otavio/git/tcc/mcts-simulate/mcts/utils.py\", line 146, in expand\n",
      "    action, should_break = option.get_action(env.state())\n",
      "AttributeError: 'tuple' object has no attribute 'cur_x'\n"
     ]
    },
    {
     "ename": "AttributeError",
     "evalue": "'tuple' object has no attribute 'cur_x'",
     "output_type": "error",
     "traceback": [
      "\u001b[0;31m---------------------------------------------------------------------------\u001b[0m",
      "\u001b[0;31mAttributeError\u001b[0m                            Traceback (most recent call last)",
      "\u001b[0;31mAttributeError\u001b[0m: 'tuple' object has no attribute 'cur_x'"
     ]
    },
    {
     "name": "stderr",
     "output_type": "stream",
     "text": [
      "Exception ignored in: 'GridWorldOption.GridWorldOption.get_action'\n",
      "Traceback (most recent call last):\n",
      "  File \"/home/otavio/git/tcc/mcts-simulate/mcts/utils.py\", line 146, in expand\n",
      "    action, should_break = option.get_action(env.state())\n",
      "AttributeError: 'tuple' object has no attribute 'cur_x'\n"
     ]
    },
    {
     "ename": "AttributeError",
     "evalue": "'tuple' object has no attribute 'cur_x'",
     "output_type": "error",
     "traceback": [
      "\u001b[0;31m---------------------------------------------------------------------------\u001b[0m",
      "\u001b[0;31mAttributeError\u001b[0m                            Traceback (most recent call last)",
      "\u001b[0;31mAttributeError\u001b[0m: 'tuple' object has no attribute 'cur_x'"
     ]
    },
    {
     "name": "stderr",
     "output_type": "stream",
     "text": [
      "Exception ignored in: 'GridWorldOption.GridWorldOption.get_action'\n",
      "Traceback (most recent call last):\n",
      "  File \"/home/otavio/git/tcc/mcts-simulate/mcts/utils.py\", line 146, in expand\n",
      "    action, should_break = option.get_action(env.state())\n",
      "AttributeError: 'tuple' object has no attribute 'cur_x'\n"
     ]
    },
    {
     "ename": "AttributeError",
     "evalue": "'tuple' object has no attribute 'cur_x'",
     "output_type": "error",
     "traceback": [
      "\u001b[0;31m---------------------------------------------------------------------------\u001b[0m",
      "\u001b[0;31mAttributeError\u001b[0m                            Traceback (most recent call last)",
      "\u001b[0;31mAttributeError\u001b[0m: 'tuple' object has no attribute 'cur_x'"
     ]
    },
    {
     "name": "stderr",
     "output_type": "stream",
     "text": [
      "Exception ignored in: 'GridWorldOption.GridWorldOption.get_action'\n",
      "Traceback (most recent call last):\n",
      "  File \"/home/otavio/git/tcc/mcts-simulate/mcts/utils.py\", line 146, in expand\n",
      "    action, should_break = option.get_action(env.state())\n",
      "AttributeError: 'tuple' object has no attribute 'cur_x'\n"
     ]
    },
    {
     "ename": "AttributeError",
     "evalue": "'tuple' object has no attribute 'cur_x'",
     "output_type": "error",
     "traceback": [
      "\u001b[0;31m---------------------------------------------------------------------------\u001b[0m",
      "\u001b[0;31mAttributeError\u001b[0m                            Traceback (most recent call last)",
      "\u001b[0;31mAttributeError\u001b[0m: 'tuple' object has no attribute 'cur_x'"
     ]
    },
    {
     "name": "stderr",
     "output_type": "stream",
     "text": [
      "Exception ignored in: 'GridWorldOption.GridWorldOption.get_action'\n",
      "Traceback (most recent call last):\n",
      "  File \"/home/otavio/git/tcc/mcts-simulate/mcts/utils.py\", line 146, in expand\n",
      "    action, should_break = option.get_action(env.state())\n",
      "AttributeError: 'tuple' object has no attribute 'cur_x'\n"
     ]
    },
    {
     "ename": "AttributeError",
     "evalue": "'tuple' object has no attribute 'cur_x'",
     "output_type": "error",
     "traceback": [
      "\u001b[0;31m---------------------------------------------------------------------------\u001b[0m",
      "\u001b[0;31mAttributeError\u001b[0m                            Traceback (most recent call last)",
      "\u001b[0;31mAttributeError\u001b[0m: 'tuple' object has no attribute 'cur_x'"
     ]
    },
    {
     "name": "stderr",
     "output_type": "stream",
     "text": [
      "Exception ignored in: 'GridWorldOption.GridWorldOption.get_action'\n",
      "Traceback (most recent call last):\n",
      "  File \"/home/otavio/git/tcc/mcts-simulate/mcts/utils.py\", line 146, in expand\n",
      "    action, should_break = option.get_action(env.state())\n",
      "AttributeError: 'tuple' object has no attribute 'cur_x'\n"
     ]
    },
    {
     "ename": "AttributeError",
     "evalue": "'tuple' object has no attribute 'cur_x'",
     "output_type": "error",
     "traceback": [
      "\u001b[0;31m---------------------------------------------------------------------------\u001b[0m",
      "\u001b[0;31mAttributeError\u001b[0m                            Traceback (most recent call last)",
      "\u001b[0;31mAttributeError\u001b[0m: 'tuple' object has no attribute 'cur_x'"
     ]
    },
    {
     "name": "stderr",
     "output_type": "stream",
     "text": [
      "Exception ignored in: 'GridWorldOption.GridWorldOption.get_action'\n",
      "Traceback (most recent call last):\n",
      "  File \"/home/otavio/git/tcc/mcts-simulate/mcts/utils.py\", line 146, in expand\n",
      "    action, should_break = option.get_action(env.state())\n",
      "AttributeError: 'tuple' object has no attribute 'cur_x'\n"
     ]
    },
    {
     "ename": "AttributeError",
     "evalue": "'tuple' object has no attribute 'cur_x'",
     "output_type": "error",
     "traceback": [
      "\u001b[0;31m---------------------------------------------------------------------------\u001b[0m",
      "\u001b[0;31mAttributeError\u001b[0m                            Traceback (most recent call last)",
      "\u001b[0;31mAttributeError\u001b[0m: 'tuple' object has no attribute 'cur_x'"
     ]
    },
    {
     "name": "stderr",
     "output_type": "stream",
     "text": [
      "Exception ignored in: 'GridWorldOption.GridWorldOption.get_action'\n",
      "Traceback (most recent call last):\n",
      "  File \"/home/otavio/git/tcc/mcts-simulate/mcts/utils.py\", line 146, in expand\n",
      "    action, should_break = option.get_action(env.state())\n",
      "AttributeError: 'tuple' object has no attribute 'cur_x'\n"
     ]
    },
    {
     "ename": "AttributeError",
     "evalue": "'tuple' object has no attribute 'cur_x'",
     "output_type": "error",
     "traceback": [
      "\u001b[0;31m---------------------------------------------------------------------------\u001b[0m",
      "\u001b[0;31mAttributeError\u001b[0m                            Traceback (most recent call last)",
      "\u001b[0;31mAttributeError\u001b[0m: 'tuple' object has no attribute 'cur_x'"
     ]
    },
    {
     "name": "stderr",
     "output_type": "stream",
     "text": [
      "Exception ignored in: 'GridWorldOption.GridWorldOption.get_action'\n",
      "Traceback (most recent call last):\n",
      "  File \"/home/otavio/git/tcc/mcts-simulate/mcts/utils.py\", line 146, in expand\n",
      "    action, should_break = option.get_action(env.state())\n",
      "AttributeError: 'tuple' object has no attribute 'cur_x'\n"
     ]
    },
    {
     "ename": "AttributeError",
     "evalue": "'tuple' object has no attribute 'cur_x'",
     "output_type": "error",
     "traceback": [
      "\u001b[0;31m---------------------------------------------------------------------------\u001b[0m",
      "\u001b[0;31mAttributeError\u001b[0m                            Traceback (most recent call last)",
      "\u001b[0;31mAttributeError\u001b[0m: 'tuple' object has no attribute 'cur_x'"
     ]
    },
    {
     "name": "stderr",
     "output_type": "stream",
     "text": [
      "Exception ignored in: 'GridWorldOption.GridWorldOption.get_action'\n",
      "Traceback (most recent call last):\n",
      "  File \"/home/otavio/git/tcc/mcts-simulate/mcts/utils.py\", line 146, in expand\n",
      "    action, should_break = option.get_action(env.state())\n",
      "AttributeError: 'tuple' object has no attribute 'cur_x'\n"
     ]
    },
    {
     "ename": "AttributeError",
     "evalue": "'tuple' object has no attribute 'cur_x'",
     "output_type": "error",
     "traceback": [
      "\u001b[0;31m---------------------------------------------------------------------------\u001b[0m",
      "\u001b[0;31mAttributeError\u001b[0m                            Traceback (most recent call last)",
      "\u001b[0;31mAttributeError\u001b[0m: 'tuple' object has no attribute 'cur_x'"
     ]
    },
    {
     "name": "stderr",
     "output_type": "stream",
     "text": [
      "Exception ignored in: 'GridWorldOption.GridWorldOption.get_action'\n",
      "Traceback (most recent call last):\n",
      "  File \"/home/otavio/git/tcc/mcts-simulate/mcts/utils.py\", line 146, in expand\n",
      "    action, should_break = option.get_action(env.state())\n",
      "AttributeError: 'tuple' object has no attribute 'cur_x'\n"
     ]
    },
    {
     "ename": "AttributeError",
     "evalue": "'tuple' object has no attribute 'cur_x'",
     "output_type": "error",
     "traceback": [
      "\u001b[0;31m---------------------------------------------------------------------------\u001b[0m",
      "\u001b[0;31mAttributeError\u001b[0m                            Traceback (most recent call last)",
      "\u001b[0;31mAttributeError\u001b[0m: 'tuple' object has no attribute 'cur_x'"
     ]
    },
    {
     "name": "stderr",
     "output_type": "stream",
     "text": [
      "Exception ignored in: 'GridWorldOption.GridWorldOption.get_action'\n",
      "Traceback (most recent call last):\n",
      "  File \"/home/otavio/git/tcc/mcts-simulate/mcts/utils.py\", line 146, in expand\n",
      "    action, should_break = option.get_action(env.state())\n",
      "AttributeError: 'tuple' object has no attribute 'cur_x'\n"
     ]
    },
    {
     "ename": "AttributeError",
     "evalue": "'tuple' object has no attribute 'cur_x'",
     "output_type": "error",
     "traceback": [
      "\u001b[0;31m---------------------------------------------------------------------------\u001b[0m",
      "\u001b[0;31mAttributeError\u001b[0m                            Traceback (most recent call last)",
      "\u001b[0;31mAttributeError\u001b[0m: 'tuple' object has no attribute 'cur_x'"
     ]
    },
    {
     "name": "stderr",
     "output_type": "stream",
     "text": [
      "Exception ignored in: 'GridWorldOption.GridWorldOption.get_action'\n",
      "Traceback (most recent call last):\n",
      "  File \"/home/otavio/git/tcc/mcts-simulate/mcts/utils.py\", line 146, in expand\n",
      "    action, should_break = option.get_action(env.state())\n",
      "AttributeError: 'tuple' object has no attribute 'cur_x'\n"
     ]
    },
    {
     "ename": "AttributeError",
     "evalue": "'tuple' object has no attribute 'cur_x'",
     "output_type": "error",
     "traceback": [
      "\u001b[0;31m---------------------------------------------------------------------------\u001b[0m",
      "\u001b[0;31mAttributeError\u001b[0m                            Traceback (most recent call last)",
      "\u001b[0;31mAttributeError\u001b[0m: 'tuple' object has no attribute 'cur_x'"
     ]
    },
    {
     "name": "stderr",
     "output_type": "stream",
     "text": [
      "Exception ignored in: 'GridWorldOption.GridWorldOption.get_action'\n",
      "Traceback (most recent call last):\n",
      "  File \"/home/otavio/git/tcc/mcts-simulate/mcts/utils.py\", line 146, in expand\n",
      "    action, should_break = option.get_action(env.state())\n",
      "AttributeError: 'tuple' object has no attribute 'cur_x'\n"
     ]
    },
    {
     "ename": "AttributeError",
     "evalue": "'tuple' object has no attribute 'cur_x'",
     "output_type": "error",
     "traceback": [
      "\u001b[0;31m---------------------------------------------------------------------------\u001b[0m",
      "\u001b[0;31mAttributeError\u001b[0m                            Traceback (most recent call last)",
      "\u001b[0;31mAttributeError\u001b[0m: 'tuple' object has no attribute 'cur_x'"
     ]
    },
    {
     "name": "stderr",
     "output_type": "stream",
     "text": [
      "Exception ignored in: 'GridWorldOption.GridWorldOption.get_action'\n",
      "Traceback (most recent call last):\n",
      "  File \"/home/otavio/git/tcc/mcts-simulate/mcts/utils.py\", line 146, in expand\n",
      "    action, should_break = option.get_action(env.state())\n",
      "AttributeError: 'tuple' object has no attribute 'cur_x'\n"
     ]
    },
    {
     "ename": "AttributeError",
     "evalue": "'tuple' object has no attribute 'cur_x'",
     "output_type": "error",
     "traceback": [
      "\u001b[0;31m---------------------------------------------------------------------------\u001b[0m",
      "\u001b[0;31mAttributeError\u001b[0m                            Traceback (most recent call last)",
      "\u001b[0;31mAttributeError\u001b[0m: 'tuple' object has no attribute 'cur_x'"
     ]
    },
    {
     "name": "stderr",
     "output_type": "stream",
     "text": [
      "Exception ignored in: 'GridWorldOption.GridWorldOption.get_action'\n",
      "Traceback (most recent call last):\n",
      "  File \"/home/otavio/git/tcc/mcts-simulate/mcts/utils.py\", line 146, in expand\n",
      "    action, should_break = option.get_action(env.state())\n",
      "AttributeError: 'tuple' object has no attribute 'cur_x'\n"
     ]
    },
    {
     "ename": "AttributeError",
     "evalue": "'tuple' object has no attribute 'cur_x'",
     "output_type": "error",
     "traceback": [
      "\u001b[0;31m---------------------------------------------------------------------------\u001b[0m",
      "\u001b[0;31mAttributeError\u001b[0m                            Traceback (most recent call last)",
      "\u001b[0;31mAttributeError\u001b[0m: 'tuple' object has no attribute 'cur_x'"
     ]
    },
    {
     "name": "stderr",
     "output_type": "stream",
     "text": [
      "Exception ignored in: 'GridWorldOption.GridWorldOption.get_action'\n",
      "Traceback (most recent call last):\n",
      "  File \"/home/otavio/git/tcc/mcts-simulate/mcts/utils.py\", line 146, in expand\n",
      "    action, should_break = option.get_action(env.state())\n",
      "AttributeError: 'tuple' object has no attribute 'cur_x'\n"
     ]
    },
    {
     "ename": "AttributeError",
     "evalue": "'tuple' object has no attribute 'cur_x'",
     "output_type": "error",
     "traceback": [
      "\u001b[0;31m---------------------------------------------------------------------------\u001b[0m",
      "\u001b[0;31mAttributeError\u001b[0m                            Traceback (most recent call last)",
      "\u001b[0;31mAttributeError\u001b[0m: 'tuple' object has no attribute 'cur_x'"
     ]
    },
    {
     "name": "stderr",
     "output_type": "stream",
     "text": [
      "Exception ignored in: 'GridWorldOption.GridWorldOption.get_action'\n",
      "Traceback (most recent call last):\n",
      "  File \"/home/otavio/git/tcc/mcts-simulate/mcts/utils.py\", line 146, in expand\n",
      "    action, should_break = option.get_action(env.state())\n",
      "AttributeError: 'tuple' object has no attribute 'cur_x'\n"
     ]
    },
    {
     "ename": "AttributeError",
     "evalue": "'tuple' object has no attribute 'cur_x'",
     "output_type": "error",
     "traceback": [
      "\u001b[0;31m---------------------------------------------------------------------------\u001b[0m",
      "\u001b[0;31mAttributeError\u001b[0m                            Traceback (most recent call last)",
      "\u001b[0;31mAttributeError\u001b[0m: 'tuple' object has no attribute 'cur_x'"
     ]
    },
    {
     "name": "stderr",
     "output_type": "stream",
     "text": [
      "Exception ignored in: 'GridWorldOption.GridWorldOption.get_action'\n",
      "Traceback (most recent call last):\n",
      "  File \"/home/otavio/git/tcc/mcts-simulate/mcts/utils.py\", line 146, in expand\n",
      "    action, should_break = option.get_action(env.state())\n",
      "AttributeError: 'tuple' object has no attribute 'cur_x'\n"
     ]
    },
    {
     "ename": "AttributeError",
     "evalue": "'tuple' object has no attribute 'cur_x'",
     "output_type": "error",
     "traceback": [
      "\u001b[0;31m---------------------------------------------------------------------------\u001b[0m",
      "\u001b[0;31mAttributeError\u001b[0m                            Traceback (most recent call last)",
      "\u001b[0;31mAttributeError\u001b[0m: 'tuple' object has no attribute 'cur_x'"
     ]
    },
    {
     "name": "stderr",
     "output_type": "stream",
     "text": [
      "Exception ignored in: 'GridWorldOption.GridWorldOption.get_action'\n",
      "Traceback (most recent call last):\n",
      "  File \"/home/otavio/git/tcc/mcts-simulate/mcts/utils.py\", line 146, in expand\n",
      "    action, should_break = option.get_action(env.state())\n",
      "AttributeError: 'tuple' object has no attribute 'cur_x'\n"
     ]
    },
    {
     "ename": "AttributeError",
     "evalue": "'tuple' object has no attribute 'cur_x'",
     "output_type": "error",
     "traceback": [
      "\u001b[0;31m---------------------------------------------------------------------------\u001b[0m",
      "\u001b[0;31mAttributeError\u001b[0m                            Traceback (most recent call last)",
      "\u001b[0;31mAttributeError\u001b[0m: 'tuple' object has no attribute 'cur_x'"
     ]
    },
    {
     "name": "stderr",
     "output_type": "stream",
     "text": [
      "Exception ignored in: 'GridWorldOption.GridWorldOption.get_action'\n",
      "Traceback (most recent call last):\n",
      "  File \"/home/otavio/git/tcc/mcts-simulate/mcts/utils.py\", line 146, in expand\n",
      "    action, should_break = option.get_action(env.state())\n",
      "AttributeError: 'tuple' object has no attribute 'cur_x'\n"
     ]
    },
    {
     "ename": "AttributeError",
     "evalue": "'tuple' object has no attribute 'cur_x'",
     "output_type": "error",
     "traceback": [
      "\u001b[0;31m---------------------------------------------------------------------------\u001b[0m",
      "\u001b[0;31mAttributeError\u001b[0m                            Traceback (most recent call last)",
      "\u001b[0;31mAttributeError\u001b[0m: 'tuple' object has no attribute 'cur_x'"
     ]
    },
    {
     "name": "stderr",
     "output_type": "stream",
     "text": [
      "Exception ignored in: 'GridWorldOption.GridWorldOption.get_action'\n",
      "Traceback (most recent call last):\n",
      "  File \"/home/otavio/git/tcc/mcts-simulate/mcts/utils.py\", line 146, in expand\n",
      "    action, should_break = option.get_action(env.state())\n",
      "AttributeError: 'tuple' object has no attribute 'cur_x'\n"
     ]
    },
    {
     "ename": "AttributeError",
     "evalue": "'tuple' object has no attribute 'cur_x'",
     "output_type": "error",
     "traceback": [
      "\u001b[0;31m---------------------------------------------------------------------------\u001b[0m",
      "\u001b[0;31mAttributeError\u001b[0m                            Traceback (most recent call last)",
      "\u001b[0;31mAttributeError\u001b[0m: 'tuple' object has no attribute 'cur_x'"
     ]
    },
    {
     "name": "stderr",
     "output_type": "stream",
     "text": [
      "Exception ignored in: 'GridWorldOption.GridWorldOption.get_action'\n",
      "Traceback (most recent call last):\n",
      "  File \"/home/otavio/git/tcc/mcts-simulate/mcts/utils.py\", line 146, in expand\n",
      "    action, should_break = option.get_action(env.state())\n",
      "AttributeError: 'tuple' object has no attribute 'cur_x'\n"
     ]
    },
    {
     "ename": "AttributeError",
     "evalue": "'tuple' object has no attribute 'cur_x'",
     "output_type": "error",
     "traceback": [
      "\u001b[0;31m---------------------------------------------------------------------------\u001b[0m",
      "\u001b[0;31mAttributeError\u001b[0m                            Traceback (most recent call last)",
      "\u001b[0;31mAttributeError\u001b[0m: 'tuple' object has no attribute 'cur_x'"
     ]
    },
    {
     "name": "stderr",
     "output_type": "stream",
     "text": [
      "Exception ignored in: 'GridWorldOption.GridWorldOption.get_action'\n",
      "Traceback (most recent call last):\n",
      "  File \"/home/otavio/git/tcc/mcts-simulate/mcts/utils.py\", line 146, in expand\n",
      "    action, should_break = option.get_action(env.state())\n",
      "AttributeError: 'tuple' object has no attribute 'cur_x'\n"
     ]
    },
    {
     "ename": "AttributeError",
     "evalue": "'tuple' object has no attribute 'cur_x'",
     "output_type": "error",
     "traceback": [
      "\u001b[0;31m---------------------------------------------------------------------------\u001b[0m",
      "\u001b[0;31mAttributeError\u001b[0m                            Traceback (most recent call last)",
      "\u001b[0;31mAttributeError\u001b[0m: 'tuple' object has no attribute 'cur_x'"
     ]
    },
    {
     "name": "stderr",
     "output_type": "stream",
     "text": [
      "Exception ignored in: 'GridWorldOption.GridWorldOption.get_action'\n",
      "Traceback (most recent call last):\n",
      "  File \"/home/otavio/git/tcc/mcts-simulate/mcts/utils.py\", line 146, in expand\n",
      "    action, should_break = option.get_action(env.state())\n",
      "AttributeError: 'tuple' object has no attribute 'cur_x'\n"
     ]
    },
    {
     "ename": "AttributeError",
     "evalue": "'tuple' object has no attribute 'cur_x'",
     "output_type": "error",
     "traceback": [
      "\u001b[0;31m---------------------------------------------------------------------------\u001b[0m",
      "\u001b[0;31mAttributeError\u001b[0m                            Traceback (most recent call last)",
      "\u001b[0;31mAttributeError\u001b[0m: 'tuple' object has no attribute 'cur_x'"
     ]
    },
    {
     "name": "stderr",
     "output_type": "stream",
     "text": [
      "Exception ignored in: 'GridWorldOption.GridWorldOption.get_action'\n",
      "Traceback (most recent call last):\n",
      "  File \"/home/otavio/git/tcc/mcts-simulate/mcts/utils.py\", line 146, in expand\n",
      "    action, should_break = option.get_action(env.state())\n",
      "AttributeError: 'tuple' object has no attribute 'cur_x'\n"
     ]
    },
    {
     "ename": "AttributeError",
     "evalue": "'tuple' object has no attribute 'cur_x'",
     "output_type": "error",
     "traceback": [
      "\u001b[0;31m---------------------------------------------------------------------------\u001b[0m",
      "\u001b[0;31mAttributeError\u001b[0m                            Traceback (most recent call last)",
      "\u001b[0;31mAttributeError\u001b[0m: 'tuple' object has no attribute 'cur_x'"
     ]
    },
    {
     "name": "stderr",
     "output_type": "stream",
     "text": [
      "Exception ignored in: 'GridWorldOption.GridWorldOption.get_action'\n",
      "Traceback (most recent call last):\n",
      "  File \"/home/otavio/git/tcc/mcts-simulate/mcts/utils.py\", line 146, in expand\n",
      "    action, should_break = option.get_action(env.state())\n",
      "AttributeError: 'tuple' object has no attribute 'cur_x'\n"
     ]
    },
    {
     "ename": "AttributeError",
     "evalue": "'tuple' object has no attribute 'cur_x'",
     "output_type": "error",
     "traceback": [
      "\u001b[0;31m---------------------------------------------------------------------------\u001b[0m",
      "\u001b[0;31mAttributeError\u001b[0m                            Traceback (most recent call last)",
      "\u001b[0;31mAttributeError\u001b[0m: 'tuple' object has no attribute 'cur_x'"
     ]
    },
    {
     "name": "stderr",
     "output_type": "stream",
     "text": [
      "Exception ignored in: 'GridWorldOption.GridWorldOption.get_action'\n",
      "Traceback (most recent call last):\n",
      "  File \"/home/otavio/git/tcc/mcts-simulate/mcts/utils.py\", line 146, in expand\n",
      "    action, should_break = option.get_action(env.state())\n",
      "AttributeError: 'tuple' object has no attribute 'cur_x'\n"
     ]
    },
    {
     "ename": "AttributeError",
     "evalue": "'tuple' object has no attribute 'cur_x'",
     "output_type": "error",
     "traceback": [
      "\u001b[0;31m---------------------------------------------------------------------------\u001b[0m",
      "\u001b[0;31mAttributeError\u001b[0m                            Traceback (most recent call last)",
      "\u001b[0;31mAttributeError\u001b[0m: 'tuple' object has no attribute 'cur_x'"
     ]
    },
    {
     "name": "stderr",
     "output_type": "stream",
     "text": [
      "Exception ignored in: 'GridWorldOption.GridWorldOption.get_action'\n",
      "Traceback (most recent call last):\n",
      "  File \"/home/otavio/git/tcc/mcts-simulate/mcts/utils.py\", line 146, in expand\n",
      "    action, should_break = option.get_action(env.state())\n",
      "AttributeError: 'tuple' object has no attribute 'cur_x'\n"
     ]
    },
    {
     "ename": "AttributeError",
     "evalue": "'tuple' object has no attribute 'cur_x'",
     "output_type": "error",
     "traceback": [
      "\u001b[0;31m---------------------------------------------------------------------------\u001b[0m",
      "\u001b[0;31mAttributeError\u001b[0m                            Traceback (most recent call last)",
      "\u001b[0;31mAttributeError\u001b[0m: 'tuple' object has no attribute 'cur_x'"
     ]
    },
    {
     "name": "stderr",
     "output_type": "stream",
     "text": [
      "Exception ignored in: 'GridWorldOption.GridWorldOption.get_action'\n",
      "Traceback (most recent call last):\n",
      "  File \"/home/otavio/git/tcc/mcts-simulate/mcts/utils.py\", line 146, in expand\n",
      "    action, should_break = option.get_action(env.state())\n",
      "AttributeError: 'tuple' object has no attribute 'cur_x'\n"
     ]
    },
    {
     "ename": "AttributeError",
     "evalue": "'tuple' object has no attribute 'cur_x'",
     "output_type": "error",
     "traceback": [
      "\u001b[0;31m---------------------------------------------------------------------------\u001b[0m",
      "\u001b[0;31mAttributeError\u001b[0m                            Traceback (most recent call last)",
      "\u001b[0;31mAttributeError\u001b[0m: 'tuple' object has no attribute 'cur_x'"
     ]
    },
    {
     "name": "stderr",
     "output_type": "stream",
     "text": [
      "Exception ignored in: 'GridWorldOption.GridWorldOption.get_action'\n",
      "Traceback (most recent call last):\n",
      "  File \"/home/otavio/git/tcc/mcts-simulate/mcts/utils.py\", line 146, in expand\n",
      "    action, should_break = option.get_action(env.state())\n",
      "AttributeError: 'tuple' object has no attribute 'cur_x'\n"
     ]
    },
    {
     "ename": "AttributeError",
     "evalue": "'tuple' object has no attribute 'cur_x'",
     "output_type": "error",
     "traceback": [
      "\u001b[0;31m---------------------------------------------------------------------------\u001b[0m",
      "\u001b[0;31mAttributeError\u001b[0m                            Traceback (most recent call last)",
      "\u001b[0;31mAttributeError\u001b[0m: 'tuple' object has no attribute 'cur_x'"
     ]
    },
    {
     "name": "stderr",
     "output_type": "stream",
     "text": [
      "Exception ignored in: 'GridWorldOption.GridWorldOption.get_action'\n",
      "Traceback (most recent call last):\n",
      "  File \"/home/otavio/git/tcc/mcts-simulate/mcts/utils.py\", line 146, in expand\n",
      "    action, should_break = option.get_action(env.state())\n",
      "AttributeError: 'tuple' object has no attribute 'cur_x'\n"
     ]
    },
    {
     "ename": "AttributeError",
     "evalue": "'tuple' object has no attribute 'cur_x'",
     "output_type": "error",
     "traceback": [
      "\u001b[0;31m---------------------------------------------------------------------------\u001b[0m",
      "\u001b[0;31mAttributeError\u001b[0m                            Traceback (most recent call last)",
      "\u001b[0;31mAttributeError\u001b[0m: 'tuple' object has no attribute 'cur_x'"
     ]
    },
    {
     "name": "stderr",
     "output_type": "stream",
     "text": [
      "Exception ignored in: 'GridWorldOption.GridWorldOption.get_action'\n",
      "Traceback (most recent call last):\n",
      "  File \"/home/otavio/git/tcc/mcts-simulate/mcts/utils.py\", line 146, in expand\n",
      "    action, should_break = option.get_action(env.state())\n",
      "AttributeError: 'tuple' object has no attribute 'cur_x'\n"
     ]
    },
    {
     "ename": "AttributeError",
     "evalue": "'tuple' object has no attribute 'cur_x'",
     "output_type": "error",
     "traceback": [
      "\u001b[0;31m---------------------------------------------------------------------------\u001b[0m",
      "\u001b[0;31mAttributeError\u001b[0m                            Traceback (most recent call last)",
      "\u001b[0;31mAttributeError\u001b[0m: 'tuple' object has no attribute 'cur_x'"
     ]
    },
    {
     "name": "stderr",
     "output_type": "stream",
     "text": [
      "Exception ignored in: 'GridWorldOption.GridWorldOption.get_action'\n",
      "Traceback (most recent call last):\n",
      "  File \"/home/otavio/git/tcc/mcts-simulate/mcts/utils.py\", line 146, in expand\n",
      "    action, should_break = option.get_action(env.state())\n",
      "AttributeError: 'tuple' object has no attribute 'cur_x'\n"
     ]
    },
    {
     "ename": "AttributeError",
     "evalue": "'tuple' object has no attribute 'cur_x'",
     "output_type": "error",
     "traceback": [
      "\u001b[0;31m---------------------------------------------------------------------------\u001b[0m",
      "\u001b[0;31mAttributeError\u001b[0m                            Traceback (most recent call last)",
      "\u001b[0;31mAttributeError\u001b[0m: 'tuple' object has no attribute 'cur_x'"
     ]
    },
    {
     "name": "stderr",
     "output_type": "stream",
     "text": [
      "Exception ignored in: 'GridWorldOption.GridWorldOption.get_action'\n",
      "Traceback (most recent call last):\n",
      "  File \"/home/otavio/git/tcc/mcts-simulate/mcts/utils.py\", line 146, in expand\n",
      "    action, should_break = option.get_action(env.state())\n",
      "AttributeError: 'tuple' object has no attribute 'cur_x'\n"
     ]
    },
    {
     "ename": "AttributeError",
     "evalue": "'tuple' object has no attribute 'cur_x'",
     "output_type": "error",
     "traceback": [
      "\u001b[0;31m---------------------------------------------------------------------------\u001b[0m",
      "\u001b[0;31mAttributeError\u001b[0m                            Traceback (most recent call last)",
      "\u001b[0;31mAttributeError\u001b[0m: 'tuple' object has no attribute 'cur_x'"
     ]
    },
    {
     "name": "stderr",
     "output_type": "stream",
     "text": [
      "Exception ignored in: 'GridWorldOption.GridWorldOption.get_action'\n",
      "Traceback (most recent call last):\n",
      "  File \"/home/otavio/git/tcc/mcts-simulate/mcts/utils.py\", line 146, in expand\n",
      "    action, should_break = option.get_action(env.state())\n",
      "AttributeError: 'tuple' object has no attribute 'cur_x'\n"
     ]
    },
    {
     "ename": "AttributeError",
     "evalue": "'tuple' object has no attribute 'cur_x'",
     "output_type": "error",
     "traceback": [
      "\u001b[0;31m---------------------------------------------------------------------------\u001b[0m",
      "\u001b[0;31mAttributeError\u001b[0m                            Traceback (most recent call last)",
      "\u001b[0;31mAttributeError\u001b[0m: 'tuple' object has no attribute 'cur_x'"
     ]
    },
    {
     "name": "stderr",
     "output_type": "stream",
     "text": [
      "Exception ignored in: 'GridWorldOption.GridWorldOption.get_action'\n",
      "Traceback (most recent call last):\n",
      "  File \"/home/otavio/git/tcc/mcts-simulate/mcts/utils.py\", line 146, in expand\n",
      "    action, should_break = option.get_action(env.state())\n",
      "AttributeError: 'tuple' object has no attribute 'cur_x'\n"
     ]
    },
    {
     "ename": "AttributeError",
     "evalue": "'tuple' object has no attribute 'cur_x'",
     "output_type": "error",
     "traceback": [
      "\u001b[0;31m---------------------------------------------------------------------------\u001b[0m",
      "\u001b[0;31mAttributeError\u001b[0m                            Traceback (most recent call last)",
      "\u001b[0;31mAttributeError\u001b[0m: 'tuple' object has no attribute 'cur_x'"
     ]
    },
    {
     "name": "stderr",
     "output_type": "stream",
     "text": [
      "Exception ignored in: 'GridWorldOption.GridWorldOption.get_action'\n",
      "Traceback (most recent call last):\n",
      "  File \"/home/otavio/git/tcc/mcts-simulate/mcts/utils.py\", line 146, in expand\n",
      "    action, should_break = option.get_action(env.state())\n",
      "AttributeError: 'tuple' object has no attribute 'cur_x'\n"
     ]
    },
    {
     "ename": "AttributeError",
     "evalue": "'tuple' object has no attribute 'cur_x'",
     "output_type": "error",
     "traceback": [
      "\u001b[0;31m---------------------------------------------------------------------------\u001b[0m",
      "\u001b[0;31mAttributeError\u001b[0m                            Traceback (most recent call last)",
      "\u001b[0;31mAttributeError\u001b[0m: 'tuple' object has no attribute 'cur_x'"
     ]
    },
    {
     "name": "stderr",
     "output_type": "stream",
     "text": [
      "Exception ignored in: 'GridWorldOption.GridWorldOption.get_action'\n",
      "Traceback (most recent call last):\n",
      "  File \"/home/otavio/git/tcc/mcts-simulate/mcts/utils.py\", line 146, in expand\n",
      "    action, should_break = option.get_action(env.state())\n",
      "AttributeError: 'tuple' object has no attribute 'cur_x'\n"
     ]
    },
    {
     "ename": "AttributeError",
     "evalue": "'tuple' object has no attribute 'cur_x'",
     "output_type": "error",
     "traceback": [
      "\u001b[0;31m---------------------------------------------------------------------------\u001b[0m",
      "\u001b[0;31mAttributeError\u001b[0m                            Traceback (most recent call last)",
      "\u001b[0;31mAttributeError\u001b[0m: 'tuple' object has no attribute 'cur_x'"
     ]
    },
    {
     "name": "stderr",
     "output_type": "stream",
     "text": [
      "Exception ignored in: 'GridWorldOption.GridWorldOption.get_action'\n",
      "Traceback (most recent call last):\n",
      "  File \"/home/otavio/git/tcc/mcts-simulate/mcts/utils.py\", line 146, in expand\n",
      "    action, should_break = option.get_action(env.state())\n",
      "AttributeError: 'tuple' object has no attribute 'cur_x'\n"
     ]
    },
    {
     "ename": "AttributeError",
     "evalue": "'tuple' object has no attribute 'cur_x'",
     "output_type": "error",
     "traceback": [
      "\u001b[0;31m---------------------------------------------------------------------------\u001b[0m",
      "\u001b[0;31mAttributeError\u001b[0m                            Traceback (most recent call last)",
      "\u001b[0;31mAttributeError\u001b[0m: 'tuple' object has no attribute 'cur_x'"
     ]
    },
    {
     "name": "stderr",
     "output_type": "stream",
     "text": [
      "Exception ignored in: 'GridWorldOption.GridWorldOption.get_action'\n",
      "Traceback (most recent call last):\n",
      "  File \"/home/otavio/git/tcc/mcts-simulate/mcts/utils.py\", line 146, in expand\n",
      "    action, should_break = option.get_action(env.state())\n",
      "AttributeError: 'tuple' object has no attribute 'cur_x'\n"
     ]
    },
    {
     "ename": "AttributeError",
     "evalue": "'tuple' object has no attribute 'cur_x'",
     "output_type": "error",
     "traceback": [
      "\u001b[0;31m---------------------------------------------------------------------------\u001b[0m",
      "\u001b[0;31mAttributeError\u001b[0m                            Traceback (most recent call last)",
      "\u001b[0;31mAttributeError\u001b[0m: 'tuple' object has no attribute 'cur_x'"
     ]
    },
    {
     "name": "stderr",
     "output_type": "stream",
     "text": [
      "Exception ignored in: 'GridWorldOption.GridWorldOption.get_action'\n",
      "Traceback (most recent call last):\n",
      "  File \"/home/otavio/git/tcc/mcts-simulate/mcts/utils.py\", line 146, in expand\n",
      "    action, should_break = option.get_action(env.state())\n",
      "AttributeError: 'tuple' object has no attribute 'cur_x'\n"
     ]
    },
    {
     "ename": "AttributeError",
     "evalue": "'tuple' object has no attribute 'cur_x'",
     "output_type": "error",
     "traceback": [
      "\u001b[0;31m---------------------------------------------------------------------------\u001b[0m",
      "\u001b[0;31mAttributeError\u001b[0m                            Traceback (most recent call last)",
      "\u001b[0;31mAttributeError\u001b[0m: 'tuple' object has no attribute 'cur_x'"
     ]
    },
    {
     "name": "stderr",
     "output_type": "stream",
     "text": [
      "Exception ignored in: 'GridWorldOption.GridWorldOption.get_action'\n",
      "Traceback (most recent call last):\n",
      "  File \"/home/otavio/git/tcc/mcts-simulate/mcts/utils.py\", line 146, in expand\n",
      "    action, should_break = option.get_action(env.state())\n",
      "AttributeError: 'tuple' object has no attribute 'cur_x'\n"
     ]
    },
    {
     "ename": "AttributeError",
     "evalue": "'tuple' object has no attribute 'cur_x'",
     "output_type": "error",
     "traceback": [
      "\u001b[0;31m---------------------------------------------------------------------------\u001b[0m",
      "\u001b[0;31mAttributeError\u001b[0m                            Traceback (most recent call last)",
      "\u001b[0;31mAttributeError\u001b[0m: 'tuple' object has no attribute 'cur_x'"
     ]
    },
    {
     "name": "stderr",
     "output_type": "stream",
     "text": [
      "Exception ignored in: 'GridWorldOption.GridWorldOption.get_action'\n",
      "Traceback (most recent call last):\n",
      "  File \"/home/otavio/git/tcc/mcts-simulate/mcts/utils.py\", line 146, in expand\n",
      "    action, should_break = option.get_action(env.state())\n",
      "AttributeError: 'tuple' object has no attribute 'cur_x'\n"
     ]
    },
    {
     "ename": "AttributeError",
     "evalue": "'tuple' object has no attribute 'cur_x'",
     "output_type": "error",
     "traceback": [
      "\u001b[0;31m---------------------------------------------------------------------------\u001b[0m",
      "\u001b[0;31mAttributeError\u001b[0m                            Traceback (most recent call last)",
      "\u001b[0;31mAttributeError\u001b[0m: 'tuple' object has no attribute 'cur_x'"
     ]
    },
    {
     "name": "stderr",
     "output_type": "stream",
     "text": [
      "Exception ignored in: 'GridWorldOption.GridWorldOption.get_action'\n",
      "Traceback (most recent call last):\n",
      "  File \"/home/otavio/git/tcc/mcts-simulate/mcts/utils.py\", line 146, in expand\n",
      "    action, should_break = option.get_action(env.state())\n",
      "AttributeError: 'tuple' object has no attribute 'cur_x'\n"
     ]
    },
    {
     "ename": "AttributeError",
     "evalue": "'tuple' object has no attribute 'cur_x'",
     "output_type": "error",
     "traceback": [
      "\u001b[0;31m---------------------------------------------------------------------------\u001b[0m",
      "\u001b[0;31mAttributeError\u001b[0m                            Traceback (most recent call last)",
      "\u001b[0;31mAttributeError\u001b[0m: 'tuple' object has no attribute 'cur_x'"
     ]
    },
    {
     "name": "stderr",
     "output_type": "stream",
     "text": [
      "Exception ignored in: 'GridWorldOption.GridWorldOption.get_action'\n",
      "Traceback (most recent call last):\n",
      "  File \"/home/otavio/git/tcc/mcts-simulate/mcts/utils.py\", line 146, in expand\n",
      "    action, should_break = option.get_action(env.state())\n",
      "AttributeError: 'tuple' object has no attribute 'cur_x'\n"
     ]
    },
    {
     "ename": "AttributeError",
     "evalue": "'tuple' object has no attribute 'cur_x'",
     "output_type": "error",
     "traceback": [
      "\u001b[0;31m---------------------------------------------------------------------------\u001b[0m",
      "\u001b[0;31mAttributeError\u001b[0m                            Traceback (most recent call last)",
      "\u001b[0;31mAttributeError\u001b[0m: 'tuple' object has no attribute 'cur_x'"
     ]
    },
    {
     "name": "stderr",
     "output_type": "stream",
     "text": [
      "Exception ignored in: 'GridWorldOption.GridWorldOption.get_action'\n",
      "Traceback (most recent call last):\n",
      "  File \"/home/otavio/git/tcc/mcts-simulate/mcts/utils.py\", line 146, in expand\n",
      "    action, should_break = option.get_action(env.state())\n",
      "AttributeError: 'tuple' object has no attribute 'cur_x'\n"
     ]
    },
    {
     "ename": "AttributeError",
     "evalue": "'tuple' object has no attribute 'cur_x'",
     "output_type": "error",
     "traceback": [
      "\u001b[0;31m---------------------------------------------------------------------------\u001b[0m",
      "\u001b[0;31mAttributeError\u001b[0m                            Traceback (most recent call last)",
      "\u001b[0;31mAttributeError\u001b[0m: 'tuple' object has no attribute 'cur_x'"
     ]
    },
    {
     "name": "stderr",
     "output_type": "stream",
     "text": [
      "Exception ignored in: 'GridWorldOption.GridWorldOption.get_action'\n",
      "Traceback (most recent call last):\n",
      "  File \"/home/otavio/git/tcc/mcts-simulate/mcts/utils.py\", line 146, in expand\n",
      "    action, should_break = option.get_action(env.state())\n",
      "AttributeError: 'tuple' object has no attribute 'cur_x'\n"
     ]
    },
    {
     "ename": "AttributeError",
     "evalue": "'tuple' object has no attribute 'cur_x'",
     "output_type": "error",
     "traceback": [
      "\u001b[0;31m---------------------------------------------------------------------------\u001b[0m",
      "\u001b[0;31mAttributeError\u001b[0m                            Traceback (most recent call last)",
      "\u001b[0;31mAttributeError\u001b[0m: 'tuple' object has no attribute 'cur_x'"
     ]
    },
    {
     "name": "stderr",
     "output_type": "stream",
     "text": [
      "Exception ignored in: 'GridWorldOption.GridWorldOption.get_action'\n",
      "Traceback (most recent call last):\n",
      "  File \"/home/otavio/git/tcc/mcts-simulate/mcts/utils.py\", line 146, in expand\n",
      "    action, should_break = option.get_action(env.state())\n",
      "AttributeError: 'tuple' object has no attribute 'cur_x'\n"
     ]
    },
    {
     "ename": "AttributeError",
     "evalue": "'tuple' object has no attribute 'cur_x'",
     "output_type": "error",
     "traceback": [
      "\u001b[0;31m---------------------------------------------------------------------------\u001b[0m",
      "\u001b[0;31mAttributeError\u001b[0m                            Traceback (most recent call last)",
      "\u001b[0;31mAttributeError\u001b[0m: 'tuple' object has no attribute 'cur_x'"
     ]
    },
    {
     "name": "stderr",
     "output_type": "stream",
     "text": [
      "Exception ignored in: 'GridWorldOption.GridWorldOption.get_action'\n",
      "Traceback (most recent call last):\n",
      "  File \"/home/otavio/git/tcc/mcts-simulate/mcts/utils.py\", line 146, in expand\n",
      "    action, should_break = option.get_action(env.state())\n",
      "AttributeError: 'tuple' object has no attribute 'cur_x'\n"
     ]
    },
    {
     "ename": "AttributeError",
     "evalue": "'tuple' object has no attribute 'cur_x'",
     "output_type": "error",
     "traceback": [
      "\u001b[0;31m---------------------------------------------------------------------------\u001b[0m",
      "\u001b[0;31mAttributeError\u001b[0m                            Traceback (most recent call last)",
      "\u001b[0;31mAttributeError\u001b[0m: 'tuple' object has no attribute 'cur_x'"
     ]
    },
    {
     "name": "stderr",
     "output_type": "stream",
     "text": [
      "Exception ignored in: 'GridWorldOption.GridWorldOption.get_action'\n",
      "Traceback (most recent call last):\n",
      "  File \"/home/otavio/git/tcc/mcts-simulate/mcts/utils.py\", line 146, in expand\n",
      "    action, should_break = option.get_action(env.state())\n",
      "AttributeError: 'tuple' object has no attribute 'cur_x'\n"
     ]
    },
    {
     "ename": "AttributeError",
     "evalue": "'tuple' object has no attribute 'cur_x'",
     "output_type": "error",
     "traceback": [
      "\u001b[0;31m---------------------------------------------------------------------------\u001b[0m",
      "\u001b[0;31mAttributeError\u001b[0m                            Traceback (most recent call last)",
      "\u001b[0;31mAttributeError\u001b[0m: 'tuple' object has no attribute 'cur_x'"
     ]
    },
    {
     "name": "stderr",
     "output_type": "stream",
     "text": [
      "Exception ignored in: 'GridWorldOption.GridWorldOption.get_action'\n",
      "Traceback (most recent call last):\n",
      "  File \"/home/otavio/git/tcc/mcts-simulate/mcts/utils.py\", line 146, in expand\n",
      "    action, should_break = option.get_action(env.state())\n",
      "AttributeError: 'tuple' object has no attribute 'cur_x'\n"
     ]
    },
    {
     "ename": "AttributeError",
     "evalue": "'tuple' object has no attribute 'cur_x'",
     "output_type": "error",
     "traceback": [
      "\u001b[0;31m---------------------------------------------------------------------------\u001b[0m",
      "\u001b[0;31mAttributeError\u001b[0m                            Traceback (most recent call last)",
      "\u001b[0;31mAttributeError\u001b[0m: 'tuple' object has no attribute 'cur_x'"
     ]
    },
    {
     "name": "stderr",
     "output_type": "stream",
     "text": [
      "Exception ignored in: 'GridWorldOption.GridWorldOption.get_action'\n",
      "Traceback (most recent call last):\n",
      "  File \"/home/otavio/git/tcc/mcts-simulate/mcts/utils.py\", line 146, in expand\n",
      "    action, should_break = option.get_action(env.state())\n",
      "AttributeError: 'tuple' object has no attribute 'cur_x'\n"
     ]
    },
    {
     "ename": "AttributeError",
     "evalue": "'tuple' object has no attribute 'cur_x'",
     "output_type": "error",
     "traceback": [
      "\u001b[0;31m---------------------------------------------------------------------------\u001b[0m",
      "\u001b[0;31mAttributeError\u001b[0m                            Traceback (most recent call last)",
      "\u001b[0;31mAttributeError\u001b[0m: 'tuple' object has no attribute 'cur_x'"
     ]
    },
    {
     "name": "stderr",
     "output_type": "stream",
     "text": [
      "Exception ignored in: 'GridWorldOption.GridWorldOption.get_action'\n",
      "Traceback (most recent call last):\n",
      "  File \"/home/otavio/git/tcc/mcts-simulate/mcts/utils.py\", line 146, in expand\n",
      "    action, should_break = option.get_action(env.state())\n",
      "AttributeError: 'tuple' object has no attribute 'cur_x'\n"
     ]
    },
    {
     "ename": "AttributeError",
     "evalue": "'tuple' object has no attribute 'cur_x'",
     "output_type": "error",
     "traceback": [
      "\u001b[0;31m---------------------------------------------------------------------------\u001b[0m",
      "\u001b[0;31mAttributeError\u001b[0m                            Traceback (most recent call last)",
      "\u001b[0;31mAttributeError\u001b[0m: 'tuple' object has no attribute 'cur_x'"
     ]
    },
    {
     "name": "stderr",
     "output_type": "stream",
     "text": [
      "Exception ignored in: 'GridWorldOption.GridWorldOption.get_action'\n",
      "Traceback (most recent call last):\n",
      "  File \"/home/otavio/git/tcc/mcts-simulate/mcts/utils.py\", line 146, in expand\n",
      "    action, should_break = option.get_action(env.state())\n",
      "AttributeError: 'tuple' object has no attribute 'cur_x'\n"
     ]
    },
    {
     "ename": "AttributeError",
     "evalue": "'tuple' object has no attribute 'cur_x'",
     "output_type": "error",
     "traceback": [
      "\u001b[0;31m---------------------------------------------------------------------------\u001b[0m",
      "\u001b[0;31mAttributeError\u001b[0m                            Traceback (most recent call last)",
      "\u001b[0;31mAttributeError\u001b[0m: 'tuple' object has no attribute 'cur_x'"
     ]
    },
    {
     "name": "stderr",
     "output_type": "stream",
     "text": [
      "Exception ignored in: 'GridWorldOption.GridWorldOption.get_action'\n",
      "Traceback (most recent call last):\n",
      "  File \"/home/otavio/git/tcc/mcts-simulate/mcts/utils.py\", line 146, in expand\n",
      "    action, should_break = option.get_action(env.state())\n",
      "AttributeError: 'tuple' object has no attribute 'cur_x'\n"
     ]
    },
    {
     "ename": "AttributeError",
     "evalue": "'tuple' object has no attribute 'cur_x'",
     "output_type": "error",
     "traceback": [
      "\u001b[0;31m---------------------------------------------------------------------------\u001b[0m",
      "\u001b[0;31mAttributeError\u001b[0m                            Traceback (most recent call last)",
      "\u001b[0;31mAttributeError\u001b[0m: 'tuple' object has no attribute 'cur_x'"
     ]
    },
    {
     "name": "stderr",
     "output_type": "stream",
     "text": [
      "Exception ignored in: 'GridWorldOption.GridWorldOption.get_action'\n",
      "Traceback (most recent call last):\n",
      "  File \"/home/otavio/git/tcc/mcts-simulate/mcts/utils.py\", line 146, in expand\n",
      "    action, should_break = option.get_action(env.state())\n",
      "AttributeError: 'tuple' object has no attribute 'cur_x'\n"
     ]
    },
    {
     "ename": "AttributeError",
     "evalue": "'tuple' object has no attribute 'cur_x'",
     "output_type": "error",
     "traceback": [
      "\u001b[0;31m---------------------------------------------------------------------------\u001b[0m",
      "\u001b[0;31mAttributeError\u001b[0m                            Traceback (most recent call last)",
      "\u001b[0;31mAttributeError\u001b[0m: 'tuple' object has no attribute 'cur_x'"
     ]
    },
    {
     "name": "stderr",
     "output_type": "stream",
     "text": [
      "Exception ignored in: 'GridWorldOption.GridWorldOption.get_action'\n",
      "Traceback (most recent call last):\n",
      "  File \"/home/otavio/git/tcc/mcts-simulate/mcts/utils.py\", line 146, in expand\n",
      "    action, should_break = option.get_action(env.state())\n",
      "AttributeError: 'tuple' object has no attribute 'cur_x'\n"
     ]
    },
    {
     "ename": "AttributeError",
     "evalue": "'tuple' object has no attribute 'cur_x'",
     "output_type": "error",
     "traceback": [
      "\u001b[0;31m---------------------------------------------------------------------------\u001b[0m",
      "\u001b[0;31mAttributeError\u001b[0m                            Traceback (most recent call last)",
      "\u001b[0;31mAttributeError\u001b[0m: 'tuple' object has no attribute 'cur_x'"
     ]
    },
    {
     "name": "stderr",
     "output_type": "stream",
     "text": [
      "Exception ignored in: 'GridWorldOption.GridWorldOption.get_action'\n",
      "Traceback (most recent call last):\n",
      "  File \"/home/otavio/git/tcc/mcts-simulate/mcts/utils.py\", line 146, in expand\n",
      "    action, should_break = option.get_action(env.state())\n",
      "AttributeError: 'tuple' object has no attribute 'cur_x'\n"
     ]
    },
    {
     "ename": "AttributeError",
     "evalue": "'tuple' object has no attribute 'cur_x'",
     "output_type": "error",
     "traceback": [
      "\u001b[0;31m---------------------------------------------------------------------------\u001b[0m",
      "\u001b[0;31mAttributeError\u001b[0m                            Traceback (most recent call last)",
      "\u001b[0;31mAttributeError\u001b[0m: 'tuple' object has no attribute 'cur_x'"
     ]
    },
    {
     "name": "stderr",
     "output_type": "stream",
     "text": [
      "Exception ignored in: 'GridWorldOption.GridWorldOption.get_action'\n",
      "Traceback (most recent call last):\n",
      "  File \"/home/otavio/git/tcc/mcts-simulate/mcts/utils.py\", line 146, in expand\n",
      "    action, should_break = option.get_action(env.state())\n",
      "AttributeError: 'tuple' object has no attribute 'cur_x'\n"
     ]
    },
    {
     "ename": "AttributeError",
     "evalue": "'tuple' object has no attribute 'cur_x'",
     "output_type": "error",
     "traceback": [
      "\u001b[0;31m---------------------------------------------------------------------------\u001b[0m",
      "\u001b[0;31mAttributeError\u001b[0m                            Traceback (most recent call last)",
      "\u001b[0;31mAttributeError\u001b[0m: 'tuple' object has no attribute 'cur_x'"
     ]
    },
    {
     "name": "stderr",
     "output_type": "stream",
     "text": [
      "Exception ignored in: 'GridWorldOption.GridWorldOption.get_action'\n",
      "Traceback (most recent call last):\n",
      "  File \"/home/otavio/git/tcc/mcts-simulate/mcts/utils.py\", line 146, in expand\n",
      "    action, should_break = option.get_action(env.state())\n",
      "AttributeError: 'tuple' object has no attribute 'cur_x'\n"
     ]
    },
    {
     "ename": "AttributeError",
     "evalue": "'tuple' object has no attribute 'cur_x'",
     "output_type": "error",
     "traceback": [
      "\u001b[0;31m---------------------------------------------------------------------------\u001b[0m",
      "\u001b[0;31mAttributeError\u001b[0m                            Traceback (most recent call last)",
      "\u001b[0;31mAttributeError\u001b[0m: 'tuple' object has no attribute 'cur_x'"
     ]
    },
    {
     "name": "stderr",
     "output_type": "stream",
     "text": [
      "Exception ignored in: 'GridWorldOption.GridWorldOption.get_action'\n",
      "Traceback (most recent call last):\n",
      "  File \"/home/otavio/git/tcc/mcts-simulate/mcts/utils.py\", line 146, in expand\n",
      "    action, should_break = option.get_action(env.state())\n",
      "AttributeError: 'tuple' object has no attribute 'cur_x'\n"
     ]
    },
    {
     "ename": "AttributeError",
     "evalue": "'tuple' object has no attribute 'cur_x'",
     "output_type": "error",
     "traceback": [
      "\u001b[0;31m---------------------------------------------------------------------------\u001b[0m",
      "\u001b[0;31mAttributeError\u001b[0m                            Traceback (most recent call last)",
      "\u001b[0;31mAttributeError\u001b[0m: 'tuple' object has no attribute 'cur_x'"
     ]
    },
    {
     "name": "stderr",
     "output_type": "stream",
     "text": [
      "Exception ignored in: 'GridWorldOption.GridWorldOption.get_action'\n",
      "Traceback (most recent call last):\n",
      "  File \"/home/otavio/git/tcc/mcts-simulate/mcts/utils.py\", line 146, in expand\n",
      "    action, should_break = option.get_action(env.state())\n",
      "AttributeError: 'tuple' object has no attribute 'cur_x'\n"
     ]
    },
    {
     "ename": "AttributeError",
     "evalue": "'tuple' object has no attribute 'cur_x'",
     "output_type": "error",
     "traceback": [
      "\u001b[0;31m---------------------------------------------------------------------------\u001b[0m",
      "\u001b[0;31mAttributeError\u001b[0m                            Traceback (most recent call last)",
      "\u001b[0;31mAttributeError\u001b[0m: 'tuple' object has no attribute 'cur_x'"
     ]
    },
    {
     "name": "stderr",
     "output_type": "stream",
     "text": [
      "Exception ignored in: 'GridWorldOption.GridWorldOption.get_action'\n",
      "Traceback (most recent call last):\n",
      "  File \"/home/otavio/git/tcc/mcts-simulate/mcts/utils.py\", line 146, in expand\n",
      "    action, should_break = option.get_action(env.state())\n",
      "AttributeError: 'tuple' object has no attribute 'cur_x'\n"
     ]
    },
    {
     "ename": "AttributeError",
     "evalue": "'tuple' object has no attribute 'cur_x'",
     "output_type": "error",
     "traceback": [
      "\u001b[0;31m---------------------------------------------------------------------------\u001b[0m",
      "\u001b[0;31mAttributeError\u001b[0m                            Traceback (most recent call last)",
      "\u001b[0;31mAttributeError\u001b[0m: 'tuple' object has no attribute 'cur_x'"
     ]
    },
    {
     "name": "stderr",
     "output_type": "stream",
     "text": [
      "Exception ignored in: 'GridWorldOption.GridWorldOption.get_action'\n",
      "Traceback (most recent call last):\n",
      "  File \"/home/otavio/git/tcc/mcts-simulate/mcts/utils.py\", line 146, in expand\n",
      "    action, should_break = option.get_action(env.state())\n",
      "AttributeError: 'tuple' object has no attribute 'cur_x'\n"
     ]
    },
    {
     "ename": "AttributeError",
     "evalue": "'tuple' object has no attribute 'cur_x'",
     "output_type": "error",
     "traceback": [
      "\u001b[0;31m---------------------------------------------------------------------------\u001b[0m",
      "\u001b[0;31mAttributeError\u001b[0m                            Traceback (most recent call last)",
      "\u001b[0;31mAttributeError\u001b[0m: 'tuple' object has no attribute 'cur_x'"
     ]
    },
    {
     "name": "stderr",
     "output_type": "stream",
     "text": [
      "Exception ignored in: 'GridWorldOption.GridWorldOption.get_action'\n",
      "Traceback (most recent call last):\n",
      "  File \"/home/otavio/git/tcc/mcts-simulate/mcts/utils.py\", line 146, in expand\n",
      "    action, should_break = option.get_action(env.state())\n",
      "AttributeError: 'tuple' object has no attribute 'cur_x'\n"
     ]
    },
    {
     "ename": "AttributeError",
     "evalue": "'tuple' object has no attribute 'cur_x'",
     "output_type": "error",
     "traceback": [
      "\u001b[0;31m---------------------------------------------------------------------------\u001b[0m",
      "\u001b[0;31mAttributeError\u001b[0m                            Traceback (most recent call last)",
      "\u001b[0;31mAttributeError\u001b[0m: 'tuple' object has no attribute 'cur_x'"
     ]
    },
    {
     "name": "stderr",
     "output_type": "stream",
     "text": [
      "Exception ignored in: 'GridWorldOption.GridWorldOption.get_action'\n",
      "Traceback (most recent call last):\n",
      "  File \"/home/otavio/git/tcc/mcts-simulate/mcts/utils.py\", line 146, in expand\n",
      "    action, should_break = option.get_action(env.state())\n",
      "AttributeError: 'tuple' object has no attribute 'cur_x'\n"
     ]
    },
    {
     "ename": "AttributeError",
     "evalue": "'tuple' object has no attribute 'cur_x'",
     "output_type": "error",
     "traceback": [
      "\u001b[0;31m---------------------------------------------------------------------------\u001b[0m",
      "\u001b[0;31mAttributeError\u001b[0m                            Traceback (most recent call last)",
      "\u001b[0;31mAttributeError\u001b[0m: 'tuple' object has no attribute 'cur_x'"
     ]
    },
    {
     "name": "stderr",
     "output_type": "stream",
     "text": [
      "Exception ignored in: 'GridWorldOption.GridWorldOption.get_action'\n",
      "Traceback (most recent call last):\n",
      "  File \"/home/otavio/git/tcc/mcts-simulate/mcts/utils.py\", line 146, in expand\n",
      "    action, should_break = option.get_action(env.state())\n",
      "AttributeError: 'tuple' object has no attribute 'cur_x'\n"
     ]
    },
    {
     "ename": "AttributeError",
     "evalue": "'tuple' object has no attribute 'cur_x'",
     "output_type": "error",
     "traceback": [
      "\u001b[0;31m---------------------------------------------------------------------------\u001b[0m",
      "\u001b[0;31mAttributeError\u001b[0m                            Traceback (most recent call last)",
      "\u001b[0;31mAttributeError\u001b[0m: 'tuple' object has no attribute 'cur_x'"
     ]
    },
    {
     "name": "stderr",
     "output_type": "stream",
     "text": [
      "Exception ignored in: 'GridWorldOption.GridWorldOption.get_action'\n",
      "Traceback (most recent call last):\n",
      "  File \"/home/otavio/git/tcc/mcts-simulate/mcts/utils.py\", line 146, in expand\n",
      "    action, should_break = option.get_action(env.state())\n",
      "AttributeError: 'tuple' object has no attribute 'cur_x'\n"
     ]
    },
    {
     "ename": "AttributeError",
     "evalue": "'tuple' object has no attribute 'cur_x'",
     "output_type": "error",
     "traceback": [
      "\u001b[0;31m---------------------------------------------------------------------------\u001b[0m",
      "\u001b[0;31mAttributeError\u001b[0m                            Traceback (most recent call last)",
      "\u001b[0;31mAttributeError\u001b[0m: 'tuple' object has no attribute 'cur_x'"
     ]
    },
    {
     "name": "stderr",
     "output_type": "stream",
     "text": [
      "Exception ignored in: 'GridWorldOption.GridWorldOption.get_action'\n",
      "Traceback (most recent call last):\n",
      "  File \"/home/otavio/git/tcc/mcts-simulate/mcts/utils.py\", line 146, in expand\n",
      "    action, should_break = option.get_action(env.state())\n",
      "AttributeError: 'tuple' object has no attribute 'cur_x'\n"
     ]
    },
    {
     "ename": "AttributeError",
     "evalue": "'tuple' object has no attribute 'cur_x'",
     "output_type": "error",
     "traceback": [
      "\u001b[0;31m---------------------------------------------------------------------------\u001b[0m",
      "\u001b[0;31mAttributeError\u001b[0m                            Traceback (most recent call last)",
      "\u001b[0;31mAttributeError\u001b[0m: 'tuple' object has no attribute 'cur_x'"
     ]
    },
    {
     "name": "stderr",
     "output_type": "stream",
     "text": [
      "Exception ignored in: 'GridWorldOption.GridWorldOption.get_action'\n",
      "Traceback (most recent call last):\n",
      "  File \"/home/otavio/git/tcc/mcts-simulate/mcts/utils.py\", line 146, in expand\n",
      "    action, should_break = option.get_action(env.state())\n",
      "AttributeError: 'tuple' object has no attribute 'cur_x'\n"
     ]
    },
    {
     "ename": "AttributeError",
     "evalue": "'tuple' object has no attribute 'cur_x'",
     "output_type": "error",
     "traceback": [
      "\u001b[0;31m---------------------------------------------------------------------------\u001b[0m",
      "\u001b[0;31mAttributeError\u001b[0m                            Traceback (most recent call last)",
      "\u001b[0;31mAttributeError\u001b[0m: 'tuple' object has no attribute 'cur_x'"
     ]
    },
    {
     "name": "stderr",
     "output_type": "stream",
     "text": [
      "Exception ignored in: 'GridWorldOption.GridWorldOption.get_action'\n",
      "Traceback (most recent call last):\n",
      "  File \"/home/otavio/git/tcc/mcts-simulate/mcts/utils.py\", line 146, in expand\n",
      "    action, should_break = option.get_action(env.state())\n",
      "AttributeError: 'tuple' object has no attribute 'cur_x'\n"
     ]
    },
    {
     "ename": "AttributeError",
     "evalue": "'tuple' object has no attribute 'cur_x'",
     "output_type": "error",
     "traceback": [
      "\u001b[0;31m---------------------------------------------------------------------------\u001b[0m",
      "\u001b[0;31mAttributeError\u001b[0m                            Traceback (most recent call last)",
      "\u001b[0;31mAttributeError\u001b[0m: 'tuple' object has no attribute 'cur_x'"
     ]
    },
    {
     "name": "stderr",
     "output_type": "stream",
     "text": [
      "Exception ignored in: 'GridWorldOption.GridWorldOption.get_action'\n",
      "Traceback (most recent call last):\n",
      "  File \"/home/otavio/git/tcc/mcts-simulate/mcts/utils.py\", line 146, in expand\n",
      "    action, should_break = option.get_action(env.state())\n",
      "AttributeError: 'tuple' object has no attribute 'cur_x'\n"
     ]
    },
    {
     "ename": "AttributeError",
     "evalue": "'tuple' object has no attribute 'cur_x'",
     "output_type": "error",
     "traceback": [
      "\u001b[0;31m---------------------------------------------------------------------------\u001b[0m",
      "\u001b[0;31mAttributeError\u001b[0m                            Traceback (most recent call last)",
      "\u001b[0;31mAttributeError\u001b[0m: 'tuple' object has no attribute 'cur_x'"
     ]
    },
    {
     "name": "stderr",
     "output_type": "stream",
     "text": [
      "Exception ignored in: 'GridWorldOption.GridWorldOption.get_action'\n",
      "Traceback (most recent call last):\n",
      "  File \"/home/otavio/git/tcc/mcts-simulate/mcts/utils.py\", line 146, in expand\n",
      "    action, should_break = option.get_action(env.state())\n",
      "AttributeError: 'tuple' object has no attribute 'cur_x'\n"
     ]
    },
    {
     "ename": "AttributeError",
     "evalue": "'tuple' object has no attribute 'cur_x'",
     "output_type": "error",
     "traceback": [
      "\u001b[0;31m---------------------------------------------------------------------------\u001b[0m",
      "\u001b[0;31mAttributeError\u001b[0m                            Traceback (most recent call last)",
      "\u001b[0;31mAttributeError\u001b[0m: 'tuple' object has no attribute 'cur_x'"
     ]
    },
    {
     "name": "stderr",
     "output_type": "stream",
     "text": [
      "Exception ignored in: 'GridWorldOption.GridWorldOption.get_action'\n",
      "Traceback (most recent call last):\n",
      "  File \"/home/otavio/git/tcc/mcts-simulate/mcts/utils.py\", line 146, in expand\n",
      "    action, should_break = option.get_action(env.state())\n",
      "AttributeError: 'tuple' object has no attribute 'cur_x'\n"
     ]
    },
    {
     "ename": "AttributeError",
     "evalue": "'tuple' object has no attribute 'cur_x'",
     "output_type": "error",
     "traceback": [
      "\u001b[0;31m---------------------------------------------------------------------------\u001b[0m",
      "\u001b[0;31mAttributeError\u001b[0m                            Traceback (most recent call last)",
      "\u001b[0;31mAttributeError\u001b[0m: 'tuple' object has no attribute 'cur_x'"
     ]
    },
    {
     "name": "stderr",
     "output_type": "stream",
     "text": [
      "Exception ignored in: 'GridWorldOption.GridWorldOption.get_action'\n",
      "Traceback (most recent call last):\n",
      "  File \"/home/otavio/git/tcc/mcts-simulate/mcts/utils.py\", line 146, in expand\n",
      "    action, should_break = option.get_action(env.state())\n",
      "AttributeError: 'tuple' object has no attribute 'cur_x'\n"
     ]
    },
    {
     "ename": "AttributeError",
     "evalue": "'tuple' object has no attribute 'cur_x'",
     "output_type": "error",
     "traceback": [
      "\u001b[0;31m---------------------------------------------------------------------------\u001b[0m",
      "\u001b[0;31mAttributeError\u001b[0m                            Traceback (most recent call last)",
      "\u001b[0;31mAttributeError\u001b[0m: 'tuple' object has no attribute 'cur_x'"
     ]
    },
    {
     "name": "stderr",
     "output_type": "stream",
     "text": [
      "Exception ignored in: 'GridWorldOption.GridWorldOption.get_action'\n",
      "Traceback (most recent call last):\n",
      "  File \"/home/otavio/git/tcc/mcts-simulate/mcts/utils.py\", line 146, in expand\n",
      "    action, should_break = option.get_action(env.state())\n",
      "AttributeError: 'tuple' object has no attribute 'cur_x'\n"
     ]
    },
    {
     "ename": "AttributeError",
     "evalue": "'tuple' object has no attribute 'cur_x'",
     "output_type": "error",
     "traceback": [
      "\u001b[0;31m---------------------------------------------------------------------------\u001b[0m",
      "\u001b[0;31mAttributeError\u001b[0m                            Traceback (most recent call last)",
      "\u001b[0;31mAttributeError\u001b[0m: 'tuple' object has no attribute 'cur_x'"
     ]
    },
    {
     "name": "stderr",
     "output_type": "stream",
     "text": [
      "Exception ignored in: 'GridWorldOption.GridWorldOption.get_action'\n",
      "Traceback (most recent call last):\n",
      "  File \"/home/otavio/git/tcc/mcts-simulate/mcts/utils.py\", line 146, in expand\n",
      "    action, should_break = option.get_action(env.state())\n",
      "AttributeError: 'tuple' object has no attribute 'cur_x'\n"
     ]
    },
    {
     "ename": "AttributeError",
     "evalue": "'tuple' object has no attribute 'cur_x'",
     "output_type": "error",
     "traceback": [
      "\u001b[0;31m---------------------------------------------------------------------------\u001b[0m",
      "\u001b[0;31mAttributeError\u001b[0m                            Traceback (most recent call last)",
      "\u001b[0;31mAttributeError\u001b[0m: 'tuple' object has no attribute 'cur_x'"
     ]
    },
    {
     "name": "stderr",
     "output_type": "stream",
     "text": [
      "Exception ignored in: 'GridWorldOption.GridWorldOption.get_action'\n",
      "Traceback (most recent call last):\n",
      "  File \"/home/otavio/git/tcc/mcts-simulate/mcts/utils.py\", line 146, in expand\n",
      "    action, should_break = option.get_action(env.state())\n",
      "AttributeError: 'tuple' object has no attribute 'cur_x'\n"
     ]
    },
    {
     "ename": "AttributeError",
     "evalue": "'tuple' object has no attribute 'cur_x'",
     "output_type": "error",
     "traceback": [
      "\u001b[0;31m---------------------------------------------------------------------------\u001b[0m",
      "\u001b[0;31mAttributeError\u001b[0m                            Traceback (most recent call last)",
      "\u001b[0;31mAttributeError\u001b[0m: 'tuple' object has no attribute 'cur_x'"
     ]
    },
    {
     "name": "stderr",
     "output_type": "stream",
     "text": [
      "Exception ignored in: 'GridWorldOption.GridWorldOption.get_action'\n",
      "Traceback (most recent call last):\n",
      "  File \"/home/otavio/git/tcc/mcts-simulate/mcts/utils.py\", line 146, in expand\n",
      "    action, should_break = option.get_action(env.state())\n",
      "AttributeError: 'tuple' object has no attribute 'cur_x'\n"
     ]
    },
    {
     "ename": "AttributeError",
     "evalue": "'tuple' object has no attribute 'cur_x'",
     "output_type": "error",
     "traceback": [
      "\u001b[0;31m---------------------------------------------------------------------------\u001b[0m",
      "\u001b[0;31mAttributeError\u001b[0m                            Traceback (most recent call last)",
      "\u001b[0;31mAttributeError\u001b[0m: 'tuple' object has no attribute 'cur_x'"
     ]
    },
    {
     "name": "stderr",
     "output_type": "stream",
     "text": [
      "Exception ignored in: 'GridWorldOption.GridWorldOption.get_action'\n",
      "Traceback (most recent call last):\n",
      "  File \"/home/otavio/git/tcc/mcts-simulate/mcts/utils.py\", line 146, in expand\n",
      "    action, should_break = option.get_action(env.state())\n",
      "AttributeError: 'tuple' object has no attribute 'cur_x'\n"
     ]
    },
    {
     "ename": "AttributeError",
     "evalue": "'tuple' object has no attribute 'cur_x'",
     "output_type": "error",
     "traceback": [
      "\u001b[0;31m---------------------------------------------------------------------------\u001b[0m",
      "\u001b[0;31mAttributeError\u001b[0m                            Traceback (most recent call last)",
      "\u001b[0;31mAttributeError\u001b[0m: 'tuple' object has no attribute 'cur_x'"
     ]
    },
    {
     "name": "stderr",
     "output_type": "stream",
     "text": [
      "Exception ignored in: 'GridWorldOption.GridWorldOption.get_action'\n",
      "Traceback (most recent call last):\n",
      "  File \"/home/otavio/git/tcc/mcts-simulate/mcts/utils.py\", line 146, in expand\n",
      "    action, should_break = option.get_action(env.state())\n",
      "AttributeError: 'tuple' object has no attribute 'cur_x'\n"
     ]
    },
    {
     "ename": "AttributeError",
     "evalue": "'tuple' object has no attribute 'cur_x'",
     "output_type": "error",
     "traceback": [
      "\u001b[0;31m---------------------------------------------------------------------------\u001b[0m",
      "\u001b[0;31mAttributeError\u001b[0m                            Traceback (most recent call last)",
      "\u001b[0;31mAttributeError\u001b[0m: 'tuple' object has no attribute 'cur_x'"
     ]
    },
    {
     "name": "stderr",
     "output_type": "stream",
     "text": [
      "Exception ignored in: 'GridWorldOption.GridWorldOption.get_action'\n",
      "Traceback (most recent call last):\n",
      "  File \"/home/otavio/git/tcc/mcts-simulate/mcts/utils.py\", line 146, in expand\n",
      "    action, should_break = option.get_action(env.state())\n",
      "AttributeError: 'tuple' object has no attribute 'cur_x'\n"
     ]
    },
    {
     "ename": "AttributeError",
     "evalue": "'tuple' object has no attribute 'cur_x'",
     "output_type": "error",
     "traceback": [
      "\u001b[0;31m---------------------------------------------------------------------------\u001b[0m",
      "\u001b[0;31mAttributeError\u001b[0m                            Traceback (most recent call last)",
      "\u001b[0;31mAttributeError\u001b[0m: 'tuple' object has no attribute 'cur_x'"
     ]
    },
    {
     "name": "stderr",
     "output_type": "stream",
     "text": [
      "Exception ignored in: 'GridWorldOption.GridWorldOption.get_action'\n",
      "Traceback (most recent call last):\n",
      "  File \"/home/otavio/git/tcc/mcts-simulate/mcts/utils.py\", line 146, in expand\n",
      "    action, should_break = option.get_action(env.state())\n",
      "AttributeError: 'tuple' object has no attribute 'cur_x'\n"
     ]
    },
    {
     "ename": "AttributeError",
     "evalue": "'tuple' object has no attribute 'cur_x'",
     "output_type": "error",
     "traceback": [
      "\u001b[0;31m---------------------------------------------------------------------------\u001b[0m",
      "\u001b[0;31mAttributeError\u001b[0m                            Traceback (most recent call last)",
      "\u001b[0;31mAttributeError\u001b[0m: 'tuple' object has no attribute 'cur_x'"
     ]
    },
    {
     "name": "stderr",
     "output_type": "stream",
     "text": [
      "Exception ignored in: 'GridWorldOption.GridWorldOption.get_action'\n",
      "Traceback (most recent call last):\n",
      "  File \"/home/otavio/git/tcc/mcts-simulate/mcts/utils.py\", line 146, in expand\n",
      "    action, should_break = option.get_action(env.state())\n",
      "AttributeError: 'tuple' object has no attribute 'cur_x'\n"
     ]
    },
    {
     "ename": "AttributeError",
     "evalue": "'tuple' object has no attribute 'cur_x'",
     "output_type": "error",
     "traceback": [
      "\u001b[0;31m---------------------------------------------------------------------------\u001b[0m",
      "\u001b[0;31mAttributeError\u001b[0m                            Traceback (most recent call last)",
      "\u001b[0;31mAttributeError\u001b[0m: 'tuple' object has no attribute 'cur_x'"
     ]
    },
    {
     "name": "stderr",
     "output_type": "stream",
     "text": [
      "Exception ignored in: 'GridWorldOption.GridWorldOption.get_action'\n",
      "Traceback (most recent call last):\n",
      "  File \"/home/otavio/git/tcc/mcts-simulate/mcts/utils.py\", line 146, in expand\n",
      "    action, should_break = option.get_action(env.state())\n",
      "AttributeError: 'tuple' object has no attribute 'cur_x'\n"
     ]
    },
    {
     "ename": "AttributeError",
     "evalue": "'tuple' object has no attribute 'cur_x'",
     "output_type": "error",
     "traceback": [
      "\u001b[0;31m---------------------------------------------------------------------------\u001b[0m",
      "\u001b[0;31mAttributeError\u001b[0m                            Traceback (most recent call last)",
      "\u001b[0;31mAttributeError\u001b[0m: 'tuple' object has no attribute 'cur_x'"
     ]
    },
    {
     "name": "stderr",
     "output_type": "stream",
     "text": [
      "Exception ignored in: 'GridWorldOption.GridWorldOption.get_action'\n",
      "Traceback (most recent call last):\n",
      "  File \"/home/otavio/git/tcc/mcts-simulate/mcts/utils.py\", line 146, in expand\n",
      "    action, should_break = option.get_action(env.state())\n",
      "AttributeError: 'tuple' object has no attribute 'cur_x'\n"
     ]
    },
    {
     "ename": "AttributeError",
     "evalue": "'tuple' object has no attribute 'cur_x'",
     "output_type": "error",
     "traceback": [
      "\u001b[0;31m---------------------------------------------------------------------------\u001b[0m",
      "\u001b[0;31mAttributeError\u001b[0m                            Traceback (most recent call last)",
      "\u001b[0;31mAttributeError\u001b[0m: 'tuple' object has no attribute 'cur_x'"
     ]
    },
    {
     "name": "stderr",
     "output_type": "stream",
     "text": [
      "Exception ignored in: 'GridWorldOption.GridWorldOption.get_action'\n",
      "Traceback (most recent call last):\n",
      "  File \"/home/otavio/git/tcc/mcts-simulate/mcts/utils.py\", line 146, in expand\n",
      "    action, should_break = option.get_action(env.state())\n",
      "AttributeError: 'tuple' object has no attribute 'cur_x'\n"
     ]
    },
    {
     "ename": "AttributeError",
     "evalue": "'tuple' object has no attribute 'cur_x'",
     "output_type": "error",
     "traceback": [
      "\u001b[0;31m---------------------------------------------------------------------------\u001b[0m",
      "\u001b[0;31mAttributeError\u001b[0m                            Traceback (most recent call last)",
      "\u001b[0;31mAttributeError\u001b[0m: 'tuple' object has no attribute 'cur_x'"
     ]
    },
    {
     "name": "stderr",
     "output_type": "stream",
     "text": [
      "Exception ignored in: 'GridWorldOption.GridWorldOption.get_action'\n",
      "Traceback (most recent call last):\n",
      "  File \"/home/otavio/git/tcc/mcts-simulate/mcts/utils.py\", line 146, in expand\n",
      "    action, should_break = option.get_action(env.state())\n",
      "AttributeError: 'tuple' object has no attribute 'cur_x'\n"
     ]
    },
    {
     "ename": "AttributeError",
     "evalue": "'tuple' object has no attribute 'cur_x'",
     "output_type": "error",
     "traceback": [
      "\u001b[0;31m---------------------------------------------------------------------------\u001b[0m",
      "\u001b[0;31mAttributeError\u001b[0m                            Traceback (most recent call last)",
      "\u001b[0;31mAttributeError\u001b[0m: 'tuple' object has no attribute 'cur_x'"
     ]
    },
    {
     "name": "stderr",
     "output_type": "stream",
     "text": [
      "Exception ignored in: 'GridWorldOption.GridWorldOption.get_action'\n",
      "Traceback (most recent call last):\n",
      "  File \"/home/otavio/git/tcc/mcts-simulate/mcts/utils.py\", line 146, in expand\n",
      "    action, should_break = option.get_action(env.state())\n",
      "AttributeError: 'tuple' object has no attribute 'cur_x'\n"
     ]
    },
    {
     "ename": "AttributeError",
     "evalue": "'tuple' object has no attribute 'cur_x'",
     "output_type": "error",
     "traceback": [
      "\u001b[0;31m---------------------------------------------------------------------------\u001b[0m",
      "\u001b[0;31mAttributeError\u001b[0m                            Traceback (most recent call last)",
      "\u001b[0;31mAttributeError\u001b[0m: 'tuple' object has no attribute 'cur_x'"
     ]
    },
    {
     "name": "stderr",
     "output_type": "stream",
     "text": [
      "Exception ignored in: 'GridWorldOption.GridWorldOption.get_action'\n",
      "Traceback (most recent call last):\n",
      "  File \"/home/otavio/git/tcc/mcts-simulate/mcts/utils.py\", line 146, in expand\n",
      "    action, should_break = option.get_action(env.state())\n",
      "AttributeError: 'tuple' object has no attribute 'cur_x'\n"
     ]
    },
    {
     "ename": "AttributeError",
     "evalue": "'tuple' object has no attribute 'cur_x'",
     "output_type": "error",
     "traceback": [
      "\u001b[0;31m---------------------------------------------------------------------------\u001b[0m",
      "\u001b[0;31mAttributeError\u001b[0m                            Traceback (most recent call last)",
      "\u001b[0;31mAttributeError\u001b[0m: 'tuple' object has no attribute 'cur_x'"
     ]
    },
    {
     "name": "stderr",
     "output_type": "stream",
     "text": [
      "Exception ignored in: 'GridWorldOption.GridWorldOption.get_action'\n",
      "Traceback (most recent call last):\n",
      "  File \"/home/otavio/git/tcc/mcts-simulate/mcts/utils.py\", line 146, in expand\n",
      "    action, should_break = option.get_action(env.state())\n",
      "AttributeError: 'tuple' object has no attribute 'cur_x'\n"
     ]
    },
    {
     "ename": "AttributeError",
     "evalue": "'tuple' object has no attribute 'cur_x'",
     "output_type": "error",
     "traceback": [
      "\u001b[0;31m---------------------------------------------------------------------------\u001b[0m",
      "\u001b[0;31mAttributeError\u001b[0m                            Traceback (most recent call last)",
      "\u001b[0;31mAttributeError\u001b[0m: 'tuple' object has no attribute 'cur_x'"
     ]
    },
    {
     "name": "stderr",
     "output_type": "stream",
     "text": [
      "Exception ignored in: 'GridWorldOption.GridWorldOption.get_action'\n",
      "Traceback (most recent call last):\n",
      "  File \"/home/otavio/git/tcc/mcts-simulate/mcts/utils.py\", line 146, in expand\n",
      "    action, should_break = option.get_action(env.state())\n",
      "AttributeError: 'tuple' object has no attribute 'cur_x'\n"
     ]
    },
    {
     "ename": "AttributeError",
     "evalue": "'tuple' object has no attribute 'cur_x'",
     "output_type": "error",
     "traceback": [
      "\u001b[0;31m---------------------------------------------------------------------------\u001b[0m",
      "\u001b[0;31mAttributeError\u001b[0m                            Traceback (most recent call last)",
      "\u001b[0;31mAttributeError\u001b[0m: 'tuple' object has no attribute 'cur_x'"
     ]
    },
    {
     "name": "stderr",
     "output_type": "stream",
     "text": [
      "Exception ignored in: 'GridWorldOption.GridWorldOption.get_action'\n",
      "Traceback (most recent call last):\n",
      "  File \"/home/otavio/git/tcc/mcts-simulate/mcts/utils.py\", line 146, in expand\n",
      "    action, should_break = option.get_action(env.state())\n",
      "AttributeError: 'tuple' object has no attribute 'cur_x'\n"
     ]
    },
    {
     "ename": "AttributeError",
     "evalue": "'tuple' object has no attribute 'cur_x'",
     "output_type": "error",
     "traceback": [
      "\u001b[0;31m---------------------------------------------------------------------------\u001b[0m",
      "\u001b[0;31mAttributeError\u001b[0m                            Traceback (most recent call last)",
      "\u001b[0;31mAttributeError\u001b[0m: 'tuple' object has no attribute 'cur_x'"
     ]
    },
    {
     "name": "stderr",
     "output_type": "stream",
     "text": [
      "Exception ignored in: 'GridWorldOption.GridWorldOption.get_action'\n",
      "Traceback (most recent call last):\n",
      "  File \"/home/otavio/git/tcc/mcts-simulate/mcts/utils.py\", line 146, in expand\n",
      "    action, should_break = option.get_action(env.state())\n",
      "AttributeError: 'tuple' object has no attribute 'cur_x'\n"
     ]
    },
    {
     "ename": "AttributeError",
     "evalue": "'tuple' object has no attribute 'cur_x'",
     "output_type": "error",
     "traceback": [
      "\u001b[0;31m---------------------------------------------------------------------------\u001b[0m",
      "\u001b[0;31mAttributeError\u001b[0m                            Traceback (most recent call last)",
      "\u001b[0;31mAttributeError\u001b[0m: 'tuple' object has no attribute 'cur_x'"
     ]
    },
    {
     "name": "stderr",
     "output_type": "stream",
     "text": [
      "Exception ignored in: 'GridWorldOption.GridWorldOption.get_action'\n",
      "Traceback (most recent call last):\n",
      "  File \"/home/otavio/git/tcc/mcts-simulate/mcts/utils.py\", line 146, in expand\n",
      "    action, should_break = option.get_action(env.state())\n",
      "AttributeError: 'tuple' object has no attribute 'cur_x'\n"
     ]
    },
    {
     "ename": "AttributeError",
     "evalue": "'tuple' object has no attribute 'cur_x'",
     "output_type": "error",
     "traceback": [
      "\u001b[0;31m---------------------------------------------------------------------------\u001b[0m",
      "\u001b[0;31mAttributeError\u001b[0m                            Traceback (most recent call last)",
      "\u001b[0;31mAttributeError\u001b[0m: 'tuple' object has no attribute 'cur_x'"
     ]
    },
    {
     "name": "stderr",
     "output_type": "stream",
     "text": [
      "Exception ignored in: 'GridWorldOption.GridWorldOption.get_action'\n",
      "Traceback (most recent call last):\n",
      "  File \"/home/otavio/git/tcc/mcts-simulate/mcts/utils.py\", line 146, in expand\n",
      "    action, should_break = option.get_action(env.state())\n",
      "AttributeError: 'tuple' object has no attribute 'cur_x'\n"
     ]
    },
    {
     "ename": "AttributeError",
     "evalue": "'tuple' object has no attribute 'cur_x'",
     "output_type": "error",
     "traceback": [
      "\u001b[0;31m---------------------------------------------------------------------------\u001b[0m",
      "\u001b[0;31mAttributeError\u001b[0m                            Traceback (most recent call last)",
      "\u001b[0;31mAttributeError\u001b[0m: 'tuple' object has no attribute 'cur_x'"
     ]
    },
    {
     "name": "stderr",
     "output_type": "stream",
     "text": [
      "Exception ignored in: 'GridWorldOption.GridWorldOption.get_action'\n",
      "Traceback (most recent call last):\n",
      "  File \"/home/otavio/git/tcc/mcts-simulate/mcts/utils.py\", line 146, in expand\n",
      "    action, should_break = option.get_action(env.state())\n",
      "AttributeError: 'tuple' object has no attribute 'cur_x'\n"
     ]
    },
    {
     "ename": "AttributeError",
     "evalue": "'tuple' object has no attribute 'cur_x'",
     "output_type": "error",
     "traceback": [
      "\u001b[0;31m---------------------------------------------------------------------------\u001b[0m",
      "\u001b[0;31mAttributeError\u001b[0m                            Traceback (most recent call last)",
      "\u001b[0;31mAttributeError\u001b[0m: 'tuple' object has no attribute 'cur_x'"
     ]
    },
    {
     "name": "stderr",
     "output_type": "stream",
     "text": [
      "Exception ignored in: 'GridWorldOption.GridWorldOption.get_action'\n",
      "Traceback (most recent call last):\n",
      "  File \"/home/otavio/git/tcc/mcts-simulate/mcts/utils.py\", line 146, in expand\n",
      "    action, should_break = option.get_action(env.state())\n",
      "AttributeError: 'tuple' object has no attribute 'cur_x'\n"
     ]
    },
    {
     "ename": "AttributeError",
     "evalue": "'tuple' object has no attribute 'cur_x'",
     "output_type": "error",
     "traceback": [
      "\u001b[0;31m---------------------------------------------------------------------------\u001b[0m",
      "\u001b[0;31mAttributeError\u001b[0m                            Traceback (most recent call last)",
      "\u001b[0;31mAttributeError\u001b[0m: 'tuple' object has no attribute 'cur_x'"
     ]
    },
    {
     "name": "stderr",
     "output_type": "stream",
     "text": [
      "Exception ignored in: 'GridWorldOption.GridWorldOption.get_action'\n",
      "Traceback (most recent call last):\n",
      "  File \"/home/otavio/git/tcc/mcts-simulate/mcts/utils.py\", line 146, in expand\n",
      "    action, should_break = option.get_action(env.state())\n",
      "AttributeError: 'tuple' object has no attribute 'cur_x'\n"
     ]
    },
    {
     "ename": "AttributeError",
     "evalue": "'tuple' object has no attribute 'cur_x'",
     "output_type": "error",
     "traceback": [
      "\u001b[0;31m---------------------------------------------------------------------------\u001b[0m",
      "\u001b[0;31mAttributeError\u001b[0m                            Traceback (most recent call last)",
      "\u001b[0;31mAttributeError\u001b[0m: 'tuple' object has no attribute 'cur_x'"
     ]
    },
    {
     "name": "stderr",
     "output_type": "stream",
     "text": [
      "Exception ignored in: 'GridWorldOption.GridWorldOption.get_action'\n",
      "Traceback (most recent call last):\n",
      "  File \"/home/otavio/git/tcc/mcts-simulate/mcts/utils.py\", line 146, in expand\n",
      "    action, should_break = option.get_action(env.state())\n",
      "AttributeError: 'tuple' object has no attribute 'cur_x'\n"
     ]
    },
    {
     "ename": "AttributeError",
     "evalue": "'tuple' object has no attribute 'cur_x'",
     "output_type": "error",
     "traceback": [
      "\u001b[0;31m---------------------------------------------------------------------------\u001b[0m",
      "\u001b[0;31mAttributeError\u001b[0m                            Traceback (most recent call last)",
      "\u001b[0;31mAttributeError\u001b[0m: 'tuple' object has no attribute 'cur_x'"
     ]
    },
    {
     "name": "stderr",
     "output_type": "stream",
     "text": [
      "Exception ignored in: 'GridWorldOption.GridWorldOption.get_action'\n",
      "Traceback (most recent call last):\n",
      "  File \"/home/otavio/git/tcc/mcts-simulate/mcts/utils.py\", line 146, in expand\n",
      "    action, should_break = option.get_action(env.state())\n",
      "AttributeError: 'tuple' object has no attribute 'cur_x'\n"
     ]
    },
    {
     "ename": "AttributeError",
     "evalue": "'tuple' object has no attribute 'cur_x'",
     "output_type": "error",
     "traceback": [
      "\u001b[0;31m---------------------------------------------------------------------------\u001b[0m",
      "\u001b[0;31mAttributeError\u001b[0m                            Traceback (most recent call last)",
      "\u001b[0;31mAttributeError\u001b[0m: 'tuple' object has no attribute 'cur_x'"
     ]
    },
    {
     "name": "stderr",
     "output_type": "stream",
     "text": [
      "Exception ignored in: 'GridWorldOption.GridWorldOption.get_action'\n",
      "Traceback (most recent call last):\n",
      "  File \"/home/otavio/git/tcc/mcts-simulate/mcts/utils.py\", line 146, in expand\n",
      "    action, should_break = option.get_action(env.state())\n",
      "AttributeError: 'tuple' object has no attribute 'cur_x'\n"
     ]
    },
    {
     "ename": "AttributeError",
     "evalue": "'tuple' object has no attribute 'cur_x'",
     "output_type": "error",
     "traceback": [
      "\u001b[0;31m---------------------------------------------------------------------------\u001b[0m",
      "\u001b[0;31mAttributeError\u001b[0m                            Traceback (most recent call last)",
      "\u001b[0;31mAttributeError\u001b[0m: 'tuple' object has no attribute 'cur_x'"
     ]
    },
    {
     "name": "stderr",
     "output_type": "stream",
     "text": [
      "Exception ignored in: 'GridWorldOption.GridWorldOption.get_action'\n",
      "Traceback (most recent call last):\n",
      "  File \"/home/otavio/git/tcc/mcts-simulate/mcts/utils.py\", line 146, in expand\n",
      "    action, should_break = option.get_action(env.state())\n",
      "AttributeError: 'tuple' object has no attribute 'cur_x'\n"
     ]
    },
    {
     "ename": "AttributeError",
     "evalue": "'tuple' object has no attribute 'cur_x'",
     "output_type": "error",
     "traceback": [
      "\u001b[0;31m---------------------------------------------------------------------------\u001b[0m",
      "\u001b[0;31mAttributeError\u001b[0m                            Traceback (most recent call last)",
      "\u001b[0;31mAttributeError\u001b[0m: 'tuple' object has no attribute 'cur_x'"
     ]
    },
    {
     "name": "stderr",
     "output_type": "stream",
     "text": [
      "Exception ignored in: 'GridWorldOption.GridWorldOption.get_action'\n",
      "Traceback (most recent call last):\n",
      "  File \"/home/otavio/git/tcc/mcts-simulate/mcts/utils.py\", line 146, in expand\n",
      "    action, should_break = option.get_action(env.state())\n",
      "AttributeError: 'tuple' object has no attribute 'cur_x'\n"
     ]
    },
    {
     "ename": "AttributeError",
     "evalue": "'tuple' object has no attribute 'cur_x'",
     "output_type": "error",
     "traceback": [
      "\u001b[0;31m---------------------------------------------------------------------------\u001b[0m",
      "\u001b[0;31mAttributeError\u001b[0m                            Traceback (most recent call last)",
      "\u001b[0;31mAttributeError\u001b[0m: 'tuple' object has no attribute 'cur_x'"
     ]
    },
    {
     "name": "stderr",
     "output_type": "stream",
     "text": [
      "Exception ignored in: 'GridWorldOption.GridWorldOption.get_action'\n",
      "Traceback (most recent call last):\n",
      "  File \"/home/otavio/git/tcc/mcts-simulate/mcts/utils.py\", line 146, in expand\n",
      "    action, should_break = option.get_action(env.state())\n",
      "AttributeError: 'tuple' object has no attribute 'cur_x'\n"
     ]
    },
    {
     "ename": "AttributeError",
     "evalue": "'tuple' object has no attribute 'cur_x'",
     "output_type": "error",
     "traceback": [
      "\u001b[0;31m---------------------------------------------------------------------------\u001b[0m",
      "\u001b[0;31mAttributeError\u001b[0m                            Traceback (most recent call last)",
      "\u001b[0;31mAttributeError\u001b[0m: 'tuple' object has no attribute 'cur_x'"
     ]
    },
    {
     "name": "stderr",
     "output_type": "stream",
     "text": [
      "Exception ignored in: 'GridWorldOption.GridWorldOption.get_action'\n",
      "Traceback (most recent call last):\n",
      "  File \"/home/otavio/git/tcc/mcts-simulate/mcts/utils.py\", line 146, in expand\n",
      "    action, should_break = option.get_action(env.state())\n",
      "AttributeError: 'tuple' object has no attribute 'cur_x'\n"
     ]
    },
    {
     "ename": "AttributeError",
     "evalue": "'tuple' object has no attribute 'cur_x'",
     "output_type": "error",
     "traceback": [
      "\u001b[0;31m---------------------------------------------------------------------------\u001b[0m",
      "\u001b[0;31mAttributeError\u001b[0m                            Traceback (most recent call last)",
      "\u001b[0;31mAttributeError\u001b[0m: 'tuple' object has no attribute 'cur_x'"
     ]
    },
    {
     "name": "stderr",
     "output_type": "stream",
     "text": [
      "Exception ignored in: 'GridWorldOption.GridWorldOption.get_action'\n",
      "Traceback (most recent call last):\n",
      "  File \"/home/otavio/git/tcc/mcts-simulate/mcts/utils.py\", line 146, in expand\n",
      "    action, should_break = option.get_action(env.state())\n",
      "AttributeError: 'tuple' object has no attribute 'cur_x'\n"
     ]
    },
    {
     "ename": "AttributeError",
     "evalue": "'tuple' object has no attribute 'cur_x'",
     "output_type": "error",
     "traceback": [
      "\u001b[0;31m---------------------------------------------------------------------------\u001b[0m",
      "\u001b[0;31mAttributeError\u001b[0m                            Traceback (most recent call last)",
      "\u001b[0;31mAttributeError\u001b[0m: 'tuple' object has no attribute 'cur_x'"
     ]
    },
    {
     "name": "stderr",
     "output_type": "stream",
     "text": [
      "Exception ignored in: 'GridWorldOption.GridWorldOption.get_action'\n",
      "Traceback (most recent call last):\n",
      "  File \"/home/otavio/git/tcc/mcts-simulate/mcts/utils.py\", line 146, in expand\n",
      "    action, should_break = option.get_action(env.state())\n",
      "AttributeError: 'tuple' object has no attribute 'cur_x'\n"
     ]
    },
    {
     "ename": "AttributeError",
     "evalue": "'tuple' object has no attribute 'cur_x'",
     "output_type": "error",
     "traceback": [
      "\u001b[0;31m---------------------------------------------------------------------------\u001b[0m",
      "\u001b[0;31mAttributeError\u001b[0m                            Traceback (most recent call last)",
      "\u001b[0;31mAttributeError\u001b[0m: 'tuple' object has no attribute 'cur_x'"
     ]
    },
    {
     "name": "stderr",
     "output_type": "stream",
     "text": [
      "Exception ignored in: 'GridWorldOption.GridWorldOption.get_action'\n",
      "Traceback (most recent call last):\n",
      "  File \"/home/otavio/git/tcc/mcts-simulate/mcts/utils.py\", line 146, in expand\n",
      "    action, should_break = option.get_action(env.state())\n",
      "AttributeError: 'tuple' object has no attribute 'cur_x'\n"
     ]
    },
    {
     "ename": "AttributeError",
     "evalue": "'tuple' object has no attribute 'cur_x'",
     "output_type": "error",
     "traceback": [
      "\u001b[0;31m---------------------------------------------------------------------------\u001b[0m",
      "\u001b[0;31mAttributeError\u001b[0m                            Traceback (most recent call last)",
      "\u001b[0;31mAttributeError\u001b[0m: 'tuple' object has no attribute 'cur_x'"
     ]
    },
    {
     "name": "stderr",
     "output_type": "stream",
     "text": [
      "Exception ignored in: 'GridWorldOption.GridWorldOption.get_action'\n",
      "Traceback (most recent call last):\n",
      "  File \"/home/otavio/git/tcc/mcts-simulate/mcts/utils.py\", line 146, in expand\n",
      "    action, should_break = option.get_action(env.state())\n",
      "AttributeError: 'tuple' object has no attribute 'cur_x'\n"
     ]
    },
    {
     "ename": "AttributeError",
     "evalue": "'tuple' object has no attribute 'cur_x'",
     "output_type": "error",
     "traceback": [
      "\u001b[0;31m---------------------------------------------------------------------------\u001b[0m",
      "\u001b[0;31mAttributeError\u001b[0m                            Traceback (most recent call last)",
      "\u001b[0;31mAttributeError\u001b[0m: 'tuple' object has no attribute 'cur_x'"
     ]
    },
    {
     "name": "stderr",
     "output_type": "stream",
     "text": [
      "Exception ignored in: 'GridWorldOption.GridWorldOption.get_action'\n",
      "Traceback (most recent call last):\n",
      "  File \"/home/otavio/git/tcc/mcts-simulate/mcts/utils.py\", line 146, in expand\n",
      "    action, should_break = option.get_action(env.state())\n",
      "AttributeError: 'tuple' object has no attribute 'cur_x'\n"
     ]
    },
    {
     "ename": "AttributeError",
     "evalue": "'tuple' object has no attribute 'cur_x'",
     "output_type": "error",
     "traceback": [
      "\u001b[0;31m---------------------------------------------------------------------------\u001b[0m",
      "\u001b[0;31mAttributeError\u001b[0m                            Traceback (most recent call last)",
      "\u001b[0;31mAttributeError\u001b[0m: 'tuple' object has no attribute 'cur_x'"
     ]
    },
    {
     "name": "stderr",
     "output_type": "stream",
     "text": [
      "Exception ignored in: 'GridWorldOption.GridWorldOption.get_action'\n",
      "Traceback (most recent call last):\n",
      "  File \"/home/otavio/git/tcc/mcts-simulate/mcts/utils.py\", line 146, in expand\n",
      "    action, should_break = option.get_action(env.state())\n",
      "AttributeError: 'tuple' object has no attribute 'cur_x'\n"
     ]
    },
    {
     "ename": "AttributeError",
     "evalue": "'tuple' object has no attribute 'cur_x'",
     "output_type": "error",
     "traceback": [
      "\u001b[0;31m---------------------------------------------------------------------------\u001b[0m",
      "\u001b[0;31mAttributeError\u001b[0m                            Traceback (most recent call last)",
      "\u001b[0;31mAttributeError\u001b[0m: 'tuple' object has no attribute 'cur_x'"
     ]
    },
    {
     "name": "stderr",
     "output_type": "stream",
     "text": [
      "Exception ignored in: 'GridWorldOption.GridWorldOption.get_action'\n",
      "Traceback (most recent call last):\n",
      "  File \"/home/otavio/git/tcc/mcts-simulate/mcts/utils.py\", line 146, in expand\n",
      "    action, should_break = option.get_action(env.state())\n",
      "AttributeError: 'tuple' object has no attribute 'cur_x'\n"
     ]
    },
    {
     "ename": "AttributeError",
     "evalue": "'tuple' object has no attribute 'cur_x'",
     "output_type": "error",
     "traceback": [
      "\u001b[0;31m---------------------------------------------------------------------------\u001b[0m",
      "\u001b[0;31mAttributeError\u001b[0m                            Traceback (most recent call last)",
      "\u001b[0;31mAttributeError\u001b[0m: 'tuple' object has no attribute 'cur_x'"
     ]
    },
    {
     "name": "stderr",
     "output_type": "stream",
     "text": [
      "Exception ignored in: 'GridWorldOption.GridWorldOption.get_action'\n",
      "Traceback (most recent call last):\n",
      "  File \"/home/otavio/git/tcc/mcts-simulate/mcts/utils.py\", line 146, in expand\n",
      "    action, should_break = option.get_action(env.state())\n",
      "AttributeError: 'tuple' object has no attribute 'cur_x'\n"
     ]
    },
    {
     "ename": "AttributeError",
     "evalue": "'tuple' object has no attribute 'cur_x'",
     "output_type": "error",
     "traceback": [
      "\u001b[0;31m---------------------------------------------------------------------------\u001b[0m",
      "\u001b[0;31mAttributeError\u001b[0m                            Traceback (most recent call last)",
      "\u001b[0;31mAttributeError\u001b[0m: 'tuple' object has no attribute 'cur_x'"
     ]
    },
    {
     "name": "stderr",
     "output_type": "stream",
     "text": [
      "Exception ignored in: 'GridWorldOption.GridWorldOption.get_action'\n",
      "Traceback (most recent call last):\n",
      "  File \"/home/otavio/git/tcc/mcts-simulate/mcts/utils.py\", line 146, in expand\n",
      "    action, should_break = option.get_action(env.state())\n",
      "AttributeError: 'tuple' object has no attribute 'cur_x'\n"
     ]
    }
   ],
   "source": [
    "mcts = MCTS(env, options)\n",
    "pi = mcts.run_sim(1000)"
   ]
  },
  {
   "cell_type": "code",
   "execution_count": 6,
   "id": "46e83d4d",
   "metadata": {},
   "outputs": [
    {
     "data": {
      "text/plain": [
       "array([0.168, 0.168, 0.173, 0.19 , 0.15 , 0.151, 0.   , 0.   ])"
      ]
     },
     "execution_count": 6,
     "metadata": {},
     "output_type": "execute_result"
    }
   ],
   "source": [
    "pi"
   ]
  },
  {
   "cell_type": "code",
   "execution_count": 7,
   "id": "8f0ab245",
   "metadata": {},
   "outputs": [
    {
     "name": "stdout",
     "output_type": "stream",
     "text": [
      "Expanded:  True\n",
      "Leaf:  False\n",
      "state (1, 1)\n",
      "Option 0\n",
      "N(s, o) 168\n",
      "Q(s, o) -99.5259101971596\n",
      "Q'(s, o):  0.017334866888418964\n",
      "U(s, o) 0.3041016395323996\n",
      "Option 1\n",
      "N(s, o) 168\n",
      "Q(s, o) -99.52526090589936\n",
      "Q'(s, o):  0.017358607912800316\n",
      "U(s, o) 0.30412538055678096\n",
      "Option 2\n",
      "N(s, o) 173\n",
      "Q(s, o) -99.44304456088707\n",
      "Q'(s, o):  0.02036480924491852\n",
      "U(s, o) 0.3029571703086695\n",
      "Option 3\n",
      "N(s, o) 190\n",
      "Q(s, o) -99.19147463639997\n",
      "Q'(s, o):  0.02956334321040919\n",
      "U(s, o) 0.2992172203621569\n",
      "Option 4\n",
      "N(s, o) 150\n",
      "Q(s, o) -99.99999999999925\n",
      "Q'(s, o):  1.03922621150321e-15\n",
      "U(s, o) 0.3034854258770303\n",
      "Option 5\n",
      "N(s, o) 151\n",
      "Q(s, o) -99.80913502741195\n",
      "Q'(s, o):  0.006978886433846898\n",
      "U(s, o) 0.30945772437749036\n"
     ]
    }
   ],
   "source": [
    "mcts.info()"
   ]
  },
  {
   "cell_type": "code",
   "execution_count": null,
   "id": "eeeff048",
   "metadata": {},
   "outputs": [],
   "source": []
  }
 ],
 "metadata": {
  "kernelspec": {
   "display_name": "Python 3 (ipykernel)",
   "language": "python",
   "name": "python3"
  },
  "language_info": {
   "codemirror_mode": {
    "name": "ipython",
    "version": 3
   },
   "file_extension": ".py",
   "mimetype": "text/x-python",
   "name": "python",
   "nbconvert_exporter": "python",
   "pygments_lexer": "ipython3",
   "version": "3.8.10"
  }
 },
 "nbformat": 4,
 "nbformat_minor": 5
}

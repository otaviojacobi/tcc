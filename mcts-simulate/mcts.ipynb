{
 "cells": [
  {
   "cell_type": "code",
   "execution_count": 1,
   "id": "c9206691",
   "metadata": {},
   "outputs": [],
   "source": [
    "\n",
    "from GridWorldOption import GridWorldOption\n",
    "from GridWorld import GridWorld\n",
    "from mcts.MCTS import MCTS\n",
    "from numpy.random import choice\n",
    "\n",
    "import numpy as np"
   ]
  },
  {
   "cell_type": "code",
   "execution_count": 2,
   "id": "0a3bf905",
   "metadata": {},
   "outputs": [],
   "source": [
    "MAP_NAME = './maps/door.map'\n",
    "with open(MAP_NAME) as f:\n",
    "    env_map = f.read()"
   ]
  },
  {
   "cell_type": "code",
   "execution_count": 3,
   "id": "3d60f8d2",
   "metadata": {},
   "outputs": [],
   "source": [
    "env = GridWorld(env_map)"
   ]
  },
  {
   "cell_type": "code",
   "execution_count": 4,
   "id": "3727bfd9",
   "metadata": {},
   "outputs": [],
   "source": [
    "first_room_pos = [(i,j) for i in range(6) for j in range(8)]\n",
    "second_room_pos = [(i,j) for i in range(6) for j in range(9, 15)]\n",
    "third_room_pos = [(i,j) for i in range(7,13) for j in range(8)]\n",
    "fourth_room_pos = [(i,j) for i in range(7,13) for j in range(9,15)]\n",
    "\n",
    "options = [\n",
    "    # primitives, (0,0) is meaningless\n",
    "    GridWorldOption((0, 0),   {'all'}, 0, 0),\n",
    "    GridWorldOption((0, 0),   {'all'}, 1, 1),\n",
    "    GridWorldOption((0, 0),   {'all'}, 2, 2),\n",
    "    GridWorldOption((0, 0),   {'all'}, 3, 3),\n",
    "    GridWorldOption((3,8),  set(first_room_pos + second_room_pos + [(6,3)] + [(6,13)]), 4),\n",
    "    GridWorldOption((6,3),  set(first_room_pos + third_room_pos + [(3,8)] + [(11,8)]), 5),\n",
    "    GridWorldOption((6,13), set(second_room_pos + fourth_room_pos + [(3,8)] + [(11,8)]), 6),\n",
    "    GridWorldOption((11,8), set(third_room_pos + fourth_room_pos + [(6,3)] + [(6,13)]), 7),\n",
    "]"
   ]
  },
  {
   "cell_type": "code",
   "execution_count": 5,
   "id": "d46775fd",
   "metadata": {
    "scrolled": true
   },
   "outputs": [
    {
     "name": "stdout",
     "output_type": "stream",
     "text": [
      "4\n",
      "6\n",
      "1\n",
      "1\n",
      "0\n",
      "1\n",
      "1\n",
      "1\n",
      "1\n",
      "2\n",
      "0\n",
      "1\n",
      "1\n"
     ]
    }
   ],
   "source": [
    "env = GridWorld(env_map)\n",
    "done = False\n",
    "R = 0.0\n",
    "while not done:\n",
    "    mcts = MCTS(env.copy(), options)\n",
    "    pi = mcts.run_sim(20)\n",
    "    opt_index = np.argmax(pi)\n",
    "    opt = options[opt_index]\n",
    "    \n",
    "    print(opt)\n",
    "    while True:\n",
    "        a, should_break = opt.get_action(env)\n",
    "\n",
    "        if a == -1 or done:\n",
    "            break\n",
    "\n",
    "        _, r, done = env.step(a)\n",
    "\n",
    "        R += r\n",
    "\n",
    "        if should_break:\n",
    "            break"
   ]
  },
  {
   "cell_type": "code",
   "execution_count": 7,
   "id": "49cee6b3",
   "metadata": {},
   "outputs": [
    {
     "data": {
      "text/plain": [
       "-28.0"
      ]
     },
     "execution_count": 7,
     "metadata": {},
     "output_type": "execute_result"
    }
   ],
   "source": [
    "R"
   ]
  },
  {
   "cell_type": "code",
   "execution_count": null,
   "id": "bfe8c80a",
   "metadata": {},
   "outputs": [],
   "source": []
  }
 ],
 "metadata": {
  "kernelspec": {
   "display_name": "Python 3 (ipykernel)",
   "language": "python",
   "name": "python3"
  },
  "language_info": {
   "codemirror_mode": {
    "name": "ipython",
    "version": 3
   },
   "file_extension": ".py",
   "mimetype": "text/x-python",
   "name": "python",
   "nbconvert_exporter": "python",
   "pygments_lexer": "ipython3",
   "version": "3.8.10"
  }
 },
 "nbformat": 4,
 "nbformat_minor": 5
}

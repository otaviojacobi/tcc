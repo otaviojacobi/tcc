{
 "cells": [
  {
   "cell_type": "code",
   "execution_count": 1,
   "id": "a6b590eb",
   "metadata": {},
   "outputs": [],
   "source": [
    "import matplotlib.pyplot as plt\n",
    "import numpy as np\n",
    "import pickle"
   ]
  },
  {
   "cell_type": "code",
   "execution_count": 5,
   "id": "3ebd2983",
   "metadata": {},
   "outputs": [],
   "source": [
    "with open('first.pickle', 'rb') as f:\n",
    "    m_door = pickle.load(f)\n",
    "    "
   ]
  },
  {
   "cell_type": "code",
   "execution_count": 24,
   "id": "8db62b7f",
   "metadata": {},
   "outputs": [],
   "source": [
    "grid = np.zeros((13, 15))\n",
    "\n",
    "with open('easy.txt') as f:\n",
    "    env_map = f.read()\n",
    "    \n",
    "env_map = env_map.split('\\n')\n",
    "\n",
    "for i in range(len(env_map)):\n",
    "    for j in range(len(env_map[0])):\n",
    "        if env_map[i][j] == '*':\n",
    "            grid[i][j] = -1\n",
    "        else:\n",
    "            grid[i][j] = 0\n",
    "            \n",
    "            \n",
    "model = m_door\n",
    "for k, v in model['stats'].items():\n",
    "    grid[k.cur_x, k.cur_y] =  min(1000, v[1])#(v[0]//v[1]  - model['mini_q']) / (-model['mini_q']) #(v - model['mini']) / (-model['mini'])"
   ]
  },
  {
   "cell_type": "code",
   "execution_count": 25,
   "id": "26a72b50",
   "metadata": {},
   "outputs": [
    {
     "data": {
      "text/plain": [
       "-763.4413537320353"
      ]
     },
     "execution_count": 25,
     "metadata": {},
     "output_type": "execute_result"
    }
   ],
   "source": [
    "model['mini_q']"
   ]
  },
  {
   "cell_type": "code",
   "execution_count": 26,
   "id": "fa77d850",
   "metadata": {},
   "outputs": [
    {
     "data": {
      "text/plain": [
       "0.0"
      ]
     },
     "execution_count": 26,
     "metadata": {},
     "output_type": "execute_result"
    }
   ],
   "source": [
    "model['maxi_q']"
   ]
  },
  {
   "cell_type": "code",
   "execution_count": 27,
   "id": "297b5cfa",
   "metadata": {},
   "outputs": [
    {
     "data": {
      "text/plain": [
       "[]"
      ]
     },
     "execution_count": 27,
     "metadata": {},
     "output_type": "execute_result"
    },
    {
     "data": {
      "image/png": "[encoded data removed]",
      "text/plain": [
       "<Figure size 432x288 with 1 Axes>"
      ]
     },
     "metadata": {
      "needs_background": "light"
     },
     "output_type": "display_data"
    }
   ],
   "source": [
    "_, ax = plt.subplots()\n",
    "ax.imshow(grid)\n",
    "\n",
    "# draw gridlines\n",
    "ax.grid(which='major', axis='both', linestyle='-', color='k', linewidth=2)\n",
    "ax.set_xticks(np.arange(-0.5, 15, 1))\n",
    "ax.set_yticks(np.arange(-0.5, 13, 1))\n",
    "\n",
    "ax.set_yticklabels([])\n",
    "ax.set_xticklabels([])\n",
    "\n",
    "ax.set_title('')\n",
    "\n",
    "ax.plot()"
   ]
  },
  {
   "cell_type": "code",
   "execution_count": 23,
   "id": "1396afee",
   "metadata": {},
   "outputs": [
    {
     "data": {
      "text/plain": [
       "{(3, 8): [-8160829.0, 6153],\n",
       " (1, 2): [-808940.0, 548],\n",
       " (6, 3): [-7148219.0, 5170],\n",
       " (2, 1): [-698256.0, 460],\n",
       " (0, 1): [-783390.0, 496],\n",
       " (1, 0): [-520366.0, 364],\n",
       " (1, 1): [-841056.0, 547],\n",
       " (0, 2): [-751384.0, 505],\n",
       " (0, 0): [-520073.0, 339],\n",
       " (2, 2): [-766545.0, 523],\n",
       " (2, 0): [-513685.0, 339],\n",
       " (1, 3): [-562251.0, 404],\n",
       " (1, 4): [-434479.0, 277],\n",
       " (2, 3): [-578032.0, 397],\n",
       " (0, 3): [-581421.0, 350],\n",
       " (2, 4): [-398963.0, 251],\n",
       " (0, 4): [-386867.0, 253],\n",
       " (1, 5): [-350564.0, 226],\n",
       " (1, 6): [-368106.0, 251],\n",
       " (3, 4): [-376264.0, 239],\n",
       " (0, 5): [-407807.0, 260],\n",
       " (0, 6): [-417477.0, 287],\n",
       " (2, 5): [-292872.0, 193],\n",
       " (2, 6): [-313329.0, 205],\n",
       " (1, 7): [-402219.0, 255],\n",
       " (3, 5): [-291025.0, 192],\n",
       " (2, 7): [-414019.0, 277],\n",
       " (0, 7): [-439649.0, 277],\n",
       " (3, 7): [-560273.0, 396],\n",
       " (3, 6): [-379307.0, 260],\n",
       " (4, 6): [-487073.0, 325],\n",
       " (4, 7): [-686604.0, 471],\n",
       " (4, 5): [-315135.0, 204],\n",
       " (3, 9): [-288722.0, 234],\n",
       " (5, 7): [-857517.0, 599],\n",
       " (6, 13): [-1644397.0, 2807],\n",
       " (5, 6): [-528749.0, 364],\n",
       " (3, 10): [-180729.0, 163],\n",
       " (4, 9): [-260815.0, 204],\n",
       " (2, 9): [-220137.0, 196],\n",
       " (1, 9): [-234387.0, 211],\n",
       " (4, 10): [-223880.0, 201],\n",
       " (2, 10): [-223007.0, 179],\n",
       " (2, 11): [-209467.0, 157],\n",
       " (1, 10): [-245054.0, 211],\n",
       " (0, 9): [-301532.0, 251],\n",
       " (0, 10): [-293507.0, 280],\n",
       " (0, 11): [-317990.0, 278],\n",
       " (1, 11): [-223734.0, 227],\n",
       " (1, 12): [-230873.0, 198],\n",
       " (1, 13): [-216987.0, 170],\n",
       " (3, 11): [-187423.0, 190],\n",
       " (0, 12): [-284573.0, 260],\n",
       " (2, 12): [-187298.0, 160],\n",
       " (2, 13): [-173106.0, 140],\n",
       " (0, 13): [-239981.0, 217],\n",
       " (1, 14): [-186748.0, 161],\n",
       " (0, 14): [-223449.0, 198],\n",
       " (2, 14): [-135082.0, 115],\n",
       " (3, 14): [-190416.0, 172],\n",
       " (3, 12): [-183140.0, 197],\n",
       " (4, 12): [-356188.0, 326],\n",
       " (3, 13): [-183255.0, 201],\n",
       " (4, 11): [-250405.0, 262],\n",
       " (4, 13): [-298154.0, 300],\n",
       " (4, 14): [-206191.0, 240],\n",
       " (5, 13): [-361608.0, 352],\n",
       " (5, 14): [-293021.0, 297],\n",
       " (5, 12): [-340066.0, 406],\n",
       " (5, 11): [-337233.0, 318],\n",
       " (11, 8): [-1646743.0, 2157],\n",
       " (7, 13): [-72299.0, 169],\n",
       " (7, 12): [-31091.0, 123],\n",
       " (7, 14): [-43827.0, 136],\n",
       " (8, 13): [-16333.0, 97],\n",
       " (8, 12): [-14009.0, 68],\n",
       " (8, 14): [-17310.0, 101],\n",
       " (9, 13): [-9530.0, 43],\n",
       " (9, 14): [-19597.0, 73],\n",
       " (10, 14): [-5552.0, 50],\n",
       " (8, 11): [-11746.0, 80],\n",
       " (9, 12): [0.0, 414],\n",
       " (8, 10): [-17528.0, 63],\n",
       " (7, 11): [-16383.0, 112],\n",
       " (3, 2): [-458053.0, 332],\n",
       " (3, 1): [-434042.0, 266],\n",
       " (3, 0): [-282502.0, 181],\n",
       " (3, 3): [-497678.0, 313],\n",
       " (4, 3): [-381888.0, 250],\n",
       " (4, 2): [-401032.0, 239],\n",
       " (5, 2): [-234550.0, 177],\n",
       " (4, 1): [-220776.0, 143],\n",
       " (4, 0): [-111864.0, 72],\n",
       " (5, 1): [-155283.0, 105],\n",
       " (5, 0): [-57307.0, 36],\n",
       " (5, 3): [-488750.0, 327],\n",
       " (4, 4): [-294077.0, 198],\n",
       " (5, 4): [-284524.0, 208],\n",
       " (5, 5): [-306620.0, 203],\n",
       " (7, 3): [-324850.0, 274],\n",
       " (5, 9): [-266865.0, 212],\n",
       " (5, 10): [-267897.0, 237],\n",
       " (10, 13): [-7893.0, 39],\n",
       " (11, 14): [-3703.0, 32],\n",
       " (11, 13): [-4562.0, 26],\n",
       " (12, 14): [-4836.0, 35],\n",
       " (10, 12): [-6149.0, 35],\n",
       " (12, 13): [-4281.0, 22],\n",
       " (11, 12): [-10178.0, 46],\n",
       " (7, 4): [-256376.0, 201],\n",
       " (7, 2): [-176087.0, 128],\n",
       " (8, 3): [-202370.0, 140],\n",
       " (8, 4): [-157963.0, 145],\n",
       " (7, 1): [-87354.0, 58],\n",
       " (7, 5): [-255136.0, 209],\n",
       " (8, 2): [-119228.0, 88],\n",
       " (9, 3): [-79978.0, 70],\n",
       " (9, 2): [-75245.0, 66],\n",
       " (8, 5): [-243271.0, 178],\n",
       " (9, 4): [-91825.0, 82],\n",
       " (10, 3): [-61196.0, 42],\n",
       " (8, 1): [-60181.0, 56],\n",
       " (9, 1): [-99482.0, 62],\n",
       " (10, 2): [-43762.0, 37],\n",
       " (9, 0): [-69022.0, 44],\n",
       " (10, 1): [-42092.0, 33],\n",
       " (10, 0): [-29499.0, 23],\n",
       " (11, 2): [-30562.0, 28],\n",
       " (8, 0): [-64581.0, 47],\n",
       " (7, 0): [-46430.0, 38],\n",
       " (11, 1): [-36065.0, 20],\n",
       " (11, 3): [-33045.0, 28],\n",
       " (12, 2): [-39420.0, 31],\n",
       " (10, 4): [-65653.0, 59],\n",
       " (12, 3): [-40460.0, 28],\n",
       " (10, 5): [-142180.0, 102],\n",
       " (9, 5): [-148128.0, 117],\n",
       " (9, 6): [-194483.0, 174],\n",
       " (11, 0): [-9272.0, 8],\n",
       " (12, 1): [-26793.0, 19],\n",
       " (12, 0): [-1965.0, 2],\n",
       " (12, 4): [-28763.0, 21],\n",
       " (12, 5): [-36407.0, 31],\n",
       " (11, 4): [-50384.0, 37],\n",
       " (11, 5): [-55152.0, 53],\n",
       " (11, 6): [-107069.0, 102],\n",
       " (10, 6): [-169573.0, 142],\n",
       " (11, 7): [-132799.0, 141],\n",
       " (12, 6): [-102080.0, 82],\n",
       " (12, 7): [-123480.0, 121],\n",
       " (10, 7): [-234314.0, 188],\n",
       " (9, 7): [-244851.0, 216],\n",
       " (11, 9): [-68490.0, 130],\n",
       " (10, 9): [-34232.0, 104],\n",
       " (11, 10): [-40764.0, 116],\n",
       " (12, 9): [-54417.0, 147],\n",
       " (10, 10): [-44656.0, 109],\n",
       " (12, 10): [-51568.0, 141],\n",
       " (9, 9): [-29603.0, 72],\n",
       " (8, 9): [-21814.0, 53],\n",
       " (9, 10): [-16183.0, 72],\n",
       " (10, 11): [-8980.0, 80],\n",
       " (7, 9): [-17005.0, 48],\n",
       " (11, 11): [-24478.0, 93],\n",
       " (12, 11): [-33154.0, 100],\n",
       " (9, 11): [-10508.0, 48],\n",
       " (12, 12): [-8317.0, 49],\n",
       " (7, 6): [-284360.0, 227],\n",
       " (7, 7): [-334881.0, 269],\n",
       " (8, 6): [-259812.0, 210],\n",
       " (8, 7): [-313240.0, 247],\n",
       " (7, 10): [-23941.0, 78]}"
      ]
     },
     "execution_count": 23,
     "metadata": {},
     "output_type": "execute_result"
    }
   ],
   "source": [
    "model['stats']"
   ]
  },
  {
   "cell_type": "code",
   "execution_count": null,
   "id": "076463e7",
   "metadata": {},
   "outputs": [],
   "source": []
  }
 ],
 "metadata": {
  "kernelspec": {
   "display_name": "Python 3 (ipykernel)",
   "language": "python",
   "name": "python3"
  },
  "language_info": {
   "codemirror_mode": {
    "name": "ipython",
    "version": 3
   },
   "file_extension": ".py",
   "mimetype": "text/x-python",
   "name": "python",
   "nbconvert_exporter": "python",
   "pygments_lexer": "ipython3",
   "version": "3.8.10"
  }
 },
 "nbformat": 4,
 "nbformat_minor": 5
}

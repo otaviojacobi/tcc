{
 "cells": [
  {
   "cell_type": "code",
   "execution_count": 1,
   "id": "4363a7ae",
   "metadata": {},
   "outputs": [],
   "source": [
    "#from MuZeroParallel import MuZero as MuZeroP\n",
    "\n",
    "from MuZero import MuZero\n",
    "\n",
    "from GridWorldOption import GridWorldOption\n",
    "\n",
    "\n",
    "from GridWorld import GridWorld\n",
    "\n",
    "from mcts.MCTS import MCTS\n",
    "import numpy as np\n",
    "import matplotlib.pyplot as plt\n",
    "\n",
    "from random import choice\n",
    "from copy import deepcopy\n",
    "import time\n",
    "\n",
    "import pickle\n",
    "import pandas as pd\n",
    "\n",
    "from matplotlib.pyplot import figure\n",
    "import itertools\n",
    "from tqdm import tqdm\n"
   ]
  },
  {
   "cell_type": "code",
   "execution_count": 2,
   "id": "f92607e9",
   "metadata": {},
   "outputs": [],
   "source": [
    "MAP_NAME = './maps/door.map'\n",
    "with open(MAP_NAME) as f:\n",
    "    the_map = f.read()"
   ]
  },
  {
   "cell_type": "code",
   "execution_count": 3,
   "id": "b7f3dcf1",
   "metadata": {},
   "outputs": [],
   "source": [
    "def get_g(full_options):\n",
    "    env = GridWorld(the_map)\n",
    "\n",
    "    G_model = {}\n",
    "    for position in tqdm(env.possible_positions):\n",
    "        for option in full_options:\n",
    "            if option.is_valid(position):\n",
    "\n",
    "                test_env = GridWorld(the_map)\n",
    "                test_env.cur_x = position[0]\n",
    "                test_env.cur_y = position[1]\n",
    "                rewards = []\n",
    "                while True:\n",
    "                    action, should_break = option.get_action(test_env)\n",
    "\n",
    "                    if action == -1:\n",
    "                        break\n",
    "\n",
    "                    next_position, r, _ = test_env.step(action)\n",
    "                    rewards.append(r)\n",
    "\n",
    "                    if should_break:\n",
    "                        break\n",
    "\n",
    "                G_model[(position, option)] = (next_position, rewards)\n",
    "    return G_model\n"
   ]
  },
  {
   "cell_type": "code",
   "execution_count": 4,
   "id": "27daed5b",
   "metadata": {},
   "outputs": [],
   "source": [
    "def get_v():\n",
    "    V_model = {}\n",
    "\n",
    "    env = GridWorld(the_map)\n",
    "    the_opt  = GridWorldOption((env.goal_x, env.goal_y),   {'all'}, 10)\n",
    "\n",
    "    for position in tqdm(env.possible_positions):\n",
    "        env_test = GridWorld(the_map)\n",
    "\n",
    "        the_opt  = GridWorldOption((env_test.goal_x, env_test.goal_y),   {'all'}, 10)\n",
    "\n",
    "\n",
    "        env_test.cur_x = position[0]\n",
    "        env_test.cur_y = position[1]\n",
    "\n",
    "        state = position\n",
    "        rewards = []\n",
    "        done = False\n",
    "        while True:\n",
    "\n",
    "            action, _ = the_opt.get_action(env_test)\n",
    "\n",
    "            if action == -1 or done:\n",
    "                break\n",
    "\n",
    "            #print(action)\n",
    "            state, r, done = env_test.step(action)\n",
    "            #print(state)\n",
    "            rewards.append(r)\n",
    "\n",
    "        G = 0\n",
    "        counter = 0\n",
    "        for r in rewards:\n",
    "            G += (0.99 ** counter) * r\n",
    "            counter += 1\n",
    "\n",
    "        #print(len(rewards))\n",
    "        #print(G)\n",
    "\n",
    "        V_model[position] = G\n",
    "    return V_model"
   ]
  },
  {
   "cell_type": "code",
   "execution_count": 5,
   "id": "74f9902e",
   "metadata": {},
   "outputs": [
    {
     "name": "stderr",
     "output_type": "stream",
     "text": [
      "100%|██████████| 172/172 [00:00<00:00, 1608.80it/s]\n",
      "100%|██████████| 172/172 [00:00<00:00, 1384.14it/s]\n"
     ]
    }
   ],
   "source": [
    "MAP_NAME = './maps/door.map'\n",
    "with open(MAP_NAME) as f:\n",
    "    the_map = f.read()\n",
    "\n",
    "    \n",
    "first_room_pos = [(i,j) for i in range(6) for j in range(8)]\n",
    "second_room_pos = [(i,j) for i in range(6) for j in range(9, 15)]\n",
    "third_room_pos = [(i,j) for i in range(7,13) for j in range(8)]\n",
    "fourth_room_pos = [(i,j) for i in range(7,13) for j in range(9,15)]\n",
    "\n",
    "options = [\n",
    "    # primitives, (0,0) is meaningless\n",
    "    GridWorldOption((0, 0),   {'all'}, 0, 0),\n",
    "    GridWorldOption((0, 0),   {'all'}, 1, 1),\n",
    "    GridWorldOption((0, 0),   {'all'}, 2, 2),\n",
    "    GridWorldOption((0, 0),   {'all'}, 3, 3),\n",
    "    GridWorldOption((3,8),  set(first_room_pos + second_room_pos + [(6,3)] + [(6,13)]), 4),\n",
    "    GridWorldOption((6,3),  set(first_room_pos + third_room_pos + [(3,8)] + [(11,8)]), 5),\n",
    "    GridWorldOption((6,13), set(second_room_pos + fourth_room_pos + [(3,8)] + [(11,8)]), 6),\n",
    "    GridWorldOption((11,8), set(third_room_pos + fourth_room_pos + [(6,3)] + [(6,13)]), 7),\n",
    "]\n",
    "\n",
    "G_model = get_g(options)\n",
    "V_model = get_v()\n",
    "\n",
    "env = GridWorld(the_map)\n",
    "mu_debug = MuZero(env, options)\n",
    "\n",
    "\n",
    "s_next = mu_debug.env.reset()\n",
    "\n",
    "\n",
    "s0 = s_next\n",
    "mu_debug.f.v_table = V_model\n",
    "mu_debug.g.model_table = G_model"
   ]
  },
  {
   "cell_type": "code",
   "execution_count": 6,
   "id": "645327e4",
   "metadata": {},
   "outputs": [
    {
     "data": {
      "text/plain": [
       "array([0.07666667, 0.15666667, 0.16333333, 0.08833333, 0.28833333,\n",
       "       0.22666667, 0.        , 0.        ])"
      ]
     },
     "execution_count": 6,
     "metadata": {},
     "output_type": "execute_result"
    }
   ],
   "source": [
    "mcts = MCTS(s0, mu_debug.f, mu_debug.g, mu_debug.options)\n",
    "\n",
    "\n",
    "mcts.run_sim(600)"
   ]
  },
  {
   "cell_type": "code",
   "execution_count": 7,
   "id": "a98c1b52",
   "metadata": {},
   "outputs": [
    {
     "name": "stdout",
     "output_type": "stream",
     "text": [
      "Expanded:  True\n",
      "Leaf:  False\n",
      "hidden state (1, 1)\n",
      "Option 0\n",
      "N(s, o) 64\n",
      "Q(s, o) [-24.198897479046863]\n",
      "P(s, o) 0.16666666666666666\n",
      "Q'(s, o):  0.0293486155797228\n",
      "UCT exploration:  0.3768445758127966\n",
      "Prior regulation:  1.2801238164214412\n",
      "U(s, o) 0.10974990167758886\n",
      "Option 1\n",
      "N(s, o) 189\n",
      "Q(s, o) [-23.242468234525973]\n",
      "P(s, o) 0.16666666666666666\n",
      "Q'(s, o):  0.0857037841799595\n",
      "UCT exploration:  0.128920512778062\n",
      "Prior regulation:  1.2801238164214412\n",
      "U(s, o) 0.11320948731870314\n",
      "Option 2\n",
      "N(s, o) 171\n",
      "Q(s, o) [-23.288970453974915]\n",
      "P(s, o) 0.16666666666666666\n",
      "Q'(s, o):  0.08296375878619067\n",
      "UCT exploration:  0.14241219434785918\n",
      "Prior regulation:  1.2801238164214412\n",
      "U(s, o) 0.11334796574177958\n",
      "Option 3\n",
      "N(s, o) 64\n",
      "Q(s, o) [-24.198897479046867]\n",
      "P(s, o) 0.16666666666666666\n",
      "Q'(s, o):  0.02934861557972259\n",
      "UCT exploration:  0.3768445758127966\n",
      "Prior regulation:  1.2801238164214412\n",
      "U(s, o) 0.10974990167758863\n",
      "Option 4\n",
      "N(s, o) 49\n",
      "Q(s, o) [-24.696715909716314, -23.93607667648572, -23.167754218673466, -22.391670927944904, -21.60774841207754, -20.81590748693263, -20.016068168620404, -19.20814966526121, -18.392070368963253]\n",
      "P(s, o) 0.16666666666666666\n",
      "Q'(s, o):  1.5926566500798202e-05\n",
      "UCT exploration:  0.4898979485566356\n",
      "Prior regulation:  1.2801238164214412\n",
      "U(s, o) 0.10453759849372668\n",
      "Option 5\n",
      "N(s, o) 63\n",
      "Q(s, o) [-24.16095336595555, -23.394902389857144, -22.62111352510477, -21.839508611207947, -21.0500086982016, -20.25253403858095, -19.44700407937937]\n",
      "P(s, o) 0.16666666666666666\n",
      "Q'(s, o):  0.03158437625192872\n",
      "UCT exploration:  0.38273277230987157\n",
      "Prior regulation:  1.2801238164214412\n",
      "U(s, o) 0.11324193244507391\n"
     ]
    }
   ],
   "source": [
    "mcts.info()"
   ]
  },
  {
   "cell_type": "code",
   "execution_count": null,
   "id": "09d1a1ea",
   "metadata": {},
   "outputs": [],
   "source": []
  }
 ],
 "metadata": {
  "kernelspec": {
   "display_name": "Python 3",
   "language": "python",
   "name": "python3"
  },
  "language_info": {
   "codemirror_mode": {
    "name": "ipython",
    "version": 3
   },
   "file_extension": ".py",
   "mimetype": "text/x-python",
   "name": "python",
   "nbconvert_exporter": "python",
   "pygments_lexer": "ipython3",
   "version": "3.9.5"
  }
 },
 "nbformat": 4,
 "nbformat_minor": 5
}

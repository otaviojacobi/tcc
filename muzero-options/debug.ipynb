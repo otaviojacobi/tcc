{
 "cells": [
  {
   "cell_type": "code",
   "execution_count": 8,
   "id": "a2e7dd4c",
   "metadata": {},
   "outputs": [],
   "source": [
    "#from MuZeroParallel import MuZero as MuZeroP\n",
    "\n",
    "from MuZero import MuZero\n",
    "\n",
    "from GridWorldOption import GridWorldOption\n",
    "\n",
    "\n",
    "from GridWorld import GridWorld\n",
    "\n",
    "from mcts.MCTS import MCTS\n",
    "import numpy as np\n",
    "import matplotlib.pyplot as plt\n",
    "\n",
    "from random import choice\n",
    "from copy import deepcopy\n",
    "import time\n",
    "\n",
    "import pickle\n",
    "import pandas as pd\n",
    "\n",
    "from matplotlib.pyplot import figure\n",
    "import itertools\n",
    "from tqdm import tqdm\n"
   ]
  },
  {
   "cell_type": "code",
   "execution_count": 9,
   "id": "2f976d34",
   "metadata": {},
   "outputs": [],
   "source": [
    "MAP_NAME = './maps/door.map'\n",
    "with open(MAP_NAME) as f:\n",
    "    the_map = f.read()"
   ]
  },
  {
   "cell_type": "code",
   "execution_count": 10,
   "id": "81b42880",
   "metadata": {},
   "outputs": [],
   "source": [
    "def get_g(full_options):\n",
    "    env = GridWorld(the_map)\n",
    "\n",
    "    G_model = {}\n",
    "    for position in tqdm(env.possible_positions):\n",
    "        for option in full_options:\n",
    "            if option.is_valid(position):\n",
    "\n",
    "                test_env = GridWorld(the_map)\n",
    "                test_env.cur_x = position[0]\n",
    "                test_env.cur_y = position[1]\n",
    "                rewards = []\n",
    "                while True:\n",
    "                    action, should_break = option.get_action(test_env)\n",
    "\n",
    "                    if action == -1:\n",
    "                        break\n",
    "\n",
    "                    next_position, r, _ = test_env.step(action)\n",
    "                    rewards.append(r)\n",
    "\n",
    "                    if should_break:\n",
    "                        break\n",
    "\n",
    "                G_model[(position, option)] = (next_position, rewards)\n",
    "    return G_model\n"
   ]
  },
  {
   "cell_type": "code",
   "execution_count": 11,
   "id": "abc10db6",
   "metadata": {},
   "outputs": [],
   "source": [
    "def get_v():\n",
    "    V_model = {}\n",
    "\n",
    "    env = GridWorld(the_map)\n",
    "    the_opt  = GridWorldOption((env.goal_x, env.goal_y),   {'all'}, 10)\n",
    "\n",
    "    for position in tqdm(env.possible_positions):\n",
    "        env_test = GridWorld(the_map)\n",
    "\n",
    "        the_opt  = GridWorldOption((env_test.goal_x, env_test.goal_y),   {'all'}, 10)\n",
    "\n",
    "\n",
    "        env_test.cur_x = position[0]\n",
    "        env_test.cur_y = position[1]\n",
    "\n",
    "        state = position\n",
    "        rewards = []\n",
    "        done = False\n",
    "        while True:\n",
    "\n",
    "            action, _ = the_opt.get_action(env_test)\n",
    "\n",
    "            if action == -1 or done:\n",
    "                break\n",
    "\n",
    "            #print(action)\n",
    "            state, r, done = env_test.step(action)\n",
    "            #print(state)\n",
    "            rewards.append(r)\n",
    "\n",
    "        G = 0\n",
    "        counter = 0\n",
    "        for r in rewards:\n",
    "            G += (0.99 ** counter) * r\n",
    "            counter += 1\n",
    "\n",
    "        #print(len(rewards))\n",
    "        #print(G)\n",
    "\n",
    "        V_model[position] = G\n",
    "    return V_model"
   ]
  },
  {
   "cell_type": "code",
   "execution_count": 12,
   "id": "89c6d252",
   "metadata": {},
   "outputs": [
    {
     "name": "stderr",
     "output_type": "stream",
     "text": [
      "100%|███████████████████████████████████████| 172/172 [00:00<00:00, 2779.53it/s]\n",
      "100%|███████████████████████████████████████| 172/172 [00:00<00:00, 2012.81it/s]\n"
     ]
    }
   ],
   "source": [
    "MAP_NAME = './maps/door.map'\n",
    "with open(MAP_NAME) as f:\n",
    "    the_map = f.read()\n",
    "\n",
    "    \n",
    "first_room_pos = [(i,j) for i in range(6) for j in range(8)]\n",
    "second_room_pos = [(i,j) for i in range(6) for j in range(9, 15)]\n",
    "third_room_pos = [(i,j) for i in range(7,13) for j in range(8)]\n",
    "fourth_room_pos = [(i,j) for i in range(7,13) for j in range(9,15)]\n",
    "\n",
    "options = [\n",
    "    # primitives, (0,0) is meaningless\n",
    "    GridWorldOption((0, 0),   {'all'}, 0, 0),\n",
    "    GridWorldOption((0, 0),   {'all'}, 1, 1),\n",
    "    GridWorldOption((0, 0),   {'all'}, 2, 2),\n",
    "    GridWorldOption((0, 0),   {'all'}, 3, 3),\n",
    "    GridWorldOption((3,8),  set(first_room_pos + second_room_pos + [(6,3)] + [(6,13)]), 4),\n",
    "    GridWorldOption((6,3),  set(first_room_pos + third_room_pos + [(3,8)] + [(11,8)]), 5),\n",
    "    GridWorldOption((6,13), set(second_room_pos + fourth_room_pos + [(3,8)] + [(11,8)]), 6),\n",
    "    GridWorldOption((11,8), set(third_room_pos + fourth_room_pos + [(6,3)] + [(6,13)]), 7),\n",
    "]\n",
    "\n",
    "G_model = get_g(options)\n",
    "V_model = get_v()\n",
    "\n",
    "env = GridWorld(the_map)\n",
    "mu_debug = MuZero(env, options)\n",
    "\n",
    "\n",
    "s_next = mu_debug.env.reset()\n",
    "\n",
    "\n",
    "s0 = s_next\n",
    "mu_debug.f.v_table = V_model\n",
    "mu_debug.g.model_table = G_model"
   ]
  },
  {
   "cell_type": "code",
   "execution_count": 13,
   "id": "e776763a",
   "metadata": {},
   "outputs": [
    {
     "data": {
      "text/plain": [
       "array([0.0427, 0.1017, 0.0992, 0.0424, 0.4594, 0.2546, 0.    , 0.    ])"
      ]
     },
     "execution_count": 13,
     "metadata": {},
     "output_type": "execute_result"
    }
   ],
   "source": [
    "mcts = MCTS(s0, mu_debug.f, mu_debug.g, mu_debug.options)\n",
    "\n",
    "\n",
    "mcts.run_sim(10000)"
   ]
  },
  {
   "cell_type": "code",
   "execution_count": 14,
   "id": "34d004e2",
   "metadata": {},
   "outputs": [
    {
     "name": "stdout",
     "output_type": "stream",
     "text": [
      "Expanded:  True\n",
      "Leaf:  False\n",
      "hidden state (1, 1)\n",
      "Option 0\n",
      "N(s, o) 427\n",
      "Q(s, o) -25.419632052539367\n",
      "P(s, o) 0.16666666666666666\n",
      "Q'(s, o):  0.0006470131661985059\n",
      "UCT exploration:  0.2336448598130841\n",
      "Prior regulation:  1.661384186457386\n",
      "U(s, o) 0.06534265905628361\n",
      "Option 1\n",
      "N(s, o) 1017\n",
      "Q(s, o) -24.54241175492071\n",
      "P(s, o) 0.16666666666666666\n",
      "Q'(s, o):  0.03806342340134884\n",
      "UCT exploration:  0.09823182711198428\n",
      "Prior regulation:  1.661384186457386\n",
      "U(s, o) 0.06526355742979327\n",
      "Option 2\n",
      "N(s, o) 992\n",
      "Q(s, o) -24.562226891805107\n",
      "P(s, o) 0.16666666666666666\n",
      "Q'(s, o):  0.0372182408485227\n",
      "UCT exploration:  0.10070493454179255\n",
      "Prior regulation:  1.661384186457386\n",
      "U(s, o) 0.06510317180618275\n",
      "Option 3\n",
      "N(s, o) 424\n",
      "Q(s, o) -25.429585948862027\n",
      "P(s, o) 0.16666666666666666\n",
      "Q'(s, o):  0.00022244584911995609\n",
      "UCT exploration:  0.23529411764705882\n",
      "Prior regulation:  1.661384186457386\n",
      "U(s, o) 0.0653747668866645\n",
      "Option 4\n",
      "N(s, o) 4594\n",
      "Q(s, o) -24.042272799249297\n",
      "P(s, o) 0.16666666666666666\n",
      "Q'(s, o):  0.05939604006649166\n",
      "UCT exploration:  0.02176278563656148\n",
      "Prior regulation:  1.661384186457386\n",
      "U(s, o) 0.06542209805146586\n",
      "Option 5\n",
      "N(s, o) 2546\n",
      "Q(s, o) -24.155783025280055\n",
      "P(s, o) 0.16666666666666666\n",
      "Q'(s, o):  0.05455444532161287\n",
      "UCT exploration:  0.0392618767177071\n",
      "Prior regulation:  1.661384186457386\n",
      "U(s, o) 0.0654259555065192\n"
     ]
    }
   ],
   "source": [
    "mcts.info()"
   ]
  },
  {
   "cell_type": "code",
   "execution_count": null,
   "id": "c182add9",
   "metadata": {},
   "outputs": [],
   "source": []
  }
 ],
 "metadata": {
  "kernelspec": {
   "display_name": "Python 3 (ipykernel)",
   "language": "python",
   "name": "python3"
  },
  "language_info": {
   "codemirror_mode": {
    "name": "ipython",
    "version": 3
   },
   "file_extension": ".py",
   "mimetype": "text/x-python",
   "name": "python",
   "nbconvert_exporter": "python",
   "pygments_lexer": "ipython3",
   "version": "3.8.10"
  }
 },
 "nbformat": 4,
 "nbformat_minor": 5
}

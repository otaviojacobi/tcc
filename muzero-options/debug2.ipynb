{
 "cells": [
  {
   "cell_type": "code",
   "execution_count": 5,
   "id": "3b7c2977",
   "metadata": {},
   "outputs": [
    {
     "name": "stderr",
     "output_type": "stream",
     "text": [
      "100%|███████████████████████████████████████████████████████████████████████████████████████████| 172/172 [00:00<00:00, 1990.22it/s]\n"
     ]
    }
   ],
   "source": [
    "#from MuZeroParallel import MuZero as MuZeroP\n",
    "\n",
    "from MuZero import MuZero\n",
    "\n",
    "from GridWorldOption import GridWorldOption\n",
    "\n",
    "\n",
    "from GridWorld import GridWorld\n",
    "\n",
    "from mcts.MCTS import MCTS\n",
    "import numpy as np\n",
    "import matplotlib.pyplot as plt\n",
    "\n",
    "from random import choice\n",
    "from copy import deepcopy\n",
    "import time\n",
    "\n",
    "import pickle\n",
    "import pandas as pd\n",
    "\n",
    "from matplotlib.pyplot import figure\n",
    "import itertools\n",
    "from tqdm import tqdm\n",
    "\n",
    "\n",
    "MAP_NAME = './maps/door.map'\n",
    "\n",
    "options = [\n",
    "      GridWorldOption((0, 0),  {'all'}, 0, 0),\n",
    "      GridWorldOption((0, 0),  {'all'}, 1, 1),\n",
    "      GridWorldOption((0, 0),  {'all'}, 2, 2),\n",
    "      GridWorldOption((0, 0),  {'all'}, 3, 3)\n",
    "]\n",
    "\n",
    "with open(MAP_NAME) as f:\n",
    "    the_map = f.read()\n",
    "    \n",
    "first_room_pos = [(i,j) for i in range(6) for j in range(8)]\n",
    "second_room_pos = [(i,j) for i in range(6) for j in range(9, 15)]\n",
    "third_room_pos = [(i,j) for i in range(7,13) for j in range(8)]\n",
    "fourth_room_pos = [(i,j) for i in range(7,13) for j in range(9,15)]\n",
    "\n",
    "full_options = [\n",
    "  # primitives, (0,0) is meaningless\n",
    "  GridWorldOption((0, 0),   {'all'}, 0, 0),\n",
    "  GridWorldOption((0, 0),   {'all'}, 1, 1),\n",
    "  GridWorldOption((0, 0),   {'all'}, 2, 2),\n",
    "  GridWorldOption((0, 0),   {'all'}, 3, 3),\n",
    "  GridWorldOption((3,8),  set(first_room_pos + second_room_pos + [(6,3)] + [(6,13)]), 4),\n",
    "  GridWorldOption((6,3),  set(first_room_pos + third_room_pos + [(3,8)] + [(11,8)]), 5),\n",
    "  GridWorldOption((6,13), set(second_room_pos + fourth_room_pos + [(3,8)] + [(11,8)]), 6),\n",
    "  GridWorldOption((11,8), set(third_room_pos + fourth_room_pos + [(6,3)] + [(6,13)]), 7),\n",
    "]    \n",
    "\n",
    "env = GridWorld(the_map)\n",
    "\n",
    "G_model = {}\n",
    "for position in tqdm(env.possible_positions):\n",
    "    for option in full_options:\n",
    "        if option.is_valid(position):\n",
    "            \n",
    "            test_env = GridWorld(the_map)\n",
    "            test_env.cur_x = position[0]\n",
    "            test_env.cur_y = position[1]\n",
    "            rewards = []\n",
    "            while True:\n",
    "                action, should_break = option.get_action(test_env)\n",
    "                \n",
    "                if action == -1:\n",
    "                    break\n",
    "                \n",
    "                next_position, r, _ = test_env.step(action)\n",
    "                rewards.append(r)\n",
    "                \n",
    "                if should_break:\n",
    "                    break\n",
    "                \n",
    "            G_model[(position, option)] = (next_position, rewards)\n"
   ]
  },
  {
   "cell_type": "code",
   "execution_count": 6,
   "id": "a0194d43",
   "metadata": {},
   "outputs": [],
   "source": [
    "first_room_pos = [(i,j) for i in range(6) for j in range(8)]\n",
    "second_room_pos = [(i,j) for i in range(6) for j in range(9, 15)]\n",
    "third_room_pos = [(i,j) for i in range(7,13) for j in range(8)]\n",
    "fourth_room_pos = [(i,j) for i in range(7,13) for j in range(9,15)]\n",
    "\n",
    "options = [\n",
    "  # primitives, (0,0) is meaningless\n",
    "  GridWorldOption((0, 0),   {'all'}, 0, 0),\n",
    "  GridWorldOption((0, 0),   {'all'}, 1, 1),\n",
    "  GridWorldOption((0, 0),   {'all'}, 2, 2),\n",
    "  GridWorldOption((0, 0),   {'all'}, 3, 3),\n",
    "  GridWorldOption((3,8),  set(first_room_pos + second_room_pos + [(6,3)] + [(6,13)]), 4),\n",
    "  GridWorldOption((6,3),  set(first_room_pos + third_room_pos + [(3,8)] + [(11,8)]), 5),\n",
    "  GridWorldOption((6,13), set(second_room_pos + fourth_room_pos + [(3,8)] + [(11,8)]), 6),\n",
    "  GridWorldOption((11,8), set(third_room_pos + fourth_room_pos + [(6,3)] + [(6,13)]), 7),\n",
    "]\n",
    "\n",
    "with open(MAP_NAME) as f:\n",
    "    the_map = f.read()\n",
    "    \n",
    "env = GridWorld(the_map)\n",
    "mu_opt = MuZero(env, options)\n",
    "\n",
    "mu_opt.g.model_table = G_model\n"
   ]
  },
  {
   "cell_type": "code",
   "execution_count": 7,
   "id": "204486b4",
   "metadata": {},
   "outputs": [
    {
     "data": {
      "text/plain": [
       "array([0.167, 0.167, 0.166, 0.167, 0.166, 0.167, 0.   , 0.   ])"
      ]
     },
     "execution_count": 7,
     "metadata": {},
     "output_type": "execute_result"
    }
   ],
   "source": [
    "s0 = env.reset()\n",
    "\n",
    "mcts = MCTS(s0, mu_opt.f, mu_opt.g, mu_opt.options)\n",
    "mcts.run_sim(1000)"
   ]
  },
  {
   "cell_type": "code",
   "execution_count": 8,
   "id": "ba308652",
   "metadata": {},
   "outputs": [
    {
     "name": "stdout",
     "output_type": "stream",
     "text": [
      "Expanded:  True\n",
      "Leaf:  False\n",
      "hidden state (1, 1)\n",
      "Option 0\n",
      "N(s, o) 167\n",
      "Q(s, o) -3.643551353293415\n",
      "P(s, o) 0.16666666666666666\n",
      "Q'(s, o):  0.0\n",
      "UCT exploration:  0.18823081310526066\n",
      "Prior regulation:  1.299681472999111\n",
      "U(s, o) 0.04077335007341092\n",
      "Option 1\n",
      "N(s, o) 167\n",
      "Q(s, o) -3.643551353293415\n",
      "P(s, o) 0.16666666666666666\n",
      "Q'(s, o):  0.0\n",
      "UCT exploration:  0.18823081310526066\n",
      "Prior regulation:  1.299681472999111\n",
      "U(s, o) 0.04077335007341092\n",
      "Option 2\n",
      "N(s, o) 166\n",
      "Q(s, o) -3.6417631144578335\n",
      "P(s, o) 0.16666666666666666\n",
      "Q'(s, o):  0.000676453223938167\n",
      "UCT exploration:  0.18935794372265743\n",
      "Prior regulation:  1.299681472999111\n",
      "U(s, o) 0.041693955094195864\n",
      "Option 3\n",
      "N(s, o) 167\n",
      "Q(s, o) -3.643551353293415\n",
      "P(s, o) 0.16666666666666666\n",
      "Q'(s, o):  0.0\n",
      "UCT exploration:  0.18823081310526066\n",
      "Prior regulation:  1.299681472999111\n",
      "U(s, o) 0.04077335007341092\n",
      "Option 4\n",
      "N(s, o) 166\n",
      "Q(s, o) -3.6417631144578335\n",
      "P(s, o) 0.16666666666666666\n",
      "Q'(s, o):  0.000676453223938167\n",
      "UCT exploration:  0.18935794372265743\n",
      "Prior regulation:  1.299681472999111\n",
      "U(s, o) 0.041693955094195864\n",
      "Option 5\n",
      "N(s, o) 167\n",
      "Q(s, o) -3.643551353293415\n",
      "P(s, o) 0.16666666666666666\n",
      "Q'(s, o):  0.0\n",
      "UCT exploration:  0.18823081310526066\n",
      "Prior regulation:  1.299681472999111\n",
      "U(s, o) 0.04077335007341092\n"
     ]
    }
   ],
   "source": [
    "mcts.info()"
   ]
  },
  {
   "cell_type": "code",
   "execution_count": null,
   "id": "e94fee27",
   "metadata": {},
   "outputs": [],
   "source": []
  }
 ],
 "metadata": {
  "kernelspec": {
   "display_name": "Python 3 (ipykernel)",
   "language": "python",
   "name": "python3"
  },
  "language_info": {
   "codemirror_mode": {
    "name": "ipython",
    "version": 3
   },
   "file_extension": ".py",
   "mimetype": "text/x-python",
   "name": "python",
   "nbconvert_exporter": "python",
   "pygments_lexer": "ipython3",
   "version": "3.8.10"
  }
 },
 "nbformat": 4,
 "nbformat_minor": 5
}

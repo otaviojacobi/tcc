{
 "cells": [
  {
   "cell_type": "code",
   "execution_count": 5,
   "id": "3b7c2977",
   "metadata": {},
   "outputs": [
    {
     "name": "stderr",
     "output_type": "stream",
     "text": [
      "100%|█████████████████████████████████████████████████████████████████████████████████████████████████████████████████████████████████████████████████████████████████████████████████████████████████████| 172/172 [00:00<00:00, 2675.55it/s]\n"
     ]
    }
   ],
   "source": [
    "#from MuZeroParallel import MuZero as MuZeroP\n",
    "\n",
    "from MuZero import MuZero\n",
    "\n",
    "from GridWorldOption import GridWorldOption\n",
    "\n",
    "\n",
    "from GridWorld import GridWorld\n",
    "\n",
    "from mcts.MCTS import MCTS\n",
    "import numpy as np\n",
    "import matplotlib.pyplot as plt\n",
    "\n",
    "from random import choice\n",
    "from copy import deepcopy\n",
    "import time\n",
    "\n",
    "import pickle\n",
    "import pandas as pd\n",
    "\n",
    "from matplotlib.pyplot import figure\n",
    "import itertools\n",
    "from tqdm import tqdm\n",
    "\n",
    "\n",
    "MAP_NAME = './maps/door.map'\n",
    "\n",
    "options = [\n",
    "      GridWorldOption((0, 0),  {'all'}, 0, 0),\n",
    "      GridWorldOption((0, 0),  {'all'}, 1, 1),\n",
    "      GridWorldOption((0, 0),  {'all'}, 2, 2),\n",
    "      GridWorldOption((0, 0),  {'all'}, 3, 3)\n",
    "]\n",
    "\n",
    "with open(MAP_NAME) as f:\n",
    "    the_map = f.read()\n",
    "    \n",
    "first_room_pos = [(i,j) for i in range(6) for j in range(8)]\n",
    "second_room_pos = [(i,j) for i in range(6) for j in range(9, 15)]\n",
    "third_room_pos = [(i,j) for i in range(7,13) for j in range(8)]\n",
    "fourth_room_pos = [(i,j) for i in range(7,13) for j in range(9,15)]\n",
    "\n",
    "full_options = [\n",
    "  # primitives, (0,0) is meaningless\n",
    "  GridWorldOption((0, 0),   {'all'}, 0, 0),\n",
    "  GridWorldOption((0, 0),   {'all'}, 1, 1),\n",
    "  GridWorldOption((0, 0),   {'all'}, 2, 2),\n",
    "  GridWorldOption((0, 0),   {'all'}, 3, 3),\n",
    "  GridWorldOption((3,8),  set(first_room_pos + second_room_pos + [(6,3)] + [(6,13)]), 4),\n",
    "  GridWorldOption((6,3),  set(first_room_pos + third_room_pos + [(3,8)] + [(11,8)]), 5),\n",
    "  GridWorldOption((6,13), set(second_room_pos + fourth_room_pos + [(3,8)] + [(11,8)]), 6),\n",
    "  GridWorldOption((11,8), set(third_room_pos + fourth_room_pos + [(6,3)] + [(6,13)]), 7),\n",
    "]    \n",
    "\n",
    "env = GridWorld(the_map)\n",
    "\n",
    "G_model = {}\n",
    "for position in tqdm(env.possible_positions):\n",
    "    for option in full_options:\n",
    "        if option.is_valid(position):\n",
    "            \n",
    "            test_env = GridWorld(the_map)\n",
    "            test_env.cur_x = position[0]\n",
    "            test_env.cur_y = position[1]\n",
    "            rewards = []\n",
    "            while True:\n",
    "                action, should_break = option.get_action(test_env)\n",
    "                \n",
    "                if action == -1:\n",
    "                    break\n",
    "                \n",
    "                next_position, r, _ = test_env.step(action)\n",
    "                rewards.append(r)\n",
    "                \n",
    "                if should_break:\n",
    "                    break\n",
    "                \n",
    "            G_model[(position, option)] = (next_position, rewards)\n"
   ]
  },
  {
   "cell_type": "code",
   "execution_count": 6,
   "id": "a0194d43",
   "metadata": {},
   "outputs": [],
   "source": [
    "first_room_pos = [(i,j) for i in range(6) for j in range(8)]\n",
    "second_room_pos = [(i,j) for i in range(6) for j in range(9, 15)]\n",
    "third_room_pos = [(i,j) for i in range(7,13) for j in range(8)]\n",
    "fourth_room_pos = [(i,j) for i in range(7,13) for j in range(9,15)]\n",
    "\n",
    "options = [\n",
    "  # primitives, (0,0) is meaningless\n",
    "  GridWorldOption((0, 0),   {'all'}, 0, 0),\n",
    "  GridWorldOption((0, 0),   {'all'}, 1, 1),\n",
    "  GridWorldOption((0, 0),   {'all'}, 2, 2),\n",
    "  GridWorldOption((0, 0),   {'all'}, 3, 3),\n",
    "  GridWorldOption((3,8),  set(first_room_pos + second_room_pos + [(6,3)] + [(6,13)]), 4),\n",
    "  GridWorldOption((6,3),  set(first_room_pos + third_room_pos + [(3,8)] + [(11,8)]), 5),\n",
    "  GridWorldOption((6,13), set(second_room_pos + fourth_room_pos + [(3,8)] + [(11,8)]), 6),\n",
    "  GridWorldOption((11,8), set(third_room_pos + fourth_room_pos + [(6,3)] + [(6,13)]), 7),\n",
    "]\n",
    "\n",
    "with open(MAP_NAME) as f:\n",
    "    the_map = f.read()\n",
    "    \n",
    "env = GridWorld(the_map)\n",
    "mu_opt = MuZero(env, options)\n",
    "\n",
    "mu_opt.g.model_table = G_model\n"
   ]
  },
  {
   "cell_type": "code",
   "execution_count": 7,
   "id": "204486b4",
   "metadata": {},
   "outputs": [
    {
     "data": {
      "text/plain": [
       "array([0.13, 0.3 , 0.39, 0.1 , 0.03, 0.05, 0.  , 0.  ])"
      ]
     },
     "execution_count": 7,
     "metadata": {},
     "output_type": "execute_result"
    }
   ],
   "source": [
    "s0 = env.reset()\n",
    "\n",
    "mcts = MCTS(s0, mu_opt.f, mu_opt.g, mu_opt.options)\n",
    "mcts.run_sim(100)"
   ]
  },
  {
   "cell_type": "code",
   "execution_count": 4,
   "id": "ba308652",
   "metadata": {},
   "outputs": [
    {
     "name": "stdout",
     "output_type": "stream",
     "text": [
      "Expanded:  True\n",
      "Leaf:  False\n",
      "hidden state (1, 1)\n",
      "Option 0\n",
      "N(s, o) 18\n",
      "Q(s, o) -5.4047424680388865\n",
      "P(s, o) 0.16666666666666666\n",
      "Q'(s, o):  0.5346861149074393\n",
      "UCT exploration:  0.5263157894736842\n",
      "Prior regulation:  1.2551262642394618\n",
      "U(s, o) 0.644784910016164\n",
      "Option 1\n",
      "N(s, o) 37\n",
      "Q(s, o) -4.8710413041324365\n",
      "P(s, o) 0.16666666666666666\n",
      "Q'(s, o):  0.5910659291321514\n",
      "UCT exploration:  0.2631578947368421\n",
      "Prior regulation:  1.2551262642394618\n",
      "U(s, o) 0.6461153266865137\n",
      "Option 2\n",
      "N(s, o) 22\n",
      "Q(s, o) -5.600774385745455\n",
      "P(s, o) 0.16666666666666666\n",
      "Q'(s, o):  0.5139774414964373\n",
      "UCT exploration:  0.43478260869565216\n",
      "Prior regulation:  1.2551262642394618\n",
      "U(s, o) 0.6049286200645142\n",
      "Option 3\n",
      "N(s, o) 15\n",
      "Q(s, o) -5.511914011993334\n",
      "P(s, o) 0.16666666666666666\n",
      "Q'(s, o):  0.5233645886546197\n",
      "UCT exploration:  0.625\n",
      "Prior regulation:  1.2551262642394618\n",
      "U(s, o) 0.6541069078462303\n",
      "Option 4\n",
      "N(s, o) 3\n",
      "Q(s, o) -9.688313943599999\n",
      "P(s, o) 0.16666666666666666\n",
      "Q'(s, o):  0.08217264792773553\n",
      "UCT exploration:  2.5\n",
      "Prior regulation:  1.2551262642394618\n",
      "U(s, o) 0.6051419246941778\n",
      "Option 5\n",
      "N(s, o) 5\n",
      "Q(s, o) -7.730474211686364\n",
      "P(s, o) 0.16666666666666666\n",
      "Q'(s, o):  0.28899745520209086\n",
      "UCT exploration:  1.6666666666666667\n",
      "Prior regulation:  1.2551262642394618\n",
      "U(s, o) 0.6376436397130525\n"
     ]
    }
   ],
   "source": [
    "mcts.info()"
   ]
  },
  {
   "cell_type": "code",
   "execution_count": null,
   "id": "e94fee27",
   "metadata": {},
   "outputs": [],
   "source": []
  }
 ],
 "metadata": {
  "kernelspec": {
   "display_name": "Python 3 (ipykernel)",
   "language": "python",
   "name": "python3"
  },
  "language_info": {
   "codemirror_mode": {
    "name": "ipython",
    "version": 3
   },
   "file_extension": ".py",
   "mimetype": "text/x-python",
   "name": "python",
   "nbconvert_exporter": "python",
   "pygments_lexer": "ipython3",
   "version": "3.8.10"
  }
 },
 "nbformat": 4,
 "nbformat_minor": 5
}

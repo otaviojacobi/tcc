{
 "cells": [
  {
   "cell_type": "code",
   "execution_count": 1,
   "id": "1e2aa613",
   "metadata": {},
   "outputs": [],
   "source": [
    "#from MuZeroParallel import MuZero as MuZeroP\n",
    "\n",
    "from MuZero import MuZero\n",
    "\n",
    "from GridWorldOption import GridWorldOption\n",
    "\n",
    "\n",
    "from GridWorld import GridWorld\n",
    "\n",
    "from mcts.MCTS import MCTS\n",
    "import numpy as np\n",
    "import matplotlib.pyplot as plt\n",
    "\n",
    "from random import choice\n",
    "from copy import deepcopy\n",
    "import time\n",
    "\n",
    "import pickle\n",
    "import pandas as pd\n",
    "\n",
    "from matplotlib.pyplot import figure\n",
    "import itertools\n",
    "from tqdm import tqdm\n"
   ]
  },
  {
   "cell_type": "code",
   "execution_count": 2,
   "id": "216859c4",
   "metadata": {},
   "outputs": [],
   "source": [
    "MAP_NAME = './maps/door.map'\n",
    "\n",
    "options = [\n",
    "      GridWorldOption((0, 0),  {'all'}, 0, 0),\n",
    "      GridWorldOption((0, 0),  {'all'}, 1, 1),\n",
    "      GridWorldOption((0, 0),  {'all'}, 2, 2),\n",
    "      GridWorldOption((0, 0),  {'all'}, 3, 3)\n",
    "]\n",
    "\n",
    "with open(MAP_NAME) as f:\n",
    "    the_map = f.read()"
   ]
  },
  {
   "cell_type": "code",
   "execution_count": 3,
   "id": "f23c757c",
   "metadata": {},
   "outputs": [
    {
     "name": "stderr",
     "output_type": "stream",
     "text": [
      "100%|███████████████████████████████████████| 172/172 [00:00<00:00, 2747.49it/s]\n"
     ]
    }
   ],
   "source": [
    "first_room_pos = [(i,j) for i in range(6) for j in range(8)]\n",
    "second_room_pos = [(i,j) for i in range(6) for j in range(9, 15)]\n",
    "third_room_pos = [(i,j) for i in range(7,13) for j in range(8)]\n",
    "fourth_room_pos = [(i,j) for i in range(7,13) for j in range(9,15)]\n",
    "\n",
    "full_options = [\n",
    "  # primitives, (0,0) is meaningless\n",
    "  GridWorldOption((0, 0),   {'all'}, 0, 0),\n",
    "  GridWorldOption((0, 0),   {'all'}, 1, 1),\n",
    "  GridWorldOption((0, 0),   {'all'}, 2, 2),\n",
    "  GridWorldOption((0, 0),   {'all'}, 3, 3),\n",
    "  GridWorldOption((3,8),  set(first_room_pos + second_room_pos + [(6,3)] + [(6,13)]), 4),\n",
    "  GridWorldOption((6,3),  set(first_room_pos + third_room_pos + [(3,8)] + [(11,8)]), 5),\n",
    "  GridWorldOption((6,13), set(second_room_pos + fourth_room_pos + [(3,8)] + [(11,8)]), 6),\n",
    "  GridWorldOption((11,8), set(third_room_pos + fourth_room_pos + [(6,3)] + [(6,13)]), 7),\n",
    "]    \n",
    "\n",
    "env = GridWorld(the_map)\n",
    "\n",
    "G_model = {}\n",
    "for position in tqdm(env.possible_positions):\n",
    "    for option in full_options:\n",
    "        if option.is_valid(position):\n",
    "            \n",
    "            test_env = GridWorld(the_map)\n",
    "            test_env.cur_x = position[0]\n",
    "            test_env.cur_y = position[1]\n",
    "            rewards = []\n",
    "            while True:\n",
    "                action, should_break = option.get_action(test_env)\n",
    "                \n",
    "                if action == -1:\n",
    "                    break\n",
    "                \n",
    "                next_position, r, _ = test_env.step(action)\n",
    "                rewards.append(r)\n",
    "                \n",
    "                if should_break:\n",
    "                    break\n",
    "                \n",
    "            G_model[(position, option)] = (next_position, rewards)"
   ]
  },
  {
   "cell_type": "code",
   "execution_count": 4,
   "id": "79c24ed9",
   "metadata": {},
   "outputs": [],
   "source": [
    "SIMULATIONS = 40\n",
    "SIM_FINISHS = -1\n",
    "GAMES = 1000\n",
    "ALPHA=0.01"
   ]
  },
  {
   "cell_type": "code",
   "execution_count": 5,
   "id": "7ee0e194",
   "metadata": {
    "scrolled": false
   },
   "outputs": [],
   "source": [
    "env = GridWorld(the_map, SIM_FINISHS)\n",
    "mu = MuZero(env, options)\n",
    "\n",
    "mu.g.model_table = G_model\n"
   ]
  },
  {
   "cell_type": "code",
   "execution_count": null,
   "id": "5d4f936c",
   "metadata": {},
   "outputs": [
    {
     "name": "stderr",
     "output_type": "stream",
     "text": [
      "  0%|                                        | 1/1000 [00:05<1:26:49,  5.21s/it]"
     ]
    }
   ],
   "source": [
    "start = time.time()\n",
    "returns = mu.learn(GAMES, SIMULATIONS, alpha=ALPHA)\n",
    "\n",
    "end = time.time()"
   ]
  },
  {
   "cell_type": "code",
   "execution_count": null,
   "id": "26146362",
   "metadata": {
    "scrolled": false
   },
   "outputs": [],
   "source": [
    "#mu.load('models/den204_hard_2.pickle')\n",
    "\n",
    "env = GridWorld(the_map, 5000)\n",
    "env.reset()\n",
    "\n",
    "total = mu.play(env, SIMULATIONS)\n",
    "    \n",
    "print(total)"
   ]
  },
  {
   "cell_type": "code",
   "execution_count": null,
   "id": "3f67d042",
   "metadata": {},
   "outputs": [],
   "source": [
    "env = GridWorld(the_map, 5000)\n",
    "env.reset()\n",
    "\n",
    "total_return = 0\n",
    "done = False\n",
    "\n",
    "states = []\n",
    "while not done:\n",
    "    s0 = mu.h.forward(env)\n",
    "\n",
    "    mcts = MCTS(s0, mu.f, mu.g, mu.options)\n",
    "    pi = mcts.run_sim(SIMULATIONS)\n",
    "\n",
    "    opt = np.random.choice(mu.options, 1, p=pi)[0]\n",
    "    #opt_index = np.argmax(pi)\n",
    "    #opt = mu.options[opt_index]\n",
    "    \n",
    "    while True:\n",
    "        action, should_break = opt.get_action(env)\n",
    "        \n",
    "        if action == -1 or done:\n",
    "            break\n",
    "        \n",
    "        s, r, done = env.step(action)\n",
    "        states.append(s)\n",
    "\n",
    "        total_return += r\n",
    "        \n",
    "        if should_break:\n",
    "            break\n",
    "\n",
    "print(total_return)"
   ]
  },
  {
   "cell_type": "code",
   "execution_count": null,
   "id": "c7bb89ec",
   "metadata": {},
   "outputs": [],
   "source": [
    "with open(MAP_NAME) as f:\n",
    "    env_map = f.read()\n",
    "    \n",
    "env_map = env_map.split('\\n')[4:]\n",
    "\n",
    "\n",
    "grid = np.zeros((len(env_map), len(env_map[0])))\n",
    "for i in range(len(env_map)):\n",
    "    for j in range(len(env_map[0])):\n",
    "        if env_map[i][j] != '.':\n",
    "            grid[i][j] = -1\n",
    "        else:\n",
    "            grid[i][j] = 0"
   ]
  },
  {
   "cell_type": "code",
   "execution_count": null,
   "id": "5d317828",
   "metadata": {},
   "outputs": [],
   "source": [
    "mini = min(mu.f.v_table.values())\n",
    "maxi = max(mu.f.v_table.values())\n",
    "for k, v in mu.f.v_table.items():\n",
    "    grid[k] = (v - mini)/(maxi-mini)"
   ]
  },
  {
   "cell_type": "code",
   "execution_count": null,
   "id": "cb24456f",
   "metadata": {},
   "outputs": [],
   "source": [
    "_, ax = plt.subplots()\n",
    "ax.imshow(grid)\n",
    "\n",
    "# draw gridlines\n",
    "ax.grid(which='major', axis='both', linestyle='-', color='k', linewidth=2)\n",
    "ax.set_xticks(np.arange(-0.5, 0, 1))\n",
    "ax.set_yticks(np.arange(-0.5, 0, 1))\n",
    "\n",
    "ax.set_yticklabels([])\n",
    "ax.set_xticklabels([])\n",
    "\n",
    "ax.set_title('')\n",
    "\n",
    "ax.plot()"
   ]
  },
  {
   "cell_type": "code",
   "execution_count": null,
   "id": "d5a9d4c3",
   "metadata": {},
   "outputs": [],
   "source": [
    "play_grid = deepcopy(grid)"
   ]
  },
  {
   "cell_type": "code",
   "execution_count": null,
   "id": "b6910724",
   "metadata": {},
   "outputs": [],
   "source": [
    "for s in states:\n",
    "    play_grid[s] = 2"
   ]
  },
  {
   "cell_type": "code",
   "execution_count": null,
   "id": "173c0ca3",
   "metadata": {
    "scrolled": true
   },
   "outputs": [],
   "source": [
    "print(states)"
   ]
  },
  {
   "cell_type": "code",
   "execution_count": null,
   "id": "00aa3619",
   "metadata": {},
   "outputs": [],
   "source": [
    "_, ax = plt.subplots()\n",
    "ax.imshow(play_grid)\n",
    "\n",
    "# draw gridlines\n",
    "ax.grid(which='major', axis='both', linestyle='-', color='k', linewidth=2)\n",
    "ax.set_xticks(np.arange(-0.5, 0, 1))\n",
    "ax.set_yticks(np.arange(-0.5, 0, 1))\n",
    "\n",
    "ax.set_yticklabels([])\n",
    "ax.set_xticklabels([])\n",
    "\n",
    "ax.set_title('')\n",
    "\n",
    "ax.plot()"
   ]
  },
  {
   "cell_type": "code",
   "execution_count": null,
   "id": "f248c6d8",
   "metadata": {
    "scrolled": true
   },
   "outputs": [],
   "source": [
    "plt.plot(returns[800:1000])"
   ]
  },
  {
   "cell_type": "code",
   "execution_count": null,
   "id": "d49ceda2",
   "metadata": {},
   "outputs": [],
   "source": [
    "mu.f.v_table[(1,1)]"
   ]
  },
  {
   "cell_type": "code",
   "execution_count": null,
   "id": "49f1a12d",
   "metadata": {},
   "outputs": [],
   "source": [
    "df = pd.DataFrame(data = {'value': np.array(returns[20:1000])})\n",
    "\n",
    "SMOOTHING = 0.95\n",
    "smooth = df.ewm(alpha=(1 - SMOOTHING)).mean()\n",
    "\n",
    "\n",
    "plt.plot(df[\"value\"], alpha=0.4)\n",
    "plt.plot(smooth[\"value\"])\n",
    "plt.title(\"Smoothing = {}\".format(SMOOTHING))\n",
    "plt.grid(alpha=0.3)\n",
    "\n",
    "plt.show()"
   ]
  },
  {
   "cell_type": "code",
   "execution_count": null,
   "id": "e9f73e20",
   "metadata": {},
   "outputs": [],
   "source": [
    "first_room_pos = [(i,j) for i in range(6) for j in range(8)]\n",
    "second_room_pos = [(i,j) for i in range(6) for j in range(9, 15)]\n",
    "third_room_pos = [(i,j) for i in range(7,13) for j in range(8)]\n",
    "fourth_room_pos = [(i,j) for i in range(7,13) for j in range(9,15)]\n",
    "\n",
    "options = [\n",
    "  # primitives, (0,0) is meaningless\n",
    "  GridWorldOption((0, 0),   {'all'}, 0, 0),\n",
    "  GridWorldOption((0, 0),   {'all'}, 1, 1),\n",
    "  GridWorldOption((0, 0),   {'all'}, 2, 2),\n",
    "  GridWorldOption((0, 0),   {'all'}, 3, 3),\n",
    "  GridWorldOption((3,8),  set(first_room_pos + second_room_pos + [(6,3)] + [(6,13)]), 4),\n",
    "  GridWorldOption((6,3),  set(first_room_pos + third_room_pos + [(3,8)] + [(11,8)]), 5),\n",
    "  GridWorldOption((6,13), set(second_room_pos + fourth_room_pos + [(3,8)] + [(11,8)]), 6),\n",
    "  GridWorldOption((11,8), set(third_room_pos + fourth_room_pos + [(6,3)] + [(6,13)]), 7),\n",
    "]\n",
    "\n",
    "with open(MAP_NAME) as f:\n",
    "    the_map = f.read()\n",
    "    \n",
    "env = GridWorld(the_map, SIM_FINISHS )\n",
    "mu_opt = MuZero(env, options)\n",
    "mu_opt.g.model_table = G_model\n",
    "\n"
   ]
  },
  {
   "cell_type": "code",
   "execution_count": null,
   "id": "df339964",
   "metadata": {},
   "outputs": [],
   "source": [
    "start = time.time()\n",
    "returns_options = mu_opt.learn(GAMES, SIMULATIONS, alpha=ALPHA)\n",
    "end = time.time()"
   ]
  },
  {
   "cell_type": "code",
   "execution_count": null,
   "id": "0e98a400",
   "metadata": {},
   "outputs": [],
   "source": [
    "df = pd.DataFrame(data = {'value': np.array(returns[:])})\n",
    "df_options = pd.DataFrame(data = {'value': np.array(returns_options[:])})\n",
    "\n",
    "figure(figsize=(8, 6), dpi=100)\n",
    "\n",
    "SMOOTHING = 0.95\n",
    "smooth = df.ewm(alpha=(1 - SMOOTHING)).mean()\n",
    "smooth_options = df_options.ewm(alpha=(1 - SMOOTHING)).mean()\n",
    "\n",
    "plt.plot(df[\"value\"], alpha=0.4, color='#1f77b4')\n",
    "plt.plot(smooth[\"value\"], color='#1f77b4', label='Tabular MuZero')\n",
    "plt.plot(df_options[\"value\"], alpha=0.4, color='#ff7f0e')\n",
    "plt.plot(smooth_options[\"value\"], color='#ff7f0e', label='Tabular MuZero With Door Options')\n",
    "\n",
    "plt.title(\"Door GridWorld\".format(SMOOTHING))\n",
    "plt.grid(alpha=0.3)\n",
    "\n",
    "plt.xlabel(\"Learning Steps (full game)\")\n",
    "plt.ylabel(\"Undiscounted return\")\n",
    "plt.legend()\n",
    "plt.show()"
   ]
  },
  {
   "cell_type": "code",
   "execution_count": null,
   "id": "84c46321",
   "metadata": {},
   "outputs": [],
   "source": [
    "mu_opt.f.p_table"
   ]
  },
  {
   "cell_type": "code",
   "execution_count": null,
   "id": "d45dbfe6",
   "metadata": {},
   "outputs": [],
   "source": [
    "env = GridWorld(the_map, 1000)\n",
    "env.reset()\n",
    "\n",
    "total_return = 0\n",
    "done = False\n",
    "\n",
    "states = []\n",
    "options = []\n",
    "mu_p = mu_opt\n",
    "while not done:\n",
    "    s0 = mu_p.h.forward(env)\n",
    "\n",
    "    mcts = MCTS(s0, mu_p.f, mu_p.g, mu_p.options)\n",
    "    pi = mcts.run_sim(40)\n",
    "\n",
    "    opt = np.random.choice(mu_p.options, 1, p=pi)[0]\n",
    "    #opt_index = np.argmax(pi)\n",
    "    #opt = mu_p.options[opt_index]\n",
    "    \n",
    "    options.append(opt)\n",
    "    states_by_opt = []\n",
    "    while True:\n",
    "        action, should_break = opt.get_action(env)\n",
    "        \n",
    "        if action == -1 or done:\n",
    "            break\n",
    "        \n",
    "        s, r, done = env.step(action)\n",
    "        states_by_opt.append(s)\n",
    "        \n",
    "\n",
    "        total_return += r\n",
    "        \n",
    "        if should_break:\n",
    "            break\n",
    "        \n",
    "    states.append(states_by_opt)\n",
    "\n",
    "print(total_return)"
   ]
  },
  {
   "cell_type": "code",
   "execution_count": null,
   "id": "39e36fe5",
   "metadata": {},
   "outputs": [],
   "source": [
    "mini = min(mu_p.f.v_table.values())\n",
    "maxi = max(mu_p.f.v_table.values())\n",
    "for k, v in mu.f.v_table.items():\n",
    "    grid[k] = (v - mini)/(maxi-mini)\n",
    "\n",
    "_, ax = plt.subplots()\n",
    "ax.imshow(grid)\n",
    "\n",
    "# draw gridlines\n",
    "ax.grid(which='major', axis='both', linestyle='-', color='k', linewidth=2)\n",
    "ax.set_xticks(np.arange(-0.5, 0, 1))\n",
    "ax.set_yticks(np.arange(-0.5, 0, 1))\n",
    "\n",
    "ax.set_yticklabels([])\n",
    "ax.set_xticklabels([])\n",
    "\n",
    "ax.set_title('')\n",
    "\n",
    "ax.plot()"
   ]
  },
  {
   "cell_type": "code",
   "execution_count": null,
   "id": "0e57120c",
   "metadata": {},
   "outputs": [],
   "source": [
    "options"
   ]
  },
  {
   "cell_type": "code",
   "execution_count": null,
   "id": "2bb514fb",
   "metadata": {},
   "outputs": [],
   "source": [
    "play_grid = deepcopy(grid)\n",
    "for s in list(itertools.chain(*states)):\n",
    "    play_grid[s] = 2\n",
    "_, ax = plt.subplots()\n",
    "ax.imshow(play_grid)\n",
    "\n",
    "# draw gridlines\n",
    "ax.grid(which='major', axis='both', linestyle='-', color='k', linewidth=2)\n",
    "ax.set_xticks(np.arange(-0.5, 0, 1))\n",
    "ax.set_yticks(np.arange(-0.5, 0, 1))\n",
    "\n",
    "ax.set_yticklabels([])\n",
    "ax.set_xticklabels([])\n",
    "\n",
    "ax.set_title('')\n",
    "\n",
    "ax.plot()"
   ]
  },
  {
   "cell_type": "code",
   "execution_count": null,
   "id": "9f7b3faa",
   "metadata": {},
   "outputs": [],
   "source": [
    "keys =[ key for key in mu_opt.g.model_table.keys() if key[0] == (1,1)]"
   ]
  },
  {
   "cell_type": "code",
   "execution_count": null,
   "id": "2295a598",
   "metadata": {},
   "outputs": [],
   "source": [
    "keys"
   ]
  },
  {
   "cell_type": "code",
   "execution_count": null,
   "id": "ac3564e8",
   "metadata": {},
   "outputs": [],
   "source": [
    "a = []\n",
    "for k in keys:\n",
    "    a.append((k, mu_opt.g.model_table[k]))"
   ]
  },
  {
   "cell_type": "code",
   "execution_count": null,
   "id": "aac79a24",
   "metadata": {},
   "outputs": [],
   "source": [
    "mu_opt.f.v_table[(6,3)]"
   ]
  },
  {
   "cell_type": "code",
   "execution_count": null,
   "id": "08a93519",
   "metadata": {},
   "outputs": [],
   "source": [
    "#from MuZeroParallel import MuZero as MuZeroP\n",
    "\n",
    "from MuZero import MuZero\n",
    "\n",
    "from GridWorldOption import GridWorldOption\n",
    "\n",
    "\n",
    "from GridWorld import GridWorld\n",
    "\n",
    "from mcts.MCTS import MCTS\n",
    "import numpy as np\n",
    "import matplotlib.pyplot as plt\n",
    "\n",
    "from random import choice\n",
    "from copy import deepcopy\n",
    "import time\n",
    "\n",
    "import pickle\n",
    "import pandas as pd\n",
    "\n",
    "from matplotlib.pyplot import figure\n",
    "import itertools\n"
   ]
  },
  {
   "cell_type": "code",
   "execution_count": null,
   "id": "815e7057",
   "metadata": {},
   "outputs": [],
   "source": [
    "def get_g(full_options):\n",
    "    env = GridWorld(the_map)\n",
    "\n",
    "    G_model = {}\n",
    "    for position in tqdm(env.possible_positions):\n",
    "        for option in full_options:\n",
    "            if option.is_valid(position):\n",
    "\n",
    "                test_env = GridWorld(the_map)\n",
    "                test_env.cur_x = position[0]\n",
    "                test_env.cur_y = position[1]\n",
    "                rewards = []\n",
    "                while True:\n",
    "                    action, should_break = option.get_action(test_env)\n",
    "\n",
    "                    if action == -1:\n",
    "                        break\n",
    "\n",
    "                    next_position, r, _ = test_env.step(action)\n",
    "                    rewards.append(r)\n",
    "\n",
    "                    if should_break:\n",
    "                        break\n",
    "\n",
    "                G_model[(position, option)] = (next_position, rewards)\n",
    "    return G_model"
   ]
  },
  {
   "cell_type": "code",
   "execution_count": null,
   "id": "6492ca61",
   "metadata": {},
   "outputs": [],
   "source": [
    "MAP_NAME = './maps/door.map'\n",
    "with open(MAP_NAME) as f:\n",
    "    the_map = f.read()\n",
    "\n",
    "    \n",
    "first_room_pos = [(i,j) for i in range(6) for j in range(8)]\n",
    "second_room_pos = [(i,j) for i in range(6) for j in range(9, 15)]\n",
    "third_room_pos = [(i,j) for i in range(7,13) for j in range(8)]\n",
    "fourth_room_pos = [(i,j) for i in range(7,13) for j in range(9,15)]\n",
    "\n",
    "options = [\n",
    "  # primitives, (0,0) is meaningless\n",
    "  GridWorldOption((0, 0),   {'all'}, 0, 0),\n",
    "  GridWorldOption((0, 0),   {'all'}, 1, 1),\n",
    "  GridWorldOption((0, 0),   {'all'}, 2, 2),\n",
    "  GridWorldOption((0, 0),   {'all'}, 3, 3),\n",
    "  GridWorldOption((3,8),  {(1,1)},  4),#set(first_room_pos + second_room_pos + [(6,3)] + [(6,13)]), 4),\n",
    "  GridWorldOption((6,3),  set(first_room_pos + third_room_pos + [(3,8)] + [(11,8)]), 5),\n",
    "  GridWorldOption((6,13), set(second_room_pos + fourth_room_pos + [(3,8)] + [(11,8)]), 6),\n",
    "  GridWorldOption((11,8), set(third_room_pos + fourth_room_pos + [(6,3)] + [(6,13)]), 7),\n",
    "]    \n",
    "\n",
    "env = GridWorld(the_map)\n",
    "mu_debug = MuZero(env, options)\n",
    "\n",
    "\n",
    "s_next = mu_debug.env.reset()\n",
    "\n",
    "\n",
    "s0 = s_next\n"
   ]
  },
  {
   "cell_type": "code",
   "execution_count": null,
   "id": "6ef32adb",
   "metadata": {},
   "outputs": [],
   "source": [
    "# mu_debug.f.v_table[(1,1)] = util(24)\n",
    "\n",
    "# mu_debug.f.v_table[(2,1)] = util(23)\n",
    "# mu_debug.f.v_table[(1,2)] = util(23)\n",
    "\n",
    "# mu_debug.f.v_table[(0,1)] = util(25)\n",
    "# mu_debug.f.v_table[(1,0)] = util(25)\n",
    "\n",
    "# mu_debug.f.v_table[(3,8)] = util(15)\n",
    "# mu_debug.f.v_table[(6,3)] = util(17)"
   ]
  },
  {
   "cell_type": "code",
   "execution_count": null,
   "id": "ccf54f1c",
   "metadata": {
    "scrolled": true
   },
   "outputs": [],
   "source": [
    "mu_debug.f.v_table = get_v()"
   ]
  },
  {
   "cell_type": "code",
   "execution_count": null,
   "id": "fa0636f4",
   "metadata": {},
   "outputs": [],
   "source": [
    "# mu_debug.g.model_table[((1, 1), options[4])] = ((3, 8), [-1.0, -1.0, -1.0, -1.0, -1.0, -1.0, -1.0, -1.0, -1.0])\n",
    "\n",
    "# mu_debug.g.model_table[((1, 1), options[3])] = ((1, 0), [-1.0])\n",
    "# mu_debug.g.model_table[((1, 1), options[1])] = ((2, 1), [-1.0])\n",
    "# mu_debug.g.model_table[((1, 1), options[5])] = ((6, 3), [-1.0, -1.0, -1.0, -1.0, -1.0, -1.0, -1.0])\n",
    "# mu_debug.g.((self.N * self.Q) model_table[((1, 1), options[2])] = ((1, 2), [-1.0])\n",
    "# mu_debug.g.model_table[((1, 1), options[0])] = ((0, 1), [-1.0])mu_debug.g"
   ]
  },
  {
   "cell_type": "code",
   "execution_count": null,
   "id": "bef6a67b",
   "metadata": {},
   "outputs": [],
   "source": [
    "mu_debug.g.model_table = get_g(options)"
   ]
  },
  {
   "cell_type": "code",
   "execution_count": null,
   "id": "c542a39e",
   "metadata": {},
   "outputs": [],
   "source": [
    "mcts = MCTS(s0, mu_debug.f, mu_debug.g, mu_debug.options)"
   ]
  },
  {
   "cell_type": "code",
   "execution_count": null,
   "id": "ac90394c",
   "metadata": {
    "scrolled": true
   },
   "outputs": [],
   "source": [
    "mcts.run_sim(1000)"
   ]
  },
  {
   "cell_type": "code",
   "execution_count": null,
   "id": "8ae1befe",
   "metadata": {},
   "outputs": [],
   "source": []
  },
  {
   "cell_type": "code",
   "execution_count": null,
   "id": "96bcfc6f",
   "metadata": {},
   "outputs": [],
   "source": []
  },
  {
   "cell_type": "code",
   "execution_count": null,
   "id": "768dc675",
   "metadata": {},
   "outputs": [],
   "source": []
  }
 ],
 "metadata": {
  "kernelspec": {
   "display_name": "Python 3 (ipykernel)",
   "language": "python",
   "name": "python3"
  },
  "language_info": {
   "codemirror_mode": {
    "name": "ipython",
    "version": 3
   },
   "file_extension": ".py",
   "mimetype": "text/x-python",
   "name": "python",
   "nbconvert_exporter": "python",
   "pygments_lexer": "ipython3",
   "version": "3.8.10"
  }
 },
 "nbformat": 4,
 "nbformat_minor": 5
}

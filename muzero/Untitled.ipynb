{
 "cells": [
  {
   "cell_type": "code",
   "execution_count": 1,
   "id": "f1118c2a",
   "metadata": {},
   "outputs": [],
   "source": [
    "from MuZero import MuZero\n",
    "from GridWorldOption import GridWorldOption\n",
    "\n",
    "\n",
    "from GridWorld import GridWorld\n",
    "\n",
    "from mcts.MCTS import MCTS\n",
    "import numpy as np\n",
    "import matplotlib.pyplot as plt\n",
    "\n",
    "from random import choice\n",
    "\n",
    "import time"
   ]
  },
  {
   "cell_type": "code",
   "execution_count": null,
   "id": "37878f8a",
   "metadata": {
    "scrolled": true
   },
   "outputs": [
    {
     "name": "stdout",
     "output_type": "stream",
     "text": [
      "[0/200] [1 steps] [state (13, 38)] [goal (105, 178)] [h_dist 232]\n",
      "[0/200] [10001 steps] [state (36, 77)] [goal (105, 178)] [h_dist 170]\n",
      "[0/200] [20001 steps] [state (112, 99)] [goal (105, 178)] [h_dist 86]\n",
      "[0/200] [30001 steps] [state (58, 151)] [goal (105, 178)] [h_dist 74]\n",
      "[0/200] [40001 steps] [state (50, 134)] [goal (105, 178)] [h_dist 99]\n",
      "[0/200] [50001 steps] [state (115, 172)] [goal (105, 178)] [h_dist 16]\n",
      "[0/200] [60001 steps] [state (93, 210)] [goal (105, 178)] [h_dist 44]\n",
      "[0/200] [70001 steps] [state (172, 170)] [goal (105, 178)] [h_dist 75]\n",
      "[0/200] [80001 steps] [state (160, 226)] [goal (105, 178)] [h_dist 103]\n",
      "[0/200] [90001 steps] [state (139, 187)] [goal (105, 178)] [h_dist 43]\n",
      "[0/200] [100001 steps] [state (173, 149)] [goal (105, 178)] [h_dist 97]\n"
     ]
    }
   ],
   "source": [
    "options = [\n",
    "    GridWorldOption(0),\n",
    "    GridWorldOption(1),\n",
    "    GridWorldOption(2),\n",
    "    GridWorldOption(3),\n",
    "]\n",
    "\n",
    "with open('./maps/brc000d.map') as f:\n",
    "    the_map = f.read()\n",
    "#print(the_map)\n",
    "env = GridWorld(the_map, 150000)\n",
    "mu = MuZero(env, options)\n",
    "\n",
    "\n",
    "env.reset()\n",
    "returns = mu.learn(200, 40)"
   ]
  },
  {
   "cell_type": "code",
   "execution_count": null,
   "id": "2f33279c",
   "metadata": {},
   "outputs": [],
   "source": [
    "env.reset()\n",
    "s0 = mu.h.forward(env)\n",
    "mcts = MCTS(s0, mu.f, mu.g, options)\n",
    "mcts.run_sim(120)"
   ]
  },
  {
   "cell_type": "code",
   "execution_count": null,
   "id": "7e71127e",
   "metadata": {},
   "outputs": [],
   "source": [
    "grid = np.zeros((13, 15))\n",
    "\n",
    "with open('./maps/door.map') as f:\n",
    "    env_map = f.read()\n",
    "    \n",
    "env_map = env_map.split('\\n')[4:]\n",
    "\n",
    "for i in range(len(env_map)):\n",
    "    for j in range(len(env_map[0])):\n",
    "        if env_map[i][j] == '*':\n",
    "            grid[i][j] = -1\n",
    "        else:\n",
    "            grid[i][j] = 0"
   ]
  },
  {
   "cell_type": "code",
   "execution_count": null,
   "id": "9db12142",
   "metadata": {},
   "outputs": [],
   "source": [
    "mini = min(mu.f.v_table.values())\n",
    "maxi = max(mu.f.v_table.values())\n",
    "for k, v in mu.f.v_table.items():\n",
    "    grid[k] = (v - mini)/(maxi-mini)"
   ]
  },
  {
   "cell_type": "code",
   "execution_count": null,
   "id": "e0834fa4",
   "metadata": {},
   "outputs": [],
   "source": [
    "grid_, ax = plt.subplots()\n",
    "ax.imshow(grid)\n",
    "\n",
    "# draw gridlines\n",
    "ax.grid(which='major', axis='both', linestyle='-', color='k', linewidth=2)\n",
    "ax.set_xticks(np.arange(-0.5, 15, 1))\n",
    "ax.set_yticks(np.arange(-0.5, 13, 1))\n",
    "\n",
    "ax.set_yticklabels([])\n",
    "ax.set_xticklabels([])\n",
    "\n",
    "ax.set_title('')\n",
    "\n",
    "ax.plot()"
   ]
  },
  {
   "cell_type": "code",
   "execution_count": null,
   "id": "7aef6189",
   "metadata": {},
   "outputs": [],
   "source": [
    "plt.plot(returns)"
   ]
  },
  {
   "cell_type": "code",
   "execution_count": null,
   "id": "ab470313",
   "metadata": {},
   "outputs": [],
   "source": []
  }
 ],
 "metadata": {
  "kernelspec": {
   "display_name": "Python 3 (ipykernel)",
   "language": "python",
   "name": "python3"
  },
  "language_info": {
   "codemirror_mode": {
    "name": "ipython",
    "version": 3
   },
   "file_extension": ".py",
   "mimetype": "text/x-python",
   "name": "python",
   "nbconvert_exporter": "python",
   "pygments_lexer": "ipython3",
   "version": "3.8.10"
  }
 },
 "nbformat": 4,
 "nbformat_minor": 5
}

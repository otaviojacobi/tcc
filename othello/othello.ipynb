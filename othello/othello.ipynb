{
 "cells": [
  {
   "cell_type": "code",
   "execution_count": 12,
   "id": "abb031eb",
   "metadata": {},
   "outputs": [],
   "source": [
    "import numpy as np\n",
    "\n",
    "OUTER = -1\n",
    "EMPTY = 0\n",
    "BLACK = 1\n",
    "WHITE = 2\n",
    "\n",
    "UP, DOWN, LEFT, RIGHT = -10, 10, -1, 1\n",
    "UP_RIGHT, DOWN_RIGHT, DOWN_LEFT, UP_LEFT = -9, 11, 9, -11\n",
    "DIRECTIONS = (UP, UP_RIGHT, RIGHT, DOWN_RIGHT, DOWN, DOWN_LEFT, LEFT, UP_LEFT)\n",
    "\n",
    "class Othello:\n",
    "    def __init__(self):\n",
    "        \n",
    "        self.__squares = np.array([i for i in range(11, 89) if 1 <= (i % 10) <= 8])\n",
    "        self.__board, self.__empties = self.__new_board()\n",
    "        self.__current_player = BLACK\n",
    "        \n",
    "    def player(self):\n",
    "        return self.__current_player\n",
    "    \n",
    "    def opponent(self):\n",
    "        return BLACK if self.__current_player is WHITE else WHITE\n",
    "    \n",
    "    def legal_moves(self):\n",
    "        return [move for move in self.__empties if self.__has_bracket(move)]\n",
    "\n",
    "    def play(self, move):\n",
    "        self.__board[move] = self.__current_player\n",
    "        self.__empties.remove(move)\n",
    "        \n",
    "        \n",
    "        for direction in DIRECTIONS:\n",
    "            self.__flip(move, direction)\n",
    "            \n",
    "        self.__current_player = self.opponent()\n",
    "        \n",
    "    def score(self):\n",
    "        black_pieces = np.count_nonzero(self.__board == BLACK)\n",
    "        white_pieces = np.count_nonzero(self.__board == WHITE)\n",
    "        \n",
    "        return black_pieces - white_pieces\n",
    "    \n",
    "    def board(self):\n",
    "        return self.__board\n",
    "            \n",
    "    def __flip(self, move, direction):\n",
    "        bracket = self.__find_bracket(move, direction)\n",
    "        if not bracket:\n",
    "            return\n",
    "        square = move + direction\n",
    "        while square != bracket:\n",
    "            self.__board[square] = self.__current_player\n",
    "            square += direction\n",
    "    \n",
    "    \n",
    "    def __find_bracket(self, square, direction):\n",
    "        bracket = square + direction\n",
    "        if self.__board[bracket] == self.__current_player:\n",
    "            return None\n",
    "\n",
    "        while self.__board[bracket] == self.opponent():\n",
    "            bracket += direction\n",
    "\n",
    "        return None if self.__board[bracket] in (OUTER, EMPTY) else bracket\n",
    "    \n",
    "    def __has_bracket(self, move):\n",
    "            return any(map(lambda d: self.__find_bracket(move, d), DIRECTIONS))\n",
    "    \n",
    "    \n",
    "    def __new_board(self):\n",
    "        board = -1 * np.ones(100)\n",
    "        board[self.__squares] = EMPTY\n",
    "        \n",
    "        empties = set()\n",
    "        \n",
    "        for val in self.__squares:\n",
    "            empties.add(val)\n",
    "\n",
    "        board[44], board[45] = WHITE, BLACK\n",
    "        board[54], board[55] = BLACK, WHITE\n",
    "        \n",
    "        empties.discard(44)\n",
    "        empties.discard(45)\n",
    "        empties.discard(54)\n",
    "        empties.discard(55)\n",
    "        \n",
    "        return board, empties\n",
    "    \n",
    "    def __str__(self):\n",
    "        \n",
    "        board = [OUTER] * 100\n",
    "        for i in range(100):\n",
    "            if self.__board[i] == OUTER:\n",
    "                board[i] = '?'\n",
    "            elif self.__board[i] == EMPTY:\n",
    "                board[i] = '.'\n",
    "            elif self.__board[i] == BLACK:\n",
    "                board[i] = 'o'\n",
    "            else:\n",
    "                board[i] = 'X'\n",
    "        \n",
    "        rep = ''\n",
    "        rep += '  %s\\n' % ' '.join(map(str, range(1, 9)))\n",
    "        for row in range(1, 9):\n",
    "            begin, end = 10*row + 1, 10*row + 9\n",
    "            rep += '%d %s\\n' % (row, ' '.join(board[begin:end]))\n",
    "        return rep"
   ]
  },
  {
   "cell_type": "code",
   "execution_count": 13,
   "id": "f2541c51",
   "metadata": {},
   "outputs": [
    {
     "name": "stdout",
     "output_type": "stream",
     "text": [
      "--- 2.6177549362182617 seconds ---\n"
     ]
    }
   ],
   "source": [
    "from random import choice\n",
    "import time\n",
    "\n",
    "start_time = time.time()\n",
    "\n",
    "black_wins = 0\n",
    "white_wins = 0\n",
    "draw = 0\n",
    "\n",
    "for k in range(100):\n",
    "    o = Othello()\n",
    "\n",
    "    while True:\n",
    "        moves = o.legal_moves()\n",
    "\n",
    "        if len(moves) == 0:\n",
    "            break\n",
    "\n",
    "        move = choice(moves)\n",
    "\n",
    "        o.play(move)\n",
    "\n",
    "    score = o.score()\n",
    "    if score > 0:\n",
    "        black_wins += 1\n",
    "    elif score < 0:\n",
    "        white_wins +=1\n",
    "    else:\n",
    "        draw += 1\n",
    "\n",
    "print(\"--- %s seconds ---\" % (time.time() - start_time))"
   ]
  },
  {
   "cell_type": "code",
   "execution_count": 14,
   "id": "4076386b",
   "metadata": {
    "scrolled": true
   },
   "outputs": [],
   "source": [
    "o = Othello()"
   ]
  },
  {
   "cell_type": "code",
   "execution_count": 15,
   "id": "2cddb283",
   "metadata": {},
   "outputs": [
    {
     "data": {
      "text/plain": [
       "array([-1., -1., -1., -1., -1., -1., -1., -1., -1., -1., -1.,  0.,  0.,\n",
       "        0.,  0.,  0.,  0.,  0.,  0., -1., -1.,  0.,  0.,  0.,  0.,  0.,\n",
       "        0.,  0.,  0., -1., -1.,  0.,  0.,  0.,  0.,  0.,  0.,  0.,  0.,\n",
       "       -1., -1.,  0.,  0.,  0.,  2.,  1.,  0.,  0.,  0., -1., -1.,  0.,\n",
       "        0.,  0.,  1.,  2.,  0.,  0.,  0., -1., -1.,  0.,  0.,  0.,  0.,\n",
       "        0.,  0.,  0.,  0., -1., -1.,  0.,  0.,  0.,  0.,  0.,  0.,  0.,\n",
       "        0., -1., -1.,  0.,  0.,  0.,  0.,  0.,  0.,  0.,  0., -1., -1.,\n",
       "       -1., -1., -1., -1., -1., -1., -1., -1., -1.])"
      ]
     },
     "execution_count": 15,
     "metadata": {},
     "output_type": "execute_result"
    }
   ],
   "source": [
    "o.board()"
   ]
  },
  {
   "cell_type": "code",
   "execution_count": null,
   "id": "7abfb75a",
   "metadata": {},
   "outputs": [],
   "source": []
  }
 ],
 "metadata": {
  "kernelspec": {
   "display_name": "Python 3",
   "language": "python",
   "name": "python3"
  },
  "language_info": {
   "codemirror_mode": {
    "name": "ipython",
    "version": 3
   },
   "file_extension": ".py",
   "mimetype": "text/x-python",
   "name": "python",
   "nbconvert_exporter": "python",
   "pygments_lexer": "ipython3",
   "version": "3.9.5"
  }
 },
 "nbformat": 4,
 "nbformat_minor": 5
}

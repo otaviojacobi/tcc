{
 "cells": [
  {
   "cell_type": "code",
   "execution_count": 1,
   "metadata": {},
   "outputs": [],
   "source": [
    "import torch\n",
    "import time\n",
    "from random import choices\n",
    "\n",
    "from alpha_search import MCTS\n",
    "from othello_cython import Othello, move_to_action\n",
    "from model import AlphaNet\n",
    "from ReplayMemory import ReplayMemory\n",
    "\n",
    "device = torch.device(\"cuda\" if torch.cuda.is_available() else \"cpu\")\n",
    "\n",
    "nn = AlphaNet().to(device)\n",
    "\n",
    "\n",
    "TEMPERATURE = 1.0\n",
    "TOTAL_SIMULATIONS = 5\n",
    "MEMORY_SIZE = 50000\n",
    "\n",
    "env = Othello()\n",
    "m = MCTS(env, nn)"
   ]
  },
  {
   "cell_type": "code",
   "execution_count": 7,
   "metadata": {},
   "outputs": [
    {
     "name": "stdout",
     "output_type": "stream",
     "text": [
      "will add!\n"
     ]
    }
   ],
   "source": [
    "possible_moves = env.legal_moves()\n",
    "s, pi, z = m.run(200, TEMPERATURE)\n",
    "\n",
    "\n",
    "distr = [pi[move_to_action(move)] for move in possible_moves]\n",
    "a = choices(possible_moves, distr)[0]\n",
    "env.play(a)\n"
   ]
  },
  {
   "cell_type": "code",
   "execution_count": 8,
   "metadata": {
    "scrolled": true
   },
   "outputs": [
    {
     "name": "stdout",
     "output_type": "stream",
     "text": [
      "move: 46\n",
      "prior 0.016764391213655472\n",
      "Q(s,a) -0.012119185396570814\n",
      "N(s,a) 148\n",
      "UCB -0.00872883611268401\n",
      "move: 64\n",
      "prior 0.016549332067370415\n",
      "Q(s,a) -0.3267747461795807\n",
      "N(s,a) 1\n",
      "UCB -0.07743391728091534\n",
      "move: 66\n",
      "prior 0.010075906291604042\n",
      "Q(s,a) -0.012786483821960596\n",
      "N(s,a) 78\n",
      "UCB -0.008943222168010684\n"
     ]
    }
   ],
   "source": [
    "m.info()"
   ]
  },
  {
   "cell_type": "code",
   "execution_count": 4,
   "metadata": {},
   "outputs": [
    {
     "data": {
      "text/plain": [
       "65"
      ]
     },
     "execution_count": 4,
     "metadata": {},
     "output_type": "execute_result"
    }
   ],
   "source": [
    "a"
   ]
  },
  {
   "cell_type": "code",
   "execution_count": 5,
   "metadata": {},
   "outputs": [],
   "source": [
    "m.set_new_head(a)"
   ]
  },
  {
   "cell_type": "code",
   "execution_count": 6,
   "metadata": {},
   "outputs": [
    {
     "name": "stdout",
     "output_type": "stream",
     "text": [
      "move: 46\n",
      "prior 0.016764391213655472\n",
      "Q(s,a) -0.153901144862175\n",
      "N(s,a) 1\n",
      "UCB -0.06679081284213734\n",
      "move: 64\n",
      "prior 0.016549332067370415\n",
      "Q(s,a) -0.3267747461795807\n",
      "N(s,a) 1\n",
      "UCB -0.24078189426353735\n",
      "move: 66\n",
      "prior 0.010075906291604042\n",
      "Q(s,a) 0.013989556077867747\n",
      "N(s,a) 25\n",
      "UCB 0.018016936453874158\n"
     ]
    }
   ],
   "source": [
    "m.info()"
   ]
  },
  {
   "cell_type": "code",
   "execution_count": null,
   "metadata": {},
   "outputs": [],
   "source": []
  }
 ],
 "metadata": {
  "kernelspec": {
   "display_name": "Python 3",
   "language": "python",
   "name": "python3"
  },
  "language_info": {
   "codemirror_mode": {
    "name": "ipython",
    "version": 3
   },
   "file_extension": ".py",
   "mimetype": "text/x-python",
   "name": "python",
   "nbconvert_exporter": "python",
   "pygments_lexer": "ipython3",
   "version": "3.8.5"
  }
 },
 "nbformat": 4,
 "nbformat_minor": 4
}
